{
 "cells": [
  {
   "cell_type": "markdown",
   "metadata": {},
   "source": [
    "# CRUD Operation with SQLite3"
   ]
  },
  {
   "cell_type": "code",
   "execution_count": 27,
   "metadata": {},
   "outputs": [],
   "source": [
    "import os    \n",
    "import sqlite3"
   ]
  },
  {
   "cell_type": "markdown",
   "metadata": {},
   "source": [
    "## Helping Functions"
   ]
  },
  {
   "cell_type": "code",
   "execution_count": 28,
   "metadata": {},
   "outputs": [],
   "source": [
    "def execute_sql(dbname, sql):\n",
    "    # Connect to database\n",
    "    try:\n",
    "        connection = sqlite3.connect(dbname)\n",
    "        # Create a cursor object to iterate the database\n",
    "        cursor = connection.cursor()\n",
    "        cursor.execute(sql)\n",
    "        # Commit the transaction\n",
    "        connection.commit()\n",
    "        print(f\"{cursor.rowcount}\")\n",
    "    #Catch exception\n",
    "    except sqlite3.IntegrityError as e:\n",
    "        print(f\"Integrity error: {e}\")\n",
    "    except sqlite3.Error as e:\n",
    "        print(f\"An DB error occurred: {e}\")\n",
    "    except Exception as ex:\n",
    "        print(f\"An Exception has occurred: {ex}\")\n",
    "    finally:\n",
    "        cursor.close()\n",
    "        connection.close()\n",
    "\n",
    "def execute_many(dbname, sql, list_param):\n",
    "    # Connect to database\n",
    "    try:\n",
    "        connection = sqlite3.connect(dbname)\n",
    "        # Create a cursor object to iterate the database\n",
    "        cursor = connection.cursor()\n",
    "        cursor.executemany(sql, list_param)\n",
    "        # Commit the transaction\n",
    "        connection.commit()\n",
    "        print(f\"{cursor.rowcount}\")\n",
    "    #Catch exception\n",
    "    except sqlite3.IntegrityError as e:\n",
    "        print(f\"Integrity error: {e}\")\n",
    "    except sqlite3.Error as e:\n",
    "        print(f\"An DB error occurred: {e}\")\n",
    "    except Exception as e:\n",
    "        print(f\"An Exception has occurred: {e}\")\n",
    "    finally:\n",
    "        cursor.close()\n",
    "        connection.close()\n",
    "\n",
    "def execute_fetchall(dbname, sql):\n",
    "    try:\n",
    "        connection = sqlite3.connect(dbname)\n",
    "        cursor = connection.cursor()\n",
    "        cursor.execute(sql)\n",
    "        rows = cursor.fetchall()\n",
    "        \n",
    "        for row in rows:\n",
    "            print(row)\n",
    "    #Catch exception\n",
    "    except sqlite3.IntegrityError as e:\n",
    "        print(f\"Integrity error: {e}\")\n",
    "    except sqlite3.Error as e:\n",
    "        print(f\"An DB error occurred: {e}\")\n",
    "    except Exception as ex:\n",
    "        print(f\"An Exception has occurred: {ex}\")\n",
    "    finally:\n",
    "        cursor.close()\n",
    "        connection.close()"
   ]
  },
  {
   "cell_type": "markdown",
   "metadata": {},
   "source": [
    "## Create DB and Table (If not already exists)"
   ]
  },
  {
   "cell_type": "code",
   "execution_count": 29,
   "metadata": {},
   "outputs": [
    {
     "name": "stdout",
     "output_type": "stream",
     "text": [
      "-1\n"
     ]
    }
   ],
   "source": [
    "db = 'mycompany.db'\n",
    "sql = '''\n",
    "    CREATE TABLE IF NOT EXISTS employees (\n",
    "    id INTEGER PRIMARY KEY AUTOINCREMENT,\n",
    "    name TEXT NOT NULL,\n",
    "    email TEXT NOT NULL UNIQUE,\n",
    "    phone TEXT NOT NULL UNIQUE,\n",
    "    address TEXT NOT NULL,\n",
    "    department TEXT,\n",
    "    salary REAL\n",
    "    )\n",
    "'''\n",
    "\n",
    "execute_sql(db, sql)"
   ]
  },
  {
   "cell_type": "markdown",
   "metadata": {},
   "source": [
    "## Insert Data"
   ]
  },
  {
   "cell_type": "code",
   "execution_count": 30,
   "metadata": {},
   "outputs": [
    {
     "name": "stdout",
     "output_type": "stream",
     "text": [
      "4\n"
     ]
    }
   ],
   "source": [
    "## Insert the data in SQLlite table\n",
    "\n",
    "# List of employee records to insert\n",
    "employees = [\n",
    "    ('Employee 1', 'emp1@mycompany.com', '+923001000001', 'Employee 1 House#, Street 1, District 1, City 1, Country 1, Zip/Postal 1', None, None),\n",
    "    ('Employee 2', 'emp2@mycompany.com', '+923001000002', 'Employee 2 House#, Street 2, District 2, City 2, Country 1, Zip/Postal 2', 'MARKETING', 12000),\n",
    "    ('Employee 3', 'emp3@mycompany.com', '+923001000003', 'Employee 3 House#, Street 3, District 3, City 3, Country 1, Zip/Postal 3', 'SALES', 10000),\n",
    "    ('Employee 4', 'emp4@mycompany.com', '+923001000004', 'Employee 4 House#, Street 4, District 4, City 4, Country 1, Zip/Postal 4', 'FINANCE', 14000)\n",
    "]\n",
    "\n",
    "sql = '''\n",
    "    INSERT INTO employees (name, email, phone, address, department, salary)\n",
    "    VALUES (?, ?, ?, ?, ?, ?)\n",
    "'''\n",
    "\n",
    "execute_many(db, sql, employees)"
   ]
  },
  {
   "cell_type": "markdown",
   "metadata": {},
   "source": [
    "## Query Data"
   ]
  },
  {
   "cell_type": "code",
   "execution_count": 31,
   "metadata": {},
   "outputs": [
    {
     "name": "stdout",
     "output_type": "stream",
     "text": [
      "(1, 'Employee 1', 'emp1@mycompany.com', '+923001000001', 'Employee 1 House#, Street 1, District 1, City 1, Country 1, Zip/Postal 1', None, None)\n",
      "(2, 'Employee 2', 'emp2@mycompany.com', '+923001000002', 'Employee 2 House#, Street 2, District 2, City 2, Country 1, Zip/Postal 2', 'MARKETING', 12000.0)\n",
      "(3, 'Employee 3', 'emp3@mycompany.com', '+923001000003', 'Employee 3 House#, Street 3, District 3, City 3, Country 1, Zip/Postal 3', 'SALES', 10000.0)\n",
      "(4, 'Employee 4', 'emp4@mycompany.com', '+923001000004', 'Employee 4 House#, Street 4, District 4, City 4, Country 1, Zip/Postal 4', 'FINANCE', 14000.0)\n"
     ]
    }
   ],
   "source": [
    "sql = '''\n",
    "    SELECT * FROM employees\n",
    "'''\n",
    "\n",
    "execute_fetchall(db, sql)"
   ]
  },
  {
   "cell_type": "markdown",
   "metadata": {},
   "source": [
    "## Update Data"
   ]
  },
  {
   "cell_type": "code",
   "execution_count": 32,
   "metadata": {},
   "outputs": [
    {
     "name": "stdout",
     "output_type": "stream",
     "text": [
      "1\n"
     ]
    }
   ],
   "source": [
    "salary = 10000\n",
    "\n",
    "sql = f'''\n",
    "    UPDATE employees\n",
    "    SET salary = {salary * 1.1}, department = 'HR'\n",
    "    WHERE id = 1\n",
    "'''\n",
    "\n",
    "execute_sql(db, sql)"
   ]
  },
  {
   "cell_type": "code",
   "execution_count": 33,
   "metadata": {},
   "outputs": [
    {
     "name": "stdout",
     "output_type": "stream",
     "text": [
      "(1, 'Employee 1', 'emp1@mycompany.com', '+923001000001', 'Employee 1 House#, Street 1, District 1, City 1, Country 1, Zip/Postal 1', 'HR', 11000.0)\n"
     ]
    }
   ],
   "source": [
    "sql = '''\n",
    "    SELECT * FROM employees Where id = 1\n",
    "'''\n",
    "\n",
    "execute_fetchall(db, sql)"
   ]
  },
  {
   "cell_type": "markdown",
   "metadata": {},
   "source": [
    "## Delete Data"
   ]
  },
  {
   "cell_type": "code",
   "execution_count": 34,
   "metadata": {},
   "outputs": [
    {
     "name": "stdout",
     "output_type": "stream",
     "text": [
      "1\n"
     ]
    }
   ],
   "source": [
    "sql = '''\n",
    "    INSERT INTO employees (name, email, phone, address, department, salary)\n",
    "    VALUES ('Emp 5', 'emp5@mycompany.com', '+923001000005', 'Emp 5 House#, Street 5, District 5, City 5, Country 1, Zip/Postal 5', 'DEVELOPMENT', 10400)\n",
    "'''\n",
    "\n",
    "execute_sql(db, sql)"
   ]
  },
  {
   "cell_type": "code",
   "execution_count": 35,
   "metadata": {},
   "outputs": [
    {
     "name": "stdout",
     "output_type": "stream",
     "text": [
      "(1, 'Employee 1', 'emp1@mycompany.com', '+923001000001', 'Employee 1 House#, Street 1, District 1, City 1, Country 1, Zip/Postal 1', 'HR', 11000.0)\n",
      "(2, 'Employee 2', 'emp2@mycompany.com', '+923001000002', 'Employee 2 House#, Street 2, District 2, City 2, Country 1, Zip/Postal 2', 'MARKETING', 12000.0)\n",
      "(3, 'Employee 3', 'emp3@mycompany.com', '+923001000003', 'Employee 3 House#, Street 3, District 3, City 3, Country 1, Zip/Postal 3', 'SALES', 10000.0)\n",
      "(4, 'Employee 4', 'emp4@mycompany.com', '+923001000004', 'Employee 4 House#, Street 4, District 4, City 4, Country 1, Zip/Postal 4', 'FINANCE', 14000.0)\n",
      "(5, 'Emp 5', 'emp5@mycompany.com', '+923001000005', 'Emp 5 House#, Street 5, District 5, City 5, Country 1, Zip/Postal 5', 'DEVELOPMENT', 10400.0)\n"
     ]
    }
   ],
   "source": [
    "sql = '''\n",
    "    SELECT * FROM employees\n",
    "'''\n",
    "\n",
    "execute_fetchall(db, sql)"
   ]
  },
  {
   "cell_type": "code",
   "execution_count": 36,
   "metadata": {},
   "outputs": [
    {
     "name": "stdout",
     "output_type": "stream",
     "text": [
      "1\n"
     ]
    }
   ],
   "source": [
    "sql = '''\n",
    "    DELETE FROM employees Where id = 5\n",
    "'''\n",
    "\n",
    "execute_sql(db, sql)"
   ]
  },
  {
   "cell_type": "code",
   "execution_count": 37,
   "metadata": {},
   "outputs": [
    {
     "name": "stdout",
     "output_type": "stream",
     "text": [
      "(1, 'Employee 1', 'emp1@mycompany.com', '+923001000001', 'Employee 1 House#, Street 1, District 1, City 1, Country 1, Zip/Postal 1', 'HR', 11000.0)\n",
      "(2, 'Employee 2', 'emp2@mycompany.com', '+923001000002', 'Employee 2 House#, Street 2, District 2, City 2, Country 1, Zip/Postal 2', 'MARKETING', 12000.0)\n",
      "(3, 'Employee 3', 'emp3@mycompany.com', '+923001000003', 'Employee 3 House#, Street 3, District 3, City 3, Country 1, Zip/Postal 3', 'SALES', 10000.0)\n",
      "(4, 'Employee 4', 'emp4@mycompany.com', '+923001000004', 'Employee 4 House#, Street 4, District 4, City 4, Country 1, Zip/Postal 4', 'FINANCE', 14000.0)\n"
     ]
    }
   ],
   "source": [
    "sql = '''\n",
    "    SELECT * FROM employees\n",
    "'''\n",
    "\n",
    "execute_fetchall(db, sql)"
   ]
  },
  {
   "cell_type": "markdown",
   "metadata": {},
   "source": [
    "## Drop The Table"
   ]
  },
  {
   "cell_type": "code",
   "execution_count": 38,
   "metadata": {},
   "outputs": [
    {
     "name": "stdout",
     "output_type": "stream",
     "text": [
      "You choose to keep the employees table\n"
     ]
    }
   ],
   "source": [
    "# Conditionally so that you don't delete it mistakenly\n",
    "delete_tbl = input(f\"Type 'Yes'|'Y' to confirm the deletion of Table employees: \")\n",
    "\n",
    "if delete_tbl.strip().lower()  in ['y', 'yes']:\n",
    "    \n",
    "    execute_sql(db, 'DROP TABLE employees')\n",
    "    print(f\"employees table deleted successfully.\")\n",
    "else:\n",
    "    print(f\"You choose to keep the employees table\")"
   ]
  },
  {
   "cell_type": "markdown",
   "metadata": {},
   "source": [
    "## Remove Database"
   ]
  },
  {
   "cell_type": "code",
   "execution_count": 39,
   "metadata": {},
   "outputs": [
    {
     "name": "stdout",
     "output_type": "stream",
     "text": [
      "You choose to keep the mycompany.db database.\n"
     ]
    }
   ],
   "source": [
    "# Conditionally so that you don't delete it mistakenly\n",
    "delete_db = input(f\"Type 'Yes'|'Y' to confirm the deletion of DB {db}: \")\n",
    "\n",
    "if delete_db.strip().lower() in ['y', 'yes']:\n",
    "    # Check if the database file exists before deleting\n",
    "    if os.path.exists(db):\n",
    "        os.remove(db)\n",
    "        print(f\"Database '{db}' deleted successfully.\")\n",
    "    else:\n",
    "        print(f\"Database '{db}' does not exist.\")\n",
    "else:\n",
    "    print(f\"You choose to keep the {db} database.\")"
   ]
  }
 ],
 "metadata": {
  "kernelspec": {
   "display_name": "Python 3",
   "language": "python",
   "name": "python3"
  },
  "language_info": {
   "codemirror_mode": {
    "name": "ipython",
    "version": 3
   },
   "file_extension": ".py",
   "mimetype": "text/x-python",
   "name": "python",
   "nbconvert_exporter": "python",
   "pygments_lexer": "ipython3",
   "version": "3.13.0"
  }
 },
 "nbformat": 4,
 "nbformat_minor": 2
}
