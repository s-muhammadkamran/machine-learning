{
 "cells": [
  {
   "cell_type": "markdown",
   "metadata": {},
   "source": [
    "# Python Logging"
   ]
  },
  {
   "cell_type": "code",
   "execution_count": 249,
   "metadata": {},
   "outputs": [],
   "source": [
    "import logging\n",
    "from datetime import datetime"
   ]
  },
  {
   "cell_type": "markdown",
   "metadata": {},
   "source": [
    "## Configure Logging Setting"
   ]
  },
  {
   "cell_type": "code",
   "execution_count": 250,
   "metadata": {},
   "outputs": [],
   "source": [
    "# Configure basic logging. Only messages\n",
    "logging.basicConfig(level=logging.DEBUG, force=True)"
   ]
  },
  {
   "cell_type": "code",
   "execution_count": 251,
   "metadata": {},
   "outputs": [
    {
     "name": "stderr",
     "output_type": "stream",
     "text": [
      "DEBUG:MyLogger:This is a debug msg. Used for Diagnosing Problems.\n",
      "INFO:MyLogger:This is an info msg. Communication but noting wrong.\n",
      "WARNING:MyLogger:This is a warning msg. Something Unexpected or Potentially Harmful.\n",
      "ERROR:MyLogger:This is an error message. Something very serious. Unable to Perform.\n",
      "CRITICAL:MyLogger:This is a critical message. System is down.\n",
      "CRITICAL:MyLogger:This is a Fatal message. Equavllent to critical or even worst than critical.\n"
     ]
    }
   ],
   "source": [
    "logger = logging.getLogger(\"MyLogger\")\n",
    "\n",
    "# Severity Levels\n",
    "logger.debug('This is a debug msg. Used for Diagnosing Problems.')\n",
    "logger.info('This is an info msg. Communication but noting wrong.')\n",
    "logger.warning('This is a warning msg. Something Unexpected or Potentially Harmful.')\n",
    "logger.error('This is an error message. Something very serious. Unable to Perform.')\n",
    "logger.critical('This is a critical message. System is down.')\n",
    "logger.fatal('This is a Fatal message. Equavllent to critical or even worst than critical.')"
   ]
  },
  {
   "cell_type": "code",
   "execution_count": 252,
   "metadata": {},
   "outputs": [],
   "source": [
    "logging.basicConfig(\n",
    "    level=logging.DEBUG,\n",
    "    #Show Date - LoggerName - Level - Message\n",
    "    format='%(asctime)s - %(name)s - %(levelname)s - %(message)s',\n",
    "    datefmt='%Y-%m-%d %H:%M:%S',\n",
    "    force = True # Overrie existing logging configuration\n",
    ")\n",
    "\n",
    "logger = logging.getLogger(__name__)"
   ]
  },
  {
   "cell_type": "code",
   "execution_count": 253,
   "metadata": {},
   "outputs": [
    {
     "name": "stderr",
     "output_type": "stream",
     "text": [
      "2025-02-21 14:08:06 - __main__ - INFO - This is an info msg. Communication (but noting wrong).\n",
      "2025-02-21 14:08:06 - __main__ - WARNING - This is a warning msg. Something Unexpected or Potentially Harmful.\n",
      "2025-02-21 14:08:06 - __main__ - ERROR - This is an error message. Something very serious. Unable to Perform Required Action.\n",
      "2025-02-21 14:08:06 - __main__ - CRITICAL - This is a critical message. System is down.\n",
      "2025-02-21 14:08:06 - __main__ - CRITICAL - This is a Fatal message. Equavllent to critical or even worst than critical.\n"
     ]
    }
   ],
   "source": [
    "logger.debug('This is a debug msg. Used for Diagnosing Problems.')\n",
    "logger.info('This is an info msg. Communication (but noting wrong).')\n",
    "logger.warning('This is a warning msg. Something Unexpected or Potentially Harmful.')\n",
    "logger.error('This is an error message. Something very serious. Unable to Perform Required Action.')\n",
    "logger.critical('This is a critical message. System is down.')\n",
    "logger.fatal('This is a Fatal message. Equavllent to critical or even worst than critical.')"
   ]
  },
  {
   "cell_type": "markdown",
   "metadata": {},
   "source": [
    "## Configure Log Destination / Handlers"
   ]
  },
  {
   "cell_type": "code",
   "execution_count": 254,
   "metadata": {},
   "outputs": [],
   "source": [
    "\n",
    "logging.basicConfig(    \n",
    "    #filename=f\"app_log_{datetime.now().strftime(\"%Y%m%d\")}.log\", # When using handler dine filename in handler\n",
    "    #filemode='a', # w = Write/Overwrite mode, a=Append mode # When using handler dine filename in handler\n",
    "    level=logging.DEBUG,\n",
    "    #Show Date - LoggerName - Level - Message\n",
    "    format='%(asctime)s - %(name)s - %(thread)s - %(levelname)s - %(message)s',\n",
    "    datefmt='%Y-%m-%d %H:%M:%S',\n",
    "    force = True, # Overrie existing logging configuration\n",
    "    handlers=[\n",
    "        logging.StreamHandler(), # Console output\n",
    "        logging.FileHandler( # File Output\n",
    "            f\"app_log_{datetime.now().strftime('%Y%m%d')}.log\",\n",
    "            mode='a' # Append Mode\n",
    "        )\n",
    "    ]\n",
    ")"
   ]
  },
  {
   "cell_type": "markdown",
   "metadata": {},
   "source": [
    "### Create multiple loggers"
   ]
  },
  {
   "cell_type": "code",
   "execution_count": 255,
   "metadata": {},
   "outputs": [],
   "source": [
    "logger1 = logging.getLogger(__name__)\n",
    "logger2 = logging.getLogger(\"CustomLogger\")\n",
    "logger3 = logging.getLogger(\"DefaultLogger\")"
   ]
  },
  {
   "cell_type": "markdown",
   "metadata": {},
   "source": [
    "### Log using multiple loggers to the same file"
   ]
  },
  {
   "cell_type": "code",
   "execution_count": 256,
   "metadata": {},
   "outputs": [
    {
     "name": "stderr",
     "output_type": "stream",
     "text": [
      "2025-02-21 14:08:06 - CustomLogger - 5580 - INFO - From Logger 2: This is an info msg. Communication but noting wrong.\n",
      "2025-02-21 14:08:06 - __main__ - 5580 - INFO - This is an info msg. Communication but noting wrong.\n",
      "2025-02-21 14:08:06 - DefaultLogger - 5580 - CRITICAL - From Logger 3: This is a Fatal message. Equavllent to critical or even worst than critical.\n",
      "2025-02-21 14:08:06 - __main__ - 5580 - WARNING - This is a warning msg. Something Unexpected or Potentially Harmful.\n",
      "2025-02-21 14:08:06 - __main__ - 5580 - ERROR - This is an error message. Something very serious. Unable to Perform.\n",
      "2025-02-21 14:08:06 - __main__ - 5580 - CRITICAL - This is a critical message. System is down.\n",
      "2025-02-21 14:08:06 - __main__ - 5580 - CRITICAL - This is a Fatal message. Equavllent to critical or even worst than critical.\n"
     ]
    }
   ],
   "source": [
    "logger1.debug('This is a debug msg. Used for Diagnosing Problems.')\n",
    "logger2.info('From Logger 2: This is an info msg. Communication but noting wrong.')\n",
    "logger1.info('This is an info msg. Communication but noting wrong.')\n",
    "logger3.fatal('From Logger 3: This is a Fatal message. Equavllent to critical or even worst than critical.')\n",
    "logger1.warning('This is a warning msg. Something Unexpected or Potentially Harmful.')\n",
    "logger1.error('This is an error message. Something very serious. Unable to Perform.')\n",
    "logger1.critical('This is a critical message. System is down.')\n",
    "logger1.fatal('This is a Fatal message. Equavllent to critical or even worst than critical.')"
   ]
  },
  {
   "cell_type": "markdown",
   "metadata": {},
   "source": [
    "### Close all the Log handlres"
   ]
  },
  {
   "cell_type": "code",
   "execution_count": 257,
   "metadata": {},
   "outputs": [],
   "source": [
    "# Iterate over handler list for the logger\n",
    "for hndlr in logger.handlers:\n",
    "    # If you want to remove the handler of the log but keep logging running\n",
    "    logger.removeHandler(hndlr) # Remove handler from logger\n",
    "    hndlr.close() # Close the handler\n",
    "\n",
    "# if you're done logging completely.\n",
    "# Not ideal if you want to restart logging later\n",
    "logging.shutdown()"
   ]
  }
 ],
 "metadata": {
  "kernelspec": {
   "display_name": "Python 3",
   "language": "python",
   "name": "python3"
  },
  "language_info": {
   "codemirror_mode": {
    "name": "ipython",
    "version": 3
   },
   "file_extension": ".py",
   "mimetype": "text/x-python",
   "name": "python",
   "nbconvert_exporter": "python",
   "pygments_lexer": "ipython3",
   "version": "3.13.0"
  }
 },
 "nbformat": 4,
 "nbformat_minor": 2
}
