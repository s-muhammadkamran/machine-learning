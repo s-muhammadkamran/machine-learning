{
 "cells": [
  {
   "cell_type": "markdown",
   "metadata": {},
   "source": [
    "# Pretty vs Ugly Plots"
   ]
  },
  {
   "cell_type": "markdown",
   "metadata": {},
   "source": [
    "### Answering Questions:\n",
    "\n",
    "#### 1. How do the vaccination totals between age groups compare?\n",
    "#### 2. How have the average vaccination totals changed over time? "
   ]
  },
  {
   "cell_type": "code",
   "execution_count": 1,
   "metadata": {
    "execution": {
     "iopub.execute_input": "2024-09-27T14:26:20.295662Z",
     "iopub.status.busy": "2024-09-27T14:26:20.295224Z",
     "iopub.status.idle": "2024-09-27T14:26:20.301554Z",
     "shell.execute_reply": "2024-09-27T14:26:20.300246Z",
     "shell.execute_reply.started": "2024-09-27T14:26:20.295623Z"
    },
    "trusted": true
   },
   "outputs": [],
   "source": [
    "# Import packages\n",
    "import numpy as np\n",
    "import pandas as pd\n",
    "import matplotlib.pyplot as plt\n",
    "from matplotlib.dates import DateFormatter\n",
    "import seaborn as sns"
   ]
  },
  {
   "cell_type": "markdown",
   "metadata": {},
   "source": [
    "## Load the data\n",
    "\n",
    "Data was precleaned and transformed for this notebook"
   ]
  },
  {
   "cell_type": "code",
   "execution_count": 2,
   "metadata": {
    "execution": {
     "iopub.execute_input": "2024-09-27T14:26:20.303878Z",
     "iopub.status.busy": "2024-09-27T14:26:20.303487Z",
     "iopub.status.idle": "2024-09-27T14:26:20.348908Z",
     "shell.execute_reply": "2024-09-27T14:26:20.347394Z",
     "shell.execute_reply.started": "2024-09-27T14:26:20.303817Z"
    },
    "trusted": true
   },
   "outputs": [
    {
     "name": "stdout",
     "output_type": "stream",
     "text": [
      "<class 'pandas.core.frame.DataFrame'>\n",
      "RangeIndex: 4454 entries, 0 to 4453\n",
      "Data columns (total 12 columns):\n",
      " #   Column           Non-Null Count  Dtype         \n",
      "---  ------           --------------  -----         \n",
      " 0   Date             4454 non-null   datetime64[ns]\n",
      " 1   Month N Year     4454 non-null   datetime64[ns]\n",
      " 2   TotalVaccinated  4454 non-null   int64         \n",
      " 3   0-14             4454 non-null   int64         \n",
      " 4   15-24            4454 non-null   int64         \n",
      " 5   25-34            4454 non-null   int64         \n",
      " 6   35-44            4454 non-null   int64         \n",
      " 7   45-54            4454 non-null   int64         \n",
      " 8   55-64            4454 non-null   int64         \n",
      " 9   65-74            4454 non-null   int64         \n",
      " 10  75+              4454 non-null   int64         \n",
      " 11  Undisclosed      4454 non-null   int64         \n",
      "dtypes: datetime64[ns](2), int64(10)\n",
      "memory usage: 417.7 KB\n"
     ]
    }
   ],
   "source": [
    "# Load the data freshly from the file\n",
    "df_cleaned = pd.read_csv('Vaccination_Data.csv')\n",
    "\n",
    "# Convert Date columns\n",
    "df_cleaned['Date'] = pd.to_datetime(df_cleaned['Date'], errors='coerce')\n",
    "df_cleaned['Month N Year'] = pd.to_datetime(df_cleaned['Month N Year'], errors='coerce')\n",
    "\n",
    "df_cleaned.info()"
   ]
  },
  {
   "cell_type": "code",
   "execution_count": null,
   "metadata": {},
   "outputs": [],
   "source": []
  },
  {
   "cell_type": "markdown",
   "metadata": {},
   "source": [
    "### Pretty Plot\n",
    "\n",
    "We will use sub plots to answer both the questions in 2 plots joined together"
   ]
  },
  {
   "cell_type": "code",
   "execution_count": 3,
   "metadata": {
    "execution": {
     "iopub.execute_input": "2024-09-27T14:26:20.351426Z",
     "iopub.status.busy": "2024-09-27T14:26:20.350979Z",
     "iopub.status.idle": "2024-09-27T14:26:20.367915Z",
     "shell.execute_reply": "2024-09-27T14:26:20.366580Z",
     "shell.execute_reply.started": "2024-09-27T14:26:20.351354Z"
    },
    "trusted": true
   },
   "outputs": [
    {
     "data": {
      "application/vnd.microsoft.datawrangler.viewer.v0+json": {
       "columns": [
        {
         "name": "index",
         "rawType": "int64",
         "type": "integer"
        },
        {
         "name": "0-14",
         "rawType": "int64",
         "type": "integer"
        },
        {
         "name": "15-24",
         "rawType": "int64",
         "type": "integer"
        },
        {
         "name": "25-34",
         "rawType": "int64",
         "type": "integer"
        },
        {
         "name": "35-44",
         "rawType": "int64",
         "type": "integer"
        },
        {
         "name": "45-54",
         "rawType": "int64",
         "type": "integer"
        },
        {
         "name": "55-64",
         "rawType": "int64",
         "type": "integer"
        },
        {
         "name": "65-74",
         "rawType": "int64",
         "type": "integer"
        },
        {
         "name": "75+",
         "rawType": "int64",
         "type": "integer"
        }
       ],
       "conversionMethod": "pd.DataFrame",
       "ref": "07bf3cfd-3373-4ff5-9b91-409ca8e74736",
       "rows": [
        [
         "0",
         "0",
         "0",
         "0",
         "0",
         "0",
         "0",
         "0",
         "0"
        ],
        [
         "1",
         "202",
         "1688",
         "4459",
         "3327",
         "2877",
         "3278",
         "2728",
         "1933"
        ],
        [
         "2",
         "508",
         "2719",
         "3037",
         "4053",
         "3950",
         "3590",
         "2265",
         "1533"
        ],
        [
         "3",
         "346",
         "2120",
         "2185",
         "2375",
         "2812",
         "2747",
         "2051",
         "1067"
        ],
        [
         "4",
         "564",
         "2701",
         "3821",
         "3707",
         "3557",
         "4354",
         "2719",
         "1473"
        ],
        [
         "5",
         "470",
         "2467",
         "2599",
         "3755",
         "3650",
         "3390",
         "2967",
         "1445"
        ],
        [
         "6",
         "217",
         "1623",
         "2034",
         "2033",
         "2358",
         "2706",
         "2517",
         "1920"
        ],
        [
         "7",
         "622",
         "3111",
         "3189",
         "4241",
         "4505",
         "3090",
         "1880",
         "1051"
        ],
        [
         "8",
         "503",
         "2593",
         "2769",
         "3588",
         "3736",
         "3156",
         "2064",
         "994"
        ],
        [
         "9",
         "815",
         "3220",
         "2679",
         "5175",
         "5877",
         "6138",
         "6135",
         "3179"
        ],
        [
         "10",
         "288",
         "1772",
         "1741",
         "1897",
         "2256",
         "2195",
         "1499",
         "667"
        ],
        [
         "11",
         "375",
         "1994",
         "2873",
         "2985",
         "3018",
         "3601",
         "2635",
         "1386"
        ],
        [
         "12",
         "279",
         "1853",
         "1990",
         "2241",
         "2338",
         "1853",
         "1043",
         "476"
        ],
        [
         "13",
         "878",
         "3405",
         "3264",
         "5133",
         "5260",
         "3804",
         "2435",
         "1204"
        ],
        [
         "14",
         "227",
         "1677",
         "1379",
         "1531",
         "1830",
         "1740",
         "1096",
         "601"
        ],
        [
         "15",
         "334",
         "1828",
         "1767",
         "2109",
         "3301",
         "5193",
         "4918",
         "3322"
        ],
        [
         "16",
         "354",
         "2277",
         "2524",
         "2905",
         "2711",
         "2319",
         "1373",
         "695"
        ],
        [
         "17",
         "146",
         "1078",
         "1526",
         "1464",
         "1645",
         "1956",
         "1763",
         "1077"
        ],
        [
         "18",
         "270",
         "1351",
         "2117",
         "2359",
         "2100",
         "2590",
         "2213",
         "1564"
        ],
        [
         "19",
         "448",
         "2113",
         "3008",
         "3194",
         "3251",
         "4150",
         "3549",
         "2219"
        ],
        [
         "20",
         "178",
         "1393",
         "2070",
         "1852",
         "1891",
         "1939",
         "1320",
         "706"
        ],
        [
         "21",
         "220",
         "1439",
         "1937",
         "2052",
         "1812",
         "2349",
         "1935",
         "1294"
        ],
        [
         "22",
         "576",
         "2562",
         "2227",
         "2833",
         "3576",
         "4533",
         "2778",
         "1405"
        ],
        [
         "23",
         "315",
         "1922",
         "2020",
         "2338",
         "2829",
         "3437",
         "4034",
         "4549"
        ],
        [
         "24",
         "570",
         "2498",
         "3061",
         "4164",
         "4217",
         "5257",
         "5049",
         "3551"
        ],
        [
         "25",
         "189",
         "1250",
         "1815",
         "1981",
         "2102",
         "4096",
         "5346",
         "4659"
        ],
        [
         "26",
         "152",
         "1313",
         "3273",
         "2093",
         "1897",
         "2523",
         "2238",
         "2067"
        ],
        [
         "27",
         "246",
         "1607",
         "2045",
         "2134",
         "2487",
         "3054",
         "4739",
         "5517"
        ],
        [
         "28",
         "218",
         "1490",
         "1582",
         "1834",
         "1930",
         "1892",
         "1704",
         "965"
        ],
        [
         "29",
         "391",
         "1833",
         "3379",
         "3674",
         "3505",
         "3723",
         "2965",
         "2167"
        ],
        [
         "30",
         "443",
         "2360",
         "2017",
         "3009",
         "3547",
         "2791",
         "2629",
         "1415"
        ],
        [
         "31",
         "386",
         "1947",
         "1532",
         "2337",
         "2974",
         "2723",
         "2351",
         "1624"
        ],
        [
         "32",
         "233",
         "1589",
         "2644",
         "2568",
         "2414",
         "2533",
         "1771",
         "1079"
        ],
        [
         "33",
         "216",
         "2225",
         "1752",
         "1879",
         "2270",
         "1899",
         "1152",
         "633"
        ],
        [
         "34",
         "455",
         "1633",
         "1329",
         "2352",
         "3058",
         "3792",
         "6069",
         "7340"
        ],
        [
         "35",
         "180",
         "10070",
         "9138",
         "3229",
         "2237",
         "2418",
         "1674",
         "955"
        ],
        [
         "36",
         "577",
         "3596",
         "5172",
         "5135",
         "5288",
         "5614",
         "3964",
         "2092"
        ],
        [
         "37",
         "283",
         "3899",
         "5931",
         "3613",
         "2898",
         "3496",
         "2883",
         "2830"
        ],
        [
         "38",
         "379",
         "2423",
         "2591",
         "2832",
         "3244",
         "3424",
         "2300",
         "1475"
        ],
        [
         "39",
         "458",
         "2781",
         "3406",
         "4020",
         "4318",
         "4118",
         "3599",
         "1814"
        ],
        [
         "40",
         "490",
         "2745",
         "4702",
         "4962",
         "4601",
         "5328",
         "4596",
         "2950"
        ],
        [
         "41",
         "331",
         "2442",
         "3387",
         "3313",
         "3397",
         "3771",
         "3073",
         "1843"
        ],
        [
         "42",
         "340",
         "2682",
         "4908",
         "3795",
         "3579",
         "3350",
         "1907",
         "966"
        ],
        [
         "43",
         "367",
         "2391",
         "2436",
         "2596",
         "3074",
         "2891",
         "1815",
         "983"
        ],
        [
         "44",
         "440",
         "2843",
         "2755",
         "2829",
         "3430",
         "3109",
         "1655",
         "987"
        ],
        [
         "45",
         "352",
         "2359",
         "3000",
         "3191",
         "3529",
         "4555",
         "3840",
         "2386"
        ],
        [
         "46",
         "451",
         "3279",
         "4561",
         "3903",
         "4557",
         "5982",
         "5311",
         "3263"
        ],
        [
         "47",
         "567",
         "3007",
         "3590",
         "4110",
         "4191",
         "4162",
         "2730",
         "1477"
        ],
        [
         "48",
         "381",
         "2481",
         "2529",
         "2497",
         "2892",
         "2492",
         "1496",
         "774"
        ],
        [
         "49",
         "388",
         "2733",
         "2917",
         "3032",
         "3387",
         "2971",
         "1766",
         "872"
        ]
       ],
       "shape": {
        "columns": 8,
        "rows": 4454
       }
      },
      "text/html": [
       "<div>\n",
       "<style scoped>\n",
       "    .dataframe tbody tr th:only-of-type {\n",
       "        vertical-align: middle;\n",
       "    }\n",
       "\n",
       "    .dataframe tbody tr th {\n",
       "        vertical-align: top;\n",
       "    }\n",
       "\n",
       "    .dataframe thead th {\n",
       "        text-align: right;\n",
       "    }\n",
       "</style>\n",
       "<table border=\"1\" class=\"dataframe\">\n",
       "  <thead>\n",
       "    <tr style=\"text-align: right;\">\n",
       "      <th></th>\n",
       "      <th>0-14</th>\n",
       "      <th>15-24</th>\n",
       "      <th>25-34</th>\n",
       "      <th>35-44</th>\n",
       "      <th>45-54</th>\n",
       "      <th>55-64</th>\n",
       "      <th>65-74</th>\n",
       "      <th>75+</th>\n",
       "    </tr>\n",
       "  </thead>\n",
       "  <tbody>\n",
       "    <tr>\n",
       "      <th>0</th>\n",
       "      <td>0</td>\n",
       "      <td>0</td>\n",
       "      <td>0</td>\n",
       "      <td>0</td>\n",
       "      <td>0</td>\n",
       "      <td>0</td>\n",
       "      <td>0</td>\n",
       "      <td>0</td>\n",
       "    </tr>\n",
       "    <tr>\n",
       "      <th>1</th>\n",
       "      <td>202</td>\n",
       "      <td>1688</td>\n",
       "      <td>4459</td>\n",
       "      <td>3327</td>\n",
       "      <td>2877</td>\n",
       "      <td>3278</td>\n",
       "      <td>2728</td>\n",
       "      <td>1933</td>\n",
       "    </tr>\n",
       "    <tr>\n",
       "      <th>2</th>\n",
       "      <td>508</td>\n",
       "      <td>2719</td>\n",
       "      <td>3037</td>\n",
       "      <td>4053</td>\n",
       "      <td>3950</td>\n",
       "      <td>3590</td>\n",
       "      <td>2265</td>\n",
       "      <td>1533</td>\n",
       "    </tr>\n",
       "    <tr>\n",
       "      <th>3</th>\n",
       "      <td>346</td>\n",
       "      <td>2120</td>\n",
       "      <td>2185</td>\n",
       "      <td>2375</td>\n",
       "      <td>2812</td>\n",
       "      <td>2747</td>\n",
       "      <td>2051</td>\n",
       "      <td>1067</td>\n",
       "    </tr>\n",
       "    <tr>\n",
       "      <th>4</th>\n",
       "      <td>564</td>\n",
       "      <td>2701</td>\n",
       "      <td>3821</td>\n",
       "      <td>3707</td>\n",
       "      <td>3557</td>\n",
       "      <td>4354</td>\n",
       "      <td>2719</td>\n",
       "      <td>1473</td>\n",
       "    </tr>\n",
       "    <tr>\n",
       "      <th>...</th>\n",
       "      <td>...</td>\n",
       "      <td>...</td>\n",
       "      <td>...</td>\n",
       "      <td>...</td>\n",
       "      <td>...</td>\n",
       "      <td>...</td>\n",
       "      <td>...</td>\n",
       "      <td>...</td>\n",
       "    </tr>\n",
       "    <tr>\n",
       "      <th>4449</th>\n",
       "      <td>866</td>\n",
       "      <td>1905</td>\n",
       "      <td>1484</td>\n",
       "      <td>1604</td>\n",
       "      <td>2425</td>\n",
       "      <td>3519</td>\n",
       "      <td>3388</td>\n",
       "      <td>2411</td>\n",
       "    </tr>\n",
       "    <tr>\n",
       "      <th>4450</th>\n",
       "      <td>375</td>\n",
       "      <td>898</td>\n",
       "      <td>1752</td>\n",
       "      <td>1605</td>\n",
       "      <td>1446</td>\n",
       "      <td>2037</td>\n",
       "      <td>2181</td>\n",
       "      <td>2192</td>\n",
       "    </tr>\n",
       "    <tr>\n",
       "      <th>4451</th>\n",
       "      <td>662</td>\n",
       "      <td>1469</td>\n",
       "      <td>1710</td>\n",
       "      <td>2021</td>\n",
       "      <td>2362</td>\n",
       "      <td>3378</td>\n",
       "      <td>4270</td>\n",
       "      <td>4636</td>\n",
       "    </tr>\n",
       "    <tr>\n",
       "      <th>4452</th>\n",
       "      <td>687</td>\n",
       "      <td>1827</td>\n",
       "      <td>1996</td>\n",
       "      <td>1939</td>\n",
       "      <td>2093</td>\n",
       "      <td>2754</td>\n",
       "      <td>2466</td>\n",
       "      <td>2179</td>\n",
       "    </tr>\n",
       "    <tr>\n",
       "      <th>4453</th>\n",
       "      <td>1419</td>\n",
       "      <td>2325</td>\n",
       "      <td>1780</td>\n",
       "      <td>2682</td>\n",
       "      <td>3507</td>\n",
       "      <td>4162</td>\n",
       "      <td>6214</td>\n",
       "      <td>8181</td>\n",
       "    </tr>\n",
       "  </tbody>\n",
       "</table>\n",
       "<p>4454 rows × 8 columns</p>\n",
       "</div>"
      ],
      "text/plain": [
       "      0-14  15-24  25-34  35-44  45-54  55-64  65-74   75+\n",
       "0        0      0      0      0      0      0      0     0\n",
       "1      202   1688   4459   3327   2877   3278   2728  1933\n",
       "2      508   2719   3037   4053   3950   3590   2265  1533\n",
       "3      346   2120   2185   2375   2812   2747   2051  1067\n",
       "4      564   2701   3821   3707   3557   4354   2719  1473\n",
       "...    ...    ...    ...    ...    ...    ...    ...   ...\n",
       "4449   866   1905   1484   1604   2425   3519   3388  2411\n",
       "4450   375    898   1752   1605   1446   2037   2181  2192\n",
       "4451   662   1469   1710   2021   2362   3378   4270  4636\n",
       "4452   687   1827   1996   1939   2093   2754   2466  2179\n",
       "4453  1419   2325   1780   2682   3507   4162   6214  8181\n",
       "\n",
       "[4454 rows x 8 columns]"
      ]
     },
     "execution_count": 3,
     "metadata": {},
     "output_type": "execute_result"
    }
   ],
   "source": [
    "#All the age groups columns with all rows\n",
    "#Total undisclosed age group count is 4K+\n",
    "#This will not show up to the scale in these graphs\n",
    "#So we will exclude undisclosed AgeGroup\n",
    "df_ages_grps = df_cleaned.iloc[:, 3:11]\n",
    "df_ages_grps"
   ]
  },
  {
   "cell_type": "markdown",
   "metadata": {},
   "source": [
    "### Prepare data for 1st Question"
   ]
  },
  {
   "cell_type": "code",
   "execution_count": 4,
   "metadata": {
    "execution": {
     "iopub.execute_input": "2024-09-27T14:26:20.370782Z",
     "iopub.status.busy": "2024-09-27T14:26:20.369704Z",
     "iopub.status.idle": "2024-09-27T14:26:20.378377Z",
     "shell.execute_reply": "2024-09-27T14:26:20.377143Z",
     "shell.execute_reply.started": "2024-09-27T14:26:20.370737Z"
    },
    "trusted": true
   },
   "outputs": [],
   "source": [
    "millions = 1000000"
   ]
  },
  {
   "cell_type": "code",
   "execution_count": 5,
   "metadata": {
    "execution": {
     "iopub.execute_input": "2024-09-27T14:26:20.382033Z",
     "iopub.status.busy": "2024-09-27T14:26:20.381500Z",
     "iopub.status.idle": "2024-09-27T14:26:20.396163Z",
     "shell.execute_reply": "2024-09-27T14:26:20.394978Z",
     "shell.execute_reply.started": "2024-09-27T14:26:20.381975Z"
    },
    "trusted": true
   },
   "outputs": [
    {
     "data": {
      "text/plain": [
       "55-64    12.57\n",
       "45-54    11.72\n",
       "65-74    11.52\n",
       "35-44    11.20\n",
       "25-34    10.79\n",
       "15-24     9.52\n",
       "75+       8.82\n",
       "0-14      2.51\n",
       "dtype: float64"
      ]
     },
     "execution_count": 5,
     "metadata": {},
     "output_type": "execute_result"
    }
   ],
   "source": [
    "#Counts in Millions\n",
    "summed_ages = np.round(df_ages_grps.sum() / millions, 2)\n",
    "# Sort by top to bottom\n",
    "summed_ages.sort_values(ascending=False, inplace=True)\n",
    "\n",
    "summed_ages"
   ]
  },
  {
   "cell_type": "markdown",
   "metadata": {},
   "source": [
    "### Prepare Data for 2nd Question"
   ]
  },
  {
   "cell_type": "code",
   "execution_count": 6,
   "metadata": {
    "execution": {
     "iopub.execute_input": "2024-09-27T14:26:20.398418Z",
     "iopub.status.busy": "2024-09-27T14:26:20.397933Z",
     "iopub.status.idle": "2024-09-27T14:26:20.418459Z",
     "shell.execute_reply": "2024-09-27T14:26:20.417074Z",
     "shell.execute_reply.started": "2024-09-27T14:26:20.398365Z"
    },
    "trusted": true
   },
   "outputs": [
    {
     "data": {
      "application/vnd.microsoft.datawrangler.viewer.v0+json": {
       "columns": [
        {
         "name": "index",
         "rawType": "int64",
         "type": "integer"
        },
        {
         "name": "Month N Year",
         "rawType": "datetime64[ns]",
         "type": "datetime"
        },
        {
         "name": "Age Group",
         "rawType": "object",
         "type": "string"
        },
        {
         "name": "Total",
         "rawType": "int64",
         "type": "integer"
        }
       ],
       "conversionMethod": "pd.DataFrame",
       "ref": "b8c14cfd-0b96-4b1a-8a5c-7c6d81202337",
       "rows": [
        [
         "0",
         "2021-06-01 00:00:00",
         "75+",
         "0"
        ],
        [
         "1",
         "2021-06-01 00:00:00",
         "75+",
         "1933"
        ],
        [
         "2",
         "2021-06-01 00:00:00",
         "75+",
         "1533"
        ],
        [
         "3",
         "2021-06-01 00:00:00",
         "75+",
         "1067"
        ],
        [
         "4",
         "2021-06-01 00:00:00",
         "75+",
         "1473"
        ]
       ],
       "shape": {
        "columns": 3,
        "rows": 5
       }
      },
      "text/html": [
       "<div>\n",
       "<style scoped>\n",
       "    .dataframe tbody tr th:only-of-type {\n",
       "        vertical-align: middle;\n",
       "    }\n",
       "\n",
       "    .dataframe tbody tr th {\n",
       "        vertical-align: top;\n",
       "    }\n",
       "\n",
       "    .dataframe thead th {\n",
       "        text-align: right;\n",
       "    }\n",
       "</style>\n",
       "<table border=\"1\" class=\"dataframe\">\n",
       "  <thead>\n",
       "    <tr style=\"text-align: right;\">\n",
       "      <th></th>\n",
       "      <th>Month N Year</th>\n",
       "      <th>Age Group</th>\n",
       "      <th>Total</th>\n",
       "    </tr>\n",
       "  </thead>\n",
       "  <tbody>\n",
       "    <tr>\n",
       "      <th>0</th>\n",
       "      <td>2021-06-01</td>\n",
       "      <td>75+</td>\n",
       "      <td>0</td>\n",
       "    </tr>\n",
       "    <tr>\n",
       "      <th>1</th>\n",
       "      <td>2021-06-01</td>\n",
       "      <td>75+</td>\n",
       "      <td>1933</td>\n",
       "    </tr>\n",
       "    <tr>\n",
       "      <th>2</th>\n",
       "      <td>2021-06-01</td>\n",
       "      <td>75+</td>\n",
       "      <td>1533</td>\n",
       "    </tr>\n",
       "    <tr>\n",
       "      <th>3</th>\n",
       "      <td>2021-06-01</td>\n",
       "      <td>75+</td>\n",
       "      <td>1067</td>\n",
       "    </tr>\n",
       "    <tr>\n",
       "      <th>4</th>\n",
       "      <td>2021-06-01</td>\n",
       "      <td>75+</td>\n",
       "      <td>1473</td>\n",
       "    </tr>\n",
       "  </tbody>\n",
       "</table>\n",
       "</div>"
      ],
      "text/plain": [
       "  Month N Year Age Group  Total\n",
       "0   2021-06-01       75+      0\n",
       "1   2021-06-01       75+   1933\n",
       "2   2021-06-01       75+   1533\n",
       "3   2021-06-01       75+   1067\n",
       "4   2021-06-01       75+   1473"
      ]
     },
     "execution_count": 6,
     "metadata": {},
     "output_type": "execute_result"
    }
   ],
   "source": [
    "# Melt the cleaned datafrom from wide format to long format to be used as categorical data\n",
    "value_cols = ['75+', '65-74', '55-64', '45-54', '35-44', '25-34', '15-24', '0-14']\n",
    "\n",
    "# Melt the dataframe\n",
    "df_melted = pd.melt(\n",
    "    df_cleaned,\n",
    "    id_vars=['Month N Year'],\n",
    "    value_vars=value_cols,\n",
    "    var_name='Age Group',\n",
    "    value_name='Total'\n",
    ")\n",
    "\n",
    "df_melted.head()"
   ]
  },
  {
   "cell_type": "code",
   "execution_count": 7,
   "metadata": {
    "execution": {
     "iopub.execute_input": "2024-09-27T14:26:20.420572Z",
     "iopub.status.busy": "2024-09-27T14:26:20.420089Z",
     "iopub.status.idle": "2024-09-27T14:26:20.443424Z",
     "shell.execute_reply": "2024-09-27T14:26:20.442234Z",
     "shell.execute_reply.started": "2024-09-27T14:26:20.420517Z"
    },
    "trusted": true
   },
   "outputs": [
    {
     "data": {
      "application/vnd.microsoft.datawrangler.viewer.v0+json": {
       "columns": [
        {
         "name": "index",
         "rawType": "int64",
         "type": "integer"
        },
        {
         "name": "Month N Year",
         "rawType": "datetime64[ns]",
         "type": "datetime"
        },
        {
         "name": "Age Group",
         "rawType": "object",
         "type": "string"
        },
        {
         "name": "Total",
         "rawType": "float64",
         "type": "float"
        }
       ],
       "conversionMethod": "pd.DataFrame",
       "ref": "84f5fd0c-1091-4194-96db-f005f21b2520",
       "rows": [
        [
         "0",
         "2021-06-01 00:00:00",
         "0-14",
         "0.11"
        ],
        [
         "1",
         "2021-06-01 00:00:00",
         "15-24",
         "0.64"
        ],
        [
         "2",
         "2021-06-01 00:00:00",
         "25-34",
         "0.78"
        ],
        [
         "3",
         "2021-06-01 00:00:00",
         "35-44",
         "0.83"
        ],
        [
         "4",
         "2021-06-01 00:00:00",
         "45-54",
         "0.9"
        ]
       ],
       "shape": {
        "columns": 3,
        "rows": 5
       }
      },
      "text/html": [
       "<div>\n",
       "<style scoped>\n",
       "    .dataframe tbody tr th:only-of-type {\n",
       "        vertical-align: middle;\n",
       "    }\n",
       "\n",
       "    .dataframe tbody tr th {\n",
       "        vertical-align: top;\n",
       "    }\n",
       "\n",
       "    .dataframe thead th {\n",
       "        text-align: right;\n",
       "    }\n",
       "</style>\n",
       "<table border=\"1\" class=\"dataframe\">\n",
       "  <thead>\n",
       "    <tr style=\"text-align: right;\">\n",
       "      <th></th>\n",
       "      <th>Month N Year</th>\n",
       "      <th>Age Group</th>\n",
       "      <th>Total</th>\n",
       "    </tr>\n",
       "  </thead>\n",
       "  <tbody>\n",
       "    <tr>\n",
       "      <th>0</th>\n",
       "      <td>2021-06-01</td>\n",
       "      <td>0-14</td>\n",
       "      <td>0.11</td>\n",
       "    </tr>\n",
       "    <tr>\n",
       "      <th>1</th>\n",
       "      <td>2021-06-01</td>\n",
       "      <td>15-24</td>\n",
       "      <td>0.64</td>\n",
       "    </tr>\n",
       "    <tr>\n",
       "      <th>2</th>\n",
       "      <td>2021-06-01</td>\n",
       "      <td>25-34</td>\n",
       "      <td>0.78</td>\n",
       "    </tr>\n",
       "    <tr>\n",
       "      <th>3</th>\n",
       "      <td>2021-06-01</td>\n",
       "      <td>35-44</td>\n",
       "      <td>0.83</td>\n",
       "    </tr>\n",
       "    <tr>\n",
       "      <th>4</th>\n",
       "      <td>2021-06-01</td>\n",
       "      <td>45-54</td>\n",
       "      <td>0.90</td>\n",
       "    </tr>\n",
       "  </tbody>\n",
       "</table>\n",
       "</div>"
      ],
      "text/plain": [
       "  Month N Year Age Group  Total\n",
       "0   2021-06-01      0-14   0.11\n",
       "1   2021-06-01     15-24   0.64\n",
       "2   2021-06-01     25-34   0.78\n",
       "3   2021-06-01     35-44   0.83\n",
       "4   2021-06-01     45-54   0.90"
      ]
     },
     "execution_count": 7,
     "metadata": {},
     "output_type": "execute_result"
    }
   ],
   "source": [
    "# After converting long format, take a groupby on Date and get sum\n",
    "df_total_by_date_age = df_melted.groupby(['Month N Year', 'Age Group'])['Total'].sum().reset_index()\n",
    "# Convert to millions\n",
    "df_total_by_date_age['Total'] = np.round(df_total_by_date_age['Total'] / millions, 2)\n",
    "\n",
    "df_total_by_date_age.head()"
   ]
  },
  {
   "cell_type": "markdown",
   "metadata": {},
   "source": [
    "## Pretty Plots"
   ]
  },
  {
   "cell_type": "code",
   "execution_count": 8,
   "metadata": {
    "execution": {
     "iopub.execute_input": "2024-09-27T14:26:20.445095Z",
     "iopub.status.busy": "2024-09-27T14:26:20.444727Z",
     "iopub.status.idle": "2024-09-27T14:26:20.453632Z",
     "shell.execute_reply": "2024-09-27T14:26:20.452316Z",
     "shell.execute_reply.started": "2024-09-27T14:26:20.445057Z"
    },
    "trusted": true
   },
   "outputs": [],
   "source": [
    "# Create a colormap (using shades of blue)\n",
    "colors = sns.color_palette('Blues_r', 8)\n",
    "# Define a custom dark color palette\n",
    "dark_palette = sns.color_palette([\"#006400\", \"#00008B\", \"#8B0000\", \"#4B0082\", \n",
    "                                  \"#FF8C00\", \"#8B4513\", \"#008B8B\", \"#8B008B\"])\n",
    "\n",
    "sizes = [50, 100, 150, 200, 250, 300, 350, 400]"
   ]
  },
  {
   "cell_type": "code",
   "execution_count": 9,
   "metadata": {
    "execution": {
     "iopub.execute_input": "2024-09-27T14:51:39.123952Z",
     "iopub.status.busy": "2024-09-27T14:51:39.123468Z",
     "iopub.status.idle": "2024-09-27T14:51:40.709616Z",
     "shell.execute_reply": "2024-09-27T14:51:40.708411Z",
     "shell.execute_reply.started": "2024-09-27T14:51:39.123908Z"
    },
    "trusted": true
   },
   "outputs": [
    {
     "data": {
      "image/png": "[encoded data removed]",
      "text/plain": [
       "<Figure size 1800x500 with 2 Axes>"
      ]
     },
     "metadata": {},
     "output_type": "display_data"
    }
   ],
   "source": [
    "#Create a subplot\n",
    "fig, axes = plt.subplots(1, 2, figsize=(18,5))\n",
    "#Set style\n",
    "sns.set_style('whitegrid')\n",
    "\n",
    "#=============================================\n",
    "#Plot the 1st preety plot to answer Question 1\n",
    "#=============================================\n",
    "bp = sns.barplot(\n",
    "    x=summed_ages.index,\n",
    "    y=summed_ages.values,\n",
    "    edgecolor='navy',    \n",
    "    width=0.75,\n",
    "    palette=colors,\n",
    "    hue=summed_ages.index,\n",
    "    ax=axes[0]\n",
    ")\n",
    "\n",
    "axes[0].legend([],[], frameon=False)\n",
    "\n",
    "# Customize Grid\n",
    "axes[0].grid(True, which='major', axis='y', linestyle=':', linewidth=0.7, color='gray', alpha=0.7)\n",
    "\n",
    "# Remove unnecessary spines\n",
    "sns.despine(ax=axes[0], left=False, bottom=False, right=False)\n",
    "\n",
    "# Add and Customize Title\n",
    "axes[0].set_title(\"Total Vaccinated by Age Group\",\n",
    "          fontfamily='serif', fontsize=14, color='purple', pad=15)\n",
    "axes[0].set_xlabel('Age Groups (Years)', fontfamily='serif', fontsize=12, color='purple', labelpad=20)\n",
    "axes[0].set_ylabel(\"Total Vaccinated (in millions)\", fontfamily='serif', fontsize=12, color='purple', labelpad=10)\n",
    "\n",
    "# Customize tick labels\n",
    "axes[0].tick_params(axis='x', labelsize=11, labelcolor='navy', rotation=25)\n",
    "axes[0].tick_params(axis='y', labelsize=11, labelcolor='navy')\n",
    "\n",
    "# Add values on the edges of the bars\n",
    "for i, bar in enumerate(bp.patches):\n",
    "    axes[0].text(\n",
    "        bar.get_x() + bar.get_width() / 2,  # X position of the text (center of the bar)\n",
    "        bar.get_height() + 0.25,            # Y position of the text (height of the bar)\n",
    "        f'{bar.get_height()}M',             # The text (formatted as integer with commas)\n",
    "        ha='center', va='bottom',           # Text alignment: horizontal 'center', vertical 'bottom'\n",
    "        fontsize=8, color='black',          # Text font properties\n",
    "        fontfamily='serif'  \n",
    "    )\n",
    "\n",
    "#===============================================\n",
    "#Plot the 2nd Pretty Graph to answer Question 2\n",
    "#===============================================\n",
    "sns.scatterplot(data=df_total_by_date_age, \n",
    "                x='Month N Year', \n",
    "                y='Total', \n",
    "                hue='Age Group',\n",
    "                marker='o', \n",
    "                palette=dark_palette,\n",
    "                legend=True,\n",
    "                s=200,\n",
    "                alpha=0.70,\n",
    "                ax=axes[1])\n",
    "\n",
    "# Customize Grid\n",
    "axes[1].grid(True, which='major', axis='x', linestyle=':', linewidth=0.7, color='gray', alpha=0.75)\n",
    "\n",
    "# Customize Legend\n",
    "axes[1].legend(title='Age Grups', bbox_to_anchor=(1.0, 1), loc='upper left', borderaxespad=0)\n",
    "\n",
    "# Remove unnecessary spines\n",
    "sns.despine(ax=axes[1], left=False, bottom=False, right=False)\n",
    "\n",
    "# Add and Customize Title\n",
    "axes[1].set_title('Monthly Vaccination Trends',\n",
    "          fontfamily='serif', fontsize=14, color='purple', pad=15)\n",
    "\n",
    "# Set and customize x and y axis labels\n",
    "axes[1].set_xlabel('Time Periods (MMM YYYY)', fontfamily='serif', fontsize=12, color='purple', labelpad=15)\n",
    "axes[1].set_ylabel(\"Total Vaccinated by Age (in millions)\", fontfamily='serif', fontsize=12, color='purple', labelpad=10)\n",
    "\n",
    "# Customize DateFormat on X Axis to show Month name and Year\n",
    "axes[1].xaxis.set_major_formatter(DateFormatter('%b %Y'))\n",
    "\n",
    "# Customize x and y ticks labels\n",
    "axes[1].tick_params(axis='x', labelsize=11, labelcolor='navy', rotation=25)\n",
    "axes[1].tick_params(axis='y', labelsize=11, labelcolor='navy')\n",
    "\n",
    "# Apply tight_layout\n",
    "plt.tight_layout()\n",
    "#Show the plot\n",
    "plt.show()\n"
   ]
  },
  {
   "cell_type": "markdown",
   "metadata": {},
   "source": [
    "## Ugly Plots"
   ]
  },
  {
   "cell_type": "code",
   "execution_count": 10,
   "metadata": {
    "execution": {
     "iopub.execute_input": "2024-09-27T14:52:25.835360Z",
     "iopub.status.busy": "2024-09-27T14:52:25.834939Z",
     "iopub.status.idle": "2024-09-27T14:52:26.726172Z",
     "shell.execute_reply": "2024-09-27T14:52:26.724498Z",
     "shell.execute_reply.started": "2024-09-27T14:52:25.835322Z"
    },
    "trusted": true
   },
   "outputs": [
    {
     "data": {
      "image/png": "[encoded data removed]",
      "text/plain": [
       "<Figure size 1800x500 with 2 Axes>"
      ]
     },
     "metadata": {},
     "output_type": "display_data"
    }
   ],
   "source": [
    "#Create a subplot\n",
    "fig, axes = plt.subplots(1, 2, figsize=(18,5))\n",
    "#Set style\n",
    "sns.set_style('whitegrid')\n",
    "\n",
    "#======================\n",
    "# 1st Ugly Plot for Q1\n",
    "#======================\n",
    "axes[0].pie(\n",
    "    summed_ages,\n",
    "    labels=summed_ages.index,\n",
    "    autopct='%1.1f%%',\n",
    "    colors=dark_palette,\n",
    "    startangle=45,\n",
    "    wedgeprops={'width':0.4}\n",
    ")\n",
    "\n",
    "axes[0].legend(title='Ages', loc='best')\n",
    "axes[0].axis('equal')\n",
    "\n",
    "#======================\n",
    "# 2nd Ugly Plot for Q2\n",
    "#======================\n",
    "sns.barplot(data=df_total_by_date_age,\n",
    "            x='Month N Year',\n",
    "            y='Total',\n",
    "            hue='Age Group',\n",
    "            ax=axes[1],\n",
    "            palette='Blues_r'\n",
    ")\n",
    "\n",
    "axes[1].legend(title='Ages', loc='upper right')\n",
    "# Set labels for the second plot\n",
    "axes[1].set_xlabel('Duration')\n",
    "axes[1].set_ylabel(\"Total Vaccinated\")\n",
    "axes[1].tick_params(axis='x', rotation=90)\n",
    "\n",
    "#plt.tight_layout()\n",
    "plt.show()"
   ]
  },
  {
   "cell_type": "markdown",
   "metadata": {},
   "source": [
    "### This is how it looked in my local (Little modified:- Age Groups are not there in scatter plot in this image):\n",
    "\n",
    "![This is how they look in my local](https://www.googleapis.com/download/storage/v1/b/kaggle-forum-message-attachments/o/inbox%2F9363237%2F2b6d8cc7d548804108c0f0290437c13a%2FCapture.JPG?generation=1727478132192335&alt=media)"
   ]
  },
  {
   "cell_type": "code",
   "execution_count": null,
   "metadata": {},
   "outputs": [],
   "source": []
  }
 ],
 "metadata": {
  "kaggle": {
   "accelerator": "none",
   "dataSources": [
    {
     "datasetId": 5778173,
     "sourceId": 9495656,
     "sourceType": "datasetVersion"
    }
   ],
   "dockerImageVersionId": 30775,
   "isGpuEnabled": false,
   "isInternetEnabled": true,
   "language": "python",
   "sourceType": "notebook"
  },
  "kernelspec": {
   "display_name": "Python 3",
   "language": "python",
   "name": "python3"
  },
  "language_info": {
   "codemirror_mode": {
    "name": "ipython",
    "version": 3
   },
   "file_extension": ".py",
   "mimetype": "text/x-python",
   "name": "python",
   "nbconvert_exporter": "python",
   "pygments_lexer": "ipython3",
   "version": "3.13.0"
  }
 },
 "nbformat": 4,
 "nbformat_minor": 4
}
