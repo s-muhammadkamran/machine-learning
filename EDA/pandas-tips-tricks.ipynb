{
 "cells": [
  {
   "cell_type": "markdown",
   "id": "da911cd2",
   "metadata": {
    "papermill": {
     "duration": 0.026667,
     "end_time": "2024-09-23T11:56:00.948898",
     "exception": false,
     "start_time": "2024-09-23T11:56:00.922231",
     "status": "completed"
    },
    "tags": []
   },
   "source": [
    "<div style=\"background-color: #f0f8ff; padding: 20px; border: 2px solid #3498db; border-radius: 10px; margin-bottom: 20px; font-size: 16px; color: #2c3e50;\">\n",
    "    <h1 style=\"color: #2980b9; font-size: 56px; margin-bottom: 10px;\">💡 Pandas Tips and Tricks</h1>\n",
    "    <h3 style=\"color: #2980b9;\">Author: Muhammad Kamran Syed</h3>\n",
    "</div>"
   ]
  },
  {
   "cell_type": "code",
   "execution_count": 1,
   "id": "74292087",
   "metadata": {
    "execution": {
     "iopub.execute_input": "2024-09-23T11:56:01.003975Z",
     "iopub.status.busy": "2024-09-23T11:56:01.003529Z",
     "iopub.status.idle": "2024-09-23T11:56:03.239115Z",
     "shell.execute_reply": "2024-09-23T11:56:03.237992Z"
    },
    "papermill": {
     "duration": 2.265606,
     "end_time": "2024-09-23T11:56:03.242120",
     "exception": false,
     "start_time": "2024-09-23T11:56:00.976514",
     "status": "completed"
    },
    "tags": []
   },
   "outputs": [],
   "source": [
    "#Importing packages\n",
    "\n",
    "import numpy as np\n",
    "import pandas as pd\n",
    "import seaborn as sns\n",
    "import matplotlib.pyplot as plt\n",
    "from pprint import pprint"
   ]
  },
  {
   "cell_type": "code",
   "execution_count": 2,
   "id": "20592ccc",
   "metadata": {
    "execution": {
     "iopub.execute_input": "2024-09-23T11:56:03.296093Z",
     "iopub.status.busy": "2024-09-23T11:56:03.295563Z",
     "iopub.status.idle": "2024-09-23T11:56:03.301662Z",
     "shell.execute_reply": "2024-09-23T11:56:03.300233Z"
    },
    "papermill": {
     "duration": 0.036033,
     "end_time": "2024-09-23T11:56:03.304332",
     "exception": false,
     "start_time": "2024-09-23T11:56:03.268299",
     "status": "completed"
    },
    "tags": []
   },
   "outputs": [
    {
     "name": "stdout",
     "output_type": "stream",
     "text": [
      "2.2.3\n"
     ]
    }
   ],
   "source": [
    "# How to find pandas installed version\n",
    "\n",
    "print(pd.__version__)\n",
    "\n",
    "# or show with all dependencies\n",
    "#pd.show_versions()"
   ]
  },
  {
   "cell_type": "markdown",
   "id": "c2503818",
   "metadata": {
    "papermill": {
     "duration": 0.025259,
     "end_time": "2024-09-23T11:56:03.355904",
     "exception": false,
     "start_time": "2024-09-23T11:56:03.330645",
     "status": "completed"
    },
    "tags": []
   },
   "source": [
    "<h1 style=\"background-color: #f0f8ff; padding: 15px; border: 2px solid #3498db; border-radius: 8px; margin-bottom: 15px; color: #2980b9;\">01. Creating Pandas DataFrames & Series</h1>"
   ]
  },
  {
   "cell_type": "markdown",
   "id": "2ee809dc",
   "metadata": {
    "papermill": {
     "duration": 0.025481,
     "end_time": "2024-09-23T11:56:03.407228",
     "exception": false,
     "start_time": "2024-09-23T11:56:03.381747",
     "status": "completed"
    },
    "tags": []
   },
   "source": [
    "# 01. Creating Pandas DataFrames & Series"
   ]
  },
  {
   "cell_type": "code",
   "execution_count": 3,
   "id": "929e9e3f",
   "metadata": {
    "execution": {
     "iopub.execute_input": "2024-09-23T11:56:03.460890Z",
     "iopub.status.busy": "2024-09-23T11:56:03.460446Z",
     "iopub.status.idle": "2024-09-23T11:56:03.487219Z",
     "shell.execute_reply": "2024-09-23T11:56:03.486099Z"
    },
    "papermill": {
     "duration": 0.056871,
     "end_time": "2024-09-23T11:56:03.489680",
     "exception": false,
     "start_time": "2024-09-23T11:56:03.432809",
     "status": "completed"
    },
    "tags": []
   },
   "outputs": [
    {
     "data": {
      "application/vnd.microsoft.datawrangler.viewer.v0+json": {
       "columns": [
        {
         "name": "index",
         "rawType": "int64",
         "type": "integer"
        },
        {
         "name": "student id",
         "rawType": "int64",
         "type": "integer"
        },
        {
         "name": "student name",
         "rawType": "object",
         "type": "string"
        },
        {
         "name": "program name",
         "rawType": "object",
         "type": "string"
        }
       ],
       "conversionMethod": "pd.DataFrame",
       "ref": "8543f9f2-3882-404c-b36c-3b90d923f482",
       "rows": [
        [
         "0",
         "1",
         "Mark",
         "BSCS"
        ],
        [
         "1",
         "2",
         "David",
         "MSML"
        ],
        [
         "2",
         "3",
         "Tim",
         "MSDS"
        ],
        [
         "3",
         "4",
         "Robert",
         "MSCS"
        ],
        [
         "4",
         "5",
         "Henry",
         "MBA"
        ]
       ],
       "shape": {
        "columns": 3,
        "rows": 5
       }
      },
      "text/html": [
       "<div>\n",
       "<style scoped>\n",
       "    .dataframe tbody tr th:only-of-type {\n",
       "        vertical-align: middle;\n",
       "    }\n",
       "\n",
       "    .dataframe tbody tr th {\n",
       "        vertical-align: top;\n",
       "    }\n",
       "\n",
       "    .dataframe thead th {\n",
       "        text-align: right;\n",
       "    }\n",
       "</style>\n",
       "<table border=\"1\" class=\"dataframe\">\n",
       "  <thead>\n",
       "    <tr style=\"text-align: right;\">\n",
       "      <th></th>\n",
       "      <th>student id</th>\n",
       "      <th>student name</th>\n",
       "      <th>program name</th>\n",
       "    </tr>\n",
       "  </thead>\n",
       "  <tbody>\n",
       "    <tr>\n",
       "      <th>0</th>\n",
       "      <td>1</td>\n",
       "      <td>Mark</td>\n",
       "      <td>BSCS</td>\n",
       "    </tr>\n",
       "    <tr>\n",
       "      <th>1</th>\n",
       "      <td>2</td>\n",
       "      <td>David</td>\n",
       "      <td>MSML</td>\n",
       "    </tr>\n",
       "    <tr>\n",
       "      <th>2</th>\n",
       "      <td>3</td>\n",
       "      <td>Tim</td>\n",
       "      <td>MSDS</td>\n",
       "    </tr>\n",
       "    <tr>\n",
       "      <th>3</th>\n",
       "      <td>4</td>\n",
       "      <td>Robert</td>\n",
       "      <td>MSCS</td>\n",
       "    </tr>\n",
       "    <tr>\n",
       "      <th>4</th>\n",
       "      <td>5</td>\n",
       "      <td>Henry</td>\n",
       "      <td>MBA</td>\n",
       "    </tr>\n",
       "  </tbody>\n",
       "</table>\n",
       "</div>"
      ],
      "text/plain": [
       "   student id student name program name\n",
       "0           1         Mark         BSCS\n",
       "1           2        David         MSML\n",
       "2           3          Tim         MSDS\n",
       "3           4       Robert         MSCS\n",
       "4           5        Henry          MBA"
      ]
     },
     "execution_count": 3,
     "metadata": {},
     "output_type": "execute_result"
    }
   ],
   "source": [
    "# Create DataFrame Using Dictionary\n",
    "\n",
    "data = {\n",
    "    'student id': [1, 2, 3, 4, 5],\n",
    "    'student name': ['Mark', 'David', 'Tim', 'Robert', 'Henry' ],\n",
    "    'program name': ['BSCS', 'MSML', 'MSDS', 'MSCS', 'MBA']\n",
    "}\n",
    "\n",
    "df_exercise = pd.DataFrame(data)\n",
    "df_exercise"
   ]
  },
  {
   "cell_type": "code",
   "execution_count": 4,
   "id": "54cf2a5d",
   "metadata": {
    "execution": {
     "iopub.execute_input": "2024-09-23T11:56:03.543408Z",
     "iopub.status.busy": "2024-09-23T11:56:03.542984Z",
     "iopub.status.idle": "2024-09-23T11:56:03.555294Z",
     "shell.execute_reply": "2024-09-23T11:56:03.554207Z"
    },
    "papermill": {
     "duration": 0.041709,
     "end_time": "2024-09-23T11:56:03.557581",
     "exception": false,
     "start_time": "2024-09-23T11:56:03.515872",
     "status": "completed"
    },
    "tags": []
   },
   "outputs": [
    {
     "data": {
      "application/vnd.microsoft.datawrangler.viewer.v0+json": {
       "columns": [
        {
         "name": "index",
         "rawType": "int64",
         "type": "integer"
        },
        {
         "name": "A",
         "rawType": "int64",
         "type": "integer"
        },
        {
         "name": "B",
         "rawType": "object",
         "type": "string"
        }
       ],
       "conversionMethod": "pd.DataFrame",
       "ref": "1eef91aa-6d7b-4c6c-92c2-d1b197016a84",
       "rows": [
        [
         "0",
         "1",
         "AZ"
        ],
        [
         "1",
         "2",
         "BY"
        ],
        [
         "2",
         "3",
         "CX"
        ],
        [
         "3",
         "4",
         "DW"
        ],
        [
         "4",
         "5",
         "EV"
        ]
       ],
       "shape": {
        "columns": 2,
        "rows": 5
       }
      },
      "text/html": [
       "<div>\n",
       "<style scoped>\n",
       "    .dataframe tbody tr th:only-of-type {\n",
       "        vertical-align: middle;\n",
       "    }\n",
       "\n",
       "    .dataframe tbody tr th {\n",
       "        vertical-align: top;\n",
       "    }\n",
       "\n",
       "    .dataframe thead th {\n",
       "        text-align: right;\n",
       "    }\n",
       "</style>\n",
       "<table border=\"1\" class=\"dataframe\">\n",
       "  <thead>\n",
       "    <tr style=\"text-align: right;\">\n",
       "      <th></th>\n",
       "      <th>A</th>\n",
       "      <th>B</th>\n",
       "    </tr>\n",
       "  </thead>\n",
       "  <tbody>\n",
       "    <tr>\n",
       "      <th>0</th>\n",
       "      <td>1</td>\n",
       "      <td>AZ</td>\n",
       "    </tr>\n",
       "    <tr>\n",
       "      <th>1</th>\n",
       "      <td>2</td>\n",
       "      <td>BY</td>\n",
       "    </tr>\n",
       "    <tr>\n",
       "      <th>2</th>\n",
       "      <td>3</td>\n",
       "      <td>CX</td>\n",
       "    </tr>\n",
       "    <tr>\n",
       "      <th>3</th>\n",
       "      <td>4</td>\n",
       "      <td>DW</td>\n",
       "    </tr>\n",
       "    <tr>\n",
       "      <th>4</th>\n",
       "      <td>5</td>\n",
       "      <td>EV</td>\n",
       "    </tr>\n",
       "  </tbody>\n",
       "</table>\n",
       "</div>"
      ],
      "text/plain": [
       "   A   B\n",
       "0  1  AZ\n",
       "1  2  BY\n",
       "2  3  CX\n",
       "3  4  DW\n",
       "4  5  EV"
      ]
     },
     "execution_count": 4,
     "metadata": {},
     "output_type": "execute_result"
    }
   ],
   "source": [
    "# Create Pandas Series\n",
    "series1 = pd.Series([1, 2, 3, 4, 5])\n",
    "series2 = pd.Series(['AZ', 'BY', 'CX', 'DW', 'EV'])\n",
    "\n",
    "# Create Dataframe from series\n",
    "df_exercise = pd.DataFrame({'A': series1, 'B': series2})\n",
    "df_exercise"
   ]
  },
  {
   "cell_type": "code",
   "execution_count": 5,
   "id": "b9d33345",
   "metadata": {
    "execution": {
     "iopub.execute_input": "2024-09-23T11:56:03.611693Z",
     "iopub.status.busy": "2024-09-23T11:56:03.611075Z",
     "iopub.status.idle": "2024-09-23T11:56:03.621885Z",
     "shell.execute_reply": "2024-09-23T11:56:03.620718Z"
    },
    "papermill": {
     "duration": 0.040336,
     "end_time": "2024-09-23T11:56:03.624164",
     "exception": false,
     "start_time": "2024-09-23T11:56:03.583828",
     "status": "completed"
    },
    "tags": []
   },
   "outputs": [
    {
     "data": {
      "application/vnd.microsoft.datawrangler.viewer.v0+json": {
       "columns": [
        {
         "name": "index",
         "rawType": "int64",
         "type": "integer"
        },
        {
         "name": "0",
         "rawType": "int64",
         "type": "integer"
        },
        {
         "name": "1",
         "rawType": "int64",
         "type": "integer"
        },
        {
         "name": "2",
         "rawType": "int64",
         "type": "integer"
        }
       ],
       "conversionMethod": "pd.DataFrame",
       "ref": "69f6fc9a-2923-4fbd-aa5c-9cb73107f6a1",
       "rows": [
        [
         "0",
         "1",
         "2",
         "3"
        ],
        [
         "1",
         "4",
         "5",
         "6"
        ]
       ],
       "shape": {
        "columns": 3,
        "rows": 2
       }
      },
      "text/html": [
       "<div>\n",
       "<style scoped>\n",
       "    .dataframe tbody tr th:only-of-type {\n",
       "        vertical-align: middle;\n",
       "    }\n",
       "\n",
       "    .dataframe tbody tr th {\n",
       "        vertical-align: top;\n",
       "    }\n",
       "\n",
       "    .dataframe thead th {\n",
       "        text-align: right;\n",
       "    }\n",
       "</style>\n",
       "<table border=\"1\" class=\"dataframe\">\n",
       "  <thead>\n",
       "    <tr style=\"text-align: right;\">\n",
       "      <th></th>\n",
       "      <th>0</th>\n",
       "      <th>1</th>\n",
       "      <th>2</th>\n",
       "    </tr>\n",
       "  </thead>\n",
       "  <tbody>\n",
       "    <tr>\n",
       "      <th>0</th>\n",
       "      <td>1</td>\n",
       "      <td>2</td>\n",
       "      <td>3</td>\n",
       "    </tr>\n",
       "    <tr>\n",
       "      <th>1</th>\n",
       "      <td>4</td>\n",
       "      <td>5</td>\n",
       "      <td>6</td>\n",
       "    </tr>\n",
       "  </tbody>\n",
       "</table>\n",
       "</div>"
      ],
      "text/plain": [
       "   0  1  2\n",
       "0  1  2  3\n",
       "1  4  5  6"
      ]
     },
     "execution_count": 5,
     "metadata": {},
     "output_type": "execute_result"
    }
   ],
   "source": [
    "# Create DataFrom using a numpy 2D array\n",
    "data = np.array([[1, 2, 3], [4, 5, 6]])\n",
    "df_exercise = pd.DataFrame(data)\n",
    "df_exercise\n"
   ]
  },
  {
   "cell_type": "code",
   "execution_count": 6,
   "id": "40cb0352",
   "metadata": {
    "execution": {
     "iopub.execute_input": "2024-09-23T11:56:03.678583Z",
     "iopub.status.busy": "2024-09-23T11:56:03.678146Z",
     "iopub.status.idle": "2024-09-23T11:56:03.699552Z",
     "shell.execute_reply": "2024-09-23T11:56:03.698260Z"
    },
    "papermill": {
     "duration": 0.051591,
     "end_time": "2024-09-23T11:56:03.701831",
     "exception": false,
     "start_time": "2024-09-23T11:56:03.650240",
     "status": "completed"
    },
    "tags": []
   },
   "outputs": [
    {
     "data": {
      "application/vnd.microsoft.datawrangler.viewer.v0+json": {
       "columns": [
        {
         "name": "index",
         "rawType": "int64",
         "type": "integer"
        },
        {
         "name": "A",
         "rawType": "int32",
         "type": "integer"
        },
        {
         "name": "B",
         "rawType": "int32",
         "type": "integer"
        },
        {
         "name": "C",
         "rawType": "int32",
         "type": "integer"
        },
        {
         "name": "D",
         "rawType": "int32",
         "type": "integer"
        },
        {
         "name": "E",
         "rawType": "int32",
         "type": "integer"
        },
        {
         "name": "F",
         "rawType": "int32",
         "type": "integer"
        },
        {
         "name": "G",
         "rawType": "int32",
         "type": "integer"
        },
        {
         "name": "H",
         "rawType": "int32",
         "type": "integer"
        },
        {
         "name": "I",
         "rawType": "int32",
         "type": "integer"
        },
        {
         "name": "J",
         "rawType": "int32",
         "type": "integer"
        }
       ],
       "conversionMethod": "pd.DataFrame",
       "ref": "cf47a22c-7a12-4892-b663-9ea6678a4696",
       "rows": [
        [
         "0",
         "124",
         "4361",
         "4807",
         "378",
         "1590",
         "1275",
         "4554",
         "2839",
         "2973",
         "475"
        ],
        [
         "1",
         "842",
         "1427",
         "1202",
         "5",
         "1139",
         "677",
         "976",
         "3896",
         "3852",
         "4574"
        ],
        [
         "2",
         "3154",
         "645",
         "4943",
         "3167",
         "3380",
         "180",
         "2028",
         "3461",
         "1025",
         "1926"
        ],
        [
         "3",
         "2577",
         "2029",
         "4042",
         "3761",
         "2426",
         "179",
         "511",
         "2910",
         "2554",
         "3344"
        ],
        [
         "4",
         "1354",
         "4859",
         "3316",
         "4247",
         "1594",
         "3733",
         "2992",
         "3918",
         "3277",
         "1382"
        ],
        [
         "5",
         "3994",
         "4392",
         "2199",
         "4123",
         "4324",
         "3857",
         "1318",
         "991",
         "230",
         "1634"
        ],
        [
         "6",
         "3577",
         "1505",
         "753",
         "4669",
         "813",
         "4337",
         "2846",
         "4634",
         "3470",
         "3828"
        ],
        [
         "7",
         "1356",
         "1589",
         "3354",
         "2265",
         "2036",
         "3038",
         "801",
         "3344",
         "2339",
         "2191"
        ],
        [
         "8",
         "4780",
         "90",
         "1270",
         "1600",
         "124",
         "1437",
         "986",
         "2978",
         "2225",
         "4498"
        ],
        [
         "9",
         "1288",
         "2213",
         "2730",
         "2435",
         "2174",
         "1603",
         "1330",
         "3707",
         "4934",
         "1615"
        ],
        [
         "10",
         "481",
         "2605",
         "3074",
         "3121",
         "2343",
         "3252",
         "3056",
         "2935",
         "1793",
         "4176"
        ],
        [
         "11",
         "2932",
         "2524",
         "3687",
         "3028",
         "230",
         "278",
         "4785",
         "3457",
         "3548",
         "2630"
        ],
        [
         "12",
         "4347",
         "1857",
         "1315",
         "1293",
         "517",
         "518",
         "1629",
         "2638",
         "2554",
         "1639"
        ],
        [
         "13",
         "1027",
         "2077",
         "2239",
         "472",
         "3423",
         "772",
         "416",
         "4847",
         "3202",
         "2483"
        ],
        [
         "14",
         "3720",
         "4081",
         "3012",
         "4536",
         "3487",
         "3886",
         "2833",
         "2749",
         "4205",
         "1791"
        ],
        [
         "15",
         "4157",
         "465",
         "2181",
         "3825",
         "3775",
         "1554",
         "1958",
         "1400",
         "1512",
         "35"
        ],
        [
         "16",
         "229",
         "677",
         "2727",
         "4868",
         "1879",
         "2451",
         "3903",
         "4182",
         "4539",
         "4435"
        ],
        [
         "17",
         "4781",
         "1363",
         "3024",
         "3267",
         "3836",
         "883",
         "4795",
         "1210",
         "3484",
         "319"
        ],
        [
         "18",
         "3142",
         "2453",
         "4650",
         "4476",
         "806",
         "561",
         "2688",
         "206",
         "2010",
         "4445"
        ],
        [
         "19",
         "4867",
         "2080",
         "3522",
         "411",
         "3895",
         "2737",
         "2110",
         "4469",
         "2114",
         "1624"
        ],
        [
         "20",
         "1116",
         "2581",
         "1236",
         "2994",
         "4480",
         "2861",
         "2308",
         "4498",
         "4795",
         "107"
        ],
        [
         "21",
         "231",
         "1065",
         "3065",
         "1076",
         "4683",
         "4409",
         "1979",
         "705",
         "1913",
         "372"
        ],
        [
         "22",
         "1270",
         "2646",
         "4438",
         "2473",
         "4939",
         "1657",
         "1702",
         "1246",
         "753",
         "205"
        ],
        [
         "23",
         "511",
         "420",
         "3445",
         "626",
         "4539",
         "2683",
         "1177",
         "1476",
         "1195",
         "3633"
        ],
        [
         "24",
         "1297",
         "2515",
         "348",
         "54",
         "408",
         "1473",
         "3285",
         "3239",
         "3439",
         "3415"
        ],
        [
         "25",
         "4333",
         "1671",
         "1429",
         "468",
         "3299",
         "4702",
         "2512",
         "2367",
         "1494",
         "3651"
        ],
        [
         "26",
         "307",
         "1844",
         "4379",
         "4397",
         "4291",
         "1722",
         "3297",
         "3401",
         "3249",
         "4283"
        ],
        [
         "27",
         "655",
         "3247",
         "682",
         "610",
         "2298",
         "1151",
         "2246",
         "3259",
         "6",
         "3179"
        ],
        [
         "28",
         "1735",
         "2476",
         "4994",
         "4778",
         "1919",
         "1429",
         "185",
         "3729",
         "2814",
         "3715"
        ],
        [
         "29",
         "1110",
         "2484",
         "1689",
         "4117",
         "2922",
         "259",
         "4002",
         "398",
         "4954",
         "1637"
        ],
        [
         "30",
         "50",
         "1548",
         "178",
         "361",
         "1960",
         "4151",
         "3569",
         "1753",
         "1524",
         "2575"
        ],
        [
         "31",
         "663",
         "365",
         "2851",
         "3677",
         "3005",
         "3973",
         "2760",
         "1145",
         "981",
         "3190"
        ],
        [
         "32",
         "3230",
         "3135",
         "4767",
         "2026",
         "875",
         "1488",
         "166",
         "3788",
         "4861",
         "2718"
        ],
        [
         "33",
         "3697",
         "2467",
         "60",
         "1072",
         "944",
         "1527",
         "3953",
         "3576",
         "2970",
         "2560"
        ],
        [
         "34",
         "1345",
         "2360",
         "270",
         "3415",
         "3983",
         "491",
         "3505",
         "3078",
         "3127",
         "4457"
        ],
        [
         "35",
         "3165",
         "350",
         "2687",
         "3047",
         "4294",
         "3773",
         "4744",
         "132",
         "1773",
         "1589"
        ],
        [
         "36",
         "1340",
         "4056",
         "2450",
         "1986",
         "4277",
         "3973",
         "4287",
         "3963",
         "1997",
         "1194"
        ],
        [
         "37",
         "1925",
         "324",
         "4089",
         "2333",
         "972",
         "913",
         "1631",
         "765",
         "3020",
         "1714"
        ],
        [
         "38",
         "4959",
         "2012",
         "2030",
         "3072",
         "42",
         "2455",
         "416",
         "4655",
         "2008",
         "562"
        ],
        [
         "39",
         "519",
         "4687",
         "4285",
         "1816",
         "267",
         "744",
         "3887",
         "1422",
         "1090",
         "44"
        ],
        [
         "40",
         "1683",
         "2355",
         "3530",
         "2621",
         "2897",
         "2742",
         "909",
         "1746",
         "4162",
         "4873"
        ],
        [
         "41",
         "2989",
         "4559",
         "4961",
         "15",
         "3148",
         "1818",
         "3827",
         "2758",
         "2963",
         "855"
        ],
        [
         "42",
         "4866",
         "59",
         "621",
         "1023",
         "4119",
         "1093",
         "928",
         "3613",
         "2366",
         "4577"
        ],
        [
         "43",
         "1333",
         "3024",
         "4652",
         "1654",
         "1959",
         "1468",
         "4504",
         "944",
         "1159",
         "1745"
        ],
        [
         "44",
         "938",
         "2591",
         "3783",
         "1834",
         "3459",
         "219",
         "2328",
         "1862",
         "4039",
         "1628"
        ],
        [
         "45",
         "347",
         "1664",
         "537",
         "196",
         "1259",
         "4652",
         "2922",
         "67",
         "2396",
         "1524"
        ],
        [
         "46",
         "2914",
         "3224",
         "323",
         "193",
         "3028",
         "4291",
         "601",
         "1127",
         "3124",
         "3967"
        ],
        [
         "47",
         "1316",
         "2716",
         "2798",
         "2278",
         "4283",
         "3535",
         "4111",
         "4895",
         "2380",
         "4703"
        ],
        [
         "48",
         "908",
         "2409",
         "1072",
         "1286",
         "1524",
         "1371",
         "4915",
         "776",
         "4486",
         "3871"
        ],
        [
         "49",
         "1476",
         "3177",
         "2513",
         "3037",
         "1598",
         "3430",
         "2269",
         "31",
         "3571",
         "2781"
        ]
       ],
       "shape": {
        "columns": 10,
        "rows": 500
       }
      },
      "text/html": [
       "<div>\n",
       "<style scoped>\n",
       "    .dataframe tbody tr th:only-of-type {\n",
       "        vertical-align: middle;\n",
       "    }\n",
       "\n",
       "    .dataframe tbody tr th {\n",
       "        vertical-align: top;\n",
       "    }\n",
       "\n",
       "    .dataframe thead th {\n",
       "        text-align: right;\n",
       "    }\n",
       "</style>\n",
       "<table border=\"1\" class=\"dataframe\">\n",
       "  <thead>\n",
       "    <tr style=\"text-align: right;\">\n",
       "      <th></th>\n",
       "      <th>A</th>\n",
       "      <th>B</th>\n",
       "      <th>C</th>\n",
       "      <th>D</th>\n",
       "      <th>E</th>\n",
       "      <th>F</th>\n",
       "      <th>G</th>\n",
       "      <th>H</th>\n",
       "      <th>I</th>\n",
       "      <th>J</th>\n",
       "    </tr>\n",
       "  </thead>\n",
       "  <tbody>\n",
       "    <tr>\n",
       "      <th>0</th>\n",
       "      <td>124</td>\n",
       "      <td>4361</td>\n",
       "      <td>4807</td>\n",
       "      <td>378</td>\n",
       "      <td>1590</td>\n",
       "      <td>1275</td>\n",
       "      <td>4554</td>\n",
       "      <td>2839</td>\n",
       "      <td>2973</td>\n",
       "      <td>475</td>\n",
       "    </tr>\n",
       "    <tr>\n",
       "      <th>1</th>\n",
       "      <td>842</td>\n",
       "      <td>1427</td>\n",
       "      <td>1202</td>\n",
       "      <td>5</td>\n",
       "      <td>1139</td>\n",
       "      <td>677</td>\n",
       "      <td>976</td>\n",
       "      <td>3896</td>\n",
       "      <td>3852</td>\n",
       "      <td>4574</td>\n",
       "    </tr>\n",
       "    <tr>\n",
       "      <th>2</th>\n",
       "      <td>3154</td>\n",
       "      <td>645</td>\n",
       "      <td>4943</td>\n",
       "      <td>3167</td>\n",
       "      <td>3380</td>\n",
       "      <td>180</td>\n",
       "      <td>2028</td>\n",
       "      <td>3461</td>\n",
       "      <td>1025</td>\n",
       "      <td>1926</td>\n",
       "    </tr>\n",
       "    <tr>\n",
       "      <th>3</th>\n",
       "      <td>2577</td>\n",
       "      <td>2029</td>\n",
       "      <td>4042</td>\n",
       "      <td>3761</td>\n",
       "      <td>2426</td>\n",
       "      <td>179</td>\n",
       "      <td>511</td>\n",
       "      <td>2910</td>\n",
       "      <td>2554</td>\n",
       "      <td>3344</td>\n",
       "    </tr>\n",
       "    <tr>\n",
       "      <th>4</th>\n",
       "      <td>1354</td>\n",
       "      <td>4859</td>\n",
       "      <td>3316</td>\n",
       "      <td>4247</td>\n",
       "      <td>1594</td>\n",
       "      <td>3733</td>\n",
       "      <td>2992</td>\n",
       "      <td>3918</td>\n",
       "      <td>3277</td>\n",
       "      <td>1382</td>\n",
       "    </tr>\n",
       "    <tr>\n",
       "      <th>...</th>\n",
       "      <td>...</td>\n",
       "      <td>...</td>\n",
       "      <td>...</td>\n",
       "      <td>...</td>\n",
       "      <td>...</td>\n",
       "      <td>...</td>\n",
       "      <td>...</td>\n",
       "      <td>...</td>\n",
       "      <td>...</td>\n",
       "      <td>...</td>\n",
       "    </tr>\n",
       "    <tr>\n",
       "      <th>495</th>\n",
       "      <td>2401</td>\n",
       "      <td>3949</td>\n",
       "      <td>2917</td>\n",
       "      <td>3372</td>\n",
       "      <td>120</td>\n",
       "      <td>128</td>\n",
       "      <td>4457</td>\n",
       "      <td>1935</td>\n",
       "      <td>1615</td>\n",
       "      <td>1859</td>\n",
       "    </tr>\n",
       "    <tr>\n",
       "      <th>496</th>\n",
       "      <td>1987</td>\n",
       "      <td>1713</td>\n",
       "      <td>1826</td>\n",
       "      <td>572</td>\n",
       "      <td>1604</td>\n",
       "      <td>2623</td>\n",
       "      <td>4081</td>\n",
       "      <td>3219</td>\n",
       "      <td>4046</td>\n",
       "      <td>1214</td>\n",
       "    </tr>\n",
       "    <tr>\n",
       "      <th>497</th>\n",
       "      <td>1316</td>\n",
       "      <td>1444</td>\n",
       "      <td>4366</td>\n",
       "      <td>4808</td>\n",
       "      <td>4967</td>\n",
       "      <td>2578</td>\n",
       "      <td>842</td>\n",
       "      <td>1777</td>\n",
       "      <td>2030</td>\n",
       "      <td>3903</td>\n",
       "    </tr>\n",
       "    <tr>\n",
       "      <th>498</th>\n",
       "      <td>1202</td>\n",
       "      <td>1041</td>\n",
       "      <td>2892</td>\n",
       "      <td>3429</td>\n",
       "      <td>2747</td>\n",
       "      <td>4715</td>\n",
       "      <td>1120</td>\n",
       "      <td>1626</td>\n",
       "      <td>2893</td>\n",
       "      <td>48</td>\n",
       "    </tr>\n",
       "    <tr>\n",
       "      <th>499</th>\n",
       "      <td>3177</td>\n",
       "      <td>3082</td>\n",
       "      <td>4462</td>\n",
       "      <td>515</td>\n",
       "      <td>2634</td>\n",
       "      <td>3937</td>\n",
       "      <td>2451</td>\n",
       "      <td>3363</td>\n",
       "      <td>4748</td>\n",
       "      <td>3443</td>\n",
       "    </tr>\n",
       "  </tbody>\n",
       "</table>\n",
       "<p>500 rows × 10 columns</p>\n",
       "</div>"
      ],
      "text/plain": [
       "        A     B     C     D     E     F     G     H     I     J\n",
       "0     124  4361  4807   378  1590  1275  4554  2839  2973   475\n",
       "1     842  1427  1202     5  1139   677   976  3896  3852  4574\n",
       "2    3154   645  4943  3167  3380   180  2028  3461  1025  1926\n",
       "3    2577  2029  4042  3761  2426   179   511  2910  2554  3344\n",
       "4    1354  4859  3316  4247  1594  3733  2992  3918  3277  1382\n",
       "..    ...   ...   ...   ...   ...   ...   ...   ...   ...   ...\n",
       "495  2401  3949  2917  3372   120   128  4457  1935  1615  1859\n",
       "496  1987  1713  1826   572  1604  2623  4081  3219  4046  1214\n",
       "497  1316  1444  4366  4808  4967  2578   842  1777  2030  3903\n",
       "498  1202  1041  2892  3429  2747  4715  1120  1626  2893    48\n",
       "499  3177  3082  4462   515  2634  3937  2451  3363  4748  3443\n",
       "\n",
       "[500 rows x 10 columns]"
      ]
     },
     "execution_count": 6,
     "metadata": {},
     "output_type": "execute_result"
    }
   ],
   "source": [
    "# Create using numpy random number generation method \n",
    "# randint(low, hight, size=(rows, cols))\n",
    "data = np.random.randint(1, 5000, size=(500, 10))\n",
    "df_exercise = pd.DataFrame(data, columns=list(\"ABCDEFGHIJ\"))\n",
    "df_exercise"
   ]
  },
  {
   "cell_type": "markdown",
   "id": "0ff7d7fa",
   "metadata": {
    "papermill": {
     "duration": 0.026443,
     "end_time": "2024-09-23T11:56:03.757129",
     "exception": false,
     "start_time": "2024-09-23T11:56:03.730686",
     "status": "completed"
    },
    "tags": []
   },
   "source": [
    "<h1 style=\"background-color: #f0f8ff; padding: 15px; border: 2px solid #3498db; border-radius: 8px; margin-bottom: 15px; color: #2980b9;\">02. Rename a Column</h1>"
   ]
  },
  {
   "cell_type": "markdown",
   "id": "3f5249ef",
   "metadata": {
    "papermill": {
     "duration": 0.026669,
     "end_time": "2024-09-23T11:56:03.810706",
     "exception": false,
     "start_time": "2024-09-23T11:56:03.784037",
     "status": "completed"
    },
    "tags": []
   },
   "source": [
    "# 02. Rename a Column"
   ]
  },
  {
   "cell_type": "code",
   "execution_count": 7,
   "id": "fe9dab63",
   "metadata": {
    "execution": {
     "iopub.execute_input": "2024-09-23T11:56:03.922514Z",
     "iopub.status.busy": "2024-09-23T11:56:03.922076Z",
     "iopub.status.idle": "2024-09-23T11:56:03.934591Z",
     "shell.execute_reply": "2024-09-23T11:56:03.933480Z"
    },
    "papermill": {
     "duration": 0.098198,
     "end_time": "2024-09-23T11:56:03.937093",
     "exception": false,
     "start_time": "2024-09-23T11:56:03.838895",
     "status": "completed"
    },
    "tags": []
   },
   "outputs": [
    {
     "data": {
      "application/vnd.microsoft.datawrangler.viewer.v0+json": {
       "columns": [
        {
         "name": "index",
         "rawType": "int64",
         "type": "integer"
        },
        {
         "name": "column A",
         "rawType": "int64",
         "type": "integer"
        },
        {
         "name": "column B",
         "rawType": "int64",
         "type": "integer"
        },
        {
         "name": "column C",
         "rawType": "int64",
         "type": "integer"
        }
       ],
       "conversionMethod": "pd.DataFrame",
       "ref": "8a71374b-e721-44ec-b7e4-6f46827804c1",
       "rows": [
        [
         "0",
         "1",
         "6",
         "11"
        ],
        [
         "1",
         "2",
         "7",
         "12"
        ],
        [
         "2",
         "3",
         "8",
         "13"
        ],
        [
         "3",
         "4",
         "9",
         "14"
        ],
        [
         "4",
         "5",
         "10",
         "15"
        ]
       ],
       "shape": {
        "columns": 3,
        "rows": 5
       }
      },
      "text/html": [
       "<div>\n",
       "<style scoped>\n",
       "    .dataframe tbody tr th:only-of-type {\n",
       "        vertical-align: middle;\n",
       "    }\n",
       "\n",
       "    .dataframe tbody tr th {\n",
       "        vertical-align: top;\n",
       "    }\n",
       "\n",
       "    .dataframe thead th {\n",
       "        text-align: right;\n",
       "    }\n",
       "</style>\n",
       "<table border=\"1\" class=\"dataframe\">\n",
       "  <thead>\n",
       "    <tr style=\"text-align: right;\">\n",
       "      <th></th>\n",
       "      <th>column A</th>\n",
       "      <th>column B</th>\n",
       "      <th>column C</th>\n",
       "    </tr>\n",
       "  </thead>\n",
       "  <tbody>\n",
       "    <tr>\n",
       "      <th>0</th>\n",
       "      <td>1</td>\n",
       "      <td>6</td>\n",
       "      <td>11</td>\n",
       "    </tr>\n",
       "    <tr>\n",
       "      <th>1</th>\n",
       "      <td>2</td>\n",
       "      <td>7</td>\n",
       "      <td>12</td>\n",
       "    </tr>\n",
       "    <tr>\n",
       "      <th>2</th>\n",
       "      <td>3</td>\n",
       "      <td>8</td>\n",
       "      <td>13</td>\n",
       "    </tr>\n",
       "    <tr>\n",
       "      <th>3</th>\n",
       "      <td>4</td>\n",
       "      <td>9</td>\n",
       "      <td>14</td>\n",
       "    </tr>\n",
       "    <tr>\n",
       "      <th>4</th>\n",
       "      <td>5</td>\n",
       "      <td>10</td>\n",
       "      <td>15</td>\n",
       "    </tr>\n",
       "  </tbody>\n",
       "</table>\n",
       "</div>"
      ],
      "text/plain": [
       "   column A  column B  column C\n",
       "0         1         6        11\n",
       "1         2         7        12\n",
       "2         3         8        13\n",
       "3         4         9        14\n",
       "4         5        10        15"
      ]
     },
     "execution_count": 7,
     "metadata": {},
     "output_type": "execute_result"
    }
   ],
   "source": [
    "df_exercise = pd.DataFrame({\n",
    "    'column A': [1, 2, 3, 4, 5],\n",
    "    'column B': [6, 7, 8, 9, 10],\n",
    "    'column C': [11, 12, 13, 14, 15],\n",
    "})\n",
    "df_exercise"
   ]
  },
  {
   "cell_type": "code",
   "execution_count": 8,
   "id": "a399e52b",
   "metadata": {
    "execution": {
     "iopub.execute_input": "2024-09-23T11:56:03.994360Z",
     "iopub.status.busy": "2024-09-23T11:56:03.993945Z",
     "iopub.status.idle": "2024-09-23T11:56:04.006888Z",
     "shell.execute_reply": "2024-09-23T11:56:04.005403Z"
    },
    "papermill": {
     "duration": 0.04523,
     "end_time": "2024-09-23T11:56:04.009543",
     "exception": false,
     "start_time": "2024-09-23T11:56:03.964313",
     "status": "completed"
    },
    "tags": []
   },
   "outputs": [
    {
     "data": {
      "application/vnd.microsoft.datawrangler.viewer.v0+json": {
       "columns": [
        {
         "name": "index",
         "rawType": "int64",
         "type": "integer"
        },
        {
         "name": "col A",
         "rawType": "int64",
         "type": "integer"
        },
        {
         "name": "col b",
         "rawType": "int64",
         "type": "integer"
        },
        {
         "name": "column C",
         "rawType": "int64",
         "type": "integer"
        }
       ],
       "conversionMethod": "pd.DataFrame",
       "ref": "cfe56472-452c-4513-8e44-fd0c4ada92af",
       "rows": [
        [
         "0",
         "1",
         "6",
         "11"
        ],
        [
         "1",
         "2",
         "7",
         "12"
        ],
        [
         "2",
         "3",
         "8",
         "13"
        ],
        [
         "3",
         "4",
         "9",
         "14"
        ],
        [
         "4",
         "5",
         "10",
         "15"
        ]
       ],
       "shape": {
        "columns": 3,
        "rows": 5
       }
      },
      "text/html": [
       "<div>\n",
       "<style scoped>\n",
       "    .dataframe tbody tr th:only-of-type {\n",
       "        vertical-align: middle;\n",
       "    }\n",
       "\n",
       "    .dataframe tbody tr th {\n",
       "        vertical-align: top;\n",
       "    }\n",
       "\n",
       "    .dataframe thead th {\n",
       "        text-align: right;\n",
       "    }\n",
       "</style>\n",
       "<table border=\"1\" class=\"dataframe\">\n",
       "  <thead>\n",
       "    <tr style=\"text-align: right;\">\n",
       "      <th></th>\n",
       "      <th>col A</th>\n",
       "      <th>col b</th>\n",
       "      <th>column C</th>\n",
       "    </tr>\n",
       "  </thead>\n",
       "  <tbody>\n",
       "    <tr>\n",
       "      <th>0</th>\n",
       "      <td>1</td>\n",
       "      <td>6</td>\n",
       "      <td>11</td>\n",
       "    </tr>\n",
       "    <tr>\n",
       "      <th>1</th>\n",
       "      <td>2</td>\n",
       "      <td>7</td>\n",
       "      <td>12</td>\n",
       "    </tr>\n",
       "    <tr>\n",
       "      <th>2</th>\n",
       "      <td>3</td>\n",
       "      <td>8</td>\n",
       "      <td>13</td>\n",
       "    </tr>\n",
       "    <tr>\n",
       "      <th>3</th>\n",
       "      <td>4</td>\n",
       "      <td>9</td>\n",
       "      <td>14</td>\n",
       "    </tr>\n",
       "    <tr>\n",
       "      <th>4</th>\n",
       "      <td>5</td>\n",
       "      <td>10</td>\n",
       "      <td>15</td>\n",
       "    </tr>\n",
       "  </tbody>\n",
       "</table>\n",
       "</div>"
      ],
      "text/plain": [
       "   col A  col b  column C\n",
       "0      1      6        11\n",
       "1      2      7        12\n",
       "2      3      8        13\n",
       "3      4      9        14\n",
       "4      5     10        15"
      ]
     },
     "execution_count": 8,
     "metadata": {},
     "output_type": "execute_result"
    }
   ],
   "source": [
    "# provide a map in Old_Name : New_Name format to df.rename method\n",
    "df_exercise.rename(columns={'column A': 'col A', 'column B': 'col b'}, inplace=True)\n",
    "df_exercise"
   ]
  },
  {
   "cell_type": "code",
   "execution_count": 9,
   "id": "44afa08c",
   "metadata": {
    "execution": {
     "iopub.execute_input": "2024-09-23T11:56:04.071610Z",
     "iopub.status.busy": "2024-09-23T11:56:04.071182Z",
     "iopub.status.idle": "2024-09-23T11:56:04.084471Z",
     "shell.execute_reply": "2024-09-23T11:56:04.083015Z"
    },
    "papermill": {
     "duration": 0.046335,
     "end_time": "2024-09-23T11:56:04.087723",
     "exception": false,
     "start_time": "2024-09-23T11:56:04.041388",
     "status": "completed"
    },
    "tags": []
   },
   "outputs": [
    {
     "data": {
      "application/vnd.microsoft.datawrangler.viewer.v0+json": {
       "columns": [
        {
         "name": "index",
         "rawType": "int64",
         "type": "integer"
        },
        {
         "name": "col_a",
         "rawType": "int64",
         "type": "integer"
        },
        {
         "name": "col_b",
         "rawType": "int64",
         "type": "integer"
        },
        {
         "name": "col name c",
         "rawType": "int64",
         "type": "integer"
        }
       ],
       "conversionMethod": "pd.DataFrame",
       "ref": "97867338-64ea-49d4-acb7-2103c1392fdd",
       "rows": [
        [
         "0",
         "1",
         "6",
         "11"
        ],
        [
         "1",
         "2",
         "7",
         "12"
        ],
        [
         "2",
         "3",
         "8",
         "13"
        ],
        [
         "3",
         "4",
         "9",
         "14"
        ],
        [
         "4",
         "5",
         "10",
         "15"
        ]
       ],
       "shape": {
        "columns": 3,
        "rows": 5
       }
      },
      "text/html": [
       "<div>\n",
       "<style scoped>\n",
       "    .dataframe tbody tr th:only-of-type {\n",
       "        vertical-align: middle;\n",
       "    }\n",
       "\n",
       "    .dataframe tbody tr th {\n",
       "        vertical-align: top;\n",
       "    }\n",
       "\n",
       "    .dataframe thead th {\n",
       "        text-align: right;\n",
       "    }\n",
       "</style>\n",
       "<table border=\"1\" class=\"dataframe\">\n",
       "  <thead>\n",
       "    <tr style=\"text-align: right;\">\n",
       "      <th></th>\n",
       "      <th>col_a</th>\n",
       "      <th>col_b</th>\n",
       "      <th>col name c</th>\n",
       "    </tr>\n",
       "  </thead>\n",
       "  <tbody>\n",
       "    <tr>\n",
       "      <th>0</th>\n",
       "      <td>1</td>\n",
       "      <td>6</td>\n",
       "      <td>11</td>\n",
       "    </tr>\n",
       "    <tr>\n",
       "      <th>1</th>\n",
       "      <td>2</td>\n",
       "      <td>7</td>\n",
       "      <td>12</td>\n",
       "    </tr>\n",
       "    <tr>\n",
       "      <th>2</th>\n",
       "      <td>3</td>\n",
       "      <td>8</td>\n",
       "      <td>13</td>\n",
       "    </tr>\n",
       "    <tr>\n",
       "      <th>3</th>\n",
       "      <td>4</td>\n",
       "      <td>9</td>\n",
       "      <td>14</td>\n",
       "    </tr>\n",
       "    <tr>\n",
       "      <th>4</th>\n",
       "      <td>5</td>\n",
       "      <td>10</td>\n",
       "      <td>15</td>\n",
       "    </tr>\n",
       "  </tbody>\n",
       "</table>\n",
       "</div>"
      ],
      "text/plain": [
       "   col_a  col_b  col name c\n",
       "0      1      6          11\n",
       "1      2      7          12\n",
       "2      3      8          13\n",
       "3      4      9          14\n",
       "4      5     10          15"
      ]
     },
     "execution_count": 9,
     "metadata": {},
     "output_type": "execute_result"
    }
   ],
   "source": [
    "# Just assign to the column array with the updated name in the same order\n",
    "df_exercise.columns = ['col_a', 'col_b', 'col name c']\n",
    "df_exercise"
   ]
  },
  {
   "cell_type": "code",
   "execution_count": 10,
   "id": "c79d81af",
   "metadata": {
    "execution": {
     "iopub.execute_input": "2024-09-23T11:56:04.145331Z",
     "iopub.status.busy": "2024-09-23T11:56:04.144889Z",
     "iopub.status.idle": "2024-09-23T11:56:04.156844Z",
     "shell.execute_reply": "2024-09-23T11:56:04.155583Z"
    },
    "papermill": {
     "duration": 0.043185,
     "end_time": "2024-09-23T11:56:04.159148",
     "exception": false,
     "start_time": "2024-09-23T11:56:04.115963",
     "status": "completed"
    },
    "tags": []
   },
   "outputs": [
    {
     "data": {
      "application/vnd.microsoft.datawrangler.viewer.v0+json": {
       "columns": [
        {
         "name": "index",
         "rawType": "int64",
         "type": "integer"
        },
        {
         "name": "col_a",
         "rawType": "int64",
         "type": "integer"
        },
        {
         "name": "col_b",
         "rawType": "int64",
         "type": "integer"
        },
        {
         "name": "col_c",
         "rawType": "int64",
         "type": "integer"
        }
       ],
       "conversionMethod": "pd.DataFrame",
       "ref": "da96fd41-8780-4a9c-9907-a14dd31f60f2",
       "rows": [
        [
         "0",
         "1",
         "6",
         "11"
        ],
        [
         "1",
         "2",
         "7",
         "12"
        ],
        [
         "2",
         "3",
         "8",
         "13"
        ],
        [
         "3",
         "4",
         "9",
         "14"
        ],
        [
         "4",
         "5",
         "10",
         "15"
        ]
       ],
       "shape": {
        "columns": 3,
        "rows": 5
       }
      },
      "text/html": [
       "<div>\n",
       "<style scoped>\n",
       "    .dataframe tbody tr th:only-of-type {\n",
       "        vertical-align: middle;\n",
       "    }\n",
       "\n",
       "    .dataframe tbody tr th {\n",
       "        vertical-align: top;\n",
       "    }\n",
       "\n",
       "    .dataframe thead th {\n",
       "        text-align: right;\n",
       "    }\n",
       "</style>\n",
       "<table border=\"1\" class=\"dataframe\">\n",
       "  <thead>\n",
       "    <tr style=\"text-align: right;\">\n",
       "      <th></th>\n",
       "      <th>col_a</th>\n",
       "      <th>col_b</th>\n",
       "      <th>col_c</th>\n",
       "    </tr>\n",
       "  </thead>\n",
       "  <tbody>\n",
       "    <tr>\n",
       "      <th>0</th>\n",
       "      <td>1</td>\n",
       "      <td>6</td>\n",
       "      <td>11</td>\n",
       "    </tr>\n",
       "    <tr>\n",
       "      <th>1</th>\n",
       "      <td>2</td>\n",
       "      <td>7</td>\n",
       "      <td>12</td>\n",
       "    </tr>\n",
       "    <tr>\n",
       "      <th>2</th>\n",
       "      <td>3</td>\n",
       "      <td>8</td>\n",
       "      <td>13</td>\n",
       "    </tr>\n",
       "    <tr>\n",
       "      <th>3</th>\n",
       "      <td>4</td>\n",
       "      <td>9</td>\n",
       "      <td>14</td>\n",
       "    </tr>\n",
       "    <tr>\n",
       "      <th>4</th>\n",
       "      <td>5</td>\n",
       "      <td>10</td>\n",
       "      <td>15</td>\n",
       "    </tr>\n",
       "  </tbody>\n",
       "</table>\n",
       "</div>"
      ],
      "text/plain": [
       "   col_a  col_b  col_c\n",
       "0      1      6     11\n",
       "1      2      7     12\n",
       "2      3      8     13\n",
       "3      4      9     14\n",
       "4      5     10     15"
      ]
     },
     "execution_count": 10,
     "metadata": {},
     "output_type": "execute_result"
    }
   ],
   "source": [
    "# Replace a character in the column names\n",
    "df_exercise.columns = df_exercise.columns.str.replace(' name ', '_')\n",
    "df_exercise"
   ]
  },
  {
   "cell_type": "code",
   "execution_count": 11,
   "id": "5d8142a9",
   "metadata": {
    "execution": {
     "iopub.execute_input": "2024-09-23T11:56:04.218300Z",
     "iopub.status.busy": "2024-09-23T11:56:04.217901Z",
     "iopub.status.idle": "2024-09-23T11:56:04.229873Z",
     "shell.execute_reply": "2024-09-23T11:56:04.228734Z"
    },
    "papermill": {
     "duration": 0.044324,
     "end_time": "2024-09-23T11:56:04.232215",
     "exception": false,
     "start_time": "2024-09-23T11:56:04.187891",
     "status": "completed"
    },
    "tags": []
   },
   "outputs": [
    {
     "data": {
      "application/vnd.microsoft.datawrangler.viewer.v0+json": {
       "columns": [
        {
         "name": "index",
         "rawType": "int64",
         "type": "integer"
        },
        {
         "name": "column_name_col_a_end",
         "rawType": "int64",
         "type": "integer"
        },
        {
         "name": "column_name_col_b_end",
         "rawType": "int64",
         "type": "integer"
        },
        {
         "name": "column_name_col_c_end",
         "rawType": "int64",
         "type": "integer"
        }
       ],
       "conversionMethod": "pd.DataFrame",
       "ref": "53a3c8ae-afd5-4943-82a9-07840bbf0835",
       "rows": [
        [
         "0",
         "1",
         "6",
         "11"
        ],
        [
         "1",
         "2",
         "7",
         "12"
        ],
        [
         "2",
         "3",
         "8",
         "13"
        ],
        [
         "3",
         "4",
         "9",
         "14"
        ],
        [
         "4",
         "5",
         "10",
         "15"
        ]
       ],
       "shape": {
        "columns": 3,
        "rows": 5
       }
      },
      "text/html": [
       "<div>\n",
       "<style scoped>\n",
       "    .dataframe tbody tr th:only-of-type {\n",
       "        vertical-align: middle;\n",
       "    }\n",
       "\n",
       "    .dataframe tbody tr th {\n",
       "        vertical-align: top;\n",
       "    }\n",
       "\n",
       "    .dataframe thead th {\n",
       "        text-align: right;\n",
       "    }\n",
       "</style>\n",
       "<table border=\"1\" class=\"dataframe\">\n",
       "  <thead>\n",
       "    <tr style=\"text-align: right;\">\n",
       "      <th></th>\n",
       "      <th>column_name_col_a_end</th>\n",
       "      <th>column_name_col_b_end</th>\n",
       "      <th>column_name_col_c_end</th>\n",
       "    </tr>\n",
       "  </thead>\n",
       "  <tbody>\n",
       "    <tr>\n",
       "      <th>0</th>\n",
       "      <td>1</td>\n",
       "      <td>6</td>\n",
       "      <td>11</td>\n",
       "    </tr>\n",
       "    <tr>\n",
       "      <th>1</th>\n",
       "      <td>2</td>\n",
       "      <td>7</td>\n",
       "      <td>12</td>\n",
       "    </tr>\n",
       "    <tr>\n",
       "      <th>2</th>\n",
       "      <td>3</td>\n",
       "      <td>8</td>\n",
       "      <td>13</td>\n",
       "    </tr>\n",
       "    <tr>\n",
       "      <th>3</th>\n",
       "      <td>4</td>\n",
       "      <td>9</td>\n",
       "      <td>14</td>\n",
       "    </tr>\n",
       "    <tr>\n",
       "      <th>4</th>\n",
       "      <td>5</td>\n",
       "      <td>10</td>\n",
       "      <td>15</td>\n",
       "    </tr>\n",
       "  </tbody>\n",
       "</table>\n",
       "</div>"
      ],
      "text/plain": [
       "   column_name_col_a_end  column_name_col_b_end  column_name_col_c_end\n",
       "0                      1                      6                     11\n",
       "1                      2                      7                     12\n",
       "2                      3                      8                     13\n",
       "3                      4                      9                     14\n",
       "4                      5                     10                     15"
      ]
     },
     "execution_count": 11,
     "metadata": {},
     "output_type": "execute_result"
    }
   ],
   "source": [
    "# Add a prefix and suffix to column names\n",
    "df_exercise = df_exercise.add_prefix('column_name_')\n",
    "df_exercise = df_exercise.add_suffix('_end')\n",
    "\n",
    "df_exercise"
   ]
  },
  {
   "cell_type": "code",
   "execution_count": 12,
   "id": "1469160f",
   "metadata": {
    "execution": {
     "iopub.execute_input": "2024-09-23T11:56:04.289397Z",
     "iopub.status.busy": "2024-09-23T11:56:04.289020Z",
     "iopub.status.idle": "2024-09-23T11:56:04.300701Z",
     "shell.execute_reply": "2024-09-23T11:56:04.299560Z"
    },
    "papermill": {
     "duration": 0.042799,
     "end_time": "2024-09-23T11:56:04.302919",
     "exception": false,
     "start_time": "2024-09-23T11:56:04.260120",
     "status": "completed"
    },
    "tags": []
   },
   "outputs": [
    {
     "data": {
      "application/vnd.microsoft.datawrangler.viewer.v0+json": {
       "columns": [
        {
         "name": "index",
         "rawType": "int64",
         "type": "integer"
        },
        {
         "name": "col_a",
         "rawType": "int64",
         "type": "integer"
        },
        {
         "name": "col_b",
         "rawType": "int64",
         "type": "integer"
        },
        {
         "name": "col_c",
         "rawType": "int64",
         "type": "integer"
        }
       ],
       "conversionMethod": "pd.DataFrame",
       "ref": "2217ba00-6317-4ca9-92c8-3a8e588824ef",
       "rows": [
        [
         "0",
         "1",
         "6",
         "11"
        ],
        [
         "1",
         "2",
         "7",
         "12"
        ],
        [
         "2",
         "3",
         "8",
         "13"
        ],
        [
         "3",
         "4",
         "9",
         "14"
        ],
        [
         "4",
         "5",
         "10",
         "15"
        ]
       ],
       "shape": {
        "columns": 3,
        "rows": 5
       }
      },
      "text/html": [
       "<div>\n",
       "<style scoped>\n",
       "    .dataframe tbody tr th:only-of-type {\n",
       "        vertical-align: middle;\n",
       "    }\n",
       "\n",
       "    .dataframe tbody tr th {\n",
       "        vertical-align: top;\n",
       "    }\n",
       "\n",
       "    .dataframe thead th {\n",
       "        text-align: right;\n",
       "    }\n",
       "</style>\n",
       "<table border=\"1\" class=\"dataframe\">\n",
       "  <thead>\n",
       "    <tr style=\"text-align: right;\">\n",
       "      <th></th>\n",
       "      <th>col_a</th>\n",
       "      <th>col_b</th>\n",
       "      <th>col_c</th>\n",
       "    </tr>\n",
       "  </thead>\n",
       "  <tbody>\n",
       "    <tr>\n",
       "      <th>0</th>\n",
       "      <td>1</td>\n",
       "      <td>6</td>\n",
       "      <td>11</td>\n",
       "    </tr>\n",
       "    <tr>\n",
       "      <th>1</th>\n",
       "      <td>2</td>\n",
       "      <td>7</td>\n",
       "      <td>12</td>\n",
       "    </tr>\n",
       "    <tr>\n",
       "      <th>2</th>\n",
       "      <td>3</td>\n",
       "      <td>8</td>\n",
       "      <td>13</td>\n",
       "    </tr>\n",
       "    <tr>\n",
       "      <th>3</th>\n",
       "      <td>4</td>\n",
       "      <td>9</td>\n",
       "      <td>14</td>\n",
       "    </tr>\n",
       "    <tr>\n",
       "      <th>4</th>\n",
       "      <td>5</td>\n",
       "      <td>10</td>\n",
       "      <td>15</td>\n",
       "    </tr>\n",
       "  </tbody>\n",
       "</table>\n",
       "</div>"
      ],
      "text/plain": [
       "   col_a  col_b  col_c\n",
       "0      1      6     11\n",
       "1      2      7     12\n",
       "2      3      8     13\n",
       "3      4      9     14\n",
       "4      5     10     15"
      ]
     },
     "execution_count": 12,
     "metadata": {},
     "output_type": "execute_result"
    }
   ],
   "source": [
    "# Revert back suffix and prefix addition\n",
    "# The first replace will return a columns array on which another replace will be executed\n",
    "df_exercise.columns = df_exercise.columns.str.replace('column_name_', '').str.replace('_end', '')\n",
    "df_exercise"
   ]
  },
  {
   "cell_type": "markdown",
   "id": "c6a2c82e",
   "metadata": {
    "papermill": {
     "duration": 0.030424,
     "end_time": "2024-09-23T11:56:04.363800",
     "exception": false,
     "start_time": "2024-09-23T11:56:04.333376",
     "status": "completed"
    },
    "tags": []
   },
   "source": [
    "<h1 style=\"background-color: #f0f8ff; padding: 15px; border: 2px solid #3498db; border-radius: 8px; margin-bottom: 15px; color: #2980b9;\">03. Using Template Data from Seaborn</h1>"
   ]
  },
  {
   "cell_type": "markdown",
   "id": "03bab13c",
   "metadata": {
    "papermill": {
     "duration": 0.027607,
     "end_time": "2024-09-23T11:56:04.419346",
     "exception": false,
     "start_time": "2024-09-23T11:56:04.391739",
     "status": "completed"
    },
    "tags": []
   },
   "source": [
    "# 03. Using Template Data from Seaborn"
   ]
  },
  {
   "cell_type": "code",
   "execution_count": 13,
   "id": "3afc28ee",
   "metadata": {
    "execution": {
     "iopub.execute_input": "2024-09-23T11:56:04.477393Z",
     "iopub.status.busy": "2024-09-23T11:56:04.476971Z",
     "iopub.status.idle": "2024-09-23T11:56:05.476896Z",
     "shell.execute_reply": "2024-09-23T11:56:05.475093Z"
    },
    "papermill": {
     "duration": 1.032159,
     "end_time": "2024-09-23T11:56:05.479868",
     "exception": false,
     "start_time": "2024-09-23T11:56:04.447709",
     "status": "completed"
    },
    "tags": []
   },
   "outputs": [
    {
     "name": "stdout",
     "output_type": "stream",
     "text": [
      "['anagrams',\n",
      " 'anscombe',\n",
      " 'attention',\n",
      " 'brain_networks',\n",
      " 'car_crashes',\n",
      " 'diamonds',\n",
      " 'dots',\n",
      " 'dowjones',\n",
      " 'exercise',\n",
      " 'flights']\n"
     ]
    }
   ],
   "source": [
    "# Print the top 10 Dataset names in Seaborn\n",
    "pprint(sns.get_dataset_names()[:10])"
   ]
  },
  {
   "cell_type": "code",
   "execution_count": 14,
   "id": "373b9a7f",
   "metadata": {
    "execution": {
     "iopub.execute_input": "2024-09-23T11:56:05.541532Z",
     "iopub.status.busy": "2024-09-23T11:56:05.541103Z",
     "iopub.status.idle": "2024-09-23T11:56:06.338781Z",
     "shell.execute_reply": "2024-09-23T11:56:06.337572Z"
    },
    "papermill": {
     "duration": 0.831225,
     "end_time": "2024-09-23T11:56:06.341196",
     "exception": false,
     "start_time": "2024-09-23T11:56:05.509971",
     "status": "completed"
    },
    "tags": []
   },
   "outputs": [
    {
     "data": {
      "application/vnd.microsoft.datawrangler.viewer.v0+json": {
       "columns": [
        {
         "name": "index",
         "rawType": "int64",
         "type": "integer"
        },
        {
         "name": "year",
         "rawType": "int64",
         "type": "integer"
        },
        {
         "name": "month",
         "rawType": "category",
         "type": "unknown"
        },
        {
         "name": "passengers",
         "rawType": "int64",
         "type": "integer"
        }
       ],
       "conversionMethod": "pd.DataFrame",
       "ref": "ffe3ede8-74f2-414f-bd29-a58b187e019f",
       "rows": [
        [
         "0",
         "1949",
         "Jan",
         "112"
        ],
        [
         "1",
         "1949",
         "Feb",
         "118"
        ],
        [
         "2",
         "1949",
         "Mar",
         "132"
        ],
        [
         "3",
         "1949",
         "Apr",
         "129"
        ],
        [
         "4",
         "1949",
         "May",
         "121"
        ]
       ],
       "shape": {
        "columns": 3,
        "rows": 5
       }
      },
      "text/html": [
       "<div>\n",
       "<style scoped>\n",
       "    .dataframe tbody tr th:only-of-type {\n",
       "        vertical-align: middle;\n",
       "    }\n",
       "\n",
       "    .dataframe tbody tr th {\n",
       "        vertical-align: top;\n",
       "    }\n",
       "\n",
       "    .dataframe thead th {\n",
       "        text-align: right;\n",
       "    }\n",
       "</style>\n",
       "<table border=\"1\" class=\"dataframe\">\n",
       "  <thead>\n",
       "    <tr style=\"text-align: right;\">\n",
       "      <th></th>\n",
       "      <th>year</th>\n",
       "      <th>month</th>\n",
       "      <th>passengers</th>\n",
       "    </tr>\n",
       "  </thead>\n",
       "  <tbody>\n",
       "    <tr>\n",
       "      <th>0</th>\n",
       "      <td>1949</td>\n",
       "      <td>Jan</td>\n",
       "      <td>112</td>\n",
       "    </tr>\n",
       "    <tr>\n",
       "      <th>1</th>\n",
       "      <td>1949</td>\n",
       "      <td>Feb</td>\n",
       "      <td>118</td>\n",
       "    </tr>\n",
       "    <tr>\n",
       "      <th>2</th>\n",
       "      <td>1949</td>\n",
       "      <td>Mar</td>\n",
       "      <td>132</td>\n",
       "    </tr>\n",
       "    <tr>\n",
       "      <th>3</th>\n",
       "      <td>1949</td>\n",
       "      <td>Apr</td>\n",
       "      <td>129</td>\n",
       "    </tr>\n",
       "    <tr>\n",
       "      <th>4</th>\n",
       "      <td>1949</td>\n",
       "      <td>May</td>\n",
       "      <td>121</td>\n",
       "    </tr>\n",
       "  </tbody>\n",
       "</table>\n",
       "</div>"
      ],
      "text/plain": [
       "   year month  passengers\n",
       "0  1949   Jan         112\n",
       "1  1949   Feb         118\n",
       "2  1949   Mar         132\n",
       "3  1949   Apr         129\n",
       "4  1949   May         121"
      ]
     },
     "execution_count": 14,
     "metadata": {},
     "output_type": "execute_result"
    }
   ],
   "source": [
    "df_flights = sns.load_dataset('flights')\n",
    "df_flights.head()"
   ]
  },
  {
   "cell_type": "code",
   "execution_count": 15,
   "id": "20229ec5",
   "metadata": {
    "execution": {
     "iopub.execute_input": "2024-09-23T11:56:06.399710Z",
     "iopub.status.busy": "2024-09-23T11:56:06.399254Z",
     "iopub.status.idle": "2024-09-23T11:56:07.411716Z",
     "shell.execute_reply": "2024-09-23T11:56:07.410577Z"
    },
    "papermill": {
     "duration": 1.044906,
     "end_time": "2024-09-23T11:56:07.414339",
     "exception": false,
     "start_time": "2024-09-23T11:56:06.369433",
     "status": "completed"
    },
    "tags": []
   },
   "outputs": [
    {
     "data": {
      "application/vnd.microsoft.datawrangler.viewer.v0+json": {
       "columns": [
        {
         "name": "index",
         "rawType": "int64",
         "type": "integer"
        },
        {
         "name": "carat",
         "rawType": "float64",
         "type": "float"
        },
        {
         "name": "cut",
         "rawType": "category",
         "type": "unknown"
        },
        {
         "name": "color",
         "rawType": "category",
         "type": "unknown"
        },
        {
         "name": "clarity",
         "rawType": "category",
         "type": "unknown"
        },
        {
         "name": "depth",
         "rawType": "float64",
         "type": "float"
        },
        {
         "name": "table",
         "rawType": "float64",
         "type": "float"
        },
        {
         "name": "price",
         "rawType": "int64",
         "type": "integer"
        },
        {
         "name": "x",
         "rawType": "float64",
         "type": "float"
        },
        {
         "name": "y",
         "rawType": "float64",
         "type": "float"
        },
        {
         "name": "z",
         "rawType": "float64",
         "type": "float"
        }
       ],
       "conversionMethod": "pd.DataFrame",
       "ref": "082b2375-9298-4c78-b23e-1bc9931210f1",
       "rows": [
        [
         "0",
         "0.23",
         "Ideal",
         "E",
         "SI2",
         "61.5",
         "55.0",
         "326",
         "3.95",
         "3.98",
         "2.43"
        ],
        [
         "1",
         "0.21",
         "Premium",
         "E",
         "SI1",
         "59.8",
         "61.0",
         "326",
         "3.89",
         "3.84",
         "2.31"
        ],
        [
         "2",
         "0.23",
         "Good",
         "E",
         "VS1",
         "56.9",
         "65.0",
         "327",
         "4.05",
         "4.07",
         "2.31"
        ],
        [
         "3",
         "0.29",
         "Premium",
         "I",
         "VS2",
         "62.4",
         "58.0",
         "334",
         "4.2",
         "4.23",
         "2.63"
        ],
        [
         "4",
         "0.31",
         "Good",
         "J",
         "SI2",
         "63.3",
         "58.0",
         "335",
         "4.34",
         "4.35",
         "2.75"
        ]
       ],
       "shape": {
        "columns": 10,
        "rows": 5
       }
      },
      "text/html": [
       "<div>\n",
       "<style scoped>\n",
       "    .dataframe tbody tr th:only-of-type {\n",
       "        vertical-align: middle;\n",
       "    }\n",
       "\n",
       "    .dataframe tbody tr th {\n",
       "        vertical-align: top;\n",
       "    }\n",
       "\n",
       "    .dataframe thead th {\n",
       "        text-align: right;\n",
       "    }\n",
       "</style>\n",
       "<table border=\"1\" class=\"dataframe\">\n",
       "  <thead>\n",
       "    <tr style=\"text-align: right;\">\n",
       "      <th></th>\n",
       "      <th>carat</th>\n",
       "      <th>cut</th>\n",
       "      <th>color</th>\n",
       "      <th>clarity</th>\n",
       "      <th>depth</th>\n",
       "      <th>table</th>\n",
       "      <th>price</th>\n",
       "      <th>x</th>\n",
       "      <th>y</th>\n",
       "      <th>z</th>\n",
       "    </tr>\n",
       "  </thead>\n",
       "  <tbody>\n",
       "    <tr>\n",
       "      <th>0</th>\n",
       "      <td>0.23</td>\n",
       "      <td>Ideal</td>\n",
       "      <td>E</td>\n",
       "      <td>SI2</td>\n",
       "      <td>61.5</td>\n",
       "      <td>55.0</td>\n",
       "      <td>326</td>\n",
       "      <td>3.95</td>\n",
       "      <td>3.98</td>\n",
       "      <td>2.43</td>\n",
       "    </tr>\n",
       "    <tr>\n",
       "      <th>1</th>\n",
       "      <td>0.21</td>\n",
       "      <td>Premium</td>\n",
       "      <td>E</td>\n",
       "      <td>SI1</td>\n",
       "      <td>59.8</td>\n",
       "      <td>61.0</td>\n",
       "      <td>326</td>\n",
       "      <td>3.89</td>\n",
       "      <td>3.84</td>\n",
       "      <td>2.31</td>\n",
       "    </tr>\n",
       "    <tr>\n",
       "      <th>2</th>\n",
       "      <td>0.23</td>\n",
       "      <td>Good</td>\n",
       "      <td>E</td>\n",
       "      <td>VS1</td>\n",
       "      <td>56.9</td>\n",
       "      <td>65.0</td>\n",
       "      <td>327</td>\n",
       "      <td>4.05</td>\n",
       "      <td>4.07</td>\n",
       "      <td>2.31</td>\n",
       "    </tr>\n",
       "    <tr>\n",
       "      <th>3</th>\n",
       "      <td>0.29</td>\n",
       "      <td>Premium</td>\n",
       "      <td>I</td>\n",
       "      <td>VS2</td>\n",
       "      <td>62.4</td>\n",
       "      <td>58.0</td>\n",
       "      <td>334</td>\n",
       "      <td>4.20</td>\n",
       "      <td>4.23</td>\n",
       "      <td>2.63</td>\n",
       "    </tr>\n",
       "    <tr>\n",
       "      <th>4</th>\n",
       "      <td>0.31</td>\n",
       "      <td>Good</td>\n",
       "      <td>J</td>\n",
       "      <td>SI2</td>\n",
       "      <td>63.3</td>\n",
       "      <td>58.0</td>\n",
       "      <td>335</td>\n",
       "      <td>4.34</td>\n",
       "      <td>4.35</td>\n",
       "      <td>2.75</td>\n",
       "    </tr>\n",
       "  </tbody>\n",
       "</table>\n",
       "</div>"
      ],
      "text/plain": [
       "   carat      cut color clarity  depth  table  price     x     y     z\n",
       "0   0.23    Ideal     E     SI2   61.5   55.0    326  3.95  3.98  2.43\n",
       "1   0.21  Premium     E     SI1   59.8   61.0    326  3.89  3.84  2.31\n",
       "2   0.23     Good     E     VS1   56.9   65.0    327  4.05  4.07  2.31\n",
       "3   0.29  Premium     I     VS2   62.4   58.0    334  4.20  4.23  2.63\n",
       "4   0.31     Good     J     SI2   63.3   58.0    335  4.34  4.35  2.75"
      ]
     },
     "execution_count": 15,
     "metadata": {},
     "output_type": "execute_result"
    }
   ],
   "source": [
    "df_dnd = sns.load_dataset('diamonds')\n",
    "df_dnd.head()"
   ]
  },
  {
   "cell_type": "code",
   "execution_count": 16,
   "id": "d868310e",
   "metadata": {
    "execution": {
     "iopub.execute_input": "2024-09-23T11:56:07.473782Z",
     "iopub.status.busy": "2024-09-23T11:56:07.472739Z",
     "iopub.status.idle": "2024-09-23T11:56:08.272217Z",
     "shell.execute_reply": "2024-09-23T11:56:08.270607Z"
    },
    "papermill": {
     "duration": 0.83265,
     "end_time": "2024-09-23T11:56:08.275716",
     "exception": false,
     "start_time": "2024-09-23T11:56:07.443066",
     "status": "completed"
    },
    "tags": []
   },
   "outputs": [
    {
     "data": {
      "application/vnd.microsoft.datawrangler.viewer.v0+json": {
       "columns": [
        {
         "name": "index",
         "rawType": "int64",
         "type": "integer"
        },
        {
         "name": "Unnamed: 0",
         "rawType": "int64",
         "type": "integer"
        },
        {
         "name": "id",
         "rawType": "int64",
         "type": "integer"
        },
        {
         "name": "diet",
         "rawType": "category",
         "type": "unknown"
        },
        {
         "name": "pulse",
         "rawType": "int64",
         "type": "integer"
        },
        {
         "name": "time",
         "rawType": "category",
         "type": "unknown"
        },
        {
         "name": "kind",
         "rawType": "category",
         "type": "unknown"
        }
       ],
       "conversionMethod": "pd.DataFrame",
       "ref": "fad3f2fd-b486-4a4a-aacc-1e13932bdc53",
       "rows": [
        [
         "0",
         "0",
         "1",
         "low fat",
         "85",
         "1 min",
         "rest"
        ],
        [
         "1",
         "1",
         "1",
         "low fat",
         "85",
         "15 min",
         "rest"
        ],
        [
         "2",
         "2",
         "1",
         "low fat",
         "88",
         "30 min",
         "rest"
        ],
        [
         "3",
         "3",
         "2",
         "low fat",
         "90",
         "1 min",
         "rest"
        ],
        [
         "4",
         "4",
         "2",
         "low fat",
         "92",
         "15 min",
         "rest"
        ]
       ],
       "shape": {
        "columns": 6,
        "rows": 5
       }
      },
      "text/html": [
       "<div>\n",
       "<style scoped>\n",
       "    .dataframe tbody tr th:only-of-type {\n",
       "        vertical-align: middle;\n",
       "    }\n",
       "\n",
       "    .dataframe tbody tr th {\n",
       "        vertical-align: top;\n",
       "    }\n",
       "\n",
       "    .dataframe thead th {\n",
       "        text-align: right;\n",
       "    }\n",
       "</style>\n",
       "<table border=\"1\" class=\"dataframe\">\n",
       "  <thead>\n",
       "    <tr style=\"text-align: right;\">\n",
       "      <th></th>\n",
       "      <th>Unnamed: 0</th>\n",
       "      <th>id</th>\n",
       "      <th>diet</th>\n",
       "      <th>pulse</th>\n",
       "      <th>time</th>\n",
       "      <th>kind</th>\n",
       "    </tr>\n",
       "  </thead>\n",
       "  <tbody>\n",
       "    <tr>\n",
       "      <th>0</th>\n",
       "      <td>0</td>\n",
       "      <td>1</td>\n",
       "      <td>low fat</td>\n",
       "      <td>85</td>\n",
       "      <td>1 min</td>\n",
       "      <td>rest</td>\n",
       "    </tr>\n",
       "    <tr>\n",
       "      <th>1</th>\n",
       "      <td>1</td>\n",
       "      <td>1</td>\n",
       "      <td>low fat</td>\n",
       "      <td>85</td>\n",
       "      <td>15 min</td>\n",
       "      <td>rest</td>\n",
       "    </tr>\n",
       "    <tr>\n",
       "      <th>2</th>\n",
       "      <td>2</td>\n",
       "      <td>1</td>\n",
       "      <td>low fat</td>\n",
       "      <td>88</td>\n",
       "      <td>30 min</td>\n",
       "      <td>rest</td>\n",
       "    </tr>\n",
       "    <tr>\n",
       "      <th>3</th>\n",
       "      <td>3</td>\n",
       "      <td>2</td>\n",
       "      <td>low fat</td>\n",
       "      <td>90</td>\n",
       "      <td>1 min</td>\n",
       "      <td>rest</td>\n",
       "    </tr>\n",
       "    <tr>\n",
       "      <th>4</th>\n",
       "      <td>4</td>\n",
       "      <td>2</td>\n",
       "      <td>low fat</td>\n",
       "      <td>92</td>\n",
       "      <td>15 min</td>\n",
       "      <td>rest</td>\n",
       "    </tr>\n",
       "  </tbody>\n",
       "</table>\n",
       "</div>"
      ],
      "text/plain": [
       "   Unnamed: 0  id     diet  pulse    time  kind\n",
       "0           0   1  low fat     85   1 min  rest\n",
       "1           1   1  low fat     85  15 min  rest\n",
       "2           2   1  low fat     88  30 min  rest\n",
       "3           3   2  low fat     90   1 min  rest\n",
       "4           4   2  low fat     92  15 min  rest"
      ]
     },
     "execution_count": 16,
     "metadata": {},
     "output_type": "execute_result"
    }
   ],
   "source": [
    "df_exercise = sns.load_dataset('exercise')\n",
    "df_exercise.head()"
   ]
  },
  {
   "cell_type": "code",
   "execution_count": 17,
   "id": "8b9d5e71",
   "metadata": {
    "execution": {
     "iopub.execute_input": "2024-09-23T11:56:08.346100Z",
     "iopub.status.busy": "2024-09-23T11:56:08.345350Z",
     "iopub.status.idle": "2024-09-23T11:56:08.375364Z",
     "shell.execute_reply": "2024-09-23T11:56:08.373963Z"
    },
    "papermill": {
     "duration": 0.063577,
     "end_time": "2024-09-23T11:56:08.378133",
     "exception": false,
     "start_time": "2024-09-23T11:56:08.314556",
     "status": "completed"
    },
    "tags": []
   },
   "outputs": [
    {
     "name": "stdout",
     "output_type": "stream",
     "text": [
      "Columns = Index(['Unnamed: 0', 'id', 'diet', 'pulse', 'time', 'kind'], dtype='object')\n",
      "Shape = (90, 6)\n",
      "<class 'pandas.core.frame.DataFrame'>\n",
      "RangeIndex: 90 entries, 0 to 89\n",
      "Data columns (total 6 columns):\n",
      " #   Column      Non-Null Count  Dtype   \n",
      "---  ------      --------------  -----   \n",
      " 0   Unnamed: 0  90 non-null     int64   \n",
      " 1   id          90 non-null     int64   \n",
      " 2   diet        90 non-null     category\n",
      " 3   pulse       90 non-null     int64   \n",
      " 4   time        90 non-null     category\n",
      " 5   kind        90 non-null     category\n",
      "dtypes: category(3), int64(3)\n",
      "memory usage: 2.9 KB\n"
     ]
    }
   ],
   "source": [
    "print('Columns =', df_exercise.columns)\n",
    "\n",
    "print('Shape =', df_exercise.shape)\n",
    "\n",
    "df_exercise.info()"
   ]
  },
  {
   "cell_type": "code",
   "execution_count": 18,
   "id": "3fcd95b0",
   "metadata": {
    "execution": {
     "iopub.execute_input": "2024-09-23T11:56:08.438118Z",
     "iopub.status.busy": "2024-09-23T11:56:08.437449Z",
     "iopub.status.idle": "2024-09-23T11:56:08.465002Z",
     "shell.execute_reply": "2024-09-23T11:56:08.463556Z"
    },
    "papermill": {
     "duration": 0.060343,
     "end_time": "2024-09-23T11:56:08.467485",
     "exception": false,
     "start_time": "2024-09-23T11:56:08.407142",
     "status": "completed"
    },
    "tags": []
   },
   "outputs": [
    {
     "name": "stdout",
     "output_type": "stream",
     "text": [
      "Descriptive Stats:\n",
      "            count unique     top freq  mean        std   min    25%   50%  \\\n",
      "Unnamed: 0  90.0    NaN     NaN  NaN  44.5  26.124701   0.0  22.25  44.5   \n",
      "id          90.0    NaN     NaN  NaN  15.5   8.703932   1.0    8.0  15.5   \n",
      "diet          90      2  no fat   45   NaN        NaN   NaN    NaN   NaN   \n",
      "pulse       90.0    NaN     NaN  NaN  99.7  14.858471  80.0  90.25  96.0   \n",
      "time          90      3   1 min   30   NaN        NaN   NaN    NaN   NaN   \n",
      "kind          90      3    rest   30   NaN        NaN   NaN    NaN   NaN   \n",
      "\n",
      "              75%    max  \n",
      "Unnamed: 0  66.75   89.0  \n",
      "id           23.0   30.0  \n",
      "diet          NaN    NaN  \n",
      "pulse       103.0  150.0  \n",
      "time          NaN    NaN  \n",
      "kind          NaN    NaN  \n"
     ]
    }
   ],
   "source": [
    "# Describe the DataFrame and change the orientation to Landscape (Transpose)\n",
    "print('Descriptive Stats:\\n', df_exercise.describe(include='all').transpose())"
   ]
  },
  {
   "cell_type": "markdown",
   "id": "7e1fb7ab",
   "metadata": {
    "papermill": {
     "duration": 0.028193,
     "end_time": "2024-09-23T11:56:08.524904",
     "exception": false,
     "start_time": "2024-09-23T11:56:08.496711",
     "status": "completed"
    },
    "tags": []
   },
   "source": [
    "<h1 style=\"background-color: #f0f8ff; padding: 15px; border: 2px solid #3498db; border-radius: 8px; margin-bottom: 15px; color: #2980b9;\">04. Saving and Loading Data from files</h1>"
   ]
  },
  {
   "cell_type": "markdown",
   "id": "06ae8bbb",
   "metadata": {
    "papermill": {
     "duration": 0.029259,
     "end_time": "2024-09-23T11:56:08.582661",
     "exception": false,
     "start_time": "2024-09-23T11:56:08.553402",
     "status": "completed"
    },
    "tags": []
   },
   "source": [
    "# 04. Saving and Loading Data from files"
   ]
  },
  {
   "cell_type": "code",
   "execution_count": 19,
   "id": "463cc645",
   "metadata": {
    "execution": {
     "iopub.execute_input": "2024-09-23T11:56:08.642846Z",
     "iopub.status.busy": "2024-09-23T11:56:08.642283Z",
     "iopub.status.idle": "2024-09-23T11:56:08.652152Z",
     "shell.execute_reply": "2024-09-23T11:56:08.650781Z"
    },
    "papermill": {
     "duration": 0.042729,
     "end_time": "2024-09-23T11:56:08.654789",
     "exception": false,
     "start_time": "2024-09-23T11:56:08.612060",
     "status": "completed"
    },
    "tags": []
   },
   "outputs": [
    {
     "name": "stdout",
     "output_type": "stream",
     "text": [
      "DataFrame saved in a CSV file\n"
     ]
    }
   ],
   "source": [
    "# Saving a DataFrame to file\n",
    "path = \"\"\n",
    "df_exercise.to_csv(path + 'exercise.csv', index=False)\n",
    "print('DataFrame saved in a CSV file')"
   ]
  },
  {
   "cell_type": "code",
   "execution_count": 20,
   "id": "677f2480",
   "metadata": {
    "execution": {
     "iopub.execute_input": "2024-09-23T11:56:08.722279Z",
     "iopub.status.busy": "2024-09-23T11:56:08.720887Z",
     "iopub.status.idle": "2024-09-23T11:56:08.731266Z",
     "shell.execute_reply": "2024-09-23T11:56:08.729597Z"
    },
    "papermill": {
     "duration": 0.048925,
     "end_time": "2024-09-23T11:56:08.734870",
     "exception": false,
     "start_time": "2024-09-23T11:56:08.685945",
     "status": "completed"
    },
    "tags": []
   },
   "outputs": [
    {
     "name": "stdout",
     "output_type": "stream",
     "text": [
      "DataFrame saved in Json file\n"
     ]
    }
   ],
   "source": [
    "# Saving a DataFrom to a Json File representing 1 json record as a 1 row\n",
    "df_exercise.to_json(path + \"exercise.json\", orient='records', indent=4, index=False)\n",
    "print('DataFrame saved in Json file')"
   ]
  },
  {
   "cell_type": "code",
   "execution_count": 21,
   "id": "d21c2bfe",
   "metadata": {
    "execution": {
     "iopub.execute_input": "2024-09-23T11:56:08.807696Z",
     "iopub.status.busy": "2024-09-23T11:56:08.807251Z",
     "iopub.status.idle": "2024-09-23T11:56:08.822667Z",
     "shell.execute_reply": "2024-09-23T11:56:08.821324Z"
    },
    "papermill": {
     "duration": 0.052225,
     "end_time": "2024-09-23T11:56:08.825310",
     "exception": false,
     "start_time": "2024-09-23T11:56:08.773085",
     "status": "completed"
    },
    "tags": []
   },
   "outputs": [
    {
     "data": {
      "application/vnd.microsoft.datawrangler.viewer.v0+json": {
       "columns": [
        {
         "name": "index",
         "rawType": "int64",
         "type": "integer"
        },
        {
         "name": "Unnamed: 0",
         "rawType": "int64",
         "type": "integer"
        },
        {
         "name": "id",
         "rawType": "int64",
         "type": "integer"
        },
        {
         "name": "diet",
         "rawType": "object",
         "type": "string"
        },
        {
         "name": "pulse",
         "rawType": "int64",
         "type": "integer"
        },
        {
         "name": "time",
         "rawType": "object",
         "type": "string"
        },
        {
         "name": "kind",
         "rawType": "object",
         "type": "string"
        }
       ],
       "conversionMethod": "pd.DataFrame",
       "ref": "4b497cc2-bb88-4657-b9c8-08bd1c431e45",
       "rows": [
        [
         "0",
         "0",
         "1",
         "low fat",
         "85",
         "1 min",
         "rest"
        ],
        [
         "1",
         "1",
         "1",
         "low fat",
         "85",
         "15 min",
         "rest"
        ],
        [
         "2",
         "2",
         "1",
         "low fat",
         "88",
         "30 min",
         "rest"
        ],
        [
         "3",
         "3",
         "2",
         "low fat",
         "90",
         "1 min",
         "rest"
        ],
        [
         "4",
         "4",
         "2",
         "low fat",
         "92",
         "15 min",
         "rest"
        ]
       ],
       "shape": {
        "columns": 6,
        "rows": 5
       }
      },
      "text/html": [
       "<div>\n",
       "<style scoped>\n",
       "    .dataframe tbody tr th:only-of-type {\n",
       "        vertical-align: middle;\n",
       "    }\n",
       "\n",
       "    .dataframe tbody tr th {\n",
       "        vertical-align: top;\n",
       "    }\n",
       "\n",
       "    .dataframe thead th {\n",
       "        text-align: right;\n",
       "    }\n",
       "</style>\n",
       "<table border=\"1\" class=\"dataframe\">\n",
       "  <thead>\n",
       "    <tr style=\"text-align: right;\">\n",
       "      <th></th>\n",
       "      <th>Unnamed: 0</th>\n",
       "      <th>id</th>\n",
       "      <th>diet</th>\n",
       "      <th>pulse</th>\n",
       "      <th>time</th>\n",
       "      <th>kind</th>\n",
       "    </tr>\n",
       "  </thead>\n",
       "  <tbody>\n",
       "    <tr>\n",
       "      <th>0</th>\n",
       "      <td>0</td>\n",
       "      <td>1</td>\n",
       "      <td>low fat</td>\n",
       "      <td>85</td>\n",
       "      <td>1 min</td>\n",
       "      <td>rest</td>\n",
       "    </tr>\n",
       "    <tr>\n",
       "      <th>1</th>\n",
       "      <td>1</td>\n",
       "      <td>1</td>\n",
       "      <td>low fat</td>\n",
       "      <td>85</td>\n",
       "      <td>15 min</td>\n",
       "      <td>rest</td>\n",
       "    </tr>\n",
       "    <tr>\n",
       "      <th>2</th>\n",
       "      <td>2</td>\n",
       "      <td>1</td>\n",
       "      <td>low fat</td>\n",
       "      <td>88</td>\n",
       "      <td>30 min</td>\n",
       "      <td>rest</td>\n",
       "    </tr>\n",
       "    <tr>\n",
       "      <th>3</th>\n",
       "      <td>3</td>\n",
       "      <td>2</td>\n",
       "      <td>low fat</td>\n",
       "      <td>90</td>\n",
       "      <td>1 min</td>\n",
       "      <td>rest</td>\n",
       "    </tr>\n",
       "    <tr>\n",
       "      <th>4</th>\n",
       "      <td>4</td>\n",
       "      <td>2</td>\n",
       "      <td>low fat</td>\n",
       "      <td>92</td>\n",
       "      <td>15 min</td>\n",
       "      <td>rest</td>\n",
       "    </tr>\n",
       "  </tbody>\n",
       "</table>\n",
       "</div>"
      ],
      "text/plain": [
       "   Unnamed: 0  id     diet  pulse    time  kind\n",
       "0           0   1  low fat     85   1 min  rest\n",
       "1           1   1  low fat     85  15 min  rest\n",
       "2           2   1  low fat     88  30 min  rest\n",
       "3           3   2  low fat     90   1 min  rest\n",
       "4           4   2  low fat     92  15 min  rest"
      ]
     },
     "execution_count": 21,
     "metadata": {},
     "output_type": "execute_result"
    }
   ],
   "source": [
    "df_exercise = pd.read_csv(path + \"exercise.csv\")\n",
    "df_exercise.head()"
   ]
  },
  {
   "cell_type": "markdown",
   "id": "f2a77801",
   "metadata": {
    "papermill": {
     "duration": 0.030825,
     "end_time": "2024-09-23T11:56:08.885692",
     "exception": false,
     "start_time": "2024-09-23T11:56:08.854867",
     "status": "completed"
    },
    "tags": []
   },
   "source": [
    "<h1 style=\"background-color: #f0f8ff; padding: 15px; border: 2px solid #3498db; border-radius: 8px; margin-bottom: 15px; color: #2980b9;\">05. Slicing and Reverse</h1>"
   ]
  },
  {
   "cell_type": "markdown",
   "id": "5163f59d",
   "metadata": {
    "papermill": {
     "duration": 0.028848,
     "end_time": "2024-09-23T11:56:08.944246",
     "exception": false,
     "start_time": "2024-09-23T11:56:08.915398",
     "status": "completed"
    },
    "tags": []
   },
   "source": [
    "# 05. Slicing and Reverse"
   ]
  },
  {
   "cell_type": "markdown",
   "id": "009af36b",
   "metadata": {
    "papermill": {
     "duration": 0.028962,
     "end_time": "2024-09-23T11:56:09.002359",
     "exception": false,
     "start_time": "2024-09-23T11:56:08.973397",
     "status": "completed"
    },
    "tags": []
   },
   "source": [
    "💡 Difference Between `loc` and `iloc` Operators\n",
    "\n",
    "The `loc` and `iloc` operators work in similar ways. However, there are a few key differences:\n",
    "\n",
    "1. **Label vs. Position:**\n",
    "   - `loc`: Works with the **row and column labels**.\n",
    "   - `iloc`: Works with **row and column positions**.\n",
    "\n",
    "2. **Inclusivity of Start and End:**\n",
    "   - `loc`: Both the **start and end labels** are **inclusive**.\n",
    "   - `iloc`: Only the **start position** is inclusive; the end is **exclusive**.\n",
    "\n",
    "3. **When to Use:**\n",
    "   - **Use `loc`** when you know the **name** and **labels** of the rows and/or columns.\n",
    "   - **Use `iloc`** when you are working based on **positions**."
   ]
  },
  {
   "cell_type": "code",
   "execution_count": 22,
   "id": "380e6877",
   "metadata": {
    "execution": {
     "iopub.execute_input": "2024-09-23T11:56:09.063880Z",
     "iopub.status.busy": "2024-09-23T11:56:09.063472Z",
     "iopub.status.idle": "2024-09-23T11:56:09.079571Z",
     "shell.execute_reply": "2024-09-23T11:56:09.078263Z"
    },
    "papermill": {
     "duration": 0.049472,
     "end_time": "2024-09-23T11:56:09.081914",
     "exception": false,
     "start_time": "2024-09-23T11:56:09.032442",
     "status": "completed"
    },
    "tags": []
   },
   "outputs": [
    {
     "data": {
      "application/vnd.microsoft.datawrangler.viewer.v0+json": {
       "columns": [
        {
         "name": "index",
         "rawType": "int64",
         "type": "integer"
        },
        {
         "name": "Unnamed: 0",
         "rawType": "int64",
         "type": "integer"
        },
        {
         "name": "id",
         "rawType": "int64",
         "type": "integer"
        },
        {
         "name": "diet",
         "rawType": "object",
         "type": "string"
        },
        {
         "name": "pulse",
         "rawType": "int64",
         "type": "integer"
        },
        {
         "name": "time",
         "rawType": "object",
         "type": "string"
        },
        {
         "name": "kind",
         "rawType": "object",
         "type": "string"
        }
       ],
       "conversionMethod": "pd.DataFrame",
       "ref": "536d9ece-1fc2-4aa7-888c-36a46bf52b62",
       "rows": [
        [
         "89",
         "89",
         "30",
         "no fat",
         "150",
         "30 min",
         "running"
        ],
        [
         "88",
         "88",
         "30",
         "no fat",
         "111",
         "15 min",
         "running"
        ],
        [
         "87",
         "87",
         "30",
         "no fat",
         "99",
         "1 min",
         "running"
        ],
        [
         "86",
         "86",
         "29",
         "no fat",
         "130",
         "30 min",
         "running"
        ],
        [
         "85",
         "85",
         "29",
         "no fat",
         "135",
         "15 min",
         "running"
        ],
        [
         "84",
         "84",
         "29",
         "no fat",
         "94",
         "1 min",
         "running"
        ],
        [
         "83",
         "83",
         "28",
         "no fat",
         "140",
         "30 min",
         "running"
        ],
        [
         "82",
         "82",
         "28",
         "no fat",
         "124",
         "15 min",
         "running"
        ],
        [
         "81",
         "81",
         "28",
         "no fat",
         "103",
         "1 min",
         "running"
        ],
        [
         "80",
         "80",
         "27",
         "no fat",
         "140",
         "30 min",
         "running"
        ],
        [
         "79",
         "79",
         "27",
         "no fat",
         "126",
         "15 min",
         "running"
        ],
        [
         "78",
         "78",
         "27",
         "no fat",
         "100",
         "1 min",
         "running"
        ],
        [
         "77",
         "77",
         "26",
         "no fat",
         "143",
         "30 min",
         "running"
        ],
        [
         "76",
         "76",
         "26",
         "no fat",
         "126",
         "15 min",
         "running"
        ],
        [
         "75",
         "75",
         "26",
         "no fat",
         "95",
         "1 min",
         "running"
        ],
        [
         "74",
         "74",
         "25",
         "low fat",
         "116",
         "30 min",
         "running"
        ],
        [
         "73",
         "73",
         "25",
         "low fat",
         "110",
         "15 min",
         "running"
        ],
        [
         "72",
         "72",
         "25",
         "low fat",
         "94",
         "1 min",
         "running"
        ],
        [
         "71",
         "71",
         "24",
         "low fat",
         "120",
         "30 min",
         "running"
        ],
        [
         "70",
         "70",
         "24",
         "low fat",
         "132",
         "15 min",
         "running"
        ],
        [
         "69",
         "69",
         "24",
         "low fat",
         "87",
         "1 min",
         "running"
        ],
        [
         "68",
         "68",
         "23",
         "low fat",
         "99",
         "30 min",
         "running"
        ],
        [
         "67",
         "67",
         "23",
         "low fat",
         "105",
         "15 min",
         "running"
        ],
        [
         "66",
         "66",
         "23",
         "low fat",
         "98",
         "1 min",
         "running"
        ],
        [
         "65",
         "65",
         "22",
         "low fat",
         "112",
         "30 min",
         "running"
        ],
        [
         "64",
         "64",
         "22",
         "low fat",
         "104",
         "15 min",
         "running"
        ],
        [
         "63",
         "63",
         "22",
         "low fat",
         "98",
         "1 min",
         "running"
        ],
        [
         "62",
         "62",
         "21",
         "low fat",
         "110",
         "30 min",
         "running"
        ],
        [
         "61",
         "61",
         "21",
         "low fat",
         "98",
         "15 min",
         "running"
        ],
        [
         "60",
         "60",
         "21",
         "low fat",
         "93",
         "1 min",
         "running"
        ],
        [
         "59",
         "59",
         "20",
         "no fat",
         "103",
         "30 min",
         "walking"
        ],
        [
         "58",
         "58",
         "20",
         "no fat",
         "104",
         "15 min",
         "walking"
        ],
        [
         "57",
         "57",
         "20",
         "no fat",
         "102",
         "1 min",
         "walking"
        ],
        [
         "56",
         "56",
         "19",
         "no fat",
         "100",
         "30 min",
         "walking"
        ],
        [
         "55",
         "55",
         "19",
         "no fat",
         "98",
         "15 min",
         "walking"
        ],
        [
         "54",
         "54",
         "19",
         "no fat",
         "97",
         "1 min",
         "walking"
        ],
        [
         "53",
         "53",
         "18",
         "no fat",
         "101",
         "30 min",
         "walking"
        ],
        [
         "52",
         "52",
         "18",
         "no fat",
         "96",
         "15 min",
         "walking"
        ],
        [
         "51",
         "51",
         "18",
         "no fat",
         "92",
         "1 min",
         "walking"
        ],
        [
         "50",
         "50",
         "17",
         "no fat",
         "90",
         "30 min",
         "walking"
        ],
        [
         "49",
         "49",
         "17",
         "no fat",
         "109",
         "15 min",
         "walking"
        ],
        [
         "48",
         "48",
         "17",
         "no fat",
         "103",
         "1 min",
         "walking"
        ],
        [
         "47",
         "47",
         "16",
         "no fat",
         "89",
         "30 min",
         "walking"
        ],
        [
         "46",
         "46",
         "16",
         "no fat",
         "86",
         "15 min",
         "walking"
        ],
        [
         "45",
         "45",
         "16",
         "no fat",
         "84",
         "1 min",
         "walking"
        ],
        [
         "44",
         "44",
         "15",
         "low fat",
         "95",
         "30 min",
         "walking"
        ],
        [
         "43",
         "43",
         "15",
         "low fat",
         "96",
         "15 min",
         "walking"
        ],
        [
         "42",
         "42",
         "15",
         "low fat",
         "89",
         "1 min",
         "walking"
        ],
        [
         "41",
         "41",
         "14",
         "low fat",
         "100",
         "30 min",
         "walking"
        ],
        [
         "40",
         "40",
         "14",
         "low fat",
         "96",
         "15 min",
         "walking"
        ]
       ],
       "shape": {
        "columns": 6,
        "rows": 90
       }
      },
      "text/html": [
       "<div>\n",
       "<style scoped>\n",
       "    .dataframe tbody tr th:only-of-type {\n",
       "        vertical-align: middle;\n",
       "    }\n",
       "\n",
       "    .dataframe tbody tr th {\n",
       "        vertical-align: top;\n",
       "    }\n",
       "\n",
       "    .dataframe thead th {\n",
       "        text-align: right;\n",
       "    }\n",
       "</style>\n",
       "<table border=\"1\" class=\"dataframe\">\n",
       "  <thead>\n",
       "    <tr style=\"text-align: right;\">\n",
       "      <th></th>\n",
       "      <th>Unnamed: 0</th>\n",
       "      <th>id</th>\n",
       "      <th>diet</th>\n",
       "      <th>pulse</th>\n",
       "      <th>time</th>\n",
       "      <th>kind</th>\n",
       "    </tr>\n",
       "  </thead>\n",
       "  <tbody>\n",
       "    <tr>\n",
       "      <th>89</th>\n",
       "      <td>89</td>\n",
       "      <td>30</td>\n",
       "      <td>no fat</td>\n",
       "      <td>150</td>\n",
       "      <td>30 min</td>\n",
       "      <td>running</td>\n",
       "    </tr>\n",
       "    <tr>\n",
       "      <th>88</th>\n",
       "      <td>88</td>\n",
       "      <td>30</td>\n",
       "      <td>no fat</td>\n",
       "      <td>111</td>\n",
       "      <td>15 min</td>\n",
       "      <td>running</td>\n",
       "    </tr>\n",
       "    <tr>\n",
       "      <th>87</th>\n",
       "      <td>87</td>\n",
       "      <td>30</td>\n",
       "      <td>no fat</td>\n",
       "      <td>99</td>\n",
       "      <td>1 min</td>\n",
       "      <td>running</td>\n",
       "    </tr>\n",
       "    <tr>\n",
       "      <th>86</th>\n",
       "      <td>86</td>\n",
       "      <td>29</td>\n",
       "      <td>no fat</td>\n",
       "      <td>130</td>\n",
       "      <td>30 min</td>\n",
       "      <td>running</td>\n",
       "    </tr>\n",
       "    <tr>\n",
       "      <th>85</th>\n",
       "      <td>85</td>\n",
       "      <td>29</td>\n",
       "      <td>no fat</td>\n",
       "      <td>135</td>\n",
       "      <td>15 min</td>\n",
       "      <td>running</td>\n",
       "    </tr>\n",
       "    <tr>\n",
       "      <th>...</th>\n",
       "      <td>...</td>\n",
       "      <td>...</td>\n",
       "      <td>...</td>\n",
       "      <td>...</td>\n",
       "      <td>...</td>\n",
       "      <td>...</td>\n",
       "    </tr>\n",
       "    <tr>\n",
       "      <th>4</th>\n",
       "      <td>4</td>\n",
       "      <td>2</td>\n",
       "      <td>low fat</td>\n",
       "      <td>92</td>\n",
       "      <td>15 min</td>\n",
       "      <td>rest</td>\n",
       "    </tr>\n",
       "    <tr>\n",
       "      <th>3</th>\n",
       "      <td>3</td>\n",
       "      <td>2</td>\n",
       "      <td>low fat</td>\n",
       "      <td>90</td>\n",
       "      <td>1 min</td>\n",
       "      <td>rest</td>\n",
       "    </tr>\n",
       "    <tr>\n",
       "      <th>2</th>\n",
       "      <td>2</td>\n",
       "      <td>1</td>\n",
       "      <td>low fat</td>\n",
       "      <td>88</td>\n",
       "      <td>30 min</td>\n",
       "      <td>rest</td>\n",
       "    </tr>\n",
       "    <tr>\n",
       "      <th>1</th>\n",
       "      <td>1</td>\n",
       "      <td>1</td>\n",
       "      <td>low fat</td>\n",
       "      <td>85</td>\n",
       "      <td>15 min</td>\n",
       "      <td>rest</td>\n",
       "    </tr>\n",
       "    <tr>\n",
       "      <th>0</th>\n",
       "      <td>0</td>\n",
       "      <td>1</td>\n",
       "      <td>low fat</td>\n",
       "      <td>85</td>\n",
       "      <td>1 min</td>\n",
       "      <td>rest</td>\n",
       "    </tr>\n",
       "  </tbody>\n",
       "</table>\n",
       "<p>90 rows × 6 columns</p>\n",
       "</div>"
      ],
      "text/plain": [
       "    Unnamed: 0  id     diet  pulse    time     kind\n",
       "89          89  30   no fat    150  30 min  running\n",
       "88          88  30   no fat    111  15 min  running\n",
       "87          87  30   no fat     99   1 min  running\n",
       "86          86  29   no fat    130  30 min  running\n",
       "85          85  29   no fat    135  15 min  running\n",
       "..         ...  ..      ...    ...     ...      ...\n",
       "4            4   2  low fat     92  15 min     rest\n",
       "3            3   2  low fat     90   1 min     rest\n",
       "2            2   1  low fat     88  30 min     rest\n",
       "1            1   1  low fat     85  15 min     rest\n",
       "0            0   1  low fat     85   1 min     rest\n",
       "\n",
       "[90 rows x 6 columns]"
      ]
     },
     "execution_count": 22,
     "metadata": {},
     "output_type": "execute_result"
    }
   ],
   "source": [
    "# All columns and all rows but in reverse order\n",
    "# df.loc[start:stop:step]\n",
    "# df.loc[::-1] start from the last and move 1 step backward \n",
    "df_exercise.loc[::-1]"
   ]
  },
  {
   "cell_type": "code",
   "execution_count": 23,
   "id": "c678e343",
   "metadata": {
    "execution": {
     "iopub.execute_input": "2024-09-23T11:56:09.142975Z",
     "iopub.status.busy": "2024-09-23T11:56:09.142549Z",
     "iopub.status.idle": "2024-09-23T11:56:09.160983Z",
     "shell.execute_reply": "2024-09-23T11:56:09.159888Z"
    },
    "papermill": {
     "duration": 0.051609,
     "end_time": "2024-09-23T11:56:09.163578",
     "exception": false,
     "start_time": "2024-09-23T11:56:09.111969",
     "status": "completed"
    },
    "tags": []
   },
   "outputs": [
    {
     "name": "stdout",
     "output_type": "stream",
     "text": [
      "'==========Select a Row and all Columns========='\n",
      "Unnamed: 0         89\n",
      "id                 30\n",
      "diet           no fat\n",
      "pulse             150\n",
      "time           30 min\n",
      "kind          running\n",
      "Name: 89, dtype: object\n",
      "'==========Select Range of Rows and a Column============'\n",
      "87    no fat\n",
      "88    no fat\n",
      "Name: diet, dtype: object\n",
      "'==========Select Range of Rows and Range of Columns============'\n",
      "      diet  pulse\n",
      "80  no fat    140\n",
      "81  no fat    103\n",
      "82  no fat    124\n",
      "83  no fat    140\n",
      "84  no fat     94\n",
      "85  no fat    135\n",
      "86  no fat    130\n",
      "'==========Select Multiple Rows and Multiple Columns============'\n",
      "    id     kind     diet\n",
      "70  24  running  low fat\n",
      "71  24  running  low fat\n",
      "72  25  running  low fat\n"
     ]
    }
   ],
   "source": [
    "#df.loc[row_labels, column_labels]\n",
    "pprint(\"==========Select a Row and all Columns=========\")\n",
    "pprint(df_exercise.loc[89])\n",
    "pprint(\"==========Select Range of Rows and a Column============\")\n",
    "pprint(df_exercise.loc[87:88, 'diet'])\n",
    "pprint(\"==========Select Range of Rows and Range of Columns============\")\n",
    "pprint(df_exercise.loc[80:86, 'diet':'pulse'])\n",
    "pprint(\"==========Select Multiple Rows and Multiple Columns============\")\n",
    "pprint(df_exercise.loc[[70, 71, 72], ['id','kind','diet']])\n"
   ]
  },
  {
   "cell_type": "code",
   "execution_count": 24,
   "id": "6bbd975b",
   "metadata": {
    "execution": {
     "iopub.execute_input": "2024-09-23T11:56:09.228224Z",
     "iopub.status.busy": "2024-09-23T11:56:09.227327Z",
     "iopub.status.idle": "2024-09-23T11:56:09.238663Z",
     "shell.execute_reply": "2024-09-23T11:56:09.237298Z"
    },
    "papermill": {
     "duration": 0.046603,
     "end_time": "2024-09-23T11:56:09.241567",
     "exception": false,
     "start_time": "2024-09-23T11:56:09.194964",
     "status": "completed"
    },
    "tags": []
   },
   "outputs": [
    {
     "name": "stdout",
     "output_type": "stream",
     "text": [
      "'==========All rows in reverse order and only kind column============'\n",
      "89    running\n",
      "88    running\n",
      "87    running\n",
      "86    running\n",
      "85    running\n",
      "       ...   \n",
      "4        rest\n",
      "3        rest\n",
      "2        rest\n",
      "1        rest\n",
      "0        rest\n",
      "Name: kind, Length: 90, dtype: object\n",
      "'==========A slice of rows and all columns in reverse order============'\n",
      "    kind    time  pulse     diet  id  Unnamed: 0\n",
      "3   rest   1 min     90  low fat   2           3\n",
      "4   rest  15 min     92  low fat   2           4\n",
      "5   rest  30 min     93  low fat   2           5\n",
      "6   rest   1 min     97  low fat   3           6\n",
      "7   rest  15 min     97  low fat   3           7\n",
      "8   rest  30 min     94  low fat   3           8\n",
      "9   rest   1 min     80  low fat   4           9\n",
      "10  rest  15 min     82  low fat   4          10\n"
     ]
    }
   ],
   "source": [
    "#All rows in reverse order and kind column\n",
    "pprint(\"==========All rows in reverse order and only kind column============\")\n",
    "pprint(df_exercise.loc[::-1, 'kind'])\n",
    "pprint(\"==========A slice of rows and all columns in reverse order============\")\n",
    "pprint(df_exercise.loc[3:10, ::-1])\n"
   ]
  },
  {
   "cell_type": "markdown",
   "id": "cc2786b2",
   "metadata": {
    "papermill": {
     "duration": 0.031276,
     "end_time": "2024-09-23T11:56:09.305281",
     "exception": false,
     "start_time": "2024-09-23T11:56:09.274005",
     "status": "completed"
    },
    "tags": []
   },
   "source": [
    "💡 Using `iloc` for Slicing in Pandas\n",
    "\n",
    "The `iloc` function in pandas is a powerful tool for slicing data based on **positions** (index numbers). Here are some common slicing techniques using `iloc`:\n",
    "\n",
    "1. **Select a Single Row by Index:**\n",
    "\n",
    "   ```python\n",
    "    df.iloc[3]  # Selects the 4th row (index 3)\n",
    "   ```\n",
    "    "
   ]
  },
  {
   "cell_type": "code",
   "execution_count": 25,
   "id": "0a2b504b",
   "metadata": {
    "execution": {
     "iopub.execute_input": "2024-09-23T11:56:09.373935Z",
     "iopub.status.busy": "2024-09-23T11:56:09.373458Z",
     "iopub.status.idle": "2024-09-23T11:56:09.395762Z",
     "shell.execute_reply": "2024-09-23T11:56:09.394596Z"
    },
    "papermill": {
     "duration": 0.062466,
     "end_time": "2024-09-23T11:56:09.398223",
     "exception": false,
     "start_time": "2024-09-23T11:56:09.335757",
     "status": "completed"
    },
    "tags": []
   },
   "outputs": [
    {
     "name": "stdout",
     "output_type": "stream",
     "text": [
      "    Unnamed: 0  id    diet  pulse    time     kind\n",
      "89          89  30  no fat    150  30 min  running\n",
      "88          88  30  no fat    111  15 min  running\n",
      "87          87  30  no fat     99   1 min  running\n",
      "86          86  29  no fat    130  30 min  running\n",
      "85          85  29  no fat    135  15 min  running\n",
      "   kind    time  pulse     diet  id  Unnamed: 0\n",
      "0  rest   1 min     85  low fat   1           0\n",
      "1  rest  15 min     85  low fat   1           1\n",
      "2  rest  30 min     88  low fat   1           2\n",
      "3  rest   1 min     90  low fat   2           3\n",
      "4  rest  15 min     92  low fat   2           4\n",
      "       kind    time  pulse    diet  id  Unnamed: 0\n",
      "89  running  30 min    150  no fat  30          89\n",
      "88  running  15 min    111  no fat  30          88\n",
      "87  running   1 min     99  no fat  30          87\n",
      "86  running  30 min    130  no fat  29          86\n",
      "85  running  15 min    135  no fat  29          85\n",
      "       kind    time  pulse    diet  id\n",
      "89  running  30 min    150  no fat  30\n",
      "88  running  15 min    111  no fat  30\n",
      "87  running   1 min     99  no fat  30\n",
      "86  running  30 min    130  no fat  29\n",
      "85  running  15 min    135  no fat  29\n",
      "   kind    time  pulse     diet  id  Unnamed: 0\n",
      "3  rest   1 min     90  low fat   2           3\n",
      "4  rest  15 min     92  low fat   2           4\n",
      "5  rest  30 min     93  low fat   2           5\n",
      "6  rest   1 min     97  low fat   3           6\n",
      "7  rest  15 min     97  low fat   3           7\n",
      "8  rest  30 min     94  low fat   3           8\n",
      "9  rest   1 min     80  low fat   4           9\n"
     ]
    }
   ],
   "source": [
    "pprint(df_exercise.iloc[::-1].head())\n",
    "\n",
    "# Reverse column orders\n",
    "pprint(df_exercise.iloc[::, ::-1].head())\n",
    "\n",
    "# All rows in reverse order, all column in reverse order\n",
    "pprint(df_exercise.iloc[::-1, ::-1].head())\n",
    "# Same as above\n",
    "pprint(df_exercise.iloc[:0:-1, :0:-1].head())\n",
    "\n",
    "# A slice of rows in normal order, All columns in reverse order\n",
    "# Notice that row 10 will be exclusive\n",
    "pprint(df_exercise.iloc[3:10, ::-1])"
   ]
  },
  {
   "cell_type": "code",
   "execution_count": 26,
   "id": "db020218",
   "metadata": {
    "execution": {
     "iopub.execute_input": "2024-09-23T11:56:09.461231Z",
     "iopub.status.busy": "2024-09-23T11:56:09.460805Z",
     "iopub.status.idle": "2024-09-23T11:56:09.474022Z",
     "shell.execute_reply": "2024-09-23T11:56:09.472721Z"
    },
    "papermill": {
     "duration": 0.047943,
     "end_time": "2024-09-23T11:56:09.476399",
     "exception": false,
     "start_time": "2024-09-23T11:56:09.428456",
     "status": "completed"
    },
    "tags": []
   },
   "outputs": [
    {
     "name": "stdout",
     "output_type": "stream",
     "text": [
      "       kind    time  pulse     diet  id  Unnamed: 0\n",
      "0      rest   1 min     85  low fat   1           0\n",
      "10     rest  15 min     82  low fat   4          10\n",
      "20     rest  30 min     90   no fat   7          20\n",
      "30  walking   1 min     86  low fat  11          30\n",
      "40  walking  15 min     96  low fat  14          40\n",
      "50  walking  30 min     90   no fat  17          50\n",
      "60  running   1 min     93  low fat  21          60\n",
      "70  running  15 min    132  low fat  24          70\n",
      "80  running  30 min    140   no fat  27          80\n",
      "      kind    time  pulse     diet  id  Unnamed: 0\n",
      "0     rest   1 min     85  low fat   1           0\n",
      "1     rest  15 min     82  low fat   4          10\n",
      "2     rest  30 min     90   no fat   7          20\n",
      "3  walking   1 min     86  low fat  11          30\n",
      "4  walking  15 min     96  low fat  14          40\n"
     ]
    }
   ],
   "source": [
    "# Every 10 row from 0 to last and all the columns in reverse order\n",
    "df1 = df_exercise.iloc[::10, ::-1]\n",
    "print(df1)\n",
    "\n",
    "# reset the index\n",
    "df1.reset_index(drop=True, inplace=True)\n",
    "print(df1.head())"
   ]
  },
  {
   "cell_type": "markdown",
   "id": "856381b7",
   "metadata": {
    "papermill": {
     "duration": 0.029555,
     "end_time": "2024-09-23T11:56:09.536038",
     "exception": false,
     "start_time": "2024-09-23T11:56:09.506483",
     "status": "completed"
    },
    "tags": []
   },
   "source": [
    "<h1 style=\"background-color: #f0f8ff; padding: 15px; border: 2px solid #3498db; border-radius: 8px; margin-bottom: 15px; color: #2980b9;\">06. Select a columns by data type</h1>"
   ]
  },
  {
   "cell_type": "markdown",
   "id": "e448c75c",
   "metadata": {
    "papermill": {
     "duration": 0.029344,
     "end_time": "2024-09-23T11:56:09.595404",
     "exception": false,
     "start_time": "2024-09-23T11:56:09.566060",
     "status": "completed"
    },
    "tags": []
   },
   "source": [
    "# 06. Select a columns by data type"
   ]
  },
  {
   "cell_type": "code",
   "execution_count": 27,
   "id": "33003337",
   "metadata": {
    "execution": {
     "iopub.execute_input": "2024-09-23T11:56:09.657426Z",
     "iopub.status.busy": "2024-09-23T11:56:09.657019Z",
     "iopub.status.idle": "2024-09-23T11:56:09.665615Z",
     "shell.execute_reply": "2024-09-23T11:56:09.664556Z"
    },
    "papermill": {
     "duration": 0.041929,
     "end_time": "2024-09-23T11:56:09.667957",
     "exception": false,
     "start_time": "2024-09-23T11:56:09.626028",
     "status": "completed"
    },
    "tags": []
   },
   "outputs": [
    {
     "data": {
      "text/plain": [
       "Unnamed: 0     int64\n",
       "id             int64\n",
       "diet          object\n",
       "pulse          int64\n",
       "time          object\n",
       "kind          object\n",
       "dtype: object"
      ]
     },
     "execution_count": 27,
     "metadata": {},
     "output_type": "execute_result"
    }
   ],
   "source": [
    "df_exercise.dtypes"
   ]
  },
  {
   "cell_type": "code",
   "execution_count": 28,
   "id": "7fe560fd",
   "metadata": {
    "execution": {
     "iopub.execute_input": "2024-09-23T11:56:09.729971Z",
     "iopub.status.busy": "2024-09-23T11:56:09.729543Z",
     "iopub.status.idle": "2024-09-23T11:56:09.740986Z",
     "shell.execute_reply": "2024-09-23T11:56:09.739859Z"
    },
    "papermill": {
     "duration": 0.045363,
     "end_time": "2024-09-23T11:56:09.743339",
     "exception": false,
     "start_time": "2024-09-23T11:56:09.697976",
     "status": "completed"
    },
    "tags": []
   },
   "outputs": [
    {
     "data": {
      "application/vnd.microsoft.datawrangler.viewer.v0+json": {
       "columns": [
        {
         "name": "index",
         "rawType": "int64",
         "type": "integer"
        },
        {
         "name": "diet",
         "rawType": "object",
         "type": "string"
        },
        {
         "name": "time",
         "rawType": "object",
         "type": "string"
        },
        {
         "name": "kind",
         "rawType": "object",
         "type": "string"
        }
       ],
       "conversionMethod": "pd.DataFrame",
       "ref": "14b294aa-86fa-4c63-b00c-03128fbb4208",
       "rows": [
        [
         "0",
         "low fat",
         "1 min",
         "rest"
        ],
        [
         "1",
         "low fat",
         "15 min",
         "rest"
        ],
        [
         "2",
         "low fat",
         "30 min",
         "rest"
        ],
        [
         "3",
         "low fat",
         "1 min",
         "rest"
        ],
        [
         "4",
         "low fat",
         "15 min",
         "rest"
        ]
       ],
       "shape": {
        "columns": 3,
        "rows": 5
       }
      },
      "text/html": [
       "<div>\n",
       "<style scoped>\n",
       "    .dataframe tbody tr th:only-of-type {\n",
       "        vertical-align: middle;\n",
       "    }\n",
       "\n",
       "    .dataframe tbody tr th {\n",
       "        vertical-align: top;\n",
       "    }\n",
       "\n",
       "    .dataframe thead th {\n",
       "        text-align: right;\n",
       "    }\n",
       "</style>\n",
       "<table border=\"1\" class=\"dataframe\">\n",
       "  <thead>\n",
       "    <tr style=\"text-align: right;\">\n",
       "      <th></th>\n",
       "      <th>diet</th>\n",
       "      <th>time</th>\n",
       "      <th>kind</th>\n",
       "    </tr>\n",
       "  </thead>\n",
       "  <tbody>\n",
       "    <tr>\n",
       "      <th>0</th>\n",
       "      <td>low fat</td>\n",
       "      <td>1 min</td>\n",
       "      <td>rest</td>\n",
       "    </tr>\n",
       "    <tr>\n",
       "      <th>1</th>\n",
       "      <td>low fat</td>\n",
       "      <td>15 min</td>\n",
       "      <td>rest</td>\n",
       "    </tr>\n",
       "    <tr>\n",
       "      <th>2</th>\n",
       "      <td>low fat</td>\n",
       "      <td>30 min</td>\n",
       "      <td>rest</td>\n",
       "    </tr>\n",
       "    <tr>\n",
       "      <th>3</th>\n",
       "      <td>low fat</td>\n",
       "      <td>1 min</td>\n",
       "      <td>rest</td>\n",
       "    </tr>\n",
       "    <tr>\n",
       "      <th>4</th>\n",
       "      <td>low fat</td>\n",
       "      <td>15 min</td>\n",
       "      <td>rest</td>\n",
       "    </tr>\n",
       "  </tbody>\n",
       "</table>\n",
       "</div>"
      ],
      "text/plain": [
       "      diet    time  kind\n",
       "0  low fat   1 min  rest\n",
       "1  low fat  15 min  rest\n",
       "2  low fat  30 min  rest\n",
       "3  low fat   1 min  rest\n",
       "4  low fat  15 min  rest"
      ]
     },
     "execution_count": 28,
     "metadata": {},
     "output_type": "execute_result"
    }
   ],
   "source": [
    "# Incluce all the object datatype\n",
    "df_exercise.select_dtypes(['object']).head()"
   ]
  },
  {
   "cell_type": "code",
   "execution_count": 29,
   "id": "d89319a7",
   "metadata": {
    "execution": {
     "iopub.execute_input": "2024-09-23T11:56:09.806194Z",
     "iopub.status.busy": "2024-09-23T11:56:09.805794Z",
     "iopub.status.idle": "2024-09-23T11:56:09.817296Z",
     "shell.execute_reply": "2024-09-23T11:56:09.816118Z"
    },
    "papermill": {
     "duration": 0.045269,
     "end_time": "2024-09-23T11:56:09.819590",
     "exception": false,
     "start_time": "2024-09-23T11:56:09.774321",
     "status": "completed"
    },
    "tags": []
   },
   "outputs": [
    {
     "data": {
      "application/vnd.microsoft.datawrangler.viewer.v0+json": {
       "columns": [
        {
         "name": "index",
         "rawType": "int64",
         "type": "integer"
        },
        {
         "name": "Unnamed: 0",
         "rawType": "int64",
         "type": "integer"
        },
        {
         "name": "id",
         "rawType": "int64",
         "type": "integer"
        },
        {
         "name": "pulse",
         "rawType": "int64",
         "type": "integer"
        }
       ],
       "conversionMethod": "pd.DataFrame",
       "ref": "0fab8527-cf80-484e-a181-d0c7e90a1595",
       "rows": [
        [
         "0",
         "0",
         "1",
         "85"
        ],
        [
         "1",
         "1",
         "1",
         "85"
        ],
        [
         "2",
         "2",
         "1",
         "88"
        ],
        [
         "3",
         "3",
         "2",
         "90"
        ],
        [
         "4",
         "4",
         "2",
         "92"
        ]
       ],
       "shape": {
        "columns": 3,
        "rows": 5
       }
      },
      "text/html": [
       "<div>\n",
       "<style scoped>\n",
       "    .dataframe tbody tr th:only-of-type {\n",
       "        vertical-align: middle;\n",
       "    }\n",
       "\n",
       "    .dataframe tbody tr th {\n",
       "        vertical-align: top;\n",
       "    }\n",
       "\n",
       "    .dataframe thead th {\n",
       "        text-align: right;\n",
       "    }\n",
       "</style>\n",
       "<table border=\"1\" class=\"dataframe\">\n",
       "  <thead>\n",
       "    <tr style=\"text-align: right;\">\n",
       "      <th></th>\n",
       "      <th>Unnamed: 0</th>\n",
       "      <th>id</th>\n",
       "      <th>pulse</th>\n",
       "    </tr>\n",
       "  </thead>\n",
       "  <tbody>\n",
       "    <tr>\n",
       "      <th>0</th>\n",
       "      <td>0</td>\n",
       "      <td>1</td>\n",
       "      <td>85</td>\n",
       "    </tr>\n",
       "    <tr>\n",
       "      <th>1</th>\n",
       "      <td>1</td>\n",
       "      <td>1</td>\n",
       "      <td>85</td>\n",
       "    </tr>\n",
       "    <tr>\n",
       "      <th>2</th>\n",
       "      <td>2</td>\n",
       "      <td>1</td>\n",
       "      <td>88</td>\n",
       "    </tr>\n",
       "    <tr>\n",
       "      <th>3</th>\n",
       "      <td>3</td>\n",
       "      <td>2</td>\n",
       "      <td>90</td>\n",
       "    </tr>\n",
       "    <tr>\n",
       "      <th>4</th>\n",
       "      <td>4</td>\n",
       "      <td>2</td>\n",
       "      <td>92</td>\n",
       "    </tr>\n",
       "  </tbody>\n",
       "</table>\n",
       "</div>"
      ],
      "text/plain": [
       "   Unnamed: 0  id  pulse\n",
       "0           0   1     85\n",
       "1           1   1     85\n",
       "2           2   1     88\n",
       "3           3   2     90\n",
       "4           4   2     92"
      ]
     },
     "execution_count": 29,
     "metadata": {},
     "output_type": "execute_result"
    }
   ],
   "source": [
    "# Include all the object datatypes\n",
    "df_exercise.select_dtypes(include=['int64']).head()"
   ]
  },
  {
   "cell_type": "code",
   "execution_count": 30,
   "id": "97dda00a",
   "metadata": {
    "execution": {
     "iopub.execute_input": "2024-09-23T11:56:09.884758Z",
     "iopub.status.busy": "2024-09-23T11:56:09.884303Z",
     "iopub.status.idle": "2024-09-23T11:56:09.896339Z",
     "shell.execute_reply": "2024-09-23T11:56:09.894946Z"
    },
    "papermill": {
     "duration": 0.048608,
     "end_time": "2024-09-23T11:56:09.898917",
     "exception": false,
     "start_time": "2024-09-23T11:56:09.850309",
     "status": "completed"
    },
    "tags": []
   },
   "outputs": [
    {
     "data": {
      "application/vnd.microsoft.datawrangler.viewer.v0+json": {
       "columns": [
        {
         "name": "index",
         "rawType": "int64",
         "type": "integer"
        },
        {
         "name": "diet",
         "rawType": "object",
         "type": "string"
        },
        {
         "name": "time",
         "rawType": "object",
         "type": "string"
        },
        {
         "name": "kind",
         "rawType": "object",
         "type": "string"
        }
       ],
       "conversionMethod": "pd.DataFrame",
       "ref": "d96c402c-865a-4203-a937-b883ebc4f8f8",
       "rows": [
        [
         "0",
         "low fat",
         "1 min",
         "rest"
        ],
        [
         "1",
         "low fat",
         "15 min",
         "rest"
        ],
        [
         "2",
         "low fat",
         "30 min",
         "rest"
        ],
        [
         "3",
         "low fat",
         "1 min",
         "rest"
        ],
        [
         "4",
         "low fat",
         "15 min",
         "rest"
        ]
       ],
       "shape": {
        "columns": 3,
        "rows": 5
       }
      },
      "text/html": [
       "<div>\n",
       "<style scoped>\n",
       "    .dataframe tbody tr th:only-of-type {\n",
       "        vertical-align: middle;\n",
       "    }\n",
       "\n",
       "    .dataframe tbody tr th {\n",
       "        vertical-align: top;\n",
       "    }\n",
       "\n",
       "    .dataframe thead th {\n",
       "        text-align: right;\n",
       "    }\n",
       "</style>\n",
       "<table border=\"1\" class=\"dataframe\">\n",
       "  <thead>\n",
       "    <tr style=\"text-align: right;\">\n",
       "      <th></th>\n",
       "      <th>diet</th>\n",
       "      <th>time</th>\n",
       "      <th>kind</th>\n",
       "    </tr>\n",
       "  </thead>\n",
       "  <tbody>\n",
       "    <tr>\n",
       "      <th>0</th>\n",
       "      <td>low fat</td>\n",
       "      <td>1 min</td>\n",
       "      <td>rest</td>\n",
       "    </tr>\n",
       "    <tr>\n",
       "      <th>1</th>\n",
       "      <td>low fat</td>\n",
       "      <td>15 min</td>\n",
       "      <td>rest</td>\n",
       "    </tr>\n",
       "    <tr>\n",
       "      <th>2</th>\n",
       "      <td>low fat</td>\n",
       "      <td>30 min</td>\n",
       "      <td>rest</td>\n",
       "    </tr>\n",
       "    <tr>\n",
       "      <th>3</th>\n",
       "      <td>low fat</td>\n",
       "      <td>1 min</td>\n",
       "      <td>rest</td>\n",
       "    </tr>\n",
       "    <tr>\n",
       "      <th>4</th>\n",
       "      <td>low fat</td>\n",
       "      <td>15 min</td>\n",
       "      <td>rest</td>\n",
       "    </tr>\n",
       "  </tbody>\n",
       "</table>\n",
       "</div>"
      ],
      "text/plain": [
       "      diet    time  kind\n",
       "0  low fat   1 min  rest\n",
       "1  low fat  15 min  rest\n",
       "2  low fat  30 min  rest\n",
       "3  low fat   1 min  rest\n",
       "4  low fat  15 min  rest"
      ]
     },
     "execution_count": 30,
     "metadata": {},
     "output_type": "execute_result"
    }
   ],
   "source": [
    "# Exclude the datatypes\n",
    "df_exercise.select_dtypes(exclude=['int64']).head()"
   ]
  },
  {
   "cell_type": "code",
   "execution_count": 31,
   "id": "00150d0b",
   "metadata": {
    "execution": {
     "iopub.execute_input": "2024-09-23T11:56:09.962424Z",
     "iopub.status.busy": "2024-09-23T11:56:09.962029Z",
     "iopub.status.idle": "2024-09-23T11:56:09.975686Z",
     "shell.execute_reply": "2024-09-23T11:56:09.974572Z"
    },
    "papermill": {
     "duration": 0.048096,
     "end_time": "2024-09-23T11:56:09.978063",
     "exception": false,
     "start_time": "2024-09-23T11:56:09.929967",
     "status": "completed"
    },
    "tags": []
   },
   "outputs": [
    {
     "data": {
      "application/vnd.microsoft.datawrangler.viewer.v0+json": {
       "columns": [
        {
         "name": "index",
         "rawType": "int64",
         "type": "integer"
        },
        {
         "name": "kind",
         "rawType": "object",
         "type": "string"
        },
        {
         "name": "time",
         "rawType": "object",
         "type": "string"
        },
        {
         "name": "pulse",
         "rawType": "int64",
         "type": "integer"
        },
        {
         "name": "diet",
         "rawType": "object",
         "type": "string"
        },
        {
         "name": "id",
         "rawType": "int64",
         "type": "integer"
        },
        {
         "name": "Unnamed: 0",
         "rawType": "int64",
         "type": "integer"
        }
       ],
       "conversionMethod": "pd.DataFrame",
       "ref": "82b9d09c-5557-4d09-81aa-0942b8a77aac",
       "rows": [
        [
         "89",
         "running",
         "30 min",
         "150",
         "no fat",
         "30",
         "89"
        ],
        [
         "88",
         "running",
         "15 min",
         "111",
         "no fat",
         "30",
         "88"
        ],
        [
         "87",
         "running",
         "1 min",
         "99",
         "no fat",
         "30",
         "87"
        ],
        [
         "86",
         "running",
         "30 min",
         "130",
         "no fat",
         "29",
         "86"
        ],
        [
         "85",
         "running",
         "15 min",
         "135",
         "no fat",
         "29",
         "85"
        ]
       ],
       "shape": {
        "columns": 6,
        "rows": 5
       }
      },
      "text/html": [
       "<div>\n",
       "<style scoped>\n",
       "    .dataframe tbody tr th:only-of-type {\n",
       "        vertical-align: middle;\n",
       "    }\n",
       "\n",
       "    .dataframe tbody tr th {\n",
       "        vertical-align: top;\n",
       "    }\n",
       "\n",
       "    .dataframe thead th {\n",
       "        text-align: right;\n",
       "    }\n",
       "</style>\n",
       "<table border=\"1\" class=\"dataframe\">\n",
       "  <thead>\n",
       "    <tr style=\"text-align: right;\">\n",
       "      <th></th>\n",
       "      <th>kind</th>\n",
       "      <th>time</th>\n",
       "      <th>pulse</th>\n",
       "      <th>diet</th>\n",
       "      <th>id</th>\n",
       "      <th>Unnamed: 0</th>\n",
       "    </tr>\n",
       "  </thead>\n",
       "  <tbody>\n",
       "    <tr>\n",
       "      <th>89</th>\n",
       "      <td>running</td>\n",
       "      <td>30 min</td>\n",
       "      <td>150</td>\n",
       "      <td>no fat</td>\n",
       "      <td>30</td>\n",
       "      <td>89</td>\n",
       "    </tr>\n",
       "    <tr>\n",
       "      <th>88</th>\n",
       "      <td>running</td>\n",
       "      <td>15 min</td>\n",
       "      <td>111</td>\n",
       "      <td>no fat</td>\n",
       "      <td>30</td>\n",
       "      <td>88</td>\n",
       "    </tr>\n",
       "    <tr>\n",
       "      <th>87</th>\n",
       "      <td>running</td>\n",
       "      <td>1 min</td>\n",
       "      <td>99</td>\n",
       "      <td>no fat</td>\n",
       "      <td>30</td>\n",
       "      <td>87</td>\n",
       "    </tr>\n",
       "    <tr>\n",
       "      <th>86</th>\n",
       "      <td>running</td>\n",
       "      <td>30 min</td>\n",
       "      <td>130</td>\n",
       "      <td>no fat</td>\n",
       "      <td>29</td>\n",
       "      <td>86</td>\n",
       "    </tr>\n",
       "    <tr>\n",
       "      <th>85</th>\n",
       "      <td>running</td>\n",
       "      <td>15 min</td>\n",
       "      <td>135</td>\n",
       "      <td>no fat</td>\n",
       "      <td>29</td>\n",
       "      <td>85</td>\n",
       "    </tr>\n",
       "  </tbody>\n",
       "</table>\n",
       "</div>"
      ],
      "text/plain": [
       "       kind    time  pulse    diet  id  Unnamed: 0\n",
       "89  running  30 min    150  no fat  30          89\n",
       "88  running  15 min    111  no fat  30          88\n",
       "87  running   1 min     99  no fat  30          87\n",
       "86  running  30 min    130  no fat  29          86\n",
       "85  running  15 min    135  no fat  29          85"
      ]
     },
     "execution_count": 31,
     "metadata": {},
     "output_type": "execute_result"
    }
   ],
   "source": [
    "#Combining multiple operations\n",
    "df_exercise.select_dtypes(include=['int64', 'object']).iloc[::-1, ::-1].head()"
   ]
  },
  {
   "cell_type": "markdown",
   "id": "e8ea96d7",
   "metadata": {
    "papermill": {
     "duration": 0.031753,
     "end_time": "2024-09-23T11:56:10.040442",
     "exception": false,
     "start_time": "2024-09-23T11:56:10.008689",
     "status": "completed"
    },
    "tags": []
   },
   "source": [
    "<h1 style=\"background-color: #f0f8ff; padding: 15px; border: 2px solid #3498db; border-radius: 8px; margin-bottom: 15px; color: #2980b9;\">07. Datatype Conversions</h1>"
   ]
  },
  {
   "cell_type": "markdown",
   "id": "34e8cb2c",
   "metadata": {
    "papermill": {
     "duration": 0.03125,
     "end_time": "2024-09-23T11:56:10.102354",
     "exception": false,
     "start_time": "2024-09-23T11:56:10.071104",
     "status": "completed"
    },
    "tags": []
   },
   "source": [
    "# 07. Datatype Conversions"
   ]
  },
  {
   "cell_type": "code",
   "execution_count": 32,
   "id": "39a46631",
   "metadata": {
    "execution": {
     "iopub.execute_input": "2024-09-23T11:56:10.167952Z",
     "iopub.status.busy": "2024-09-23T11:56:10.167554Z",
     "iopub.status.idle": "2024-09-23T11:56:10.179093Z",
     "shell.execute_reply": "2024-09-23T11:56:10.177918Z"
    },
    "papermill": {
     "duration": 0.047589,
     "end_time": "2024-09-23T11:56:10.181387",
     "exception": false,
     "start_time": "2024-09-23T11:56:10.133798",
     "status": "completed"
    },
    "tags": []
   },
   "outputs": [
    {
     "data": {
      "text/plain": [
       "['low fat', 'no fat']\n",
       "Categories (2, object): ['low fat', 'no fat']"
      ]
     },
     "execution_count": 32,
     "metadata": {},
     "output_type": "execute_result"
    }
   ],
   "source": [
    "# Convert diet column from object to Category datatype and return all the unique values\n",
    "df_exercise['diet'].astype('category').unique()"
   ]
  },
  {
   "cell_type": "code",
   "execution_count": 33,
   "id": "2d515fa9",
   "metadata": {
    "execution": {
     "iopub.execute_input": "2024-09-23T11:56:10.245197Z",
     "iopub.status.busy": "2024-09-23T11:56:10.244807Z",
     "iopub.status.idle": "2024-09-23T11:56:10.261461Z",
     "shell.execute_reply": "2024-09-23T11:56:10.259946Z"
    },
    "papermill": {
     "duration": 0.051775,
     "end_time": "2024-09-23T11:56:10.264030",
     "exception": false,
     "start_time": "2024-09-23T11:56:10.212255",
     "status": "completed"
    },
    "tags": []
   },
   "outputs": [
    {
     "name": "stdout",
     "output_type": "stream",
     "text": [
      "<class 'pandas.core.frame.DataFrame'>\n",
      "RangeIndex: 90 entries, 0 to 89\n",
      "Data columns (total 6 columns):\n",
      " #   Column      Non-Null Count  Dtype   \n",
      "---  ------      --------------  -----   \n",
      " 0   Unnamed: 0  90 non-null     int64   \n",
      " 1   id          90 non-null     int32   \n",
      " 2   diet        90 non-null     category\n",
      " 3   pulse       90 non-null     int64   \n",
      " 4   time        90 non-null     object  \n",
      " 5   kind        90 non-null     category\n",
      "dtypes: category(2), int32(1), int64(2), object(1)\n",
      "memory usage: 3.0+ KB\n"
     ]
    }
   ],
   "source": [
    "# Convert kind and category columns to category and id to int32 from int64\n",
    "df_exercise = df_exercise.astype({'kind': 'category', 'diet': 'category', 'id': 'int32'})\n",
    "df_exercise.info()"
   ]
  },
  {
   "cell_type": "code",
   "execution_count": 34,
   "id": "a38ffb26",
   "metadata": {
    "execution": {
     "iopub.execute_input": "2024-09-23T11:56:10.330308Z",
     "iopub.status.busy": "2024-09-23T11:56:10.329377Z",
     "iopub.status.idle": "2024-09-23T11:56:10.345218Z",
     "shell.execute_reply": "2024-09-23T11:56:10.344111Z"
    },
    "papermill": {
     "duration": 0.052074,
     "end_time": "2024-09-23T11:56:10.348116",
     "exception": false,
     "start_time": "2024-09-23T11:56:10.296042",
     "status": "completed"
    },
    "tags": []
   },
   "outputs": [
    {
     "name": "stdout",
     "output_type": "stream",
     "text": [
      "<class 'pandas.core.frame.DataFrame'>\n",
      "RangeIndex: 90 entries, 0 to 89\n",
      "Data columns (total 6 columns):\n",
      " #   Column      Non-Null Count  Dtype   \n",
      "---  ------      --------------  -----   \n",
      " 0   Unnamed: 0  90 non-null     int64   \n",
      " 1   id          90 non-null     float64 \n",
      " 2   diet        90 non-null     category\n",
      " 3   pulse       90 non-null     int64   \n",
      " 4   time        90 non-null     object  \n",
      " 5   kind        90 non-null     category\n",
      "dtypes: category(2), float64(1), int64(2), object(1)\n",
      "memory usage: 3.4+ KB\n"
     ]
    }
   ],
   "source": [
    "# First convert id to float so that we can change it back to numeric using pd.to_numeric function\n",
    "df_exercise = df_exercise.astype({'id': 'float'})\n",
    "df_exercise.info()"
   ]
  },
  {
   "cell_type": "code",
   "execution_count": 35,
   "id": "57051da9",
   "metadata": {
    "execution": {
     "iopub.execute_input": "2024-09-23T11:56:10.412832Z",
     "iopub.status.busy": "2024-09-23T11:56:10.412412Z",
     "iopub.status.idle": "2024-09-23T11:56:10.428267Z",
     "shell.execute_reply": "2024-09-23T11:56:10.427065Z"
    },
    "papermill": {
     "duration": 0.05177,
     "end_time": "2024-09-23T11:56:10.431193",
     "exception": false,
     "start_time": "2024-09-23T11:56:10.379423",
     "status": "completed"
    },
    "tags": []
   },
   "outputs": [
    {
     "name": "stdout",
     "output_type": "stream",
     "text": [
      "<class 'pandas.core.frame.DataFrame'>\n",
      "RangeIndex: 90 entries, 0 to 89\n",
      "Data columns (total 6 columns):\n",
      " #   Column      Non-Null Count  Dtype   \n",
      "---  ------      --------------  -----   \n",
      " 0   Unnamed: 0  90 non-null     int64   \n",
      " 1   id          90 non-null     int8    \n",
      " 2   diet        90 non-null     category\n",
      " 3   pulse       90 non-null     int64   \n",
      " 4   time        90 non-null     object  \n",
      " 5   kind        90 non-null     category\n",
      "dtypes: category(2), int64(2), int8(1), object(1)\n",
      "memory usage: 2.8+ KB\n"
     ]
    }
   ],
   "source": [
    "# Now demonstrate the pd.to_numeric function\n",
    "# Since the number is in float we need to downcast it to integer\n",
    "# It'll be downcasted based on the max value, in this case it'll be int8 (byte) instead of int32 or int64\n",
    "# It returns a series back so we need to assign it back to id column\n",
    "df_exercise['id'] = pd.to_numeric(df_exercise['id'], downcast='integer', errors='coerce')\n",
    "df_exercise.info()"
   ]
  },
  {
   "cell_type": "markdown",
   "id": "d65d3f84",
   "metadata": {
    "papermill": {
     "duration": 0.030886,
     "end_time": "2024-09-23T11:56:10.494190",
     "exception": false,
     "start_time": "2024-09-23T11:56:10.463304",
     "status": "completed"
    },
    "tags": []
   },
   "source": [
    "<h1 style=\"background-color: #f0f8ff; padding: 15px; border: 2px solid #3498db; border-radius: 8px; margin-bottom: 15px; color: #2980b9;\">08. Reduce Dataframe Size</h1>"
   ]
  },
  {
   "cell_type": "markdown",
   "id": "b1efcb75",
   "metadata": {
    "papermill": {
     "duration": 0.031624,
     "end_time": "2024-09-23T11:56:10.556949",
     "exception": false,
     "start_time": "2024-09-23T11:56:10.525325",
     "status": "completed"
    },
    "tags": []
   },
   "source": [
    "# 08. Reduce Dataframe Size"
   ]
  },
  {
   "cell_type": "code",
   "execution_count": 36,
   "id": "5bf26025",
   "metadata": {
    "execution": {
     "iopub.execute_input": "2024-09-23T11:56:10.620832Z",
     "iopub.status.busy": "2024-09-23T11:56:10.620331Z",
     "iopub.status.idle": "2024-09-23T11:56:10.643178Z",
     "shell.execute_reply": "2024-09-23T11:56:10.641560Z"
    },
    "papermill": {
     "duration": 0.058165,
     "end_time": "2024-09-23T11:56:10.646086",
     "exception": false,
     "start_time": "2024-09-23T11:56:10.587921",
     "status": "completed"
    },
    "tags": []
   },
   "outputs": [
    {
     "name": "stdout",
     "output_type": "stream",
     "text": [
      "(90, 6)\n",
      "<class 'pandas.core.frame.DataFrame'>\n",
      "RangeIndex: 100000 entries, 0 to 99999\n",
      "Data columns (total 7 columns):\n",
      " #   Column  Non-Null Count   Dtype\n",
      "---  ------  --------------   -----\n",
      " 0   0       100000 non-null  int32\n",
      " 1   1       100000 non-null  int32\n",
      " 2   2       100000 non-null  int32\n",
      " 3   3       100000 non-null  int32\n",
      " 4   4       100000 non-null  int32\n",
      " 5   5       100000 non-null  int32\n",
      " 6   6       100000 non-null  int32\n",
      "dtypes: int32(7)\n",
      "memory usage: 2.7 MB\n"
     ]
    }
   ],
   "source": [
    "# Create a large dataset first having 7 int32 cols and 100000 rows\n",
    "# Memory usage would be around 2.5 to 3Mbs which is manageable.\n",
    "# But Consider a DataFrame of 5Millions rows and 100 columns with multiple datatypes including objects.\n",
    "# The memory utilization would be many GBs that you can't fully load it in memory and process the data.\n",
    "# In such situations you would like to break you dataFrame into multiple\n",
    "df_large = pd.DataFrame(np.random.randint(1, 25000, size=(100000, 7)))\n",
    "pprint(df_exercise.shape)\n",
    "df_large.info()"
   ]
  },
  {
   "cell_type": "code",
   "execution_count": 37,
   "id": "30be9a91",
   "metadata": {
    "execution": {
     "iopub.execute_input": "2024-09-23T11:56:10.710056Z",
     "iopub.status.busy": "2024-09-23T11:56:10.709632Z",
     "iopub.status.idle": "2024-09-23T11:56:10.723600Z",
     "shell.execute_reply": "2024-09-23T11:56:10.722270Z"
    },
    "papermill": {
     "duration": 0.048904,
     "end_time": "2024-09-23T11:56:10.726158",
     "exception": false,
     "start_time": "2024-09-23T11:56:10.677254",
     "status": "completed"
    },
    "tags": []
   },
   "outputs": [
    {
     "data": {
      "text/plain": [
       "(25000, 7)"
      ]
     },
     "execution_count": 37,
     "metadata": {},
     "output_type": "execute_result"
    }
   ],
   "source": [
    "df1 = df_large.sample(frac=0.25)\n",
    "df1.shape"
   ]
  },
  {
   "cell_type": "code",
   "execution_count": 38,
   "id": "ff1cea3a",
   "metadata": {
    "execution": {
     "iopub.execute_input": "2024-09-23T11:56:10.792613Z",
     "iopub.status.busy": "2024-09-23T11:56:10.792162Z",
     "iopub.status.idle": "2024-09-23T11:56:10.850789Z",
     "shell.execute_reply": "2024-09-23T11:56:10.849506Z"
    },
    "papermill": {
     "duration": 0.094829,
     "end_time": "2024-09-23T11:56:10.853630",
     "exception": false,
     "start_time": "2024-09-23T11:56:10.758801",
     "status": "completed"
    },
    "tags": []
   },
   "outputs": [
    {
     "name": "stdout",
     "output_type": "stream",
     "text": [
      "df = (100000, 7)\n",
      "df1 = 25% = (25000, 7)\n",
      "Remaining = (75000, 7)\n",
      "df2 = Next 25% of df = (25500, 7)\n",
      "Remaining = (49500, 7)\n",
      "df3 = Next 25% of df = (24750, 7)\n",
      "Remaining = (24750, 7)\n",
      "df4 = Next 25% = (24750, 7)\n",
      "Remaining = (0, 7)\n"
     ]
    }
   ],
   "source": [
    "# When you want to break the DataFrame into 4 equal dataframes we can do it like this:\n",
    "\n",
    "# Select a percentage of sample from DataFrame to another Dataframe\n",
    "# Remove the selected DataFrame from the original Dataframe\n",
    "# Select another DataFrmae sample\n",
    "\n",
    "dff = df_large.copy()\n",
    "print('df =', dff.shape)\n",
    "df1 = dff.sample(frac=0.25, random_state=42)\n",
    "dff = dff.drop(df1.index)\n",
    "print('df1 = 25% =', df1.shape)\n",
    "print('Remaining =', dff.shape)\n",
    "df2 = dff.sample(frac=0.34, random_state=42)\n",
    "dff = dff.drop(df2.index)\n",
    "print('df2 = Next 25% of df =', df2.shape)\n",
    "print('Remaining =', dff.shape)\n",
    "df3 = dff.sample(frac=0.50, random_state=42)\n",
    "dff = dff.drop(df3.index)\n",
    "print('df3 = Next 25% of df =', df3.shape)\n",
    "print('Remaining =', dff.shape)\n",
    "df4 = dff.sample(frac=1, random_state=42)\n",
    "dff = dff.drop(df4.index)\n",
    "print('df4 = Next 25% =', df4.shape)\n",
    "print('Remaining =', dff.shape)"
   ]
  },
  {
   "cell_type": "code",
   "execution_count": 39,
   "id": "22d75cce",
   "metadata": {
    "execution": {
     "iopub.execute_input": "2024-09-23T11:56:10.926883Z",
     "iopub.status.busy": "2024-09-23T11:56:10.926446Z",
     "iopub.status.idle": "2024-09-23T11:56:10.976024Z",
     "shell.execute_reply": "2024-09-23T11:56:10.974867Z"
    },
    "papermill": {
     "duration": 0.086374,
     "end_time": "2024-09-23T11:56:10.978633",
     "exception": false,
     "start_time": "2024-09-23T11:56:10.892259",
     "status": "completed"
    },
    "tags": []
   },
   "outputs": [
    {
     "name": "stdout",
     "output_type": "stream",
     "text": [
      "df = (100000, 7)\n",
      "df1 = 25% = (25000, 7)\n",
      "Remaining = (75000, 7)\n",
      "df2 = Next 25% of df = (25000, 7)\n",
      "Remaining = (50000, 7)\n",
      "df3 = Next 25% of df = (25000, 7)\n",
      "Remaining = (25000, 7)\n",
      "df4 = Next 25% = (25000, 7)\n",
      "Remaining = (0, 7)\n"
     ]
    }
   ],
   "source": [
    "# Another way is to use the number of rows and Divide it by the no of dataframes you want to distribute them into\n",
    "# Then provide the n = rows_count as the input for df.sample function\n",
    "rows_count = df_large.shape[0] // 4\n",
    "dff = df_large.copy()\n",
    "print('df =', dff.shape)\n",
    "df1 = dff.sample(n=rows_count)\n",
    "dff = dff.drop(df1.index)\n",
    "print('df1 = 25% =', df1.shape)\n",
    "print('Remaining =', dff.shape)\n",
    "df2 = dff.sample(n=rows_count)\n",
    "dff = dff.drop(df2.index)\n",
    "print('df2 = Next 25% of df =', df2.shape)\n",
    "print('Remaining =', dff.shape)\n",
    "df3 = dff.sample(n=rows_count)\n",
    "dff = dff.drop(df3.index)\n",
    "print('df3 = Next 25% of df =', df3.shape)\n",
    "print('Remaining =', dff.shape)\n",
    "df4 = dff.sample(frac=1)\n",
    "dff = dff.drop(df4.index)\n",
    "print('df4 = Next 25% =', df4.shape)\n",
    "print('Remaining =', dff.shape)"
   ]
  },
  {
   "cell_type": "code",
   "execution_count": 40,
   "id": "6612d0a8",
   "metadata": {
    "execution": {
     "iopub.execute_input": "2024-09-23T11:56:11.044721Z",
     "iopub.status.busy": "2024-09-23T11:56:11.044160Z",
     "iopub.status.idle": "2024-09-23T11:56:11.058248Z",
     "shell.execute_reply": "2024-09-23T11:56:11.057167Z"
    },
    "papermill": {
     "duration": 0.049719,
     "end_time": "2024-09-23T11:56:11.060760",
     "exception": false,
     "start_time": "2024-09-23T11:56:11.011041",
     "status": "completed"
    },
    "tags": []
   },
   "outputs": [
    {
     "name": "stdout",
     "output_type": "stream",
     "text": [
      "(25000, 7) (25000, 7)\n",
      "(50000, 7)\n"
     ]
    },
    {
     "data": {
      "application/vnd.microsoft.datawrangler.viewer.v0+json": {
       "columns": [
        {
         "name": "index",
         "rawType": "int64",
         "type": "integer"
        },
        {
         "name": "0",
         "rawType": "int32",
         "type": "integer"
        },
        {
         "name": "1",
         "rawType": "int32",
         "type": "integer"
        },
        {
         "name": "2",
         "rawType": "int32",
         "type": "integer"
        },
        {
         "name": "3",
         "rawType": "int32",
         "type": "integer"
        },
        {
         "name": "4",
         "rawType": "int32",
         "type": "integer"
        },
        {
         "name": "5",
         "rawType": "int32",
         "type": "integer"
        },
        {
         "name": "6",
         "rawType": "int32",
         "type": "integer"
        }
       ],
       "conversionMethod": "pd.DataFrame",
       "ref": "4c7f0163-0fb7-4b1d-b994-ca814d363893",
       "rows": [
        [
         "0",
         "22205",
         "11555",
         "16222",
         "11343",
         "21581",
         "10662",
         "22234"
        ],
        [
         "1",
         "21366",
         "22044",
         "7766",
         "13235",
         "15642",
         "1740",
         "12511"
        ],
        [
         "2",
         "8546",
         "12034",
         "14606",
         "640",
         "21939",
         "1212",
         "22292"
        ],
        [
         "3",
         "3808",
         "14126",
         "23246",
         "7911",
         "15091",
         "24572",
         "17639"
        ],
        [
         "4",
         "10249",
         "23808",
         "24456",
         "12538",
         "5239",
         "2420",
         "15177"
        ]
       ],
       "shape": {
        "columns": 7,
        "rows": 5
       }
      },
      "text/html": [
       "<div>\n",
       "<style scoped>\n",
       "    .dataframe tbody tr th:only-of-type {\n",
       "        vertical-align: middle;\n",
       "    }\n",
       "\n",
       "    .dataframe tbody tr th {\n",
       "        vertical-align: top;\n",
       "    }\n",
       "\n",
       "    .dataframe thead th {\n",
       "        text-align: right;\n",
       "    }\n",
       "</style>\n",
       "<table border=\"1\" class=\"dataframe\">\n",
       "  <thead>\n",
       "    <tr style=\"text-align: right;\">\n",
       "      <th></th>\n",
       "      <th>0</th>\n",
       "      <th>1</th>\n",
       "      <th>2</th>\n",
       "      <th>3</th>\n",
       "      <th>4</th>\n",
       "      <th>5</th>\n",
       "      <th>6</th>\n",
       "    </tr>\n",
       "  </thead>\n",
       "  <tbody>\n",
       "    <tr>\n",
       "      <th>0</th>\n",
       "      <td>22205</td>\n",
       "      <td>11555</td>\n",
       "      <td>16222</td>\n",
       "      <td>11343</td>\n",
       "      <td>21581</td>\n",
       "      <td>10662</td>\n",
       "      <td>22234</td>\n",
       "    </tr>\n",
       "    <tr>\n",
       "      <th>1</th>\n",
       "      <td>21366</td>\n",
       "      <td>22044</td>\n",
       "      <td>7766</td>\n",
       "      <td>13235</td>\n",
       "      <td>15642</td>\n",
       "      <td>1740</td>\n",
       "      <td>12511</td>\n",
       "    </tr>\n",
       "    <tr>\n",
       "      <th>2</th>\n",
       "      <td>8546</td>\n",
       "      <td>12034</td>\n",
       "      <td>14606</td>\n",
       "      <td>640</td>\n",
       "      <td>21939</td>\n",
       "      <td>1212</td>\n",
       "      <td>22292</td>\n",
       "    </tr>\n",
       "    <tr>\n",
       "      <th>3</th>\n",
       "      <td>3808</td>\n",
       "      <td>14126</td>\n",
       "      <td>23246</td>\n",
       "      <td>7911</td>\n",
       "      <td>15091</td>\n",
       "      <td>24572</td>\n",
       "      <td>17639</td>\n",
       "    </tr>\n",
       "    <tr>\n",
       "      <th>4</th>\n",
       "      <td>10249</td>\n",
       "      <td>23808</td>\n",
       "      <td>24456</td>\n",
       "      <td>12538</td>\n",
       "      <td>5239</td>\n",
       "      <td>2420</td>\n",
       "      <td>15177</td>\n",
       "    </tr>\n",
       "  </tbody>\n",
       "</table>\n",
       "</div>"
      ],
      "text/plain": [
       "       0      1      2      3      4      5      6\n",
       "0  22205  11555  16222  11343  21581  10662  22234\n",
       "1  21366  22044   7766  13235  15642   1740  12511\n",
       "2   8546  12034  14606    640  21939   1212  22292\n",
       "3   3808  14126  23246   7911  15091  24572  17639\n",
       "4  10249  23808  24456  12538   5239   2420  15177"
      ]
     },
     "execution_count": 40,
     "metadata": {},
     "output_type": "execute_result"
    }
   ],
   "source": [
    "# Joining 2 Dataset together again\n",
    "\n",
    "print(df3.shape, df4.shape)\n",
    "df5 = pd.concat([df3, df4], ignore_index=True)\n",
    "print(df5.shape)\n",
    "df5.head()"
   ]
  },
  {
   "cell_type": "markdown",
   "id": "6e8ba939",
   "metadata": {
    "papermill": {
     "duration": 0.031502,
     "end_time": "2024-09-23T11:56:11.124319",
     "exception": false,
     "start_time": "2024-09-23T11:56:11.092817",
     "status": "completed"
    },
    "tags": []
   },
   "source": [
    "<h1 style=\"background-color: #f0f8ff; padding: 15px; border: 2px solid #3498db; border-radius: 8px; margin-bottom: 15px; color: #2980b9;\">09. Copy data to and From Clipboard (Not supported by Kaggle)</h1>"
   ]
  },
  {
   "cell_type": "markdown",
   "id": "f20e0e8d",
   "metadata": {
    "papermill": {
     "duration": 0.03291,
     "end_time": "2024-09-23T11:56:11.189762",
     "exception": false,
     "start_time": "2024-09-23T11:56:11.156852",
     "status": "completed"
    },
    "tags": []
   },
   "source": [
    "# 09. Copy data to and From Clipboard (Not supported by Kaggle)"
   ]
  },
  {
   "cell_type": "code",
   "execution_count": 41,
   "id": "ae3d06b3",
   "metadata": {
    "execution": {
     "iopub.execute_input": "2024-09-23T11:56:11.255676Z",
     "iopub.status.busy": "2024-09-23T11:56:11.255176Z",
     "iopub.status.idle": "2024-09-23T11:56:11.259979Z",
     "shell.execute_reply": "2024-09-23T11:56:11.258910Z"
    },
    "papermill": {
     "duration": 0.040679,
     "end_time": "2024-09-23T11:56:11.262447",
     "exception": false,
     "start_time": "2024-09-23T11:56:11.221768",
     "status": "completed"
    },
    "tags": []
   },
   "outputs": [],
   "source": [
    "# First copy some random 1% data to clipboard\n",
    "# Not supported by Kaggle\n",
    "# df_exercise.sample(frac=0.05, random_state=42).to_clipboard()"
   ]
  },
  {
   "cell_type": "code",
   "execution_count": 42,
   "id": "7a9fe36c",
   "metadata": {
    "execution": {
     "iopub.execute_input": "2024-09-23T11:56:11.328169Z",
     "iopub.status.busy": "2024-09-23T11:56:11.327758Z",
     "iopub.status.idle": "2024-09-23T11:56:11.332850Z",
     "shell.execute_reply": "2024-09-23T11:56:11.331638Z"
    },
    "papermill": {
     "duration": 0.041192,
     "end_time": "2024-09-23T11:56:11.335530",
     "exception": false,
     "start_time": "2024-09-23T11:56:11.294338",
     "status": "completed"
    },
    "tags": []
   },
   "outputs": [],
   "source": [
    "# Now read the data which we copied to clipboard into another dataframe\n",
    "\n",
    "# Not supported by Kaggle\n",
    "# df_from_clipboard = pd.read_clipboard()\n",
    "# df_from_clipboard"
   ]
  },
  {
   "cell_type": "markdown",
   "id": "08ab5e21",
   "metadata": {
    "papermill": {
     "duration": 0.032932,
     "end_time": "2024-09-23T11:56:11.401196",
     "exception": false,
     "start_time": "2024-09-23T11:56:11.368264",
     "status": "completed"
    },
    "tags": []
   },
   "source": [
    "<h1 style=\"background-color: #f0f8ff; padding: 15px; border: 2px solid #3498db; border-radius: 8px; margin-bottom: 15px; color: #2980b9;\">10. Filtering and Sorting a Dataset</h1>"
   ]
  },
  {
   "cell_type": "markdown",
   "id": "649f349e",
   "metadata": {
    "papermill": {
     "duration": 0.033762,
     "end_time": "2024-09-23T11:56:11.468931",
     "exception": false,
     "start_time": "2024-09-23T11:56:11.435169",
     "status": "completed"
    },
    "tags": []
   },
   "source": [
    "# 10. Filtering and Sorting a Dataset"
   ]
  },
  {
   "cell_type": "code",
   "execution_count": 43,
   "id": "bf66d9e7",
   "metadata": {
    "execution": {
     "iopub.execute_input": "2024-09-23T11:56:11.535673Z",
     "iopub.status.busy": "2024-09-23T11:56:11.535229Z",
     "iopub.status.idle": "2024-09-23T11:56:11.539948Z",
     "shell.execute_reply": "2024-09-23T11:56:11.538926Z"
    },
    "papermill": {
     "duration": 0.040169,
     "end_time": "2024-09-23T11:56:11.542213",
     "exception": false,
     "start_time": "2024-09-23T11:56:11.502044",
     "status": "completed"
    },
    "tags": []
   },
   "outputs": [],
   "source": [
    "# 10. Filtering and Sorting a Dataset"
   ]
  },
  {
   "cell_type": "code",
   "execution_count": 44,
   "id": "0e8a6c44",
   "metadata": {
    "execution": {
     "iopub.execute_input": "2024-09-23T11:56:11.608315Z",
     "iopub.status.busy": "2024-09-23T11:56:11.607890Z",
     "iopub.status.idle": "2024-09-23T11:56:11.616239Z",
     "shell.execute_reply": "2024-09-23T11:56:11.615132Z"
    },
    "papermill": {
     "duration": 0.04443,
     "end_time": "2024-09-23T11:56:11.619026",
     "exception": false,
     "start_time": "2024-09-23T11:56:11.574596",
     "status": "completed"
    },
    "tags": []
   },
   "outputs": [
    {
     "data": {
      "text/plain": [
       "['rest', 'walking', 'running']\n",
       "Categories (3, object): ['rest', 'running', 'walking']"
      ]
     },
     "execution_count": 44,
     "metadata": {},
     "output_type": "execute_result"
    }
   ],
   "source": [
    "df_exercise.kind.unique()"
   ]
  },
  {
   "cell_type": "code",
   "execution_count": 45,
   "id": "134efbf7",
   "metadata": {
    "execution": {
     "iopub.execute_input": "2024-09-23T11:56:11.687798Z",
     "iopub.status.busy": "2024-09-23T11:56:11.687374Z",
     "iopub.status.idle": "2024-09-23T11:56:11.703063Z",
     "shell.execute_reply": "2024-09-23T11:56:11.701814Z"
    },
    "papermill": {
     "duration": 0.051944,
     "end_time": "2024-09-23T11:56:11.705665",
     "exception": false,
     "start_time": "2024-09-23T11:56:11.653721",
     "status": "completed"
    },
    "tags": []
   },
   "outputs": [
    {
     "data": {
      "application/vnd.microsoft.datawrangler.viewer.v0+json": {
       "columns": [
        {
         "name": "index",
         "rawType": "int64",
         "type": "integer"
        },
        {
         "name": "Unnamed: 0",
         "rawType": "int64",
         "type": "integer"
        },
        {
         "name": "id",
         "rawType": "int8",
         "type": "integer"
        },
        {
         "name": "diet",
         "rawType": "category",
         "type": "unknown"
        },
        {
         "name": "pulse",
         "rawType": "int64",
         "type": "integer"
        },
        {
         "name": "time",
         "rawType": "object",
         "type": "string"
        },
        {
         "name": "kind",
         "rawType": "category",
         "type": "unknown"
        }
       ],
       "conversionMethod": "pd.DataFrame",
       "ref": "02ac8fae-6564-4181-8e7d-1c156d13bf01",
       "rows": [
        [
         "60",
         "60",
         "21",
         "low fat",
         "93",
         "1 min",
         "running"
        ],
        [
         "69",
         "69",
         "24",
         "low fat",
         "87",
         "1 min",
         "running"
        ],
        [
         "72",
         "72",
         "25",
         "low fat",
         "94",
         "1 min",
         "running"
        ],
        [
         "75",
         "75",
         "26",
         "no fat",
         "95",
         "1 min",
         "running"
        ],
        [
         "84",
         "84",
         "29",
         "no fat",
         "94",
         "1 min",
         "running"
        ]
       ],
       "shape": {
        "columns": 6,
        "rows": 5
       }
      },
      "text/html": [
       "<div>\n",
       "<style scoped>\n",
       "    .dataframe tbody tr th:only-of-type {\n",
       "        vertical-align: middle;\n",
       "    }\n",
       "\n",
       "    .dataframe tbody tr th {\n",
       "        vertical-align: top;\n",
       "    }\n",
       "\n",
       "    .dataframe thead th {\n",
       "        text-align: right;\n",
       "    }\n",
       "</style>\n",
       "<table border=\"1\" class=\"dataframe\">\n",
       "  <thead>\n",
       "    <tr style=\"text-align: right;\">\n",
       "      <th></th>\n",
       "      <th>Unnamed: 0</th>\n",
       "      <th>id</th>\n",
       "      <th>diet</th>\n",
       "      <th>pulse</th>\n",
       "      <th>time</th>\n",
       "      <th>kind</th>\n",
       "    </tr>\n",
       "  </thead>\n",
       "  <tbody>\n",
       "    <tr>\n",
       "      <th>60</th>\n",
       "      <td>60</td>\n",
       "      <td>21</td>\n",
       "      <td>low fat</td>\n",
       "      <td>93</td>\n",
       "      <td>1 min</td>\n",
       "      <td>running</td>\n",
       "    </tr>\n",
       "    <tr>\n",
       "      <th>69</th>\n",
       "      <td>69</td>\n",
       "      <td>24</td>\n",
       "      <td>low fat</td>\n",
       "      <td>87</td>\n",
       "      <td>1 min</td>\n",
       "      <td>running</td>\n",
       "    </tr>\n",
       "    <tr>\n",
       "      <th>72</th>\n",
       "      <td>72</td>\n",
       "      <td>25</td>\n",
       "      <td>low fat</td>\n",
       "      <td>94</td>\n",
       "      <td>1 min</td>\n",
       "      <td>running</td>\n",
       "    </tr>\n",
       "    <tr>\n",
       "      <th>75</th>\n",
       "      <td>75</td>\n",
       "      <td>26</td>\n",
       "      <td>no fat</td>\n",
       "      <td>95</td>\n",
       "      <td>1 min</td>\n",
       "      <td>running</td>\n",
       "    </tr>\n",
       "    <tr>\n",
       "      <th>84</th>\n",
       "      <td>84</td>\n",
       "      <td>29</td>\n",
       "      <td>no fat</td>\n",
       "      <td>94</td>\n",
       "      <td>1 min</td>\n",
       "      <td>running</td>\n",
       "    </tr>\n",
       "  </tbody>\n",
       "</table>\n",
       "</div>"
      ],
      "text/plain": [
       "    Unnamed: 0  id     diet  pulse   time     kind\n",
       "60          60  21  low fat     93  1 min  running\n",
       "69          69  24  low fat     87  1 min  running\n",
       "72          72  25  low fat     94  1 min  running\n",
       "75          75  26   no fat     95  1 min  running\n",
       "84          84  29   no fat     94  1 min  running"
      ]
     },
     "execution_count": 45,
     "metadata": {},
     "output_type": "execute_result"
    }
   ],
   "source": [
    "# Filter all the running records where pulse under 95\n",
    "# When using more than 1 condition, parenthesis are mandatory\n",
    "df_running = df_exercise[(df_exercise.kind == 'running') & (df_exercise.pulse <= 95)]\n",
    "df_running"
   ]
  },
  {
   "cell_type": "code",
   "execution_count": 46,
   "id": "60f6158a",
   "metadata": {
    "execution": {
     "iopub.execute_input": "2024-09-23T11:56:11.774224Z",
     "iopub.status.busy": "2024-09-23T11:56:11.773822Z",
     "iopub.status.idle": "2024-09-23T11:56:11.789653Z",
     "shell.execute_reply": "2024-09-23T11:56:11.788470Z"
    },
    "papermill": {
     "duration": 0.052177,
     "end_time": "2024-09-23T11:56:11.792087",
     "exception": false,
     "start_time": "2024-09-23T11:56:11.739910",
     "status": "completed"
    },
    "tags": []
   },
   "outputs": [
    {
     "data": {
      "application/vnd.microsoft.datawrangler.viewer.v0+json": {
       "columns": [
        {
         "name": "index",
         "rawType": "int64",
         "type": "integer"
        },
        {
         "name": "Unnamed: 0",
         "rawType": "int64",
         "type": "integer"
        },
        {
         "name": "id",
         "rawType": "int8",
         "type": "integer"
        },
        {
         "name": "diet",
         "rawType": "category",
         "type": "unknown"
        },
        {
         "name": "pulse",
         "rawType": "int64",
         "type": "integer"
        },
        {
         "name": "time",
         "rawType": "object",
         "type": "string"
        },
        {
         "name": "kind",
         "rawType": "category",
         "type": "unknown"
        }
       ],
       "conversionMethod": "pd.DataFrame",
       "ref": "2e76de46-110d-468f-847e-ce513560bf64",
       "rows": [
        [
         "32",
         "32",
         "11",
         "low fat",
         "84",
         "30 min",
         "walking"
        ],
        [
         "35",
         "35",
         "12",
         "low fat",
         "104",
         "30 min",
         "walking"
        ],
        [
         "38",
         "38",
         "13",
         "low fat",
         "93",
         "30 min",
         "walking"
        ],
        [
         "41",
         "41",
         "14",
         "low fat",
         "100",
         "30 min",
         "walking"
        ],
        [
         "44",
         "44",
         "15",
         "low fat",
         "95",
         "30 min",
         "walking"
        ]
       ],
       "shape": {
        "columns": 6,
        "rows": 5
       }
      },
      "text/html": [
       "<div>\n",
       "<style scoped>\n",
       "    .dataframe tbody tr th:only-of-type {\n",
       "        vertical-align: middle;\n",
       "    }\n",
       "\n",
       "    .dataframe tbody tr th {\n",
       "        vertical-align: top;\n",
       "    }\n",
       "\n",
       "    .dataframe thead th {\n",
       "        text-align: right;\n",
       "    }\n",
       "</style>\n",
       "<table border=\"1\" class=\"dataframe\">\n",
       "  <thead>\n",
       "    <tr style=\"text-align: right;\">\n",
       "      <th></th>\n",
       "      <th>Unnamed: 0</th>\n",
       "      <th>id</th>\n",
       "      <th>diet</th>\n",
       "      <th>pulse</th>\n",
       "      <th>time</th>\n",
       "      <th>kind</th>\n",
       "    </tr>\n",
       "  </thead>\n",
       "  <tbody>\n",
       "    <tr>\n",
       "      <th>32</th>\n",
       "      <td>32</td>\n",
       "      <td>11</td>\n",
       "      <td>low fat</td>\n",
       "      <td>84</td>\n",
       "      <td>30 min</td>\n",
       "      <td>walking</td>\n",
       "    </tr>\n",
       "    <tr>\n",
       "      <th>35</th>\n",
       "      <td>35</td>\n",
       "      <td>12</td>\n",
       "      <td>low fat</td>\n",
       "      <td>104</td>\n",
       "      <td>30 min</td>\n",
       "      <td>walking</td>\n",
       "    </tr>\n",
       "    <tr>\n",
       "      <th>38</th>\n",
       "      <td>38</td>\n",
       "      <td>13</td>\n",
       "      <td>low fat</td>\n",
       "      <td>93</td>\n",
       "      <td>30 min</td>\n",
       "      <td>walking</td>\n",
       "    </tr>\n",
       "    <tr>\n",
       "      <th>41</th>\n",
       "      <td>41</td>\n",
       "      <td>14</td>\n",
       "      <td>low fat</td>\n",
       "      <td>100</td>\n",
       "      <td>30 min</td>\n",
       "      <td>walking</td>\n",
       "    </tr>\n",
       "    <tr>\n",
       "      <th>44</th>\n",
       "      <td>44</td>\n",
       "      <td>15</td>\n",
       "      <td>low fat</td>\n",
       "      <td>95</td>\n",
       "      <td>30 min</td>\n",
       "      <td>walking</td>\n",
       "    </tr>\n",
       "  </tbody>\n",
       "</table>\n",
       "</div>"
      ],
      "text/plain": [
       "    Unnamed: 0  id     diet  pulse    time     kind\n",
       "32          32  11  low fat     84  30 min  walking\n",
       "35          35  12  low fat    104  30 min  walking\n",
       "38          38  13  low fat     93  30 min  walking\n",
       "41          41  14  low fat    100  30 min  walking\n",
       "44          44  15  low fat     95  30 min  walking"
      ]
     },
     "execution_count": 46,
     "metadata": {},
     "output_type": "execute_result"
    }
   ],
   "source": [
    "# Sort all the values based on first kind than time in descending order\n",
    "df_exercise.sort_values(by=['kind', 'time'], ascending=False).head()"
   ]
  },
  {
   "cell_type": "code",
   "execution_count": 47,
   "id": "81db0906",
   "metadata": {
    "execution": {
     "iopub.execute_input": "2024-09-23T11:56:11.859556Z",
     "iopub.status.busy": "2024-09-23T11:56:11.859132Z",
     "iopub.status.idle": "2024-09-23T11:56:11.874883Z",
     "shell.execute_reply": "2024-09-23T11:56:11.873781Z"
    },
    "papermill": {
     "duration": 0.052236,
     "end_time": "2024-09-23T11:56:11.877142",
     "exception": false,
     "start_time": "2024-09-23T11:56:11.824906",
     "status": "completed"
    },
    "tags": []
   },
   "outputs": [
    {
     "data": {
      "application/vnd.microsoft.datawrangler.viewer.v0+json": {
       "columns": [
        {
         "name": "index",
         "rawType": "int64",
         "type": "integer"
        },
        {
         "name": "Unnamed: 0",
         "rawType": "int64",
         "type": "integer"
        },
        {
         "name": "id",
         "rawType": "int8",
         "type": "integer"
        },
        {
         "name": "diet",
         "rawType": "category",
         "type": "unknown"
        },
        {
         "name": "pulse",
         "rawType": "int64",
         "type": "integer"
        },
        {
         "name": "time",
         "rawType": "object",
         "type": "string"
        },
        {
         "name": "kind",
         "rawType": "category",
         "type": "unknown"
        }
       ],
       "conversionMethod": "pd.DataFrame",
       "ref": "8cb7f36f-5bee-4499-94ef-f946ca57cfb1",
       "rows": [
        [
         "0",
         "69",
         "24",
         "low fat",
         "87",
         "1 min",
         "running"
        ],
        [
         "1",
         "60",
         "21",
         "low fat",
         "93",
         "1 min",
         "running"
        ],
        [
         "2",
         "72",
         "25",
         "low fat",
         "94",
         "1 min",
         "running"
        ],
        [
         "3",
         "84",
         "29",
         "no fat",
         "94",
         "1 min",
         "running"
        ],
        [
         "4",
         "75",
         "26",
         "no fat",
         "95",
         "1 min",
         "running"
        ]
       ],
       "shape": {
        "columns": 6,
        "rows": 5
       }
      },
      "text/html": [
       "<div>\n",
       "<style scoped>\n",
       "    .dataframe tbody tr th:only-of-type {\n",
       "        vertical-align: middle;\n",
       "    }\n",
       "\n",
       "    .dataframe tbody tr th {\n",
       "        vertical-align: top;\n",
       "    }\n",
       "\n",
       "    .dataframe thead th {\n",
       "        text-align: right;\n",
       "    }\n",
       "</style>\n",
       "<table border=\"1\" class=\"dataframe\">\n",
       "  <thead>\n",
       "    <tr style=\"text-align: right;\">\n",
       "      <th></th>\n",
       "      <th>Unnamed: 0</th>\n",
       "      <th>id</th>\n",
       "      <th>diet</th>\n",
       "      <th>pulse</th>\n",
       "      <th>time</th>\n",
       "      <th>kind</th>\n",
       "    </tr>\n",
       "  </thead>\n",
       "  <tbody>\n",
       "    <tr>\n",
       "      <th>0</th>\n",
       "      <td>69</td>\n",
       "      <td>24</td>\n",
       "      <td>low fat</td>\n",
       "      <td>87</td>\n",
       "      <td>1 min</td>\n",
       "      <td>running</td>\n",
       "    </tr>\n",
       "    <tr>\n",
       "      <th>1</th>\n",
       "      <td>60</td>\n",
       "      <td>21</td>\n",
       "      <td>low fat</td>\n",
       "      <td>93</td>\n",
       "      <td>1 min</td>\n",
       "      <td>running</td>\n",
       "    </tr>\n",
       "    <tr>\n",
       "      <th>2</th>\n",
       "      <td>72</td>\n",
       "      <td>25</td>\n",
       "      <td>low fat</td>\n",
       "      <td>94</td>\n",
       "      <td>1 min</td>\n",
       "      <td>running</td>\n",
       "    </tr>\n",
       "    <tr>\n",
       "      <th>3</th>\n",
       "      <td>84</td>\n",
       "      <td>29</td>\n",
       "      <td>no fat</td>\n",
       "      <td>94</td>\n",
       "      <td>1 min</td>\n",
       "      <td>running</td>\n",
       "    </tr>\n",
       "    <tr>\n",
       "      <th>4</th>\n",
       "      <td>75</td>\n",
       "      <td>26</td>\n",
       "      <td>no fat</td>\n",
       "      <td>95</td>\n",
       "      <td>1 min</td>\n",
       "      <td>running</td>\n",
       "    </tr>\n",
       "  </tbody>\n",
       "</table>\n",
       "</div>"
      ],
      "text/plain": [
       "   Unnamed: 0  id     diet  pulse   time     kind\n",
       "0          69  24  low fat     87  1 min  running\n",
       "1          60  21  low fat     93  1 min  running\n",
       "2          72  25  low fat     94  1 min  running\n",
       "3          84  29   no fat     94  1 min  running\n",
       "4          75  26   no fat     95  1 min  running"
      ]
     },
     "execution_count": 47,
     "metadata": {},
     "output_type": "execute_result"
    }
   ],
   "source": [
    "#Get all the records who are running and pulse is under 95. Sort them by Pulse rate from smallest to largest\n",
    "df_exercise[(df_exercise.kind == 'running') & (df_exercise.pulse <= 95)].sort_values(by='pulse').reset_index(drop=True)\n",
    "\n",
    "#df_exercise.time.unique()"
   ]
  },
  {
   "cell_type": "code",
   "execution_count": 48,
   "id": "2f4cd5c3",
   "metadata": {
    "execution": {
     "iopub.execute_input": "2024-09-23T11:56:11.945196Z",
     "iopub.status.busy": "2024-09-23T11:56:11.944798Z",
     "iopub.status.idle": "2024-09-23T11:56:11.964270Z",
     "shell.execute_reply": "2024-09-23T11:56:11.963109Z"
    },
    "papermill": {
     "duration": 0.055677,
     "end_time": "2024-09-23T11:56:11.966612",
     "exception": false,
     "start_time": "2024-09-23T11:56:11.910935",
     "status": "completed"
    },
    "tags": []
   },
   "outputs": [
    {
     "data": {
      "application/vnd.microsoft.datawrangler.viewer.v0+json": {
       "columns": [
        {
         "name": "index",
         "rawType": "int64",
         "type": "integer"
        },
        {
         "name": "Unnamed: 0",
         "rawType": "int64",
         "type": "integer"
        },
        {
         "name": "id",
         "rawType": "int8",
         "type": "integer"
        },
        {
         "name": "diet",
         "rawType": "category",
         "type": "unknown"
        },
        {
         "name": "pulse",
         "rawType": "int64",
         "type": "integer"
        },
        {
         "name": "time",
         "rawType": "object",
         "type": "string"
        },
        {
         "name": "kind",
         "rawType": "category",
         "type": "unknown"
        }
       ],
       "conversionMethod": "pd.DataFrame",
       "ref": "151acb9c-4202-4266-955e-b528d5cc1610",
       "rows": [
        [
         "0",
         "10",
         "4",
         "low fat",
         "82",
         "15 min",
         "rest"
        ],
        [
         "1",
         "11",
         "4",
         "low fat",
         "83",
         "30 min",
         "rest"
        ],
        [
         "2",
         "32",
         "11",
         "low fat",
         "84",
         "30 min",
         "walking"
        ],
        [
         "3",
         "1",
         "1",
         "low fat",
         "85",
         "15 min",
         "rest"
        ],
        [
         "4",
         "31",
         "11",
         "low fat",
         "86",
         "15 min",
         "walking"
        ],
        [
         "5",
         "2",
         "1",
         "low fat",
         "88",
         "30 min",
         "rest"
        ],
        [
         "6",
         "14",
         "5",
         "low fat",
         "91",
         "30 min",
         "rest"
        ],
        [
         "7",
         "4",
         "2",
         "low fat",
         "92",
         "15 min",
         "rest"
        ],
        [
         "8",
         "13",
         "5",
         "low fat",
         "92",
         "15 min",
         "rest"
        ],
        [
         "9",
         "37",
         "13",
         "low fat",
         "92",
         "15 min",
         "walking"
        ]
       ],
       "shape": {
        "columns": 6,
        "rows": 10
       }
      },
      "text/html": [
       "<div>\n",
       "<style scoped>\n",
       "    .dataframe tbody tr th:only-of-type {\n",
       "        vertical-align: middle;\n",
       "    }\n",
       "\n",
       "    .dataframe tbody tr th {\n",
       "        vertical-align: top;\n",
       "    }\n",
       "\n",
       "    .dataframe thead th {\n",
       "        text-align: right;\n",
       "    }\n",
       "</style>\n",
       "<table border=\"1\" class=\"dataframe\">\n",
       "  <thead>\n",
       "    <tr style=\"text-align: right;\">\n",
       "      <th></th>\n",
       "      <th>Unnamed: 0</th>\n",
       "      <th>id</th>\n",
       "      <th>diet</th>\n",
       "      <th>pulse</th>\n",
       "      <th>time</th>\n",
       "      <th>kind</th>\n",
       "    </tr>\n",
       "  </thead>\n",
       "  <tbody>\n",
       "    <tr>\n",
       "      <th>0</th>\n",
       "      <td>10</td>\n",
       "      <td>4</td>\n",
       "      <td>low fat</td>\n",
       "      <td>82</td>\n",
       "      <td>15 min</td>\n",
       "      <td>rest</td>\n",
       "    </tr>\n",
       "    <tr>\n",
       "      <th>1</th>\n",
       "      <td>11</td>\n",
       "      <td>4</td>\n",
       "      <td>low fat</td>\n",
       "      <td>83</td>\n",
       "      <td>30 min</td>\n",
       "      <td>rest</td>\n",
       "    </tr>\n",
       "    <tr>\n",
       "      <th>2</th>\n",
       "      <td>32</td>\n",
       "      <td>11</td>\n",
       "      <td>low fat</td>\n",
       "      <td>84</td>\n",
       "      <td>30 min</td>\n",
       "      <td>walking</td>\n",
       "    </tr>\n",
       "    <tr>\n",
       "      <th>3</th>\n",
       "      <td>1</td>\n",
       "      <td>1</td>\n",
       "      <td>low fat</td>\n",
       "      <td>85</td>\n",
       "      <td>15 min</td>\n",
       "      <td>rest</td>\n",
       "    </tr>\n",
       "    <tr>\n",
       "      <th>4</th>\n",
       "      <td>31</td>\n",
       "      <td>11</td>\n",
       "      <td>low fat</td>\n",
       "      <td>86</td>\n",
       "      <td>15 min</td>\n",
       "      <td>walking</td>\n",
       "    </tr>\n",
       "    <tr>\n",
       "      <th>5</th>\n",
       "      <td>2</td>\n",
       "      <td>1</td>\n",
       "      <td>low fat</td>\n",
       "      <td>88</td>\n",
       "      <td>30 min</td>\n",
       "      <td>rest</td>\n",
       "    </tr>\n",
       "    <tr>\n",
       "      <th>6</th>\n",
       "      <td>14</td>\n",
       "      <td>5</td>\n",
       "      <td>low fat</td>\n",
       "      <td>91</td>\n",
       "      <td>30 min</td>\n",
       "      <td>rest</td>\n",
       "    </tr>\n",
       "    <tr>\n",
       "      <th>7</th>\n",
       "      <td>4</td>\n",
       "      <td>2</td>\n",
       "      <td>low fat</td>\n",
       "      <td>92</td>\n",
       "      <td>15 min</td>\n",
       "      <td>rest</td>\n",
       "    </tr>\n",
       "    <tr>\n",
       "      <th>8</th>\n",
       "      <td>13</td>\n",
       "      <td>5</td>\n",
       "      <td>low fat</td>\n",
       "      <td>92</td>\n",
       "      <td>15 min</td>\n",
       "      <td>rest</td>\n",
       "    </tr>\n",
       "    <tr>\n",
       "      <th>9</th>\n",
       "      <td>37</td>\n",
       "      <td>13</td>\n",
       "      <td>low fat</td>\n",
       "      <td>92</td>\n",
       "      <td>15 min</td>\n",
       "      <td>walking</td>\n",
       "    </tr>\n",
       "  </tbody>\n",
       "</table>\n",
       "</div>"
      ],
      "text/plain": [
       "   Unnamed: 0  id     diet  pulse    time     kind\n",
       "0          10   4  low fat     82  15 min     rest\n",
       "1          11   4  low fat     83  30 min     rest\n",
       "2          32  11  low fat     84  30 min  walking\n",
       "3           1   1  low fat     85  15 min     rest\n",
       "4          31  11  low fat     86  15 min  walking\n",
       "5           2   1  low fat     88  30 min     rest\n",
       "6          14   5  low fat     91  30 min     rest\n",
       "7           4   2  low fat     92  15 min     rest\n",
       "8          13   5  low fat     92  15 min     rest\n",
       "9          37  13  low fat     92  15 min  walking"
      ]
     },
     "execution_count": 48,
     "metadata": {},
     "output_type": "execute_result"
    }
   ],
   "source": [
    "df_exercise[df_exercise.time.isin(['15 min', '30 min'])].sort_values(by=['diet', 'pulse']).reset_index(drop=True).head(10)"
   ]
  },
  {
   "cell_type": "code",
   "execution_count": 49,
   "id": "a96ff9ba",
   "metadata": {
    "execution": {
     "iopub.execute_input": "2024-09-23T11:56:12.036467Z",
     "iopub.status.busy": "2024-09-23T11:56:12.036030Z",
     "iopub.status.idle": "2024-09-23T11:56:12.046026Z",
     "shell.execute_reply": "2024-09-23T11:56:12.044674Z"
    },
    "papermill": {
     "duration": 0.047931,
     "end_time": "2024-09-23T11:56:12.048618",
     "exception": false,
     "start_time": "2024-09-23T11:56:12.000687",
     "status": "completed"
    },
    "tags": []
   },
   "outputs": [
    {
     "data": {
      "text/plain": [
       "pulse\n",
       "92     5\n",
       "97     5\n",
       "100    5\n",
       "93     4\n",
       "94     4\n",
       "95     4\n",
       "90     4\n",
       "98     4\n",
       "103    4\n",
       "96     4\n",
       "Name: count, dtype: int64"
      ]
     },
     "execution_count": 49,
     "metadata": {},
     "output_type": "execute_result"
    }
   ],
   "source": [
    "df_exercise.pulse.value_counts().head(10)"
   ]
  },
  {
   "cell_type": "code",
   "execution_count": 50,
   "id": "f92daff4",
   "metadata": {
    "execution": {
     "iopub.execute_input": "2024-09-23T11:56:12.116600Z",
     "iopub.status.busy": "2024-09-23T11:56:12.116143Z",
     "iopub.status.idle": "2024-09-23T11:56:12.126795Z",
     "shell.execute_reply": "2024-09-23T11:56:12.125434Z"
    },
    "papermill": {
     "duration": 0.047649,
     "end_time": "2024-09-23T11:56:12.129348",
     "exception": false,
     "start_time": "2024-09-23T11:56:12.081699",
     "status": "completed"
    },
    "tags": []
   },
   "outputs": [
    {
     "data": {
      "text/plain": [
       "Index([92, 97, 100, 93, 94], dtype='int64', name='pulse')"
      ]
     },
     "execution_count": 50,
     "metadata": {},
     "output_type": "execute_result"
    }
   ],
   "source": [
    "# Get the top 3 most repeated values for pulse\n",
    "df_exercise.pulse.value_counts().nlargest(5).index"
   ]
  },
  {
   "cell_type": "markdown",
   "id": "b0c58fd4",
   "metadata": {
    "papermill": {
     "duration": 0.034252,
     "end_time": "2024-09-23T11:56:12.198860",
     "exception": false,
     "start_time": "2024-09-23T11:56:12.164608",
     "status": "completed"
    },
    "tags": []
   },
   "source": [
    "<h1 style=\"background-color: #f0f8ff; padding: 15px; border: 2px solid #3498db; border-radius: 8px; margin-bottom: 15px; color: #2980b9;\">11. Splitting a Column</h1>"
   ]
  },
  {
   "cell_type": "markdown",
   "id": "0a87cd02",
   "metadata": {
    "papermill": {
     "duration": 0.033221,
     "end_time": "2024-09-23T11:56:12.266801",
     "exception": false,
     "start_time": "2024-09-23T11:56:12.233580",
     "status": "completed"
    },
    "tags": []
   },
   "source": [
    "# 11. Splitting a Column"
   ]
  },
  {
   "cell_type": "code",
   "execution_count": 51,
   "id": "6ae0cf16",
   "metadata": {
    "execution": {
     "iopub.execute_input": "2024-09-23T11:56:12.337827Z",
     "iopub.status.busy": "2024-09-23T11:56:12.337388Z",
     "iopub.status.idle": "2024-09-23T11:56:12.342805Z",
     "shell.execute_reply": "2024-09-23T11:56:12.341342Z"
    },
    "papermill": {
     "duration": 0.04488,
     "end_time": "2024-09-23T11:56:12.345309",
     "exception": false,
     "start_time": "2024-09-23T11:56:12.300429",
     "status": "completed"
    },
    "tags": []
   },
   "outputs": [],
   "source": [
    "# 11. Splitting a Column"
   ]
  },
  {
   "cell_type": "code",
   "execution_count": 52,
   "id": "cb74e222",
   "metadata": {
    "execution": {
     "iopub.execute_input": "2024-09-23T11:56:12.415840Z",
     "iopub.status.busy": "2024-09-23T11:56:12.415024Z",
     "iopub.status.idle": "2024-09-23T11:56:12.425791Z",
     "shell.execute_reply": "2024-09-23T11:56:12.424433Z"
    },
    "papermill": {
     "duration": 0.04966,
     "end_time": "2024-09-23T11:56:12.428783",
     "exception": false,
     "start_time": "2024-09-23T11:56:12.379123",
     "status": "completed"
    },
    "tags": []
   },
   "outputs": [
    {
     "name": "stdout",
     "output_type": "stream",
     "text": [
      "             full_name  age     sex  \\\n",
      "0     John Michael Doe   32    Male   \n",
      "1     Jane Emily Smith   28  Female   \n",
      "2   Robert James Brown   45    Male   \n",
      "3    Mary Anne Johnson   39  Female   \n",
      "4  William Henry White   50    Male   \n",
      "\n",
      "                                  full_address  \n",
      "0      123 Main St, Downtown, Springfield, USA  \n",
      "1        456 Elm St, Suburbia, Metropolis, USA  \n",
      "2      789 Oak St, Riverside, Capital City, UK  \n",
      "3       321 Pine St, Uptown, Riverdale, Canada  \n",
      "4  654 Maple St, Seaside, Oceanview, Australia  \n"
     ]
    }
   ],
   "source": [
    "data = {\n",
    "    'full_name': [\n",
    "        'John Michael Doe', \n",
    "        'Jane Emily Smith', \n",
    "        'Robert James Brown', \n",
    "        'Mary Anne Johnson', \n",
    "        'William Henry White'\n",
    "    ],\n",
    "    'age': [32, 28, 45, 39, 50],\n",
    "    'sex': ['Male', 'Female', 'Male', 'Female', 'Male'],\n",
    "    'full_address': [\n",
    "        '123 Main St, Downtown, Springfield, USA',\n",
    "        '456 Elm St, Suburbia, Metropolis, USA',\n",
    "        '789 Oak St, Riverside, Capital City, UK',\n",
    "        '321 Pine St, Uptown, Riverdale, Canada',\n",
    "        '654 Maple St, Seaside, Oceanview, Australia'\n",
    "    ]\n",
    "}\n",
    "\n",
    "# Create a pandas DataFrame\n",
    "df_person = pd.DataFrame(data)\n",
    "\n",
    "# Display the DataFrame\n",
    "print(df_person)"
   ]
  },
  {
   "cell_type": "code",
   "execution_count": 53,
   "id": "fcbbdda9",
   "metadata": {
    "execution": {
     "iopub.execute_input": "2024-09-23T11:56:12.499028Z",
     "iopub.status.busy": "2024-09-23T11:56:12.498630Z",
     "iopub.status.idle": "2024-09-23T11:56:12.515537Z",
     "shell.execute_reply": "2024-09-23T11:56:12.514644Z"
    },
    "papermill": {
     "duration": 0.05432,
     "end_time": "2024-09-23T11:56:12.517915",
     "exception": false,
     "start_time": "2024-09-23T11:56:12.463595",
     "status": "completed"
    },
    "tags": []
   },
   "outputs": [
    {
     "data": {
      "application/vnd.microsoft.datawrangler.viewer.v0+json": {
       "columns": [
        {
         "name": "index",
         "rawType": "int64",
         "type": "integer"
        },
        {
         "name": "full_name",
         "rawType": "object",
         "type": "string"
        },
        {
         "name": "age",
         "rawType": "int64",
         "type": "integer"
        },
        {
         "name": "sex",
         "rawType": "object",
         "type": "string"
        },
        {
         "name": "full_address",
         "rawType": "object",
         "type": "string"
        },
        {
         "name": "first_name",
         "rawType": "object",
         "type": "string"
        },
        {
         "name": "middle_name",
         "rawType": "object",
         "type": "string"
        },
        {
         "name": "last_name",
         "rawType": "object",
         "type": "string"
        }
       ],
       "conversionMethod": "pd.DataFrame",
       "ref": "b8afe2df-6710-49ca-bde8-363fa12fdbbf",
       "rows": [
        [
         "0",
         "John Michael Doe",
         "32",
         "Male",
         "123 Main St, Downtown, Springfield, USA",
         "John",
         "Michael",
         "Doe"
        ],
        [
         "1",
         "Jane Emily Smith",
         "28",
         "Female",
         "456 Elm St, Suburbia, Metropolis, USA",
         "Jane",
         "Emily",
         "Smith"
        ],
        [
         "2",
         "Robert James Brown",
         "45",
         "Male",
         "789 Oak St, Riverside, Capital City, UK",
         "Robert",
         "James",
         "Brown"
        ],
        [
         "3",
         "Mary Anne Johnson",
         "39",
         "Female",
         "321 Pine St, Uptown, Riverdale, Canada",
         "Mary",
         "Anne",
         "Johnson"
        ],
        [
         "4",
         "William Henry White",
         "50",
         "Male",
         "654 Maple St, Seaside, Oceanview, Australia",
         "William",
         "Henry",
         "White"
        ]
       ],
       "shape": {
        "columns": 7,
        "rows": 5
       }
      },
      "text/html": [
       "<div>\n",
       "<style scoped>\n",
       "    .dataframe tbody tr th:only-of-type {\n",
       "        vertical-align: middle;\n",
       "    }\n",
       "\n",
       "    .dataframe tbody tr th {\n",
       "        vertical-align: top;\n",
       "    }\n",
       "\n",
       "    .dataframe thead th {\n",
       "        text-align: right;\n",
       "    }\n",
       "</style>\n",
       "<table border=\"1\" class=\"dataframe\">\n",
       "  <thead>\n",
       "    <tr style=\"text-align: right;\">\n",
       "      <th></th>\n",
       "      <th>full_name</th>\n",
       "      <th>age</th>\n",
       "      <th>sex</th>\n",
       "      <th>full_address</th>\n",
       "      <th>first_name</th>\n",
       "      <th>middle_name</th>\n",
       "      <th>last_name</th>\n",
       "    </tr>\n",
       "  </thead>\n",
       "  <tbody>\n",
       "    <tr>\n",
       "      <th>0</th>\n",
       "      <td>John Michael Doe</td>\n",
       "      <td>32</td>\n",
       "      <td>Male</td>\n",
       "      <td>123 Main St, Downtown, Springfield, USA</td>\n",
       "      <td>John</td>\n",
       "      <td>Michael</td>\n",
       "      <td>Doe</td>\n",
       "    </tr>\n",
       "    <tr>\n",
       "      <th>1</th>\n",
       "      <td>Jane Emily Smith</td>\n",
       "      <td>28</td>\n",
       "      <td>Female</td>\n",
       "      <td>456 Elm St, Suburbia, Metropolis, USA</td>\n",
       "      <td>Jane</td>\n",
       "      <td>Emily</td>\n",
       "      <td>Smith</td>\n",
       "    </tr>\n",
       "    <tr>\n",
       "      <th>2</th>\n",
       "      <td>Robert James Brown</td>\n",
       "      <td>45</td>\n",
       "      <td>Male</td>\n",
       "      <td>789 Oak St, Riverside, Capital City, UK</td>\n",
       "      <td>Robert</td>\n",
       "      <td>James</td>\n",
       "      <td>Brown</td>\n",
       "    </tr>\n",
       "    <tr>\n",
       "      <th>3</th>\n",
       "      <td>Mary Anne Johnson</td>\n",
       "      <td>39</td>\n",
       "      <td>Female</td>\n",
       "      <td>321 Pine St, Uptown, Riverdale, Canada</td>\n",
       "      <td>Mary</td>\n",
       "      <td>Anne</td>\n",
       "      <td>Johnson</td>\n",
       "    </tr>\n",
       "    <tr>\n",
       "      <th>4</th>\n",
       "      <td>William Henry White</td>\n",
       "      <td>50</td>\n",
       "      <td>Male</td>\n",
       "      <td>654 Maple St, Seaside, Oceanview, Australia</td>\n",
       "      <td>William</td>\n",
       "      <td>Henry</td>\n",
       "      <td>White</td>\n",
       "    </tr>\n",
       "  </tbody>\n",
       "</table>\n",
       "</div>"
      ],
      "text/plain": [
       "             full_name  age     sex  \\\n",
       "0     John Michael Doe   32    Male   \n",
       "1     Jane Emily Smith   28  Female   \n",
       "2   Robert James Brown   45    Male   \n",
       "3    Mary Anne Johnson   39  Female   \n",
       "4  William Henry White   50    Male   \n",
       "\n",
       "                                  full_address first_name middle_name  \\\n",
       "0      123 Main St, Downtown, Springfield, USA       John     Michael   \n",
       "1        456 Elm St, Suburbia, Metropolis, USA       Jane       Emily   \n",
       "2      789 Oak St, Riverside, Capital City, UK     Robert       James   \n",
       "3       321 Pine St, Uptown, Riverdale, Canada       Mary        Anne   \n",
       "4  654 Maple St, Seaside, Oceanview, Australia    William       Henry   \n",
       "\n",
       "  last_name  \n",
       "0       Doe  \n",
       "1     Smith  \n",
       "2     Brown  \n",
       "3   Johnson  \n",
       "4     White  "
      ]
     },
     "execution_count": 53,
     "metadata": {},
     "output_type": "execute_result"
    }
   ],
   "source": [
    "# Expand the DataFrame with new columns populated from an existing column\n",
    "df_person[[\"first_name\", \"middle_name\", \"last_name\"]] = df_person.full_name.str.split(' ', expand=True)\n",
    "df_person.head()"
   ]
  },
  {
   "cell_type": "code",
   "execution_count": 54,
   "id": "1a76cef1",
   "metadata": {
    "execution": {
     "iopub.execute_input": "2024-09-23T11:56:12.587362Z",
     "iopub.status.busy": "2024-09-23T11:56:12.586932Z",
     "iopub.status.idle": "2024-09-23T11:56:12.606878Z",
     "shell.execute_reply": "2024-09-23T11:56:12.605544Z"
    },
    "papermill": {
     "duration": 0.058122,
     "end_time": "2024-09-23T11:56:12.610049",
     "exception": false,
     "start_time": "2024-09-23T11:56:12.551927",
     "status": "completed"
    },
    "tags": []
   },
   "outputs": [
    {
     "data": {
      "application/vnd.microsoft.datawrangler.viewer.v0+json": {
       "columns": [
        {
         "name": "index",
         "rawType": "int64",
         "type": "integer"
        },
        {
         "name": "full_name",
         "rawType": "object",
         "type": "string"
        },
        {
         "name": "age",
         "rawType": "int64",
         "type": "integer"
        },
        {
         "name": "sex",
         "rawType": "object",
         "type": "string"
        },
        {
         "name": "full_address",
         "rawType": "object",
         "type": "string"
        },
        {
         "name": "first_name",
         "rawType": "object",
         "type": "string"
        },
        {
         "name": "middle_name",
         "rawType": "object",
         "type": "string"
        },
        {
         "name": "last_name",
         "rawType": "object",
         "type": "string"
        },
        {
         "name": "address_line1",
         "rawType": "object",
         "type": "string"
        },
        {
         "name": "area",
         "rawType": "object",
         "type": "string"
        },
        {
         "name": "city",
         "rawType": "object",
         "type": "string"
        },
        {
         "name": "country",
         "rawType": "object",
         "type": "string"
        }
       ],
       "conversionMethod": "pd.DataFrame",
       "ref": "034355c4-f04a-4050-a1b0-5299339b356a",
       "rows": [
        [
         "0",
         "John Michael Doe",
         "32",
         "Male",
         "123 Main St, Downtown, Springfield, USA",
         "John",
         "Michael",
         "Doe",
         "123 Main St",
         "Downtown",
         "Springfield",
         "USA"
        ],
        [
         "1",
         "Jane Emily Smith",
         "28",
         "Female",
         "456 Elm St, Suburbia, Metropolis, USA",
         "Jane",
         "Emily",
         "Smith",
         "456 Elm St",
         "Suburbia",
         "Metropolis",
         "USA"
        ],
        [
         "2",
         "Robert James Brown",
         "45",
         "Male",
         "789 Oak St, Riverside, Capital City, UK",
         "Robert",
         "James",
         "Brown",
         "789 Oak St",
         "Riverside",
         "Capital City",
         "UK"
        ],
        [
         "3",
         "Mary Anne Johnson",
         "39",
         "Female",
         "321 Pine St, Uptown, Riverdale, Canada",
         "Mary",
         "Anne",
         "Johnson",
         "321 Pine St",
         "Uptown",
         "Riverdale",
         "Canada"
        ],
        [
         "4",
         "William Henry White",
         "50",
         "Male",
         "654 Maple St, Seaside, Oceanview, Australia",
         "William",
         "Henry",
         "White",
         "654 Maple St",
         "Seaside",
         "Oceanview",
         "Australia"
        ]
       ],
       "shape": {
        "columns": 11,
        "rows": 5
       }
      },
      "text/html": [
       "<div>\n",
       "<style scoped>\n",
       "    .dataframe tbody tr th:only-of-type {\n",
       "        vertical-align: middle;\n",
       "    }\n",
       "\n",
       "    .dataframe tbody tr th {\n",
       "        vertical-align: top;\n",
       "    }\n",
       "\n",
       "    .dataframe thead th {\n",
       "        text-align: right;\n",
       "    }\n",
       "</style>\n",
       "<table border=\"1\" class=\"dataframe\">\n",
       "  <thead>\n",
       "    <tr style=\"text-align: right;\">\n",
       "      <th></th>\n",
       "      <th>full_name</th>\n",
       "      <th>age</th>\n",
       "      <th>sex</th>\n",
       "      <th>full_address</th>\n",
       "      <th>first_name</th>\n",
       "      <th>middle_name</th>\n",
       "      <th>last_name</th>\n",
       "      <th>address_line1</th>\n",
       "      <th>area</th>\n",
       "      <th>city</th>\n",
       "      <th>country</th>\n",
       "    </tr>\n",
       "  </thead>\n",
       "  <tbody>\n",
       "    <tr>\n",
       "      <th>0</th>\n",
       "      <td>John Michael Doe</td>\n",
       "      <td>32</td>\n",
       "      <td>Male</td>\n",
       "      <td>123 Main St, Downtown, Springfield, USA</td>\n",
       "      <td>John</td>\n",
       "      <td>Michael</td>\n",
       "      <td>Doe</td>\n",
       "      <td>123 Main St</td>\n",
       "      <td>Downtown</td>\n",
       "      <td>Springfield</td>\n",
       "      <td>USA</td>\n",
       "    </tr>\n",
       "    <tr>\n",
       "      <th>1</th>\n",
       "      <td>Jane Emily Smith</td>\n",
       "      <td>28</td>\n",
       "      <td>Female</td>\n",
       "      <td>456 Elm St, Suburbia, Metropolis, USA</td>\n",
       "      <td>Jane</td>\n",
       "      <td>Emily</td>\n",
       "      <td>Smith</td>\n",
       "      <td>456 Elm St</td>\n",
       "      <td>Suburbia</td>\n",
       "      <td>Metropolis</td>\n",
       "      <td>USA</td>\n",
       "    </tr>\n",
       "    <tr>\n",
       "      <th>2</th>\n",
       "      <td>Robert James Brown</td>\n",
       "      <td>45</td>\n",
       "      <td>Male</td>\n",
       "      <td>789 Oak St, Riverside, Capital City, UK</td>\n",
       "      <td>Robert</td>\n",
       "      <td>James</td>\n",
       "      <td>Brown</td>\n",
       "      <td>789 Oak St</td>\n",
       "      <td>Riverside</td>\n",
       "      <td>Capital City</td>\n",
       "      <td>UK</td>\n",
       "    </tr>\n",
       "    <tr>\n",
       "      <th>3</th>\n",
       "      <td>Mary Anne Johnson</td>\n",
       "      <td>39</td>\n",
       "      <td>Female</td>\n",
       "      <td>321 Pine St, Uptown, Riverdale, Canada</td>\n",
       "      <td>Mary</td>\n",
       "      <td>Anne</td>\n",
       "      <td>Johnson</td>\n",
       "      <td>321 Pine St</td>\n",
       "      <td>Uptown</td>\n",
       "      <td>Riverdale</td>\n",
       "      <td>Canada</td>\n",
       "    </tr>\n",
       "    <tr>\n",
       "      <th>4</th>\n",
       "      <td>William Henry White</td>\n",
       "      <td>50</td>\n",
       "      <td>Male</td>\n",
       "      <td>654 Maple St, Seaside, Oceanview, Australia</td>\n",
       "      <td>William</td>\n",
       "      <td>Henry</td>\n",
       "      <td>White</td>\n",
       "      <td>654 Maple St</td>\n",
       "      <td>Seaside</td>\n",
       "      <td>Oceanview</td>\n",
       "      <td>Australia</td>\n",
       "    </tr>\n",
       "  </tbody>\n",
       "</table>\n",
       "</div>"
      ],
      "text/plain": [
       "             full_name  age     sex  \\\n",
       "0     John Michael Doe   32    Male   \n",
       "1     Jane Emily Smith   28  Female   \n",
       "2   Robert James Brown   45    Male   \n",
       "3    Mary Anne Johnson   39  Female   \n",
       "4  William Henry White   50    Male   \n",
       "\n",
       "                                  full_address first_name middle_name  \\\n",
       "0      123 Main St, Downtown, Springfield, USA       John     Michael   \n",
       "1        456 Elm St, Suburbia, Metropolis, USA       Jane       Emily   \n",
       "2      789 Oak St, Riverside, Capital City, UK     Robert       James   \n",
       "3       321 Pine St, Uptown, Riverdale, Canada       Mary        Anne   \n",
       "4  654 Maple St, Seaside, Oceanview, Australia    William       Henry   \n",
       "\n",
       "  last_name address_line1       area          city    country  \n",
       "0       Doe   123 Main St   Downtown   Springfield        USA  \n",
       "1     Smith    456 Elm St   Suburbia    Metropolis        USA  \n",
       "2     Brown    789 Oak St  Riverside  Capital City         UK  \n",
       "3   Johnson   321 Pine St     Uptown     Riverdale     Canada  \n",
       "4     White  654 Maple St    Seaside     Oceanview  Australia  "
      ]
     },
     "execution_count": 54,
     "metadata": {},
     "output_type": "execute_result"
    }
   ],
   "source": [
    "# Expand the dataframe with new columns populated from an existing column\n",
    "df_person[[\"address_line1\", \"area\", \"city\", \"country\"]] = df_person.full_address.str.split(', ', expand=True)\n",
    "df_person.head()"
   ]
  },
  {
   "cell_type": "code",
   "execution_count": 55,
   "id": "25544814",
   "metadata": {
    "execution": {
     "iopub.execute_input": "2024-09-23T11:56:12.682613Z",
     "iopub.status.busy": "2024-09-23T11:56:12.682168Z",
     "iopub.status.idle": "2024-09-23T11:56:12.693746Z",
     "shell.execute_reply": "2024-09-23T11:56:12.692377Z"
    },
    "papermill": {
     "duration": 0.050341,
     "end_time": "2024-09-23T11:56:12.696161",
     "exception": false,
     "start_time": "2024-09-23T11:56:12.645820",
     "status": "completed"
    },
    "tags": []
   },
   "outputs": [
    {
     "data": {
      "text/plain": [
       "0    JohMicDoe\n",
       "1    JanEmiSmi\n",
       "2    RobJamBro\n",
       "3    MarAnnJoh\n",
       "4    WilHenWhi\n",
       "Name: alias, dtype: object"
      ]
     },
     "execution_count": 55,
     "metadata": {},
     "output_type": "execute_result"
    }
   ],
   "source": [
    "# Adds a new column by combining 2 columns\n",
    "df_person['alias'] = df_person.first_name.str[0:3] + df_person.middle_name.str[0:3] + df_person.last_name.str[0:3]\n",
    "df_person.alias"
   ]
  },
  {
   "cell_type": "code",
   "execution_count": 56,
   "id": "f6b18bc4",
   "metadata": {
    "execution": {
     "iopub.execute_input": "2024-09-23T11:56:12.767920Z",
     "iopub.status.busy": "2024-09-23T11:56:12.767487Z",
     "iopub.status.idle": "2024-09-23T11:56:12.786482Z",
     "shell.execute_reply": "2024-09-23T11:56:12.785010Z"
    },
    "papermill": {
     "duration": 0.056967,
     "end_time": "2024-09-23T11:56:12.788990",
     "exception": false,
     "start_time": "2024-09-23T11:56:12.732023",
     "status": "completed"
    },
    "tags": []
   },
   "outputs": [
    {
     "data": {
      "application/vnd.microsoft.datawrangler.viewer.v0+json": {
       "columns": [
        {
         "name": "index",
         "rawType": "int64",
         "type": "integer"
        },
        {
         "name": "first_name",
         "rawType": "object",
         "type": "string"
        },
        {
         "name": "middle_name",
         "rawType": "object",
         "type": "string"
        },
        {
         "name": "last_name",
         "rawType": "object",
         "type": "string"
        },
        {
         "name": "alias",
         "rawType": "object",
         "type": "string"
        },
        {
         "name": "full_name",
         "rawType": "object",
         "type": "string"
        },
        {
         "name": "age",
         "rawType": "int64",
         "type": "integer"
        },
        {
         "name": "sex",
         "rawType": "object",
         "type": "string"
        },
        {
         "name": "address_line1",
         "rawType": "object",
         "type": "string"
        },
        {
         "name": "area",
         "rawType": "object",
         "type": "string"
        },
        {
         "name": "city",
         "rawType": "object",
         "type": "string"
        },
        {
         "name": "country",
         "rawType": "object",
         "type": "string"
        },
        {
         "name": "full_address",
         "rawType": "object",
         "type": "string"
        }
       ],
       "conversionMethod": "pd.DataFrame",
       "ref": "8d76d896-5d6d-456d-bda5-e508016a3054",
       "rows": [
        [
         "0",
         "John",
         "Michael",
         "Doe",
         "JohMicDoe",
         "John Michael Doe",
         "32",
         "Male",
         "123 Main St",
         "Downtown",
         "Springfield",
         "USA",
         "123 Main St, Downtown, Springfield, USA"
        ],
        [
         "1",
         "Jane",
         "Emily",
         "Smith",
         "JanEmiSmi",
         "Jane Emily Smith",
         "28",
         "Female",
         "456 Elm St",
         "Suburbia",
         "Metropolis",
         "USA",
         "456 Elm St, Suburbia, Metropolis, USA"
        ],
        [
         "2",
         "Robert",
         "James",
         "Brown",
         "RobJamBro",
         "Robert James Brown",
         "45",
         "Male",
         "789 Oak St",
         "Riverside",
         "Capital City",
         "UK",
         "789 Oak St, Riverside, Capital City, UK"
        ],
        [
         "3",
         "Mary",
         "Anne",
         "Johnson",
         "MarAnnJoh",
         "Mary Anne Johnson",
         "39",
         "Female",
         "321 Pine St",
         "Uptown",
         "Riverdale",
         "Canada",
         "321 Pine St, Uptown, Riverdale, Canada"
        ],
        [
         "4",
         "William",
         "Henry",
         "White",
         "WilHenWhi",
         "William Henry White",
         "50",
         "Male",
         "654 Maple St",
         "Seaside",
         "Oceanview",
         "Australia",
         "654 Maple St, Seaside, Oceanview, Australia"
        ]
       ],
       "shape": {
        "columns": 12,
        "rows": 5
       }
      },
      "text/html": [
       "<div>\n",
       "<style scoped>\n",
       "    .dataframe tbody tr th:only-of-type {\n",
       "        vertical-align: middle;\n",
       "    }\n",
       "\n",
       "    .dataframe tbody tr th {\n",
       "        vertical-align: top;\n",
       "    }\n",
       "\n",
       "    .dataframe thead th {\n",
       "        text-align: right;\n",
       "    }\n",
       "</style>\n",
       "<table border=\"1\" class=\"dataframe\">\n",
       "  <thead>\n",
       "    <tr style=\"text-align: right;\">\n",
       "      <th></th>\n",
       "      <th>first_name</th>\n",
       "      <th>middle_name</th>\n",
       "      <th>last_name</th>\n",
       "      <th>alias</th>\n",
       "      <th>full_name</th>\n",
       "      <th>age</th>\n",
       "      <th>sex</th>\n",
       "      <th>address_line1</th>\n",
       "      <th>area</th>\n",
       "      <th>city</th>\n",
       "      <th>country</th>\n",
       "      <th>full_address</th>\n",
       "    </tr>\n",
       "  </thead>\n",
       "  <tbody>\n",
       "    <tr>\n",
       "      <th>0</th>\n",
       "      <td>John</td>\n",
       "      <td>Michael</td>\n",
       "      <td>Doe</td>\n",
       "      <td>JohMicDoe</td>\n",
       "      <td>John Michael Doe</td>\n",
       "      <td>32</td>\n",
       "      <td>Male</td>\n",
       "      <td>123 Main St</td>\n",
       "      <td>Downtown</td>\n",
       "      <td>Springfield</td>\n",
       "      <td>USA</td>\n",
       "      <td>123 Main St, Downtown, Springfield, USA</td>\n",
       "    </tr>\n",
       "    <tr>\n",
       "      <th>1</th>\n",
       "      <td>Jane</td>\n",
       "      <td>Emily</td>\n",
       "      <td>Smith</td>\n",
       "      <td>JanEmiSmi</td>\n",
       "      <td>Jane Emily Smith</td>\n",
       "      <td>28</td>\n",
       "      <td>Female</td>\n",
       "      <td>456 Elm St</td>\n",
       "      <td>Suburbia</td>\n",
       "      <td>Metropolis</td>\n",
       "      <td>USA</td>\n",
       "      <td>456 Elm St, Suburbia, Metropolis, USA</td>\n",
       "    </tr>\n",
       "    <tr>\n",
       "      <th>2</th>\n",
       "      <td>Robert</td>\n",
       "      <td>James</td>\n",
       "      <td>Brown</td>\n",
       "      <td>RobJamBro</td>\n",
       "      <td>Robert James Brown</td>\n",
       "      <td>45</td>\n",
       "      <td>Male</td>\n",
       "      <td>789 Oak St</td>\n",
       "      <td>Riverside</td>\n",
       "      <td>Capital City</td>\n",
       "      <td>UK</td>\n",
       "      <td>789 Oak St, Riverside, Capital City, UK</td>\n",
       "    </tr>\n",
       "    <tr>\n",
       "      <th>3</th>\n",
       "      <td>Mary</td>\n",
       "      <td>Anne</td>\n",
       "      <td>Johnson</td>\n",
       "      <td>MarAnnJoh</td>\n",
       "      <td>Mary Anne Johnson</td>\n",
       "      <td>39</td>\n",
       "      <td>Female</td>\n",
       "      <td>321 Pine St</td>\n",
       "      <td>Uptown</td>\n",
       "      <td>Riverdale</td>\n",
       "      <td>Canada</td>\n",
       "      <td>321 Pine St, Uptown, Riverdale, Canada</td>\n",
       "    </tr>\n",
       "    <tr>\n",
       "      <th>4</th>\n",
       "      <td>William</td>\n",
       "      <td>Henry</td>\n",
       "      <td>White</td>\n",
       "      <td>WilHenWhi</td>\n",
       "      <td>William Henry White</td>\n",
       "      <td>50</td>\n",
       "      <td>Male</td>\n",
       "      <td>654 Maple St</td>\n",
       "      <td>Seaside</td>\n",
       "      <td>Oceanview</td>\n",
       "      <td>Australia</td>\n",
       "      <td>654 Maple St, Seaside, Oceanview, Australia</td>\n",
       "    </tr>\n",
       "  </tbody>\n",
       "</table>\n",
       "</div>"
      ],
      "text/plain": [
       "  first_name middle_name last_name      alias            full_name  age  \\\n",
       "0       John     Michael       Doe  JohMicDoe     John Michael Doe   32   \n",
       "1       Jane       Emily     Smith  JanEmiSmi     Jane Emily Smith   28   \n",
       "2     Robert       James     Brown  RobJamBro   Robert James Brown   45   \n",
       "3       Mary        Anne   Johnson  MarAnnJoh    Mary Anne Johnson   39   \n",
       "4    William       Henry     White  WilHenWhi  William Henry White   50   \n",
       "\n",
       "      sex address_line1       area          city    country  \\\n",
       "0    Male   123 Main St   Downtown   Springfield        USA   \n",
       "1  Female    456 Elm St   Suburbia    Metropolis        USA   \n",
       "2    Male    789 Oak St  Riverside  Capital City         UK   \n",
       "3  Female   321 Pine St     Uptown     Riverdale     Canada   \n",
       "4    Male  654 Maple St    Seaside     Oceanview  Australia   \n",
       "\n",
       "                                  full_address  \n",
       "0      123 Main St, Downtown, Springfield, USA  \n",
       "1        456 Elm St, Suburbia, Metropolis, USA  \n",
       "2      789 Oak St, Riverside, Capital City, UK  \n",
       "3       321 Pine St, Uptown, Riverdale, Canada  \n",
       "4  654 Maple St, Seaside, Oceanview, Australia  "
      ]
     },
     "execution_count": 56,
     "metadata": {},
     "output_type": "execute_result"
    }
   ],
   "source": [
    "# Rearrange the columns\n",
    "df_person = df_person[[\"first_name\", \"middle_name\", \"last_name\", \"alias\", \"full_name\", \"age\", \"sex\", \"address_line1\", \"area\", \"city\", \"country\", \"full_address\"]]\n",
    "df_person"
   ]
  },
  {
   "cell_type": "markdown",
   "id": "f81b63d1",
   "metadata": {
    "papermill": {
     "duration": 0.033773,
     "end_time": "2024-09-23T11:56:12.857055",
     "exception": false,
     "start_time": "2024-09-23T11:56:12.823282",
     "status": "completed"
    },
    "tags": []
   },
   "source": [
    "<h1 style=\"background-color: #f0f8ff; padding: 15px; border: 2px solid #3498db; border-radius: 8px; margin-bottom: 15px; color: #2980b9;\">12. Aggregations by grouping</h1>"
   ]
  },
  {
   "cell_type": "markdown",
   "id": "e8b632ff",
   "metadata": {
    "papermill": {
     "duration": 0.037516,
     "end_time": "2024-09-23T11:56:12.928426",
     "exception": false,
     "start_time": "2024-09-23T11:56:12.890910",
     "status": "completed"
    },
    "tags": []
   },
   "source": [
    "# 12. Aggregations by grouping"
   ]
  },
  {
   "cell_type": "code",
   "execution_count": 57,
   "id": "a8f3ce59",
   "metadata": {
    "execution": {
     "iopub.execute_input": "2024-09-23T11:56:12.998581Z",
     "iopub.status.busy": "2024-09-23T11:56:12.998140Z",
     "iopub.status.idle": "2024-09-23T11:56:13.791863Z",
     "shell.execute_reply": "2024-09-23T11:56:13.790598Z"
    },
    "papermill": {
     "duration": 0.831774,
     "end_time": "2024-09-23T11:56:13.794447",
     "exception": false,
     "start_time": "2024-09-23T11:56:12.962673",
     "status": "completed"
    },
    "tags": []
   },
   "outputs": [
    {
     "data": {
      "application/vnd.microsoft.datawrangler.viewer.v0+json": {
       "columns": [
        {
         "name": "index",
         "rawType": "int64",
         "type": "integer"
        },
        {
         "name": "survived",
         "rawType": "int64",
         "type": "integer"
        },
        {
         "name": "pclass",
         "rawType": "int64",
         "type": "integer"
        },
        {
         "name": "sex",
         "rawType": "object",
         "type": "string"
        },
        {
         "name": "age",
         "rawType": "float64",
         "type": "float"
        },
        {
         "name": "sibsp",
         "rawType": "int64",
         "type": "integer"
        },
        {
         "name": "parch",
         "rawType": "int64",
         "type": "integer"
        },
        {
         "name": "fare",
         "rawType": "float64",
         "type": "float"
        },
        {
         "name": "embarked",
         "rawType": "object",
         "type": "string"
        },
        {
         "name": "class",
         "rawType": "category",
         "type": "unknown"
        },
        {
         "name": "who",
         "rawType": "object",
         "type": "string"
        },
        {
         "name": "adult_male",
         "rawType": "bool",
         "type": "boolean"
        },
        {
         "name": "deck",
         "rawType": "category",
         "type": "unknown"
        },
        {
         "name": "embark_town",
         "rawType": "object",
         "type": "string"
        },
        {
         "name": "alive",
         "rawType": "object",
         "type": "string"
        },
        {
         "name": "alone",
         "rawType": "bool",
         "type": "boolean"
        }
       ],
       "conversionMethod": "pd.DataFrame",
       "ref": "e3392de8-3f6c-4f4d-b1a9-0c619b284225",
       "rows": [
        [
         "0",
         "0",
         "3",
         "male",
         "22.0",
         "1",
         "0",
         "7.25",
         "S",
         "Third",
         "man",
         "True",
         null,
         "Southampton",
         "no",
         "False"
        ],
        [
         "1",
         "1",
         "1",
         "female",
         "38.0",
         "1",
         "0",
         "71.2833",
         "C",
         "First",
         "woman",
         "False",
         "C",
         "Cherbourg",
         "yes",
         "False"
        ],
        [
         "2",
         "1",
         "3",
         "female",
         "26.0",
         "0",
         "0",
         "7.925",
         "S",
         "Third",
         "woman",
         "False",
         null,
         "Southampton",
         "yes",
         "True"
        ],
        [
         "3",
         "1",
         "1",
         "female",
         "35.0",
         "1",
         "0",
         "53.1",
         "S",
         "First",
         "woman",
         "False",
         "C",
         "Southampton",
         "yes",
         "False"
        ],
        [
         "4",
         "0",
         "3",
         "male",
         "35.0",
         "0",
         "0",
         "8.05",
         "S",
         "Third",
         "man",
         "True",
         null,
         "Southampton",
         "no",
         "True"
        ]
       ],
       "shape": {
        "columns": 15,
        "rows": 5
       }
      },
      "text/html": [
       "<div>\n",
       "<style scoped>\n",
       "    .dataframe tbody tr th:only-of-type {\n",
       "        vertical-align: middle;\n",
       "    }\n",
       "\n",
       "    .dataframe tbody tr th {\n",
       "        vertical-align: top;\n",
       "    }\n",
       "\n",
       "    .dataframe thead th {\n",
       "        text-align: right;\n",
       "    }\n",
       "</style>\n",
       "<table border=\"1\" class=\"dataframe\">\n",
       "  <thead>\n",
       "    <tr style=\"text-align: right;\">\n",
       "      <th></th>\n",
       "      <th>survived</th>\n",
       "      <th>pclass</th>\n",
       "      <th>sex</th>\n",
       "      <th>age</th>\n",
       "      <th>sibsp</th>\n",
       "      <th>parch</th>\n",
       "      <th>fare</th>\n",
       "      <th>embarked</th>\n",
       "      <th>class</th>\n",
       "      <th>who</th>\n",
       "      <th>adult_male</th>\n",
       "      <th>deck</th>\n",
       "      <th>embark_town</th>\n",
       "      <th>alive</th>\n",
       "      <th>alone</th>\n",
       "    </tr>\n",
       "  </thead>\n",
       "  <tbody>\n",
       "    <tr>\n",
       "      <th>0</th>\n",
       "      <td>0</td>\n",
       "      <td>3</td>\n",
       "      <td>male</td>\n",
       "      <td>22.0</td>\n",
       "      <td>1</td>\n",
       "      <td>0</td>\n",
       "      <td>7.2500</td>\n",
       "      <td>S</td>\n",
       "      <td>Third</td>\n",
       "      <td>man</td>\n",
       "      <td>True</td>\n",
       "      <td>NaN</td>\n",
       "      <td>Southampton</td>\n",
       "      <td>no</td>\n",
       "      <td>False</td>\n",
       "    </tr>\n",
       "    <tr>\n",
       "      <th>1</th>\n",
       "      <td>1</td>\n",
       "      <td>1</td>\n",
       "      <td>female</td>\n",
       "      <td>38.0</td>\n",
       "      <td>1</td>\n",
       "      <td>0</td>\n",
       "      <td>71.2833</td>\n",
       "      <td>C</td>\n",
       "      <td>First</td>\n",
       "      <td>woman</td>\n",
       "      <td>False</td>\n",
       "      <td>C</td>\n",
       "      <td>Cherbourg</td>\n",
       "      <td>yes</td>\n",
       "      <td>False</td>\n",
       "    </tr>\n",
       "    <tr>\n",
       "      <th>2</th>\n",
       "      <td>1</td>\n",
       "      <td>3</td>\n",
       "      <td>female</td>\n",
       "      <td>26.0</td>\n",
       "      <td>0</td>\n",
       "      <td>0</td>\n",
       "      <td>7.9250</td>\n",
       "      <td>S</td>\n",
       "      <td>Third</td>\n",
       "      <td>woman</td>\n",
       "      <td>False</td>\n",
       "      <td>NaN</td>\n",
       "      <td>Southampton</td>\n",
       "      <td>yes</td>\n",
       "      <td>True</td>\n",
       "    </tr>\n",
       "    <tr>\n",
       "      <th>3</th>\n",
       "      <td>1</td>\n",
       "      <td>1</td>\n",
       "      <td>female</td>\n",
       "      <td>35.0</td>\n",
       "      <td>1</td>\n",
       "      <td>0</td>\n",
       "      <td>53.1000</td>\n",
       "      <td>S</td>\n",
       "      <td>First</td>\n",
       "      <td>woman</td>\n",
       "      <td>False</td>\n",
       "      <td>C</td>\n",
       "      <td>Southampton</td>\n",
       "      <td>yes</td>\n",
       "      <td>False</td>\n",
       "    </tr>\n",
       "    <tr>\n",
       "      <th>4</th>\n",
       "      <td>0</td>\n",
       "      <td>3</td>\n",
       "      <td>male</td>\n",
       "      <td>35.0</td>\n",
       "      <td>0</td>\n",
       "      <td>0</td>\n",
       "      <td>8.0500</td>\n",
       "      <td>S</td>\n",
       "      <td>Third</td>\n",
       "      <td>man</td>\n",
       "      <td>True</td>\n",
       "      <td>NaN</td>\n",
       "      <td>Southampton</td>\n",
       "      <td>no</td>\n",
       "      <td>True</td>\n",
       "    </tr>\n",
       "  </tbody>\n",
       "</table>\n",
       "</div>"
      ],
      "text/plain": [
       "   survived  pclass     sex   age  sibsp  parch     fare embarked  class  \\\n",
       "0         0       3    male  22.0      1      0   7.2500        S  Third   \n",
       "1         1       1  female  38.0      1      0  71.2833        C  First   \n",
       "2         1       3  female  26.0      0      0   7.9250        S  Third   \n",
       "3         1       1  female  35.0      1      0  53.1000        S  First   \n",
       "4         0       3    male  35.0      0      0   8.0500        S  Third   \n",
       "\n",
       "     who  adult_male deck  embark_town alive  alone  \n",
       "0    man        True  NaN  Southampton    no  False  \n",
       "1  woman       False    C    Cherbourg   yes  False  \n",
       "2  woman       False  NaN  Southampton   yes   True  \n",
       "3  woman       False    C  Southampton   yes  False  \n",
       "4    man        True  NaN  Southampton    no   True  "
      ]
     },
     "execution_count": 57,
     "metadata": {},
     "output_type": "execute_result"
    }
   ],
   "source": [
    "df_titanic = sns.load_dataset('titanic')\n",
    "df_titanic.head()"
   ]
  },
  {
   "cell_type": "code",
   "execution_count": 58,
   "id": "b27c9bf7",
   "metadata": {
    "execution": {
     "iopub.execute_input": "2024-09-23T11:56:13.866939Z",
     "iopub.status.busy": "2024-09-23T11:56:13.866522Z",
     "iopub.status.idle": "2024-09-23T11:56:13.882011Z",
     "shell.execute_reply": "2024-09-23T11:56:13.880675Z"
    },
    "papermill": {
     "duration": 0.055233,
     "end_time": "2024-09-23T11:56:13.884638",
     "exception": false,
     "start_time": "2024-09-23T11:56:13.829405",
     "status": "completed"
    },
    "tags": []
   },
   "outputs": [
    {
     "name": "stdout",
     "output_type": "stream",
     "text": [
      "<pandas.core.groupby.generic.DataFrameGroupBy object at 0x000002CB94F83E00> \n",
      "        survived  pclass  sex  age  sibsp  parch  fare  embarked  class  \\\n",
      "who                                                                      \n",
      "child        83      83   83   83     83     83    83        83     83   \n",
      "man         537     537  537  413    537    537   537       537    537   \n",
      "woman       271     271  271  218    271    271   271       269    271   \n",
      "\n",
      "       adult_male  deck  embark_town  alive  alone  \n",
      "who                                                 \n",
      "child          83    13           83     83     83  \n",
      "man           537    99          537    537    537  \n",
      "woman         271    91          269    271    271   \n",
      " 3\n"
     ]
    }
   ],
   "source": [
    "# Groupby the values in who column\n",
    "# Groupby is effective with categorical data \n",
    "# and not too effective with discrete numerica or continous data\n",
    "who = df_titanic.groupby('who')\n",
    "print(who, \"\\n\", who.count(), \"\\n\", len(who))"
   ]
  },
  {
   "cell_type": "markdown",
   "id": "64206729",
   "metadata": {
    "papermill": {
     "duration": 0.034816,
     "end_time": "2024-09-23T11:56:13.956560",
     "exception": false,
     "start_time": "2024-09-23T11:56:13.921744",
     "status": "completed"
    },
    "tags": []
   },
   "source": [
    "### Grouped by multiple columns\n",
    "first on sex than on survived and than on deck and apply count function on each column"
   ]
  },
  {
   "cell_type": "code",
   "execution_count": 59,
   "id": "b524d286",
   "metadata": {
    "execution": {
     "iopub.execute_input": "2024-09-23T11:56:14.030032Z",
     "iopub.status.busy": "2024-09-23T11:56:14.028836Z",
     "iopub.status.idle": "2024-09-23T11:56:14.443472Z",
     "shell.execute_reply": "2024-09-23T11:56:14.442240Z"
    },
    "papermill": {
     "duration": 0.454387,
     "end_time": "2024-09-23T11:56:14.446281",
     "exception": false,
     "start_time": "2024-09-23T11:56:13.991894",
     "status": "completed"
    },
    "tags": []
   },
   "outputs": [
    {
     "name": "stdout",
     "output_type": "stream",
     "text": [
      "\n",
      "                       pclass  age  sibsp  parch  fare  embarked  class  who  \\\n",
      "sex    survived deck                                                          \n",
      "female 0        A          0    0      0      0     0         0      0    0   \n",
      "                B          0    0      0      0     0         0      0    0   \n",
      "                C          3    3      3      3     3         3      3    3   \n",
      "                D          0    0      0      0     0         0      0    0   \n",
      "                E          1    1      1      1     1         1      1    1   \n",
      "\n",
      "                      adult_male  embark_town  alive  alone  \n",
      "sex    survived deck                                         \n",
      "female 0        A              0            0      0      0  \n",
      "                B              0            0      0      0  \n",
      "                C              3            3      3      3  \n",
      "                D              0            0      0      0  \n",
      "                E              1            1      1      1  \n"
     ]
    },
    {
     "name": "stderr",
     "output_type": "stream",
     "text": [
      "C:\\Users\\smkamran\\AppData\\Local\\Temp\\ipykernel_9768\\2340556849.py:1: FutureWarning: The default of observed=False is deprecated and will be changed to True in a future version of pandas. Pass observed=False to retain current behavior or observed=True to adopt the future default and silence this warning.\n",
      "  group = df_titanic.groupby([\"sex\", \"survived\", \"deck\"]).count()\n"
     ]
    }
   ],
   "source": [
    "group = df_titanic.groupby([\"sex\", \"survived\", \"deck\"]).count()\n",
    "print(\"\\n\", group.head())\n",
    "group.to_excel(path+'groupby.xlsx')"
   ]
  },
  {
   "cell_type": "code",
   "execution_count": 60,
   "id": "c2c8d249",
   "metadata": {
    "execution": {
     "iopub.execute_input": "2024-09-23T11:56:14.519838Z",
     "iopub.status.busy": "2024-09-23T11:56:14.519237Z",
     "iopub.status.idle": "2024-09-23T11:56:14.527998Z",
     "shell.execute_reply": "2024-09-23T11:56:14.526798Z"
    },
    "papermill": {
     "duration": 0.049054,
     "end_time": "2024-09-23T11:56:14.530336",
     "exception": false,
     "start_time": "2024-09-23T11:56:14.481282",
     "status": "completed"
    },
    "tags": []
   },
   "outputs": [
    {
     "data": {
      "text/plain": [
       "MultiIndex([('female', 0, 'A'),\n",
       "            ('female', 0, 'B'),\n",
       "            ('female', 0, 'C'),\n",
       "            ('female', 0, 'D')],\n",
       "           names=['sex', 'survived', 'deck'])"
      ]
     },
     "execution_count": 60,
     "metadata": {},
     "output_type": "execute_result"
    }
   ],
   "source": [
    "# In case of group it's a multi index\n",
    "group.index[0:4]"
   ]
  },
  {
   "cell_type": "code",
   "execution_count": 61,
   "id": "a149fd78",
   "metadata": {
    "execution": {
     "iopub.execute_input": "2024-09-23T11:56:14.602718Z",
     "iopub.status.busy": "2024-09-23T11:56:14.602296Z",
     "iopub.status.idle": "2024-09-23T11:56:14.812385Z",
     "shell.execute_reply": "2024-09-23T11:56:14.811112Z"
    },
    "papermill": {
     "duration": 0.24924,
     "end_time": "2024-09-23T11:56:14.815102",
     "exception": false,
     "start_time": "2024-09-23T11:56:14.565862",
     "status": "completed"
    },
    "tags": []
   },
   "outputs": [
    {
     "name": "stdout",
     "output_type": "stream",
     "text": [
      "0.3838383838383838\n",
      "\n",
      " sex\n",
      "female    233\n",
      "male      109\n",
      "Name: survived, dtype: int64\n"
     ]
    },
    {
     "name": "stderr",
     "output_type": "stream",
     "text": [
      "C:\\Users\\smkamran\\AppData\\Local\\Temp\\ipykernel_9768\\2712838157.py:8: FutureWarning: The default of observed=False is deprecated and will be changed to True in a future version of pandas. Pass observed=False to retain current behavior or observed=True to adopt the future default and silence this warning.\n",
      "  grouped = df_titanic.groupby(['sex', 'class']).survived.sum()\n"
     ]
    },
    {
     "data": {
      "text/plain": [
       "<Axes: ylabel='survived'>"
      ]
     },
     "execution_count": 61,
     "metadata": {},
     "output_type": "execute_result"
    },
    {
     "data": {
      "image/png": "[encoded data removed]",
      "text/plain": [
       "<Figure size 640x480 with 1 Axes>"
      ]
     },
     "metadata": {},
     "output_type": "display_data"
    }
   ],
   "source": [
    "# Simple mean of a column\n",
    "print(df_titanic.survived.mean())\n",
    "\n",
    "# Groupby sex and then compute mean of survived column\n",
    "print(\"\\n\", df_titanic.groupby('sex').survived.sum())\n",
    "\n",
    "# Groupby sex and class and then compute mean of survived column\n",
    "grouped = df_titanic.groupby(['sex', 'class']).survived.sum()\n",
    "grouped.plot(kind='pie')"
   ]
  },
  {
   "cell_type": "markdown",
   "id": "051a39c8",
   "metadata": {
    "papermill": {
     "duration": 0.0364,
     "end_time": "2024-09-23T11:56:14.888688",
     "exception": false,
     "start_time": "2024-09-23T11:56:14.852288",
     "status": "completed"
    },
    "tags": []
   },
   "source": [
    "### Applying multiple aggregations (Applying on more than 1 columns)"
   ]
  },
  {
   "cell_type": "code",
   "execution_count": 62,
   "id": "4afc24b9",
   "metadata": {
    "execution": {
     "iopub.execute_input": "2024-09-23T11:56:14.965261Z",
     "iopub.status.busy": "2024-09-23T11:56:14.964281Z",
     "iopub.status.idle": "2024-09-23T11:56:14.980067Z",
     "shell.execute_reply": "2024-09-23T11:56:14.978844Z"
    },
    "papermill": {
     "duration": 0.056477,
     "end_time": "2024-09-23T11:56:14.982604",
     "exception": false,
     "start_time": "2024-09-23T11:56:14.926127",
     "status": "completed"
    },
    "tags": []
   },
   "outputs": [
    {
     "data": {
      "application/vnd.microsoft.datawrangler.viewer.v0+json": {
       "columns": [
        {
         "name": "sex",
         "rawType": "object",
         "type": "string"
        },
        {
         "name": "First",
         "rawType": "int64",
         "type": "integer"
        },
        {
         "name": "Second",
         "rawType": "int64",
         "type": "integer"
        },
        {
         "name": "Third",
         "rawType": "int64",
         "type": "integer"
        }
       ],
       "conversionMethod": "pd.DataFrame",
       "ref": "d9ee8ea6-73dc-4519-9781-f8f8fd68fd6d",
       "rows": [
        [
         "female",
         "91",
         "70",
         "72"
        ],
        [
         "male",
         "45",
         "17",
         "47"
        ]
       ],
       "shape": {
        "columns": 3,
        "rows": 2
       }
      },
      "text/html": [
       "<div>\n",
       "<style scoped>\n",
       "    .dataframe tbody tr th:only-of-type {\n",
       "        vertical-align: middle;\n",
       "    }\n",
       "\n",
       "    .dataframe tbody tr th {\n",
       "        vertical-align: top;\n",
       "    }\n",
       "\n",
       "    .dataframe thead th {\n",
       "        text-align: right;\n",
       "    }\n",
       "</style>\n",
       "<table border=\"1\" class=\"dataframe\">\n",
       "  <thead>\n",
       "    <tr style=\"text-align: right;\">\n",
       "      <th>class</th>\n",
       "      <th>First</th>\n",
       "      <th>Second</th>\n",
       "      <th>Third</th>\n",
       "    </tr>\n",
       "    <tr>\n",
       "      <th>sex</th>\n",
       "      <th></th>\n",
       "      <th></th>\n",
       "      <th></th>\n",
       "    </tr>\n",
       "  </thead>\n",
       "  <tbody>\n",
       "    <tr>\n",
       "      <th>female</th>\n",
       "      <td>91</td>\n",
       "      <td>70</td>\n",
       "      <td>72</td>\n",
       "    </tr>\n",
       "    <tr>\n",
       "      <th>male</th>\n",
       "      <td>45</td>\n",
       "      <td>17</td>\n",
       "      <td>47</td>\n",
       "    </tr>\n",
       "  </tbody>\n",
       "</table>\n",
       "</div>"
      ],
      "text/plain": [
       "class   First  Second  Third\n",
       "sex                         \n",
       "female     91      70     72\n",
       "male       45      17     47"
      ]
     },
     "execution_count": 62,
     "metadata": {},
     "output_type": "execute_result"
    }
   ],
   "source": [
    "# Groupby and unstack is used to change the layout of data and make data easier to read\n",
    "grouped.unstack()"
   ]
  },
  {
   "cell_type": "markdown",
   "id": "4429b213",
   "metadata": {
    "papermill": {
     "duration": 0.037983,
     "end_time": "2024-09-23T11:56:15.057862",
     "exception": false,
     "start_time": "2024-09-23T11:56:15.019879",
     "status": "completed"
    },
    "tags": []
   },
   "source": [
    "### Applying multiple aggregating functions on different columns\n",
    "\n",
    "The agg() function in pandas is a powerful tool used to apply multiple aggregation functions on different columns after grouping the data. It allows you to summarize data in a flexible way, applying different aggregation functions to different columns at the same time."
   ]
  },
  {
   "cell_type": "code",
   "execution_count": 63,
   "id": "799d9830",
   "metadata": {
    "execution": {
     "iopub.execute_input": "2024-09-23T11:56:15.132896Z",
     "iopub.status.busy": "2024-09-23T11:56:15.132488Z",
     "iopub.status.idle": "2024-09-23T11:56:15.163906Z",
     "shell.execute_reply": "2024-09-23T11:56:15.162852Z"
    },
    "papermill": {
     "duration": 0.071851,
     "end_time": "2024-09-23T11:56:15.166330",
     "exception": false,
     "start_time": "2024-09-23T11:56:15.094479",
     "status": "completed"
    },
    "tags": []
   },
   "outputs": [
    {
     "data": {
      "application/vnd.microsoft.datawrangler.viewer.v0+json": {
       "columns": [
        {
         "name": "index",
         "rawType": "int64",
         "type": "integer"
        },
        {
         "name": "('pclass', '')",
         "rawType": "int64",
         "type": "integer"
        },
        {
         "name": "('age', 'mean')",
         "rawType": "float64",
         "type": "float"
        },
        {
         "name": "('age', 'min')",
         "rawType": "float64",
         "type": "float"
        },
        {
         "name": "('age', 'max')",
         "rawType": "float64",
         "type": "float"
        },
        {
         "name": "('fare', 'sum')",
         "rawType": "float64",
         "type": "float"
        },
        {
         "name": "('fare', 'mean')",
         "rawType": "float64",
         "type": "float"
        },
        {
         "name": "('survived', 'mean')",
         "rawType": "float64",
         "type": "float"
        }
       ],
       "conversionMethod": "pd.DataFrame",
       "ref": "6a830b69-2fe4-4f65-bc12-49d02fa82356",
       "rows": [
        [
         "0",
         "1",
         "38.233440860215055",
         "0.92",
         "80.0",
         "18177.4125",
         "84.1546875",
         "0.6296296296296297"
        ],
        [
         "1",
         "2",
         "29.87763005780347",
         "0.67",
         "70.0",
         "3801.8417",
         "20.662183152173913",
         "0.47282608695652173"
        ],
        [
         "2",
         "3",
         "25.14061971830986",
         "0.42",
         "74.0",
         "6714.6951",
         "13.675550101832993",
         "0.24236252545824846"
        ]
       ],
       "shape": {
        "columns": 7,
        "rows": 3
       }
      },
      "text/html": [
       "<div>\n",
       "<style scoped>\n",
       "    .dataframe tbody tr th:only-of-type {\n",
       "        vertical-align: middle;\n",
       "    }\n",
       "\n",
       "    .dataframe tbody tr th {\n",
       "        vertical-align: top;\n",
       "    }\n",
       "\n",
       "    .dataframe thead tr th {\n",
       "        text-align: left;\n",
       "    }\n",
       "</style>\n",
       "<table border=\"1\" class=\"dataframe\">\n",
       "  <thead>\n",
       "    <tr>\n",
       "      <th></th>\n",
       "      <th>pclass</th>\n",
       "      <th colspan=\"3\" halign=\"left\">age</th>\n",
       "      <th colspan=\"2\" halign=\"left\">fare</th>\n",
       "      <th>survived</th>\n",
       "    </tr>\n",
       "    <tr>\n",
       "      <th></th>\n",
       "      <th></th>\n",
       "      <th>mean</th>\n",
       "      <th>min</th>\n",
       "      <th>max</th>\n",
       "      <th>sum</th>\n",
       "      <th>mean</th>\n",
       "      <th>mean</th>\n",
       "    </tr>\n",
       "  </thead>\n",
       "  <tbody>\n",
       "    <tr>\n",
       "      <th>0</th>\n",
       "      <td>1</td>\n",
       "      <td>38.233441</td>\n",
       "      <td>0.92</td>\n",
       "      <td>80.0</td>\n",
       "      <td>18177.4125</td>\n",
       "      <td>84.154687</td>\n",
       "      <td>0.629630</td>\n",
       "    </tr>\n",
       "    <tr>\n",
       "      <th>1</th>\n",
       "      <td>2</td>\n",
       "      <td>29.877630</td>\n",
       "      <td>0.67</td>\n",
       "      <td>70.0</td>\n",
       "      <td>3801.8417</td>\n",
       "      <td>20.662183</td>\n",
       "      <td>0.472826</td>\n",
       "    </tr>\n",
       "    <tr>\n",
       "      <th>2</th>\n",
       "      <td>3</td>\n",
       "      <td>25.140620</td>\n",
       "      <td>0.42</td>\n",
       "      <td>74.0</td>\n",
       "      <td>6714.6951</td>\n",
       "      <td>13.675550</td>\n",
       "      <td>0.242363</td>\n",
       "    </tr>\n",
       "  </tbody>\n",
       "</table>\n",
       "</div>"
      ],
      "text/plain": [
       "  pclass        age                    fare             survived\n",
       "               mean   min   max         sum       mean      mean\n",
       "0      1  38.233441  0.92  80.0  18177.4125  84.154687  0.629630\n",
       "1      2  29.877630  0.67  70.0   3801.8417  20.662183  0.472826\n",
       "2      3  25.140620  0.42  74.0   6714.6951  13.675550  0.242363"
      ]
     },
     "execution_count": 63,
     "metadata": {},
     "output_type": "execute_result"
    }
   ],
   "source": [
    "grouped_titanic = df_titanic.groupby('pclass').agg({\n",
    "    'age': ['mean', 'min', 'max'],     # Aggregating 'age' column (mean, min, max)\n",
    "    'fare': ['sum', 'mean'],           # Aggregating 'fare' column (sum, mean)\n",
    "    'survived': 'mean'                 # Aggregating 'survived' column (mean, representing survival rate)\n",
    "}).reset_index()\n",
    "\n",
    "grouped_titanic"
   ]
  },
  {
   "cell_type": "code",
   "execution_count": 64,
   "id": "f2185b9d",
   "metadata": {
    "execution": {
     "iopub.execute_input": "2024-09-23T11:56:15.240367Z",
     "iopub.status.busy": "2024-09-23T11:56:15.239952Z",
     "iopub.status.idle": "2024-09-23T11:56:15.254901Z",
     "shell.execute_reply": "2024-09-23T11:56:15.253711Z"
    },
    "papermill": {
     "duration": 0.054807,
     "end_time": "2024-09-23T11:56:15.257491",
     "exception": false,
     "start_time": "2024-09-23T11:56:15.202684",
     "status": "completed"
    },
    "tags": []
   },
   "outputs": [
    {
     "data": {
      "text/plain": [
       "pclass          0        1.000000\n",
       "                1        2.000000\n",
       "                2        3.000000\n",
       "age       mean  0       38.233441\n",
       "                1       29.877630\n",
       "                2       25.140620\n",
       "          min   0        0.920000\n",
       "                1        0.670000\n",
       "                2        0.420000\n",
       "          max   0       80.000000\n",
       "                1       70.000000\n",
       "                2       74.000000\n",
       "fare      sum   0    18177.412500\n",
       "                1     3801.841700\n",
       "                2     6714.695100\n",
       "          mean  0       84.154687\n",
       "                1       20.662183\n",
       "                2       13.675550\n",
       "survived  mean  0        0.629630\n",
       "                1        0.472826\n",
       "                2        0.242363\n",
       "dtype: float64"
      ]
     },
     "execution_count": 64,
     "metadata": {},
     "output_type": "execute_result"
    }
   ],
   "source": [
    "grouped_titanic.unstack()"
   ]
  },
  {
   "cell_type": "markdown",
   "id": "e5f9d839",
   "metadata": {
    "papermill": {
     "duration": 0.038717,
     "end_time": "2024-09-23T11:56:15.334693",
     "exception": false,
     "start_time": "2024-09-23T11:56:15.295976",
     "status": "completed"
    },
    "tags": []
   },
   "source": [
    "<h1 style=\"background-color: #f0f8ff; padding: 15px; border: 2px solid #3498db; border-radius: 8px; margin-bottom: 15px; color: #2980b9;\">13. Reading the data back from the excel file keeping the grouped info intact.</h1>"
   ]
  },
  {
   "cell_type": "markdown",
   "id": "1756a7fc",
   "metadata": {
    "papermill": {
     "duration": 0.03731,
     "end_time": "2024-09-23T11:56:15.408935",
     "exception": false,
     "start_time": "2024-09-23T11:56:15.371625",
     "status": "completed"
    },
    "tags": []
   },
   "source": [
    "# 13. Reading the data back from the excel file keeping the grouped info intact."
   ]
  },
  {
   "cell_type": "code",
   "execution_count": 65,
   "id": "067da534",
   "metadata": {
    "execution": {
     "iopub.execute_input": "2024-09-23T11:56:15.483591Z",
     "iopub.status.busy": "2024-09-23T11:56:15.482457Z",
     "iopub.status.idle": "2024-09-23T11:56:15.524165Z",
     "shell.execute_reply": "2024-09-23T11:56:15.522859Z"
    },
    "papermill": {
     "duration": 0.082057,
     "end_time": "2024-09-23T11:56:15.526966",
     "exception": false,
     "start_time": "2024-09-23T11:56:15.444909",
     "status": "completed"
    },
    "tags": []
   },
   "outputs": [
    {
     "data": {
      "application/vnd.microsoft.datawrangler.viewer.v0+json": {
       "columns": [
        {
         "name": "('sex', 'survived', 'deck')",
         "rawType": "object",
         "type": "unknown"
        },
        {
         "name": "pclass",
         "rawType": "int64",
         "type": "integer"
        },
        {
         "name": "age",
         "rawType": "int64",
         "type": "integer"
        },
        {
         "name": "sibsp",
         "rawType": "int64",
         "type": "integer"
        },
        {
         "name": "parch",
         "rawType": "int64",
         "type": "integer"
        },
        {
         "name": "fare",
         "rawType": "int64",
         "type": "integer"
        },
        {
         "name": "embarked",
         "rawType": "int64",
         "type": "integer"
        },
        {
         "name": "class",
         "rawType": "int64",
         "type": "integer"
        },
        {
         "name": "who",
         "rawType": "int64",
         "type": "integer"
        },
        {
         "name": "adult_male",
         "rawType": "int64",
         "type": "integer"
        },
        {
         "name": "embark_town",
         "rawType": "int64",
         "type": "integer"
        },
        {
         "name": "alive",
         "rawType": "int64",
         "type": "integer"
        },
        {
         "name": "alone",
         "rawType": "int64",
         "type": "integer"
        }
       ],
       "conversionMethod": "pd.DataFrame",
       "ref": "95a3d9fe-f1b6-427e-b96f-59ebdf626830",
       "rows": [
        [
         "('female', np.int64(0), 'A')",
         "0",
         "0",
         "0",
         "0",
         "0",
         "0",
         "0",
         "0",
         "0",
         "0",
         "0",
         "0"
        ],
        [
         "('female', np.int64(0), 'B')",
         "0",
         "0",
         "0",
         "0",
         "0",
         "0",
         "0",
         "0",
         "0",
         "0",
         "0",
         "0"
        ],
        [
         "('female', np.int64(0), 'C')",
         "3",
         "3",
         "3",
         "3",
         "3",
         "3",
         "3",
         "3",
         "3",
         "3",
         "3",
         "3"
        ],
        [
         "('female', np.int64(0), 'D')",
         "0",
         "0",
         "0",
         "0",
         "0",
         "0",
         "0",
         "0",
         "0",
         "0",
         "0",
         "0"
        ],
        [
         "('female', np.int64(0), 'E')",
         "1",
         "1",
         "1",
         "1",
         "1",
         "1",
         "1",
         "1",
         "1",
         "1",
         "1",
         "1"
        ],
        [
         "('female', np.int64(0), 'F')",
         "0",
         "0",
         "0",
         "0",
         "0",
         "0",
         "0",
         "0",
         "0",
         "0",
         "0",
         "0"
        ],
        [
         "('female', np.int64(0), 'G')",
         "2",
         "2",
         "2",
         "2",
         "2",
         "2",
         "2",
         "2",
         "2",
         "2",
         "2",
         "2"
        ],
        [
         "('female', np.int64(1), 'A')",
         "1",
         "1",
         "1",
         "1",
         "1",
         "1",
         "1",
         "1",
         "1",
         "1",
         "1",
         "1"
        ],
        [
         "('female', np.int64(1), 'B')",
         "27",
         "26",
         "27",
         "27",
         "27",
         "25",
         "27",
         "27",
         "27",
         "25",
         "27",
         "27"
        ],
        [
         "('female', np.int64(1), 'C')",
         "24",
         "22",
         "24",
         "24",
         "24",
         "24",
         "24",
         "24",
         "24",
         "24",
         "24",
         "24"
        ]
       ],
       "shape": {
        "columns": 12,
        "rows": 10
       }
      },
      "text/html": [
       "<div>\n",
       "<style scoped>\n",
       "    .dataframe tbody tr th:only-of-type {\n",
       "        vertical-align: middle;\n",
       "    }\n",
       "\n",
       "    .dataframe tbody tr th {\n",
       "        vertical-align: top;\n",
       "    }\n",
       "\n",
       "    .dataframe thead th {\n",
       "        text-align: right;\n",
       "    }\n",
       "</style>\n",
       "<table border=\"1\" class=\"dataframe\">\n",
       "  <thead>\n",
       "    <tr style=\"text-align: right;\">\n",
       "      <th></th>\n",
       "      <th></th>\n",
       "      <th></th>\n",
       "      <th>pclass</th>\n",
       "      <th>age</th>\n",
       "      <th>sibsp</th>\n",
       "      <th>parch</th>\n",
       "      <th>fare</th>\n",
       "      <th>embarked</th>\n",
       "      <th>class</th>\n",
       "      <th>who</th>\n",
       "      <th>adult_male</th>\n",
       "      <th>embark_town</th>\n",
       "      <th>alive</th>\n",
       "      <th>alone</th>\n",
       "    </tr>\n",
       "    <tr>\n",
       "      <th>sex</th>\n",
       "      <th>survived</th>\n",
       "      <th>deck</th>\n",
       "      <th></th>\n",
       "      <th></th>\n",
       "      <th></th>\n",
       "      <th></th>\n",
       "      <th></th>\n",
       "      <th></th>\n",
       "      <th></th>\n",
       "      <th></th>\n",
       "      <th></th>\n",
       "      <th></th>\n",
       "      <th></th>\n",
       "      <th></th>\n",
       "    </tr>\n",
       "  </thead>\n",
       "  <tbody>\n",
       "    <tr>\n",
       "      <th rowspan=\"10\" valign=\"top\">female</th>\n",
       "      <th rowspan=\"7\" valign=\"top\">0</th>\n",
       "      <th>A</th>\n",
       "      <td>0</td>\n",
       "      <td>0</td>\n",
       "      <td>0</td>\n",
       "      <td>0</td>\n",
       "      <td>0</td>\n",
       "      <td>0</td>\n",
       "      <td>0</td>\n",
       "      <td>0</td>\n",
       "      <td>0</td>\n",
       "      <td>0</td>\n",
       "      <td>0</td>\n",
       "      <td>0</td>\n",
       "    </tr>\n",
       "    <tr>\n",
       "      <th>B</th>\n",
       "      <td>0</td>\n",
       "      <td>0</td>\n",
       "      <td>0</td>\n",
       "      <td>0</td>\n",
       "      <td>0</td>\n",
       "      <td>0</td>\n",
       "      <td>0</td>\n",
       "      <td>0</td>\n",
       "      <td>0</td>\n",
       "      <td>0</td>\n",
       "      <td>0</td>\n",
       "      <td>0</td>\n",
       "    </tr>\n",
       "    <tr>\n",
       "      <th>C</th>\n",
       "      <td>3</td>\n",
       "      <td>3</td>\n",
       "      <td>3</td>\n",
       "      <td>3</td>\n",
       "      <td>3</td>\n",
       "      <td>3</td>\n",
       "      <td>3</td>\n",
       "      <td>3</td>\n",
       "      <td>3</td>\n",
       "      <td>3</td>\n",
       "      <td>3</td>\n",
       "      <td>3</td>\n",
       "    </tr>\n",
       "    <tr>\n",
       "      <th>D</th>\n",
       "      <td>0</td>\n",
       "      <td>0</td>\n",
       "      <td>0</td>\n",
       "      <td>0</td>\n",
       "      <td>0</td>\n",
       "      <td>0</td>\n",
       "      <td>0</td>\n",
       "      <td>0</td>\n",
       "      <td>0</td>\n",
       "      <td>0</td>\n",
       "      <td>0</td>\n",
       "      <td>0</td>\n",
       "    </tr>\n",
       "    <tr>\n",
       "      <th>E</th>\n",
       "      <td>1</td>\n",
       "      <td>1</td>\n",
       "      <td>1</td>\n",
       "      <td>1</td>\n",
       "      <td>1</td>\n",
       "      <td>1</td>\n",
       "      <td>1</td>\n",
       "      <td>1</td>\n",
       "      <td>1</td>\n",
       "      <td>1</td>\n",
       "      <td>1</td>\n",
       "      <td>1</td>\n",
       "    </tr>\n",
       "    <tr>\n",
       "      <th>F</th>\n",
       "      <td>0</td>\n",
       "      <td>0</td>\n",
       "      <td>0</td>\n",
       "      <td>0</td>\n",
       "      <td>0</td>\n",
       "      <td>0</td>\n",
       "      <td>0</td>\n",
       "      <td>0</td>\n",
       "      <td>0</td>\n",
       "      <td>0</td>\n",
       "      <td>0</td>\n",
       "      <td>0</td>\n",
       "    </tr>\n",
       "    <tr>\n",
       "      <th>G</th>\n",
       "      <td>2</td>\n",
       "      <td>2</td>\n",
       "      <td>2</td>\n",
       "      <td>2</td>\n",
       "      <td>2</td>\n",
       "      <td>2</td>\n",
       "      <td>2</td>\n",
       "      <td>2</td>\n",
       "      <td>2</td>\n",
       "      <td>2</td>\n",
       "      <td>2</td>\n",
       "      <td>2</td>\n",
       "    </tr>\n",
       "    <tr>\n",
       "      <th rowspan=\"3\" valign=\"top\">1</th>\n",
       "      <th>A</th>\n",
       "      <td>1</td>\n",
       "      <td>1</td>\n",
       "      <td>1</td>\n",
       "      <td>1</td>\n",
       "      <td>1</td>\n",
       "      <td>1</td>\n",
       "      <td>1</td>\n",
       "      <td>1</td>\n",
       "      <td>1</td>\n",
       "      <td>1</td>\n",
       "      <td>1</td>\n",
       "      <td>1</td>\n",
       "    </tr>\n",
       "    <tr>\n",
       "      <th>B</th>\n",
       "      <td>27</td>\n",
       "      <td>26</td>\n",
       "      <td>27</td>\n",
       "      <td>27</td>\n",
       "      <td>27</td>\n",
       "      <td>25</td>\n",
       "      <td>27</td>\n",
       "      <td>27</td>\n",
       "      <td>27</td>\n",
       "      <td>25</td>\n",
       "      <td>27</td>\n",
       "      <td>27</td>\n",
       "    </tr>\n",
       "    <tr>\n",
       "      <th>C</th>\n",
       "      <td>24</td>\n",
       "      <td>22</td>\n",
       "      <td>24</td>\n",
       "      <td>24</td>\n",
       "      <td>24</td>\n",
       "      <td>24</td>\n",
       "      <td>24</td>\n",
       "      <td>24</td>\n",
       "      <td>24</td>\n",
       "      <td>24</td>\n",
       "      <td>24</td>\n",
       "      <td>24</td>\n",
       "    </tr>\n",
       "  </tbody>\n",
       "</table>\n",
       "</div>"
      ],
      "text/plain": [
       "                      pclass  age  sibsp  parch  fare  embarked  class  who  \\\n",
       "sex    survived deck                                                          \n",
       "female 0        A          0    0      0      0     0         0      0    0   \n",
       "                B          0    0      0      0     0         0      0    0   \n",
       "                C          3    3      3      3     3         3      3    3   \n",
       "                D          0    0      0      0     0         0      0    0   \n",
       "                E          1    1      1      1     1         1      1    1   \n",
       "                F          0    0      0      0     0         0      0    0   \n",
       "                G          2    2      2      2     2         2      2    2   \n",
       "       1        A          1    1      1      1     1         1      1    1   \n",
       "                B         27   26     27     27    27        25     27   27   \n",
       "                C         24   22     24     24    24        24     24   24   \n",
       "\n",
       "                      adult_male  embark_town  alive  alone  \n",
       "sex    survived deck                                         \n",
       "female 0        A              0            0      0      0  \n",
       "                B              0            0      0      0  \n",
       "                C              3            3      3      3  \n",
       "                D              0            0      0      0  \n",
       "                E              1            1      1      1  \n",
       "                F              0            0      0      0  \n",
       "                G              2            2      2      2  \n",
       "       1        A              1            1      1      1  \n",
       "                B             27           25     27     27  \n",
       "                C             24           24     24     24  "
      ]
     },
     "execution_count": 65,
     "metadata": {},
     "output_type": "execute_result"
    }
   ],
   "source": [
    "# Reading the data back from the excel file keeping the grouped info intact.\n",
    "\n",
    "df_grouped = pd.read_excel(path+'groupby.xlsx', index_col=[0, 1, 2])\n",
    "df_grouped.head(10)"
   ]
  },
  {
   "cell_type": "markdown",
   "id": "23077eac",
   "metadata": {
    "papermill": {
     "duration": 0.036456,
     "end_time": "2024-09-23T11:56:15.600611",
     "exception": false,
     "start_time": "2024-09-23T11:56:15.564155",
     "status": "completed"
    },
    "tags": []
   },
   "source": [
    "💡 Reading Excel File as Plain Data and Setting Indexes Manually\n",
    "\n",
    "Instead of relying on automatic index detection when reading Excel files, you can:\n",
    "1. **Read the Excel file as plain data** (without specifying an index).\n",
    "2. **Manually set the index** to the desired columns after loading the data.\n",
    "\n",
    "### **Example:**\n",
    "\n",
    "```python\n",
    "import pandas as pd\n",
    "\n",
    "## Step 1: Read the Excel file without setting the index\n",
    "df = pd.read_excel('your_file.xlsx')\n",
    "\n",
    "## Step 2: Manually set the index to specific columns\n",
    "df.set_index(['column_name_1', 'column_name_2'], inplace=True)\n",
    "\n",
    "## Step 3: If required forward fill the missing data for groups\n",
    "\n",
    "## Display the DataFrame\n",
    "print(df)\n",
    "```\n"
   ]
  },
  {
   "cell_type": "code",
   "execution_count": 66,
   "id": "bee29af8",
   "metadata": {
    "execution": {
     "iopub.execute_input": "2024-09-23T11:56:15.678456Z",
     "iopub.status.busy": "2024-09-23T11:56:15.677552Z",
     "iopub.status.idle": "2024-09-23T11:56:15.726060Z",
     "shell.execute_reply": "2024-09-23T11:56:15.724579Z"
    },
    "papermill": {
     "duration": 0.090797,
     "end_time": "2024-09-23T11:56:15.728423",
     "exception": false,
     "start_time": "2024-09-23T11:56:15.637626",
     "status": "completed"
    },
    "tags": []
   },
   "outputs": [
    {
     "name": "stderr",
     "output_type": "stream",
     "text": [
      "C:\\Users\\smkamran\\AppData\\Local\\Temp\\ipykernel_9768\\1546128937.py:5: FutureWarning: DataFrame.fillna with 'method' is deprecated and will raise in a future version. Use obj.ffill() or obj.bfill() instead.\n",
      "  df_grouped[['sex', 'survived', 'deck']] = df_grouped[['sex', 'survived', 'deck']].fillna(method='ffill')\n"
     ]
    },
    {
     "data": {
      "application/vnd.microsoft.datawrangler.viewer.v0+json": {
       "columns": [
        {
         "name": "('sex', 'survived', 'deck')",
         "rawType": "object",
         "type": "unknown"
        },
        {
         "name": "pclass",
         "rawType": "int64",
         "type": "integer"
        },
        {
         "name": "age",
         "rawType": "int64",
         "type": "integer"
        },
        {
         "name": "sibsp",
         "rawType": "int64",
         "type": "integer"
        },
        {
         "name": "parch",
         "rawType": "int64",
         "type": "integer"
        },
        {
         "name": "fare",
         "rawType": "int64",
         "type": "integer"
        },
        {
         "name": "embarked",
         "rawType": "int64",
         "type": "integer"
        },
        {
         "name": "class",
         "rawType": "int64",
         "type": "integer"
        },
        {
         "name": "who",
         "rawType": "int64",
         "type": "integer"
        },
        {
         "name": "adult_male",
         "rawType": "int64",
         "type": "integer"
        },
        {
         "name": "embark_town",
         "rawType": "int64",
         "type": "integer"
        },
        {
         "name": "alive",
         "rawType": "int64",
         "type": "integer"
        },
        {
         "name": "alone",
         "rawType": "int64",
         "type": "integer"
        }
       ],
       "conversionMethod": "pd.DataFrame",
       "ref": "8827ea74-3c04-4fa2-a437-ee49ea638291",
       "rows": [
        [
         "('female', np.int32(0), 'A')",
         "0",
         "0",
         "0",
         "0",
         "0",
         "0",
         "0",
         "0",
         "0",
         "0",
         "0",
         "0"
        ],
        [
         "('female', np.int32(0), 'B')",
         "0",
         "0",
         "0",
         "0",
         "0",
         "0",
         "0",
         "0",
         "0",
         "0",
         "0",
         "0"
        ],
        [
         "('female', np.int32(0), 'C')",
         "3",
         "3",
         "3",
         "3",
         "3",
         "3",
         "3",
         "3",
         "3",
         "3",
         "3",
         "3"
        ],
        [
         "('female', np.int32(0), 'D')",
         "0",
         "0",
         "0",
         "0",
         "0",
         "0",
         "0",
         "0",
         "0",
         "0",
         "0",
         "0"
        ],
        [
         "('female', np.int32(0), 'E')",
         "1",
         "1",
         "1",
         "1",
         "1",
         "1",
         "1",
         "1",
         "1",
         "1",
         "1",
         "1"
        ],
        [
         "('female', np.int32(0), 'F')",
         "0",
         "0",
         "0",
         "0",
         "0",
         "0",
         "0",
         "0",
         "0",
         "0",
         "0",
         "0"
        ],
        [
         "('female', np.int32(0), 'G')",
         "2",
         "2",
         "2",
         "2",
         "2",
         "2",
         "2",
         "2",
         "2",
         "2",
         "2",
         "2"
        ],
        [
         "('female', np.int32(1), 'A')",
         "1",
         "1",
         "1",
         "1",
         "1",
         "1",
         "1",
         "1",
         "1",
         "1",
         "1",
         "1"
        ],
        [
         "('female', np.int32(1), 'B')",
         "27",
         "26",
         "27",
         "27",
         "27",
         "25",
         "27",
         "27",
         "27",
         "25",
         "27",
         "27"
        ],
        [
         "('female', np.int32(1), 'C')",
         "24",
         "22",
         "24",
         "24",
         "24",
         "24",
         "24",
         "24",
         "24",
         "24",
         "24",
         "24"
        ]
       ],
       "shape": {
        "columns": 12,
        "rows": 10
       }
      },
      "text/html": [
       "<div>\n",
       "<style scoped>\n",
       "    .dataframe tbody tr th:only-of-type {\n",
       "        vertical-align: middle;\n",
       "    }\n",
       "\n",
       "    .dataframe tbody tr th {\n",
       "        vertical-align: top;\n",
       "    }\n",
       "\n",
       "    .dataframe thead th {\n",
       "        text-align: right;\n",
       "    }\n",
       "</style>\n",
       "<table border=\"1\" class=\"dataframe\">\n",
       "  <thead>\n",
       "    <tr style=\"text-align: right;\">\n",
       "      <th></th>\n",
       "      <th></th>\n",
       "      <th></th>\n",
       "      <th>pclass</th>\n",
       "      <th>age</th>\n",
       "      <th>sibsp</th>\n",
       "      <th>parch</th>\n",
       "      <th>fare</th>\n",
       "      <th>embarked</th>\n",
       "      <th>class</th>\n",
       "      <th>who</th>\n",
       "      <th>adult_male</th>\n",
       "      <th>embark_town</th>\n",
       "      <th>alive</th>\n",
       "      <th>alone</th>\n",
       "    </tr>\n",
       "    <tr>\n",
       "      <th>sex</th>\n",
       "      <th>survived</th>\n",
       "      <th>deck</th>\n",
       "      <th></th>\n",
       "      <th></th>\n",
       "      <th></th>\n",
       "      <th></th>\n",
       "      <th></th>\n",
       "      <th></th>\n",
       "      <th></th>\n",
       "      <th></th>\n",
       "      <th></th>\n",
       "      <th></th>\n",
       "      <th></th>\n",
       "      <th></th>\n",
       "    </tr>\n",
       "  </thead>\n",
       "  <tbody>\n",
       "    <tr>\n",
       "      <th rowspan=\"10\" valign=\"top\">female</th>\n",
       "      <th rowspan=\"7\" valign=\"top\">0</th>\n",
       "      <th>A</th>\n",
       "      <td>0</td>\n",
       "      <td>0</td>\n",
       "      <td>0</td>\n",
       "      <td>0</td>\n",
       "      <td>0</td>\n",
       "      <td>0</td>\n",
       "      <td>0</td>\n",
       "      <td>0</td>\n",
       "      <td>0</td>\n",
       "      <td>0</td>\n",
       "      <td>0</td>\n",
       "      <td>0</td>\n",
       "    </tr>\n",
       "    <tr>\n",
       "      <th>B</th>\n",
       "      <td>0</td>\n",
       "      <td>0</td>\n",
       "      <td>0</td>\n",
       "      <td>0</td>\n",
       "      <td>0</td>\n",
       "      <td>0</td>\n",
       "      <td>0</td>\n",
       "      <td>0</td>\n",
       "      <td>0</td>\n",
       "      <td>0</td>\n",
       "      <td>0</td>\n",
       "      <td>0</td>\n",
       "    </tr>\n",
       "    <tr>\n",
       "      <th>C</th>\n",
       "      <td>3</td>\n",
       "      <td>3</td>\n",
       "      <td>3</td>\n",
       "      <td>3</td>\n",
       "      <td>3</td>\n",
       "      <td>3</td>\n",
       "      <td>3</td>\n",
       "      <td>3</td>\n",
       "      <td>3</td>\n",
       "      <td>3</td>\n",
       "      <td>3</td>\n",
       "      <td>3</td>\n",
       "    </tr>\n",
       "    <tr>\n",
       "      <th>D</th>\n",
       "      <td>0</td>\n",
       "      <td>0</td>\n",
       "      <td>0</td>\n",
       "      <td>0</td>\n",
       "      <td>0</td>\n",
       "      <td>0</td>\n",
       "      <td>0</td>\n",
       "      <td>0</td>\n",
       "      <td>0</td>\n",
       "      <td>0</td>\n",
       "      <td>0</td>\n",
       "      <td>0</td>\n",
       "    </tr>\n",
       "    <tr>\n",
       "      <th>E</th>\n",
       "      <td>1</td>\n",
       "      <td>1</td>\n",
       "      <td>1</td>\n",
       "      <td>1</td>\n",
       "      <td>1</td>\n",
       "      <td>1</td>\n",
       "      <td>1</td>\n",
       "      <td>1</td>\n",
       "      <td>1</td>\n",
       "      <td>1</td>\n",
       "      <td>1</td>\n",
       "      <td>1</td>\n",
       "    </tr>\n",
       "    <tr>\n",
       "      <th>F</th>\n",
       "      <td>0</td>\n",
       "      <td>0</td>\n",
       "      <td>0</td>\n",
       "      <td>0</td>\n",
       "      <td>0</td>\n",
       "      <td>0</td>\n",
       "      <td>0</td>\n",
       "      <td>0</td>\n",
       "      <td>0</td>\n",
       "      <td>0</td>\n",
       "      <td>0</td>\n",
       "      <td>0</td>\n",
       "    </tr>\n",
       "    <tr>\n",
       "      <th>G</th>\n",
       "      <td>2</td>\n",
       "      <td>2</td>\n",
       "      <td>2</td>\n",
       "      <td>2</td>\n",
       "      <td>2</td>\n",
       "      <td>2</td>\n",
       "      <td>2</td>\n",
       "      <td>2</td>\n",
       "      <td>2</td>\n",
       "      <td>2</td>\n",
       "      <td>2</td>\n",
       "      <td>2</td>\n",
       "    </tr>\n",
       "    <tr>\n",
       "      <th rowspan=\"3\" valign=\"top\">1</th>\n",
       "      <th>A</th>\n",
       "      <td>1</td>\n",
       "      <td>1</td>\n",
       "      <td>1</td>\n",
       "      <td>1</td>\n",
       "      <td>1</td>\n",
       "      <td>1</td>\n",
       "      <td>1</td>\n",
       "      <td>1</td>\n",
       "      <td>1</td>\n",
       "      <td>1</td>\n",
       "      <td>1</td>\n",
       "      <td>1</td>\n",
       "    </tr>\n",
       "    <tr>\n",
       "      <th>B</th>\n",
       "      <td>27</td>\n",
       "      <td>26</td>\n",
       "      <td>27</td>\n",
       "      <td>27</td>\n",
       "      <td>27</td>\n",
       "      <td>25</td>\n",
       "      <td>27</td>\n",
       "      <td>27</td>\n",
       "      <td>27</td>\n",
       "      <td>25</td>\n",
       "      <td>27</td>\n",
       "      <td>27</td>\n",
       "    </tr>\n",
       "    <tr>\n",
       "      <th>C</th>\n",
       "      <td>24</td>\n",
       "      <td>22</td>\n",
       "      <td>24</td>\n",
       "      <td>24</td>\n",
       "      <td>24</td>\n",
       "      <td>24</td>\n",
       "      <td>24</td>\n",
       "      <td>24</td>\n",
       "      <td>24</td>\n",
       "      <td>24</td>\n",
       "      <td>24</td>\n",
       "      <td>24</td>\n",
       "    </tr>\n",
       "  </tbody>\n",
       "</table>\n",
       "</div>"
      ],
      "text/plain": [
       "                      pclass  age  sibsp  parch  fare  embarked  class  who  \\\n",
       "sex    survived deck                                                          \n",
       "female 0        A          0    0      0      0     0         0      0    0   \n",
       "                B          0    0      0      0     0         0      0    0   \n",
       "                C          3    3      3      3     3         3      3    3   \n",
       "                D          0    0      0      0     0         0      0    0   \n",
       "                E          1    1      1      1     1         1      1    1   \n",
       "                F          0    0      0      0     0         0      0    0   \n",
       "                G          2    2      2      2     2         2      2    2   \n",
       "       1        A          1    1      1      1     1         1      1    1   \n",
       "                B         27   26     27     27    27        25     27   27   \n",
       "                C         24   22     24     24    24        24     24   24   \n",
       "\n",
       "                      adult_male  embark_town  alive  alone  \n",
       "sex    survived deck                                         \n",
       "female 0        A              0            0      0      0  \n",
       "                B              0            0      0      0  \n",
       "                C              3            3      3      3  \n",
       "                D              0            0      0      0  \n",
       "                E              1            1      1      1  \n",
       "                F              0            0      0      0  \n",
       "                G              2            2      2      2  \n",
       "       1        A              1            1      1      1  \n",
       "                B             27           25     27     27  \n",
       "                C             24           24     24     24  "
      ]
     },
     "execution_count": 66,
     "metadata": {},
     "output_type": "execute_result"
    }
   ],
   "source": [
    "# Read the Excel file\n",
    "df_grouped = pd.read_excel(path+'groupby.xlsx')\n",
    "\n",
    "# Forward fill the 'sex', 'survived', and 'deck' columns to fill NaN values\n",
    "df_grouped[['sex', 'survived', 'deck']] = df_grouped[['sex', 'survived', 'deck']].fillna(method='ffill')\n",
    "\n",
    "df_grouped['survived'] = df_grouped.survived.astype('int32', errors='ignore')\n",
    "\n",
    "# Set the index back to 'sex', 'survived', and 'deck'\n",
    "df_grouped.set_index(['sex', 'survived', 'deck'], inplace=True)\n",
    "\n",
    "# Display the DataFrame\n",
    "df_grouped.head(10)"
   ]
  },
  {
   "cell_type": "markdown",
   "id": "32c93355",
   "metadata": {
    "papermill": {
     "duration": 0.036316,
     "end_time": "2024-09-23T11:56:15.801840",
     "exception": false,
     "start_time": "2024-09-23T11:56:15.765524",
     "status": "completed"
    },
    "tags": []
   },
   "source": [
    "<h1 style=\"background-color: #f0f8ff; padding: 15px; border: 2px solid #3498db; border-radius: 8px; margin-bottom: 15px; color: #2980b9;\">14. Continous Data to Categorical Data</h1>"
   ]
  },
  {
   "cell_type": "markdown",
   "id": "c55bef25",
   "metadata": {
    "papermill": {
     "duration": 0.036995,
     "end_time": "2024-09-23T11:56:15.875429",
     "exception": false,
     "start_time": "2024-09-23T11:56:15.838434",
     "status": "completed"
    },
    "tags": []
   },
   "source": [
    "# 14. Continous Data to Categorical Data"
   ]
  },
  {
   "cell_type": "code",
   "execution_count": 67,
   "id": "b87d8a70",
   "metadata": {
    "execution": {
     "iopub.execute_input": "2024-09-23T11:56:15.953649Z",
     "iopub.status.busy": "2024-09-23T11:56:15.952535Z",
     "iopub.status.idle": "2024-09-23T11:56:15.968930Z",
     "shell.execute_reply": "2024-09-23T11:56:15.967825Z"
    },
    "papermill": {
     "duration": 0.057518,
     "end_time": "2024-09-23T11:56:15.971377",
     "exception": false,
     "start_time": "2024-09-23T11:56:15.913859",
     "status": "completed"
    },
    "tags": []
   },
   "outputs": [
    {
     "data": {
      "application/vnd.microsoft.datawrangler.viewer.v0+json": {
       "columns": [
        {
         "name": "index",
         "rawType": "int64",
         "type": "integer"
        },
        {
         "name": "age",
         "rawType": "float64",
         "type": "float"
        },
        {
         "name": "age_group",
         "rawType": "category",
         "type": "unknown"
        }
       ],
       "conversionMethod": "pd.DataFrame",
       "ref": "10fa1f50-3f30-4f4a-ac1e-da68a5454b0e",
       "rows": [
        [
         "0",
         "22.0",
         "Young Adult"
        ],
        [
         "1",
         "38.0",
         "Adult"
        ],
        [
         "2",
         "26.0",
         "Young Adult"
        ],
        [
         "3",
         "35.0",
         "Adult"
        ],
        [
         "4",
         "35.0",
         "Adult"
        ],
        [
         "5",
         null,
         null
        ],
        [
         "6",
         "54.0",
         "Senior"
        ],
        [
         "7",
         "2.0",
         "Infant"
        ],
        [
         "8",
         "27.0",
         "Young Adult"
        ],
        [
         "9",
         "14.0",
         "Teen"
        ]
       ],
       "shape": {
        "columns": 2,
        "rows": 10
       }
      },
      "text/html": [
       "<div>\n",
       "<style scoped>\n",
       "    .dataframe tbody tr th:only-of-type {\n",
       "        vertical-align: middle;\n",
       "    }\n",
       "\n",
       "    .dataframe tbody tr th {\n",
       "        vertical-align: top;\n",
       "    }\n",
       "\n",
       "    .dataframe thead th {\n",
       "        text-align: right;\n",
       "    }\n",
       "</style>\n",
       "<table border=\"1\" class=\"dataframe\">\n",
       "  <thead>\n",
       "    <tr style=\"text-align: right;\">\n",
       "      <th></th>\n",
       "      <th>age</th>\n",
       "      <th>age_group</th>\n",
       "    </tr>\n",
       "  </thead>\n",
       "  <tbody>\n",
       "    <tr>\n",
       "      <th>0</th>\n",
       "      <td>22.0</td>\n",
       "      <td>Young Adult</td>\n",
       "    </tr>\n",
       "    <tr>\n",
       "      <th>1</th>\n",
       "      <td>38.0</td>\n",
       "      <td>Adult</td>\n",
       "    </tr>\n",
       "    <tr>\n",
       "      <th>2</th>\n",
       "      <td>26.0</td>\n",
       "      <td>Young Adult</td>\n",
       "    </tr>\n",
       "    <tr>\n",
       "      <th>3</th>\n",
       "      <td>35.0</td>\n",
       "      <td>Adult</td>\n",
       "    </tr>\n",
       "    <tr>\n",
       "      <th>4</th>\n",
       "      <td>35.0</td>\n",
       "      <td>Adult</td>\n",
       "    </tr>\n",
       "    <tr>\n",
       "      <th>5</th>\n",
       "      <td>NaN</td>\n",
       "      <td>NaN</td>\n",
       "    </tr>\n",
       "    <tr>\n",
       "      <th>6</th>\n",
       "      <td>54.0</td>\n",
       "      <td>Senior</td>\n",
       "    </tr>\n",
       "    <tr>\n",
       "      <th>7</th>\n",
       "      <td>2.0</td>\n",
       "      <td>Infant</td>\n",
       "    </tr>\n",
       "    <tr>\n",
       "      <th>8</th>\n",
       "      <td>27.0</td>\n",
       "      <td>Young Adult</td>\n",
       "    </tr>\n",
       "    <tr>\n",
       "      <th>9</th>\n",
       "      <td>14.0</td>\n",
       "      <td>Teen</td>\n",
       "    </tr>\n",
       "  </tbody>\n",
       "</table>\n",
       "</div>"
      ],
      "text/plain": [
       "    age    age_group\n",
       "0  22.0  Young Adult\n",
       "1  38.0        Adult\n",
       "2  26.0  Young Adult\n",
       "3  35.0        Adult\n",
       "4  35.0        Adult\n",
       "5   NaN          NaN\n",
       "6  54.0       Senior\n",
       "7   2.0       Infant\n",
       "8  27.0  Young Adult\n",
       "9  14.0         Teen"
      ]
     },
     "execution_count": 67,
     "metadata": {},
     "output_type": "execute_result"
    }
   ],
   "source": [
    "df_titanic['age_group'] = pd.cut(df_titanic.age, \n",
    "                                 bins=[0, 3, 12, 17, 35, 50, 100], # Age bins \n",
    "                                 labels=['Infant', 'Child', 'Teen', 'Young Adult', 'Adult', 'Senior'], # Labels for bins\n",
    "                                 right=False)\n",
    "\n",
    "# Display the Datafrme age and newly added age_group column sort by age and Transpose the results\n",
    "df_titanic[['age', 'age_group']].head(10)"
   ]
  },
  {
   "cell_type": "code",
   "execution_count": 68,
   "id": "9e9d9140",
   "metadata": {
    "execution": {
     "iopub.execute_input": "2024-09-23T11:56:16.049367Z",
     "iopub.status.busy": "2024-09-23T11:56:16.048962Z",
     "iopub.status.idle": "2024-09-23T11:56:16.059770Z",
     "shell.execute_reply": "2024-09-23T11:56:16.058561Z"
    },
    "papermill": {
     "duration": 0.051705,
     "end_time": "2024-09-23T11:56:16.061950",
     "exception": false,
     "start_time": "2024-09-23T11:56:16.010245",
     "status": "completed"
    },
    "tags": []
   },
   "outputs": [
    {
     "name": "stderr",
     "output_type": "stream",
     "text": [
      "C:\\Users\\smkamran\\AppData\\Local\\Temp\\ipykernel_9768\\2582380810.py:2: FutureWarning: The default of observed=False is deprecated and will be changed to True in a future version of pandas. Pass observed=False to retain current behavior or observed=True to adopt the future default and silence this warning.\n",
      "  df_titanic.groupby('age_group').survived.count().T\n"
     ]
    },
    {
     "data": {
      "text/plain": [
       "age_group\n",
       "Infant          24\n",
       "Child           44\n",
       "Teen            32\n",
       "Young Adult    379\n",
       "Adult          161\n",
       "Senior          74\n",
       "Name: survived, dtype: int64"
      ]
     },
     "execution_count": 68,
     "metadata": {},
     "output_type": "execute_result"
    }
   ],
   "source": [
    "# Count of survived group by age_group, shown as transposed\n",
    "df_titanic.groupby('age_group').survived.count().T"
   ]
  },
  {
   "cell_type": "code",
   "execution_count": 69,
   "id": "db604954",
   "metadata": {
    "execution": {
     "iopub.execute_input": "2024-09-23T11:56:16.141111Z",
     "iopub.status.busy": "2024-09-23T11:56:16.140706Z",
     "iopub.status.idle": "2024-09-23T11:56:16.157226Z",
     "shell.execute_reply": "2024-09-23T11:56:16.155764Z"
    },
    "papermill": {
     "duration": 0.059286,
     "end_time": "2024-09-23T11:56:16.160163",
     "exception": false,
     "start_time": "2024-09-23T11:56:16.100877",
     "status": "completed"
    },
    "tags": []
   },
   "outputs": [
    {
     "name": "stderr",
     "output_type": "stream",
     "text": [
      "C:\\Users\\smkamran\\AppData\\Local\\Temp\\ipykernel_9768\\3755407140.py:4: FutureWarning: The default of observed=False is deprecated and will be changed to True in a future version of pandas. Pass observed=False to retain current behavior or observed=True to adopt the future default and silence this warning.\n",
      "  df_titanic.groupby(['age_group', 'survived']).count()['age']\n"
     ]
    },
    {
     "data": {
      "text/plain": [
       "age_group    survived\n",
       "Infant       0             9\n",
       "             1            15\n",
       "Child        0            20\n",
       "             1            24\n",
       "Teen         0            16\n",
       "             1            16\n",
       "Young Adult  0           238\n",
       "             1           141\n",
       "Adult        0            94\n",
       "             1            67\n",
       "Senior       0            47\n",
       "             1            27\n",
       "Name: age, dtype: int64"
      ]
     },
     "execution_count": 69,
     "metadata": {},
     "output_type": "execute_result"
    }
   ],
   "source": [
    "# Groupby age_group and survived and then count the non null values for each and disply the count for age only.\n",
    "# This will display the total count of survival and not survival for each group\n",
    "# We can see the most people not survived are from Young Adult group, than adult and then Seniors\n",
    "df_titanic.groupby(['age_group', 'survived']).count()['age']"
   ]
  },
  {
   "cell_type": "markdown",
   "id": "ad8148a8",
   "metadata": {
    "papermill": {
     "duration": 0.038271,
     "end_time": "2024-09-23T11:56:16.236444",
     "exception": false,
     "start_time": "2024-09-23T11:56:16.198173",
     "status": "completed"
    },
    "tags": []
   },
   "source": [
    "<h1 style=\"background-color: #f0f8ff; padding: 15px; border: 2px solid #3498db; border-radius: 8px; margin-bottom: 15px; color: #2980b9;\">15. Categorical Data to Discrete Data using map function</h1>"
   ]
  },
  {
   "cell_type": "markdown",
   "id": "3c9f4087",
   "metadata": {
    "papermill": {
     "duration": 0.037766,
     "end_time": "2024-09-23T11:56:16.312105",
     "exception": false,
     "start_time": "2024-09-23T11:56:16.274339",
     "status": "completed"
    },
    "tags": []
   },
   "source": [
    "# 15. Categorical Data to Discrete Data using map function"
   ]
  },
  {
   "cell_type": "code",
   "execution_count": 70,
   "id": "11b16700",
   "metadata": {
    "execution": {
     "iopub.execute_input": "2024-09-23T11:56:16.389422Z",
     "iopub.status.busy": "2024-09-23T11:56:16.389016Z",
     "iopub.status.idle": "2024-09-23T11:56:16.414215Z",
     "shell.execute_reply": "2024-09-23T11:56:16.413122Z"
    },
    "papermill": {
     "duration": 0.066385,
     "end_time": "2024-09-23T11:56:16.416527",
     "exception": false,
     "start_time": "2024-09-23T11:56:16.350142",
     "status": "completed"
    },
    "tags": []
   },
   "outputs": [
    {
     "data": {
      "application/vnd.microsoft.datawrangler.viewer.v0+json": {
       "columns": [
        {
         "name": "index",
         "rawType": "int64",
         "type": "integer"
        },
        {
         "name": "survived",
         "rawType": "int64",
         "type": "integer"
        },
        {
         "name": "pclass",
         "rawType": "int64",
         "type": "integer"
        },
        {
         "name": "sex",
         "rawType": "object",
         "type": "string"
        },
        {
         "name": "age",
         "rawType": "float64",
         "type": "float"
        },
        {
         "name": "sibsp",
         "rawType": "int64",
         "type": "integer"
        },
        {
         "name": "parch",
         "rawType": "int64",
         "type": "integer"
        },
        {
         "name": "fare",
         "rawType": "float64",
         "type": "float"
        },
        {
         "name": "embarked",
         "rawType": "object",
         "type": "unknown"
        },
        {
         "name": "class",
         "rawType": "category",
         "type": "unknown"
        },
        {
         "name": "who",
         "rawType": "object",
         "type": "string"
        },
        {
         "name": "adult_male",
         "rawType": "bool",
         "type": "boolean"
        },
        {
         "name": "deck",
         "rawType": "category",
         "type": "unknown"
        },
        {
         "name": "embark_town",
         "rawType": "object",
         "type": "unknown"
        },
        {
         "name": "alive",
         "rawType": "object",
         "type": "string"
        },
        {
         "name": "alone",
         "rawType": "bool",
         "type": "boolean"
        },
        {
         "name": "age_group",
         "rawType": "category",
         "type": "unknown"
        },
        {
         "name": "sex_number",
         "rawType": "int64",
         "type": "integer"
        }
       ],
       "conversionMethod": "pd.DataFrame",
       "ref": "1bafb3aa-26a6-4f0b-8401-1926b7a36f5d",
       "rows": [
        [
         "0",
         "0",
         "3",
         "male",
         "22.0",
         "1",
         "0",
         "7.25",
         "S",
         "Third",
         "man",
         "True",
         null,
         "Southampton",
         "no",
         "False",
         "Young Adult",
         "0"
        ],
        [
         "1",
         "1",
         "1",
         "female",
         "38.0",
         "1",
         "0",
         "71.2833",
         "C",
         "First",
         "woman",
         "False",
         "C",
         "Cherbourg",
         "yes",
         "False",
         "Adult",
         "1"
        ],
        [
         "2",
         "1",
         "3",
         "female",
         "26.0",
         "0",
         "0",
         "7.925",
         "S",
         "Third",
         "woman",
         "False",
         null,
         "Southampton",
         "yes",
         "True",
         "Young Adult",
         "1"
        ],
        [
         "3",
         "1",
         "1",
         "female",
         "35.0",
         "1",
         "0",
         "53.1",
         "S",
         "First",
         "woman",
         "False",
         "C",
         "Southampton",
         "yes",
         "False",
         "Adult",
         "1"
        ],
        [
         "4",
         "0",
         "3",
         "male",
         "35.0",
         "0",
         "0",
         "8.05",
         "S",
         "Third",
         "man",
         "True",
         null,
         "Southampton",
         "no",
         "True",
         "Adult",
         "0"
        ],
        [
         "5",
         "0",
         "3",
         "male",
         null,
         "0",
         "0",
         "8.4583",
         "Q",
         "Third",
         "man",
         "True",
         null,
         "Queenstown",
         "no",
         "True",
         null,
         "0"
        ],
        [
         "6",
         "0",
         "1",
         "male",
         "54.0",
         "0",
         "0",
         "51.8625",
         "S",
         "First",
         "man",
         "True",
         "E",
         "Southampton",
         "no",
         "True",
         "Senior",
         "0"
        ],
        [
         "7",
         "0",
         "3",
         "male",
         "2.0",
         "3",
         "1",
         "21.075",
         "S",
         "Third",
         "child",
         "False",
         null,
         "Southampton",
         "no",
         "False",
         "Infant",
         "0"
        ],
        [
         "8",
         "1",
         "3",
         "female",
         "27.0",
         "0",
         "2",
         "11.1333",
         "S",
         "Third",
         "woman",
         "False",
         null,
         "Southampton",
         "yes",
         "False",
         "Young Adult",
         "1"
        ],
        [
         "9",
         "1",
         "2",
         "female",
         "14.0",
         "1",
         "0",
         "30.0708",
         "C",
         "Second",
         "child",
         "False",
         null,
         "Cherbourg",
         "yes",
         "False",
         "Teen",
         "1"
        ],
        [
         "10",
         "1",
         "3",
         "female",
         "4.0",
         "1",
         "1",
         "16.7",
         "S",
         "Third",
         "child",
         "False",
         "G",
         "Southampton",
         "yes",
         "False",
         "Child",
         "1"
        ],
        [
         "11",
         "1",
         "1",
         "female",
         "58.0",
         "0",
         "0",
         "26.55",
         "S",
         "First",
         "woman",
         "False",
         "C",
         "Southampton",
         "yes",
         "True",
         "Senior",
         "1"
        ],
        [
         "12",
         "0",
         "3",
         "male",
         "20.0",
         "0",
         "0",
         "8.05",
         "S",
         "Third",
         "man",
         "True",
         null,
         "Southampton",
         "no",
         "True",
         "Young Adult",
         "0"
        ],
        [
         "13",
         "0",
         "3",
         "male",
         "39.0",
         "1",
         "5",
         "31.275",
         "S",
         "Third",
         "man",
         "True",
         null,
         "Southampton",
         "no",
         "False",
         "Adult",
         "0"
        ],
        [
         "14",
         "0",
         "3",
         "female",
         "14.0",
         "0",
         "0",
         "7.8542",
         "S",
         "Third",
         "child",
         "False",
         null,
         "Southampton",
         "no",
         "True",
         "Teen",
         "1"
        ],
        [
         "15",
         "1",
         "2",
         "female",
         "55.0",
         "0",
         "0",
         "16.0",
         "S",
         "Second",
         "woman",
         "False",
         null,
         "Southampton",
         "yes",
         "True",
         "Senior",
         "1"
        ],
        [
         "16",
         "0",
         "3",
         "male",
         "2.0",
         "4",
         "1",
         "29.125",
         "Q",
         "Third",
         "child",
         "False",
         null,
         "Queenstown",
         "no",
         "False",
         "Infant",
         "0"
        ],
        [
         "17",
         "1",
         "2",
         "male",
         null,
         "0",
         "0",
         "13.0",
         "S",
         "Second",
         "man",
         "True",
         null,
         "Southampton",
         "yes",
         "True",
         null,
         "0"
        ],
        [
         "18",
         "0",
         "3",
         "female",
         "31.0",
         "1",
         "0",
         "18.0",
         "S",
         "Third",
         "woman",
         "False",
         null,
         "Southampton",
         "no",
         "False",
         "Young Adult",
         "1"
        ],
        [
         "19",
         "1",
         "3",
         "female",
         null,
         "0",
         "0",
         "7.225",
         "C",
         "Third",
         "woman",
         "False",
         null,
         "Cherbourg",
         "yes",
         "True",
         null,
         "1"
        ],
        [
         "20",
         "0",
         "2",
         "male",
         "35.0",
         "0",
         "0",
         "26.0",
         "S",
         "Second",
         "man",
         "True",
         null,
         "Southampton",
         "no",
         "True",
         "Adult",
         "0"
        ],
        [
         "21",
         "1",
         "2",
         "male",
         "34.0",
         "0",
         "0",
         "13.0",
         "S",
         "Second",
         "man",
         "True",
         "D",
         "Southampton",
         "yes",
         "True",
         "Young Adult",
         "0"
        ],
        [
         "22",
         "1",
         "3",
         "female",
         "15.0",
         "0",
         "0",
         "8.0292",
         "Q",
         "Third",
         "child",
         "False",
         null,
         "Queenstown",
         "yes",
         "True",
         "Teen",
         "1"
        ],
        [
         "23",
         "1",
         "1",
         "male",
         "28.0",
         "0",
         "0",
         "35.5",
         "S",
         "First",
         "man",
         "True",
         "A",
         "Southampton",
         "yes",
         "True",
         "Young Adult",
         "0"
        ],
        [
         "24",
         "0",
         "3",
         "female",
         "8.0",
         "3",
         "1",
         "21.075",
         "S",
         "Third",
         "child",
         "False",
         null,
         "Southampton",
         "no",
         "False",
         "Child",
         "1"
        ],
        [
         "25",
         "1",
         "3",
         "female",
         "38.0",
         "1",
         "5",
         "31.3875",
         "S",
         "Third",
         "woman",
         "False",
         null,
         "Southampton",
         "yes",
         "False",
         "Adult",
         "1"
        ],
        [
         "26",
         "0",
         "3",
         "male",
         null,
         "0",
         "0",
         "7.225",
         "C",
         "Third",
         "man",
         "True",
         null,
         "Cherbourg",
         "no",
         "True",
         null,
         "0"
        ],
        [
         "27",
         "0",
         "1",
         "male",
         "19.0",
         "3",
         "2",
         "263.0",
         "S",
         "First",
         "man",
         "True",
         "C",
         "Southampton",
         "no",
         "False",
         "Young Adult",
         "0"
        ],
        [
         "28",
         "1",
         "3",
         "female",
         null,
         "0",
         "0",
         "7.8792",
         "Q",
         "Third",
         "woman",
         "False",
         null,
         "Queenstown",
         "yes",
         "True",
         null,
         "1"
        ],
        [
         "29",
         "0",
         "3",
         "male",
         null,
         "0",
         "0",
         "7.8958",
         "S",
         "Third",
         "man",
         "True",
         null,
         "Southampton",
         "no",
         "True",
         null,
         "0"
        ],
        [
         "30",
         "0",
         "1",
         "male",
         "40.0",
         "0",
         "0",
         "27.7208",
         "C",
         "First",
         "man",
         "True",
         null,
         "Cherbourg",
         "no",
         "True",
         "Adult",
         "0"
        ],
        [
         "31",
         "1",
         "1",
         "female",
         null,
         "1",
         "0",
         "146.5208",
         "C",
         "First",
         "woman",
         "False",
         "B",
         "Cherbourg",
         "yes",
         "False",
         null,
         "1"
        ],
        [
         "32",
         "1",
         "3",
         "female",
         null,
         "0",
         "0",
         "7.75",
         "Q",
         "Third",
         "woman",
         "False",
         null,
         "Queenstown",
         "yes",
         "True",
         null,
         "1"
        ],
        [
         "33",
         "0",
         "2",
         "male",
         "66.0",
         "0",
         "0",
         "10.5",
         "S",
         "Second",
         "man",
         "True",
         null,
         "Southampton",
         "no",
         "True",
         "Senior",
         "0"
        ],
        [
         "34",
         "0",
         "1",
         "male",
         "28.0",
         "1",
         "0",
         "82.1708",
         "C",
         "First",
         "man",
         "True",
         null,
         "Cherbourg",
         "no",
         "False",
         "Young Adult",
         "0"
        ],
        [
         "35",
         "0",
         "1",
         "male",
         "42.0",
         "1",
         "0",
         "52.0",
         "S",
         "First",
         "man",
         "True",
         null,
         "Southampton",
         "no",
         "False",
         "Adult",
         "0"
        ],
        [
         "36",
         "1",
         "3",
         "male",
         null,
         "0",
         "0",
         "7.2292",
         "C",
         "Third",
         "man",
         "True",
         null,
         "Cherbourg",
         "yes",
         "True",
         null,
         "0"
        ],
        [
         "37",
         "0",
         "3",
         "male",
         "21.0",
         "0",
         "0",
         "8.05",
         "S",
         "Third",
         "man",
         "True",
         null,
         "Southampton",
         "no",
         "True",
         "Young Adult",
         "0"
        ],
        [
         "38",
         "0",
         "3",
         "female",
         "18.0",
         "2",
         "0",
         "18.0",
         "S",
         "Third",
         "woman",
         "False",
         null,
         "Southampton",
         "no",
         "False",
         "Young Adult",
         "1"
        ],
        [
         "39",
         "1",
         "3",
         "female",
         "14.0",
         "1",
         "0",
         "11.2417",
         "C",
         "Third",
         "child",
         "False",
         null,
         "Cherbourg",
         "yes",
         "False",
         "Teen",
         "1"
        ],
        [
         "40",
         "0",
         "3",
         "female",
         "40.0",
         "1",
         "0",
         "9.475",
         "S",
         "Third",
         "woman",
         "False",
         null,
         "Southampton",
         "no",
         "False",
         "Adult",
         "1"
        ],
        [
         "41",
         "0",
         "2",
         "female",
         "27.0",
         "1",
         "0",
         "21.0",
         "S",
         "Second",
         "woman",
         "False",
         null,
         "Southampton",
         "no",
         "False",
         "Young Adult",
         "1"
        ],
        [
         "42",
         "0",
         "3",
         "male",
         null,
         "0",
         "0",
         "7.8958",
         "C",
         "Third",
         "man",
         "True",
         null,
         "Cherbourg",
         "no",
         "True",
         null,
         "0"
        ],
        [
         "43",
         "1",
         "2",
         "female",
         "3.0",
         "1",
         "2",
         "41.5792",
         "C",
         "Second",
         "child",
         "False",
         null,
         "Cherbourg",
         "yes",
         "False",
         "Child",
         "1"
        ],
        [
         "44",
         "1",
         "3",
         "female",
         "19.0",
         "0",
         "0",
         "7.8792",
         "Q",
         "Third",
         "woman",
         "False",
         null,
         "Queenstown",
         "yes",
         "True",
         "Young Adult",
         "1"
        ],
        [
         "45",
         "0",
         "3",
         "male",
         null,
         "0",
         "0",
         "8.05",
         "S",
         "Third",
         "man",
         "True",
         null,
         "Southampton",
         "no",
         "True",
         null,
         "0"
        ],
        [
         "46",
         "0",
         "3",
         "male",
         null,
         "1",
         "0",
         "15.5",
         "Q",
         "Third",
         "man",
         "True",
         null,
         "Queenstown",
         "no",
         "False",
         null,
         "0"
        ],
        [
         "47",
         "1",
         "3",
         "female",
         null,
         "0",
         "0",
         "7.75",
         "Q",
         "Third",
         "woman",
         "False",
         null,
         "Queenstown",
         "yes",
         "True",
         null,
         "1"
        ],
        [
         "48",
         "0",
         "3",
         "male",
         null,
         "2",
         "0",
         "21.6792",
         "C",
         "Third",
         "man",
         "True",
         null,
         "Cherbourg",
         "no",
         "False",
         null,
         "0"
        ],
        [
         "49",
         "0",
         "3",
         "female",
         "18.0",
         "1",
         "0",
         "17.8",
         "S",
         "Third",
         "woman",
         "False",
         null,
         "Southampton",
         "no",
         "False",
         "Young Adult",
         "1"
        ]
       ],
       "shape": {
        "columns": 17,
        "rows": 891
       }
      },
      "text/html": [
       "<div>\n",
       "<style scoped>\n",
       "    .dataframe tbody tr th:only-of-type {\n",
       "        vertical-align: middle;\n",
       "    }\n",
       "\n",
       "    .dataframe tbody tr th {\n",
       "        vertical-align: top;\n",
       "    }\n",
       "\n",
       "    .dataframe thead th {\n",
       "        text-align: right;\n",
       "    }\n",
       "</style>\n",
       "<table border=\"1\" class=\"dataframe\">\n",
       "  <thead>\n",
       "    <tr style=\"text-align: right;\">\n",
       "      <th></th>\n",
       "      <th>survived</th>\n",
       "      <th>pclass</th>\n",
       "      <th>sex</th>\n",
       "      <th>age</th>\n",
       "      <th>sibsp</th>\n",
       "      <th>parch</th>\n",
       "      <th>fare</th>\n",
       "      <th>embarked</th>\n",
       "      <th>class</th>\n",
       "      <th>who</th>\n",
       "      <th>adult_male</th>\n",
       "      <th>deck</th>\n",
       "      <th>embark_town</th>\n",
       "      <th>alive</th>\n",
       "      <th>alone</th>\n",
       "      <th>age_group</th>\n",
       "      <th>sex_number</th>\n",
       "    </tr>\n",
       "  </thead>\n",
       "  <tbody>\n",
       "    <tr>\n",
       "      <th>0</th>\n",
       "      <td>0</td>\n",
       "      <td>3</td>\n",
       "      <td>male</td>\n",
       "      <td>22.0</td>\n",
       "      <td>1</td>\n",
       "      <td>0</td>\n",
       "      <td>7.2500</td>\n",
       "      <td>S</td>\n",
       "      <td>Third</td>\n",
       "      <td>man</td>\n",
       "      <td>True</td>\n",
       "      <td>NaN</td>\n",
       "      <td>Southampton</td>\n",
       "      <td>no</td>\n",
       "      <td>False</td>\n",
       "      <td>Young Adult</td>\n",
       "      <td>0</td>\n",
       "    </tr>\n",
       "    <tr>\n",
       "      <th>1</th>\n",
       "      <td>1</td>\n",
       "      <td>1</td>\n",
       "      <td>female</td>\n",
       "      <td>38.0</td>\n",
       "      <td>1</td>\n",
       "      <td>0</td>\n",
       "      <td>71.2833</td>\n",
       "      <td>C</td>\n",
       "      <td>First</td>\n",
       "      <td>woman</td>\n",
       "      <td>False</td>\n",
       "      <td>C</td>\n",
       "      <td>Cherbourg</td>\n",
       "      <td>yes</td>\n",
       "      <td>False</td>\n",
       "      <td>Adult</td>\n",
       "      <td>1</td>\n",
       "    </tr>\n",
       "    <tr>\n",
       "      <th>2</th>\n",
       "      <td>1</td>\n",
       "      <td>3</td>\n",
       "      <td>female</td>\n",
       "      <td>26.0</td>\n",
       "      <td>0</td>\n",
       "      <td>0</td>\n",
       "      <td>7.9250</td>\n",
       "      <td>S</td>\n",
       "      <td>Third</td>\n",
       "      <td>woman</td>\n",
       "      <td>False</td>\n",
       "      <td>NaN</td>\n",
       "      <td>Southampton</td>\n",
       "      <td>yes</td>\n",
       "      <td>True</td>\n",
       "      <td>Young Adult</td>\n",
       "      <td>1</td>\n",
       "    </tr>\n",
       "    <tr>\n",
       "      <th>3</th>\n",
       "      <td>1</td>\n",
       "      <td>1</td>\n",
       "      <td>female</td>\n",
       "      <td>35.0</td>\n",
       "      <td>1</td>\n",
       "      <td>0</td>\n",
       "      <td>53.1000</td>\n",
       "      <td>S</td>\n",
       "      <td>First</td>\n",
       "      <td>woman</td>\n",
       "      <td>False</td>\n",
       "      <td>C</td>\n",
       "      <td>Southampton</td>\n",
       "      <td>yes</td>\n",
       "      <td>False</td>\n",
       "      <td>Adult</td>\n",
       "      <td>1</td>\n",
       "    </tr>\n",
       "    <tr>\n",
       "      <th>4</th>\n",
       "      <td>0</td>\n",
       "      <td>3</td>\n",
       "      <td>male</td>\n",
       "      <td>35.0</td>\n",
       "      <td>0</td>\n",
       "      <td>0</td>\n",
       "      <td>8.0500</td>\n",
       "      <td>S</td>\n",
       "      <td>Third</td>\n",
       "      <td>man</td>\n",
       "      <td>True</td>\n",
       "      <td>NaN</td>\n",
       "      <td>Southampton</td>\n",
       "      <td>no</td>\n",
       "      <td>True</td>\n",
       "      <td>Adult</td>\n",
       "      <td>0</td>\n",
       "    </tr>\n",
       "    <tr>\n",
       "      <th>...</th>\n",
       "      <td>...</td>\n",
       "      <td>...</td>\n",
       "      <td>...</td>\n",
       "      <td>...</td>\n",
       "      <td>...</td>\n",
       "      <td>...</td>\n",
       "      <td>...</td>\n",
       "      <td>...</td>\n",
       "      <td>...</td>\n",
       "      <td>...</td>\n",
       "      <td>...</td>\n",
       "      <td>...</td>\n",
       "      <td>...</td>\n",
       "      <td>...</td>\n",
       "      <td>...</td>\n",
       "      <td>...</td>\n",
       "      <td>...</td>\n",
       "    </tr>\n",
       "    <tr>\n",
       "      <th>886</th>\n",
       "      <td>0</td>\n",
       "      <td>2</td>\n",
       "      <td>male</td>\n",
       "      <td>27.0</td>\n",
       "      <td>0</td>\n",
       "      <td>0</td>\n",
       "      <td>13.0000</td>\n",
       "      <td>S</td>\n",
       "      <td>Second</td>\n",
       "      <td>man</td>\n",
       "      <td>True</td>\n",
       "      <td>NaN</td>\n",
       "      <td>Southampton</td>\n",
       "      <td>no</td>\n",
       "      <td>True</td>\n",
       "      <td>Young Adult</td>\n",
       "      <td>0</td>\n",
       "    </tr>\n",
       "    <tr>\n",
       "      <th>887</th>\n",
       "      <td>1</td>\n",
       "      <td>1</td>\n",
       "      <td>female</td>\n",
       "      <td>19.0</td>\n",
       "      <td>0</td>\n",
       "      <td>0</td>\n",
       "      <td>30.0000</td>\n",
       "      <td>S</td>\n",
       "      <td>First</td>\n",
       "      <td>woman</td>\n",
       "      <td>False</td>\n",
       "      <td>B</td>\n",
       "      <td>Southampton</td>\n",
       "      <td>yes</td>\n",
       "      <td>True</td>\n",
       "      <td>Young Adult</td>\n",
       "      <td>1</td>\n",
       "    </tr>\n",
       "    <tr>\n",
       "      <th>888</th>\n",
       "      <td>0</td>\n",
       "      <td>3</td>\n",
       "      <td>female</td>\n",
       "      <td>NaN</td>\n",
       "      <td>1</td>\n",
       "      <td>2</td>\n",
       "      <td>23.4500</td>\n",
       "      <td>S</td>\n",
       "      <td>Third</td>\n",
       "      <td>woman</td>\n",
       "      <td>False</td>\n",
       "      <td>NaN</td>\n",
       "      <td>Southampton</td>\n",
       "      <td>no</td>\n",
       "      <td>False</td>\n",
       "      <td>NaN</td>\n",
       "      <td>1</td>\n",
       "    </tr>\n",
       "    <tr>\n",
       "      <th>889</th>\n",
       "      <td>1</td>\n",
       "      <td>1</td>\n",
       "      <td>male</td>\n",
       "      <td>26.0</td>\n",
       "      <td>0</td>\n",
       "      <td>0</td>\n",
       "      <td>30.0000</td>\n",
       "      <td>C</td>\n",
       "      <td>First</td>\n",
       "      <td>man</td>\n",
       "      <td>True</td>\n",
       "      <td>C</td>\n",
       "      <td>Cherbourg</td>\n",
       "      <td>yes</td>\n",
       "      <td>True</td>\n",
       "      <td>Young Adult</td>\n",
       "      <td>0</td>\n",
       "    </tr>\n",
       "    <tr>\n",
       "      <th>890</th>\n",
       "      <td>0</td>\n",
       "      <td>3</td>\n",
       "      <td>male</td>\n",
       "      <td>32.0</td>\n",
       "      <td>0</td>\n",
       "      <td>0</td>\n",
       "      <td>7.7500</td>\n",
       "      <td>Q</td>\n",
       "      <td>Third</td>\n",
       "      <td>man</td>\n",
       "      <td>True</td>\n",
       "      <td>NaN</td>\n",
       "      <td>Queenstown</td>\n",
       "      <td>no</td>\n",
       "      <td>True</td>\n",
       "      <td>Young Adult</td>\n",
       "      <td>0</td>\n",
       "    </tr>\n",
       "  </tbody>\n",
       "</table>\n",
       "<p>891 rows × 17 columns</p>\n",
       "</div>"
      ],
      "text/plain": [
       "     survived  pclass     sex   age  sibsp  parch     fare embarked   class  \\\n",
       "0           0       3    male  22.0      1      0   7.2500        S   Third   \n",
       "1           1       1  female  38.0      1      0  71.2833        C   First   \n",
       "2           1       3  female  26.0      0      0   7.9250        S   Third   \n",
       "3           1       1  female  35.0      1      0  53.1000        S   First   \n",
       "4           0       3    male  35.0      0      0   8.0500        S   Third   \n",
       "..        ...     ...     ...   ...    ...    ...      ...      ...     ...   \n",
       "886         0       2    male  27.0      0      0  13.0000        S  Second   \n",
       "887         1       1  female  19.0      0      0  30.0000        S   First   \n",
       "888         0       3  female   NaN      1      2  23.4500        S   Third   \n",
       "889         1       1    male  26.0      0      0  30.0000        C   First   \n",
       "890         0       3    male  32.0      0      0   7.7500        Q   Third   \n",
       "\n",
       "       who  adult_male deck  embark_town alive  alone    age_group  sex_number  \n",
       "0      man        True  NaN  Southampton    no  False  Young Adult           0  \n",
       "1    woman       False    C    Cherbourg   yes  False        Adult           1  \n",
       "2    woman       False  NaN  Southampton   yes   True  Young Adult           1  \n",
       "3    woman       False    C  Southampton   yes  False        Adult           1  \n",
       "4      man        True  NaN  Southampton    no   True        Adult           0  \n",
       "..     ...         ...  ...          ...   ...    ...          ...         ...  \n",
       "886    man        True  NaN  Southampton    no   True  Young Adult           0  \n",
       "887  woman       False    B  Southampton   yes   True  Young Adult           1  \n",
       "888  woman       False  NaN  Southampton    no  False          NaN           1  \n",
       "889    man        True    C    Cherbourg   yes   True  Young Adult           0  \n",
       "890    man        True  NaN   Queenstown    no   True  Young Adult           0  \n",
       "\n",
       "[891 rows x 17 columns]"
      ]
     },
     "execution_count": 70,
     "metadata": {},
     "output_type": "execute_result"
    }
   ],
   "source": [
    "df_titanic['sex_number'] = df_titanic.sex.map({'male': 0, \"female\": 1})\n",
    "df_titanic"
   ]
  },
  {
   "cell_type": "code",
   "execution_count": 71,
   "id": "9c1098b1",
   "metadata": {
    "execution": {
     "iopub.execute_input": "2024-09-23T11:56:16.497870Z",
     "iopub.status.busy": "2024-09-23T11:56:16.497433Z",
     "iopub.status.idle": "2024-09-23T11:56:16.506733Z",
     "shell.execute_reply": "2024-09-23T11:56:16.505598Z"
    },
    "papermill": {
     "duration": 0.053681,
     "end_time": "2024-09-23T11:56:16.509082",
     "exception": false,
     "start_time": "2024-09-23T11:56:16.455401",
     "status": "completed"
    },
    "tags": []
   },
   "outputs": [
    {
     "data": {
      "text/plain": [
       "embarked\n",
       "S    644\n",
       "C    168\n",
       "Q     77\n",
       "Name: count, dtype: int64"
      ]
     },
     "execution_count": 71,
     "metadata": {},
     "output_type": "execute_result"
    }
   ],
   "source": [
    "df_titanic.embarked.value_counts()"
   ]
  },
  {
   "cell_type": "code",
   "execution_count": 72,
   "id": "259c44db",
   "metadata": {
    "execution": {
     "iopub.execute_input": "2024-09-23T11:56:16.587730Z",
     "iopub.status.busy": "2024-09-23T11:56:16.587302Z",
     "iopub.status.idle": "2024-09-23T11:56:16.597013Z",
     "shell.execute_reply": "2024-09-23T11:56:16.595966Z"
    },
    "papermill": {
     "duration": 0.051456,
     "end_time": "2024-09-23T11:56:16.599381",
     "exception": false,
     "start_time": "2024-09-23T11:56:16.547925",
     "status": "completed"
    },
    "tags": []
   },
   "outputs": [
    {
     "data": {
      "text/plain": [
       "embarked_number\n",
       " 0    644\n",
       " 1    168\n",
       " 2     77\n",
       "-1      2\n",
       "Name: count, dtype: int64"
      ]
     },
     "execution_count": 72,
     "metadata": {},
     "output_type": "execute_result"
    }
   ],
   "source": [
    "# Starting from 0, automatically map the values based on occourances count\n",
    "df_titanic['embarked_number'] = df_titanic.embarked.factorize()[0]\n",
    "df_titanic.embarked_number.value_counts()"
   ]
  },
  {
   "cell_type": "markdown",
   "id": "037f80f9",
   "metadata": {
    "papermill": {
     "duration": 0.038808,
     "end_time": "2024-09-23T11:56:16.676753",
     "exception": false,
     "start_time": "2024-09-23T11:56:16.637945",
     "status": "completed"
    },
    "tags": []
   },
   "source": [
    "<h1 style=\"background-color: #f0f8ff; padding: 15px; border: 2px solid #3498db; border-radius: 8px; margin-bottom: 15px; color: #2980b9;\">16. Reshaping a DataFrame (melt/pivot/explode functions)</h1>\n"
   ]
  },
  {
   "cell_type": "markdown",
   "id": "b494d392",
   "metadata": {
    "papermill": {
     "duration": 0.038961,
     "end_time": "2024-09-23T11:56:16.753935",
     "exception": false,
     "start_time": "2024-09-23T11:56:16.714974",
     "status": "completed"
    },
    "tags": []
   },
   "source": [
    "# 16. Reshaping a DataFrame (melt/pivot/explode functions)"
   ]
  },
  {
   "cell_type": "markdown",
   "id": "01bc9c96",
   "metadata": {
    "papermill": {
     "duration": 0.03851,
     "end_time": "2024-09-23T11:56:16.830896",
     "exception": false,
     "start_time": "2024-09-23T11:56:16.792386",
     "status": "completed"
    },
    "tags": []
   },
   "source": [
    "💡 Pandas `melt()` Function\n",
    "\n",
    "The `melt()` function in pandas is used to **unpivot** a DataFrame from **wide format** to **long format**.\n",
    "\n",
    "- **Wide Format**: Each variable is a separate column.\n",
    "- **Long Format**: Each variable is represented in one column, and the values are stored in a corresponding column.\n",
    "\n",
    "This is especially useful when you need to restructure data for easier analysis or visualization.\n"
   ]
  },
  {
   "cell_type": "code",
   "execution_count": 73,
   "id": "a6a9f267",
   "metadata": {
    "execution": {
     "iopub.execute_input": "2024-09-23T11:56:16.911939Z",
     "iopub.status.busy": "2024-09-23T11:56:16.911230Z",
     "iopub.status.idle": "2024-09-23T11:56:16.924274Z",
     "shell.execute_reply": "2024-09-23T11:56:16.923028Z"
    },
    "papermill": {
     "duration": 0.056193,
     "end_time": "2024-09-23T11:56:16.926441",
     "exception": false,
     "start_time": "2024-09-23T11:56:16.870248",
     "status": "completed"
    },
    "tags": []
   },
   "outputs": [
    {
     "data": {
      "application/vnd.microsoft.datawrangler.viewer.v0+json": {
       "columns": [
        {
         "name": "index",
         "rawType": "int64",
         "type": "integer"
        },
        {
         "name": "Name",
         "rawType": "object",
         "type": "string"
        },
        {
         "name": "Age",
         "rawType": "int64",
         "type": "integer"
        },
        {
         "name": "Fare",
         "rawType": "int64",
         "type": "integer"
        },
        {
         "name": "Survived",
         "rawType": "int64",
         "type": "integer"
        }
       ],
       "conversionMethod": "pd.DataFrame",
       "ref": "ac47f55b-9d4a-4e32-9fc5-6ff4a9c3adce",
       "rows": [
        [
         "0",
         "Alice",
         "25",
         "100",
         "1"
        ],
        [
         "1",
         "Bob",
         "30",
         "200",
         "0"
        ],
        [
         "2",
         "Charlie",
         "35",
         "300",
         "1"
        ]
       ],
       "shape": {
        "columns": 4,
        "rows": 3
       }
      },
      "text/html": [
       "<div>\n",
       "<style scoped>\n",
       "    .dataframe tbody tr th:only-of-type {\n",
       "        vertical-align: middle;\n",
       "    }\n",
       "\n",
       "    .dataframe tbody tr th {\n",
       "        vertical-align: top;\n",
       "    }\n",
       "\n",
       "    .dataframe thead th {\n",
       "        text-align: right;\n",
       "    }\n",
       "</style>\n",
       "<table border=\"1\" class=\"dataframe\">\n",
       "  <thead>\n",
       "    <tr style=\"text-align: right;\">\n",
       "      <th></th>\n",
       "      <th>Name</th>\n",
       "      <th>Age</th>\n",
       "      <th>Fare</th>\n",
       "      <th>Survived</th>\n",
       "    </tr>\n",
       "  </thead>\n",
       "  <tbody>\n",
       "    <tr>\n",
       "      <th>0</th>\n",
       "      <td>Alice</td>\n",
       "      <td>25</td>\n",
       "      <td>100</td>\n",
       "      <td>1</td>\n",
       "    </tr>\n",
       "    <tr>\n",
       "      <th>1</th>\n",
       "      <td>Bob</td>\n",
       "      <td>30</td>\n",
       "      <td>200</td>\n",
       "      <td>0</td>\n",
       "    </tr>\n",
       "    <tr>\n",
       "      <th>2</th>\n",
       "      <td>Charlie</td>\n",
       "      <td>35</td>\n",
       "      <td>300</td>\n",
       "      <td>1</td>\n",
       "    </tr>\n",
       "  </tbody>\n",
       "</table>\n",
       "</div>"
      ],
      "text/plain": [
       "      Name  Age  Fare  Survived\n",
       "0    Alice   25   100         1\n",
       "1      Bob   30   200         0\n",
       "2  Charlie   35   300         1"
      ]
     },
     "execution_count": 73,
     "metadata": {},
     "output_type": "execute_result"
    }
   ],
   "source": [
    "data = {\n",
    "    'Name': ['Alice', 'Bob', 'Charlie'],\n",
    "    'Age': [25, 30, 35],\n",
    "    'Fare': [100, 200, 300],\n",
    "    'Survived': [1, 0, 1]\n",
    "}\n",
    "\n",
    "df_passenger = pd.DataFrame(data)\n",
    "df_passenger # Original dataframe"
   ]
  },
  {
   "cell_type": "markdown",
   "id": "9bc4a954",
   "metadata": {
    "papermill": {
     "duration": 0.040095,
     "end_time": "2024-09-23T11:56:17.005245",
     "exception": false,
     "start_time": "2024-09-23T11:56:16.965150",
     "status": "completed"
    },
    "tags": []
   },
   "source": [
    "💡 Using `melt()` to Reshape the DataFrame from Wide to Long Format\n",
    "\n",
    "We can use the `melt()` function in pandas to **unpivot** columns, transforming a DataFrame from **wide format** to **long format**. In this example, we will unpivot the `Age` and `Fare` columns, creating new rows for each combination of `Name` and `Survived`.\n",
    "\n",
    "### **Example:**\n",
    "\n",
    "```python\n",
    "import pandas as pd\n",
    "\n",
    "## Sample DataFrame\n",
    "data = {\n",
    "    'Name': ['John', 'Jane'],\n",
    "    'Survived': [1, 0],\n",
    "    'Age': [22, 35],\n",
    "    'Fare': [7.25, 71.83]\n",
    "}\n",
    "\n",
    "df = pd.DataFrame(data)\n",
    "\n",
    "## Use melt to reshape the DataFrame\n",
    "df_melted = pd.melt(df, id_vars=['Name', 'Survived'], value_vars=['Age', 'Fare'], \n",
    "                    var_name='Variable', value_name='Value')\n",
    "\n",
    "## Display the reshaped DataFrame\n",
    "print(df_melted)                                                                  \n",
    "```"
   ]
  },
  {
   "cell_type": "code",
   "execution_count": 74,
   "id": "b289a8c7",
   "metadata": {
    "execution": {
     "iopub.execute_input": "2024-09-23T11:56:17.086232Z",
     "iopub.status.busy": "2024-09-23T11:56:17.085825Z",
     "iopub.status.idle": "2024-09-23T11:56:17.101879Z",
     "shell.execute_reply": "2024-09-23T11:56:17.100792Z"
    },
    "papermill": {
     "duration": 0.058306,
     "end_time": "2024-09-23T11:56:17.104162",
     "exception": false,
     "start_time": "2024-09-23T11:56:17.045856",
     "status": "completed"
    },
    "tags": []
   },
   "outputs": [
    {
     "data": {
      "application/vnd.microsoft.datawrangler.viewer.v0+json": {
       "columns": [
        {
         "name": "index",
         "rawType": "int64",
         "type": "integer"
        },
        {
         "name": "Name",
         "rawType": "object",
         "type": "string"
        },
        {
         "name": "Survived",
         "rawType": "int64",
         "type": "integer"
        },
        {
         "name": "Features",
         "rawType": "object",
         "type": "string"
        },
        {
         "name": "Value",
         "rawType": "int64",
         "type": "integer"
        }
       ],
       "conversionMethod": "pd.DataFrame",
       "ref": "61558942-3922-4ef2-a2ea-6230e6c1492a",
       "rows": [
        [
         "0",
         "Alice",
         "1",
         "Age",
         "25"
        ],
        [
         "1",
         "Bob",
         "0",
         "Age",
         "30"
        ],
        [
         "2",
         "Charlie",
         "1",
         "Age",
         "35"
        ],
        [
         "3",
         "Alice",
         "1",
         "Fare",
         "100"
        ],
        [
         "4",
         "Bob",
         "0",
         "Fare",
         "200"
        ],
        [
         "5",
         "Charlie",
         "1",
         "Fare",
         "300"
        ]
       ],
       "shape": {
        "columns": 4,
        "rows": 6
       }
      },
      "text/html": [
       "<div>\n",
       "<style scoped>\n",
       "    .dataframe tbody tr th:only-of-type {\n",
       "        vertical-align: middle;\n",
       "    }\n",
       "\n",
       "    .dataframe tbody tr th {\n",
       "        vertical-align: top;\n",
       "    }\n",
       "\n",
       "    .dataframe thead th {\n",
       "        text-align: right;\n",
       "    }\n",
       "</style>\n",
       "<table border=\"1\" class=\"dataframe\">\n",
       "  <thead>\n",
       "    <tr style=\"text-align: right;\">\n",
       "      <th></th>\n",
       "      <th>Name</th>\n",
       "      <th>Survived</th>\n",
       "      <th>Features</th>\n",
       "      <th>Value</th>\n",
       "    </tr>\n",
       "  </thead>\n",
       "  <tbody>\n",
       "    <tr>\n",
       "      <th>0</th>\n",
       "      <td>Alice</td>\n",
       "      <td>1</td>\n",
       "      <td>Age</td>\n",
       "      <td>25</td>\n",
       "    </tr>\n",
       "    <tr>\n",
       "      <th>1</th>\n",
       "      <td>Bob</td>\n",
       "      <td>0</td>\n",
       "      <td>Age</td>\n",
       "      <td>30</td>\n",
       "    </tr>\n",
       "    <tr>\n",
       "      <th>2</th>\n",
       "      <td>Charlie</td>\n",
       "      <td>1</td>\n",
       "      <td>Age</td>\n",
       "      <td>35</td>\n",
       "    </tr>\n",
       "    <tr>\n",
       "      <th>3</th>\n",
       "      <td>Alice</td>\n",
       "      <td>1</td>\n",
       "      <td>Fare</td>\n",
       "      <td>100</td>\n",
       "    </tr>\n",
       "    <tr>\n",
       "      <th>4</th>\n",
       "      <td>Bob</td>\n",
       "      <td>0</td>\n",
       "      <td>Fare</td>\n",
       "      <td>200</td>\n",
       "    </tr>\n",
       "    <tr>\n",
       "      <th>5</th>\n",
       "      <td>Charlie</td>\n",
       "      <td>1</td>\n",
       "      <td>Fare</td>\n",
       "      <td>300</td>\n",
       "    </tr>\n",
       "  </tbody>\n",
       "</table>\n",
       "</div>"
      ],
      "text/plain": [
       "      Name  Survived Features  Value\n",
       "0    Alice         1      Age     25\n",
       "1      Bob         0      Age     30\n",
       "2  Charlie         1      Age     35\n",
       "3    Alice         1     Fare    100\n",
       "4      Bob         0     Fare    200\n",
       "5  Charlie         1     Fare    300"
      ]
     },
     "execution_count": 74,
     "metadata": {},
     "output_type": "execute_result"
    }
   ],
   "source": [
    "df_melted = pd.melt(df_passenger,\n",
    "                    id_vars=['Name', 'Survived'], # Keep 'Name' and 'Survived' as identifiers\n",
    "                    value_vars=['Age', 'Fare'], # Unpivot 'Age' and 'Fare' as rows\n",
    "                    var_name='Features', # New column name for unpivoted variables (Age and Fare)\n",
    "                    value_name='Value' # New column name for unpivoted variable values\n",
    ")\n",
    "\n",
    "df_melted"
   ]
  },
  {
   "cell_type": "markdown",
   "id": "40ef542a",
   "metadata": {
    "papermill": {
     "duration": 0.039577,
     "end_time": "2024-09-23T11:56:17.182939",
     "exception": false,
     "start_time": "2024-09-23T11:56:17.143362",
     "status": "completed"
    },
    "tags": []
   },
   "source": [
    "💡 Using `pivot()` to Reshape the DataFrame from Long to Wide Format\n",
    "\n",
    "The `pivot()` function in pandas is used to reshape data from **long format** to **wide format**. This is the opposite of the `melt()` function, and it’s useful when you want to spread variables across columns instead of rows.\n",
    "\n",
    "### **Example:**\n",
    "\n",
    "```python\n",
    "import pandas as pd\n",
    "\n",
    "## Sample long-format DataFrame\n",
    "data = {\n",
    "    'Name': ['John', 'John', 'Jane', 'Jane'],\n",
    "    'Variable': ['Age', 'Fare', 'Age', 'Fare'],\n",
    "    'Value': [22, 7.25, 35, 71.83]\n",
    "}\n",
    "\n",
    "df_long = pd.DataFrame(data)\n",
    "\n",
    "## Use pivot to reshape the DataFrame from long to wide format\n",
    "df_wide = df_long.pivot(index='Name', columns='Variable', values='Value')\n",
    "\n",
    "## Display the reshaped DataFrame\n",
    "print(df_wide)\n",
    "```"
   ]
  },
  {
   "cell_type": "code",
   "execution_count": 75,
   "id": "807204a7",
   "metadata": {
    "execution": {
     "iopub.execute_input": "2024-09-23T11:56:17.262221Z",
     "iopub.status.busy": "2024-09-23T11:56:17.261819Z",
     "iopub.status.idle": "2024-09-23T11:56:17.278091Z",
     "shell.execute_reply": "2024-09-23T11:56:17.276695Z"
    },
    "papermill": {
     "duration": 0.058901,
     "end_time": "2024-09-23T11:56:17.280527",
     "exception": false,
     "start_time": "2024-09-23T11:56:17.221626",
     "status": "completed"
    },
    "tags": []
   },
   "outputs": [
    {
     "data": {
      "application/vnd.microsoft.datawrangler.viewer.v0+json": {
       "columns": [
        {
         "name": "('Name', 'Survived')",
         "rawType": "object",
         "type": "unknown"
        },
        {
         "name": "Age",
         "rawType": "int64",
         "type": "integer"
        },
        {
         "name": "Fare",
         "rawType": "int64",
         "type": "integer"
        }
       ],
       "conversionMethod": "pd.DataFrame",
       "ref": "8541a0ef-dfd1-47c4-997a-da30be90b17e",
       "rows": [
        [
         "('Alice', np.int64(1))",
         "25",
         "100"
        ],
        [
         "('Bob', np.int64(0))",
         "30",
         "200"
        ],
        [
         "('Charlie', np.int64(1))",
         "35",
         "300"
        ]
       ],
       "shape": {
        "columns": 2,
        "rows": 3
       }
      },
      "text/html": [
       "<div>\n",
       "<style scoped>\n",
       "    .dataframe tbody tr th:only-of-type {\n",
       "        vertical-align: middle;\n",
       "    }\n",
       "\n",
       "    .dataframe tbody tr th {\n",
       "        vertical-align: top;\n",
       "    }\n",
       "\n",
       "    .dataframe thead th {\n",
       "        text-align: right;\n",
       "    }\n",
       "</style>\n",
       "<table border=\"1\" class=\"dataframe\">\n",
       "  <thead>\n",
       "    <tr style=\"text-align: right;\">\n",
       "      <th></th>\n",
       "      <th>Features</th>\n",
       "      <th>Age</th>\n",
       "      <th>Fare</th>\n",
       "    </tr>\n",
       "    <tr>\n",
       "      <th>Name</th>\n",
       "      <th>Survived</th>\n",
       "      <th></th>\n",
       "      <th></th>\n",
       "    </tr>\n",
       "  </thead>\n",
       "  <tbody>\n",
       "    <tr>\n",
       "      <th>Alice</th>\n",
       "      <th>1</th>\n",
       "      <td>25</td>\n",
       "      <td>100</td>\n",
       "    </tr>\n",
       "    <tr>\n",
       "      <th>Bob</th>\n",
       "      <th>0</th>\n",
       "      <td>30</td>\n",
       "      <td>200</td>\n",
       "    </tr>\n",
       "    <tr>\n",
       "      <th>Charlie</th>\n",
       "      <th>1</th>\n",
       "      <td>35</td>\n",
       "      <td>300</td>\n",
       "    </tr>\n",
       "  </tbody>\n",
       "</table>\n",
       "</div>"
      ],
      "text/plain": [
       "Features          Age  Fare\n",
       "Name    Survived           \n",
       "Alice   1          25   100\n",
       "Bob     0          30   200\n",
       "Charlie 1          35   300"
      ]
     },
     "execution_count": 75,
     "metadata": {},
     "output_type": "execute_result"
    }
   ],
   "source": [
    "df_pivoted = df_melted.pivot(index=['Name', 'Survived'], columns='Features', values='Value')\n",
    "df_pivoted"
   ]
  },
  {
   "cell_type": "markdown",
   "id": "e2296eeb",
   "metadata": {
    "papermill": {
     "duration": 0.040152,
     "end_time": "2024-09-23T11:56:17.359993",
     "exception": false,
     "start_time": "2024-09-23T11:56:17.319841",
     "status": "completed"
    },
    "tags": []
   },
   "source": [
    "💡 Using `explode()` to Vertically Expand DataFrames with List-like Values\n",
    "\n",
    "The `explode()` function in pandas is used to **expand** a DataFrame by transforming **list-like elements** in a column into **multiple rows**. This is especially useful when you have a DataFrame column that contains lists, and you want to create a new row for each element in those lists.\n",
    "\n",
    "### **Example:**\n",
    "\n",
    "```python\n",
    "import pandas as pd\n",
    "\n",
    "## Sample DataFrame with list-like values\n",
    "data = {\n",
    "    'Name': ['John', 'Jane'],\n",
    "    'Hobbies': [['Reading', 'Swimming'], ['Cycling', 'Hiking', 'Painting']]\n",
    "}\n",
    "\n",
    "df = pd.DataFrame(data)\n",
    "\n",
    "## Use explode to expand the DataFrame\n",
    "df_expanded = df.explode('Hobbies')\n",
    "\n",
    "## Display the expanded DataFrame\n",
    "print(df_expanded)\n",
    "```\n"
   ]
  },
  {
   "cell_type": "code",
   "execution_count": 76,
   "id": "95290c03",
   "metadata": {
    "execution": {
     "iopub.execute_input": "2024-09-23T11:56:17.440575Z",
     "iopub.status.busy": "2024-09-23T11:56:17.439601Z",
     "iopub.status.idle": "2024-09-23T11:56:17.455723Z",
     "shell.execute_reply": "2024-09-23T11:56:17.454553Z"
    },
    "papermill": {
     "duration": 0.058682,
     "end_time": "2024-09-23T11:56:17.458047",
     "exception": false,
     "start_time": "2024-09-23T11:56:17.399365",
     "status": "completed"
    },
    "tags": []
   },
   "outputs": [
    {
     "data": {
      "application/vnd.microsoft.datawrangler.viewer.v0+json": {
       "columns": [
        {
         "name": "index",
         "rawType": "int64",
         "type": "integer"
        },
        {
         "name": "title",
         "rawType": "object",
         "type": "string"
        },
        {
         "name": "level",
         "rawType": "object",
         "type": "string"
        },
        {
         "name": "salary",
         "rawType": "int64",
         "type": "integer"
        },
        {
         "name": "location",
         "rawType": "object",
         "type": "string"
        },
        {
         "name": "experience",
         "rawType": "object",
         "type": "string"
        },
        {
         "name": "skills",
         "rawType": "object",
         "type": "unknown"
        }
       ],
       "conversionMethod": "pd.DataFrame",
       "ref": "df60e1eb-617c-4700-b252-1dced1bdb33e",
       "rows": [
        [
         "0",
         "Data Scientist",
         "Senior",
         "100000",
         "New York",
         "5 yrs",
         "['ML', 'BigData', 'Python', 'R']"
        ],
        [
         "1",
         "Lead Data Scientist",
         "Senior",
         "120000",
         "San Francisco",
         "7 yrs",
         "['Data Engineering', 'hive', 'metadata', 'data domain', 'glue', 'airflow', 'data processing', 'bi']"
        ],
        [
         "2",
         "Principal Data Scientist",
         "Senior",
         "150000",
         "Chicago",
         "10 yrs",
         "['Hadoop', 'System Administration', 'Big Data Administration', 'Linux', 'Virtualization', 'VMware', 'KVM', 'Big Data']"
        ]
       ],
       "shape": {
        "columns": 6,
        "rows": 3
       }
      },
      "text/html": [
       "<div>\n",
       "<style scoped>\n",
       "    .dataframe tbody tr th:only-of-type {\n",
       "        vertical-align: middle;\n",
       "    }\n",
       "\n",
       "    .dataframe tbody tr th {\n",
       "        vertical-align: top;\n",
       "    }\n",
       "\n",
       "    .dataframe thead th {\n",
       "        text-align: right;\n",
       "    }\n",
       "</style>\n",
       "<table border=\"1\" class=\"dataframe\">\n",
       "  <thead>\n",
       "    <tr style=\"text-align: right;\">\n",
       "      <th></th>\n",
       "      <th>title</th>\n",
       "      <th>level</th>\n",
       "      <th>salary</th>\n",
       "      <th>location</th>\n",
       "      <th>experience</th>\n",
       "      <th>skills</th>\n",
       "    </tr>\n",
       "  </thead>\n",
       "  <tbody>\n",
       "    <tr>\n",
       "      <th>0</th>\n",
       "      <td>Data Scientist</td>\n",
       "      <td>Senior</td>\n",
       "      <td>100000</td>\n",
       "      <td>New York</td>\n",
       "      <td>5 yrs</td>\n",
       "      <td>[ML, BigData, Python, R]</td>\n",
       "    </tr>\n",
       "    <tr>\n",
       "      <th>1</th>\n",
       "      <td>Lead Data Scientist</td>\n",
       "      <td>Senior</td>\n",
       "      <td>120000</td>\n",
       "      <td>San Francisco</td>\n",
       "      <td>7 yrs</td>\n",
       "      <td>[Data Engineering, hive, metadata, data domain...</td>\n",
       "    </tr>\n",
       "    <tr>\n",
       "      <th>2</th>\n",
       "      <td>Principal Data Scientist</td>\n",
       "      <td>Senior</td>\n",
       "      <td>150000</td>\n",
       "      <td>Chicago</td>\n",
       "      <td>10 yrs</td>\n",
       "      <td>[Hadoop, System Administration, Big Data Admin...</td>\n",
       "    </tr>\n",
       "  </tbody>\n",
       "</table>\n",
       "</div>"
      ],
      "text/plain": [
       "                      title   level  salary       location experience  \\\n",
       "0            Data Scientist  Senior  100000       New York      5 yrs   \n",
       "1       Lead Data Scientist  Senior  120000  San Francisco      7 yrs   \n",
       "2  Principal Data Scientist  Senior  150000        Chicago     10 yrs   \n",
       "\n",
       "                                              skills  \n",
       "0                           [ML, BigData, Python, R]  \n",
       "1  [Data Engineering, hive, metadata, data domain...  \n",
       "2  [Hadoop, System Administration, Big Data Admin...  "
      ]
     },
     "execution_count": 76,
     "metadata": {},
     "output_type": "execute_result"
    }
   ],
   "source": [
    "data = {\n",
    "    'title': ['Data Scientist', 'Lead Data Scientist', 'Principal Data Scientist'],\n",
    "    'level': ['Senior', 'Senior', 'Senior'],\n",
    "    'salary': [100000, 120000, 150000],\n",
    "    'location': ['New York', 'San Francisco', 'Chicago'],\n",
    "    'experience': ['5 yrs', '7 yrs', '10 yrs'],\n",
    "    'skills': [['ML', 'BigData', 'Python', 'R'], \n",
    "               ['Data Engineering', 'hive', 'metadata', 'data domain', 'glue', 'airflow', 'data processing', 'bi'],\n",
    "               ['Hadoop', 'System Administration', 'Big Data Administration', 'Linux', 'Virtualization', 'VMware', 'KVM', 'Big Data']\n",
    "    ]\n",
    "}\n",
    "\n",
    "df_jobs = pd.DataFrame(data)\n",
    "df_jobs"
   ]
  },
  {
   "cell_type": "code",
   "execution_count": 77,
   "id": "94f3c7ff",
   "metadata": {
    "execution": {
     "iopub.execute_input": "2024-09-23T11:56:17.538037Z",
     "iopub.status.busy": "2024-09-23T11:56:17.537607Z",
     "iopub.status.idle": "2024-09-23T11:56:17.559082Z",
     "shell.execute_reply": "2024-09-23T11:56:17.557885Z"
    },
    "papermill": {
     "duration": 0.064767,
     "end_time": "2024-09-23T11:56:17.562007",
     "exception": false,
     "start_time": "2024-09-23T11:56:17.497240",
     "status": "completed"
    },
    "tags": []
   },
   "outputs": [
    {
     "data": {
      "application/vnd.microsoft.datawrangler.viewer.v0+json": {
       "columns": [
        {
         "name": "index",
         "rawType": "int64",
         "type": "integer"
        },
        {
         "name": "title",
         "rawType": "object",
         "type": "string"
        },
        {
         "name": "level",
         "rawType": "object",
         "type": "string"
        },
        {
         "name": "salary",
         "rawType": "int64",
         "type": "integer"
        },
        {
         "name": "location",
         "rawType": "object",
         "type": "string"
        },
        {
         "name": "experience",
         "rawType": "object",
         "type": "string"
        },
        {
         "name": "skills",
         "rawType": "object",
         "type": "string"
        }
       ],
       "conversionMethod": "pd.DataFrame",
       "ref": "941a9c78-a8d6-4f0e-9b5d-5889a53d68be",
       "rows": [
        [
         "0",
         "Data Scientist",
         "Senior",
         "100000",
         "New York",
         "5 yrs",
         "ML"
        ],
        [
         "0",
         "Data Scientist",
         "Senior",
         "100000",
         "New York",
         "5 yrs",
         "BigData"
        ],
        [
         "0",
         "Data Scientist",
         "Senior",
         "100000",
         "New York",
         "5 yrs",
         "Python"
        ],
        [
         "0",
         "Data Scientist",
         "Senior",
         "100000",
         "New York",
         "5 yrs",
         "R"
        ],
        [
         "1",
         "Lead Data Scientist",
         "Senior",
         "120000",
         "San Francisco",
         "7 yrs",
         "Data Engineering"
        ],
        [
         "1",
         "Lead Data Scientist",
         "Senior",
         "120000",
         "San Francisco",
         "7 yrs",
         "hive"
        ],
        [
         "1",
         "Lead Data Scientist",
         "Senior",
         "120000",
         "San Francisco",
         "7 yrs",
         "metadata"
        ],
        [
         "1",
         "Lead Data Scientist",
         "Senior",
         "120000",
         "San Francisco",
         "7 yrs",
         "data domain"
        ],
        [
         "1",
         "Lead Data Scientist",
         "Senior",
         "120000",
         "San Francisco",
         "7 yrs",
         "glue"
        ],
        [
         "1",
         "Lead Data Scientist",
         "Senior",
         "120000",
         "San Francisco",
         "7 yrs",
         "airflow"
        ]
       ],
       "shape": {
        "columns": 6,
        "rows": 10
       }
      },
      "text/html": [
       "<div>\n",
       "<style scoped>\n",
       "    .dataframe tbody tr th:only-of-type {\n",
       "        vertical-align: middle;\n",
       "    }\n",
       "\n",
       "    .dataframe tbody tr th {\n",
       "        vertical-align: top;\n",
       "    }\n",
       "\n",
       "    .dataframe thead th {\n",
       "        text-align: right;\n",
       "    }\n",
       "</style>\n",
       "<table border=\"1\" class=\"dataframe\">\n",
       "  <thead>\n",
       "    <tr style=\"text-align: right;\">\n",
       "      <th></th>\n",
       "      <th>title</th>\n",
       "      <th>level</th>\n",
       "      <th>salary</th>\n",
       "      <th>location</th>\n",
       "      <th>experience</th>\n",
       "      <th>skills</th>\n",
       "    </tr>\n",
       "  </thead>\n",
       "  <tbody>\n",
       "    <tr>\n",
       "      <th>0</th>\n",
       "      <td>Data Scientist</td>\n",
       "      <td>Senior</td>\n",
       "      <td>100000</td>\n",
       "      <td>New York</td>\n",
       "      <td>5 yrs</td>\n",
       "      <td>ML</td>\n",
       "    </tr>\n",
       "    <tr>\n",
       "      <th>0</th>\n",
       "      <td>Data Scientist</td>\n",
       "      <td>Senior</td>\n",
       "      <td>100000</td>\n",
       "      <td>New York</td>\n",
       "      <td>5 yrs</td>\n",
       "      <td>BigData</td>\n",
       "    </tr>\n",
       "    <tr>\n",
       "      <th>0</th>\n",
       "      <td>Data Scientist</td>\n",
       "      <td>Senior</td>\n",
       "      <td>100000</td>\n",
       "      <td>New York</td>\n",
       "      <td>5 yrs</td>\n",
       "      <td>Python</td>\n",
       "    </tr>\n",
       "    <tr>\n",
       "      <th>0</th>\n",
       "      <td>Data Scientist</td>\n",
       "      <td>Senior</td>\n",
       "      <td>100000</td>\n",
       "      <td>New York</td>\n",
       "      <td>5 yrs</td>\n",
       "      <td>R</td>\n",
       "    </tr>\n",
       "    <tr>\n",
       "      <th>1</th>\n",
       "      <td>Lead Data Scientist</td>\n",
       "      <td>Senior</td>\n",
       "      <td>120000</td>\n",
       "      <td>San Francisco</td>\n",
       "      <td>7 yrs</td>\n",
       "      <td>Data Engineering</td>\n",
       "    </tr>\n",
       "    <tr>\n",
       "      <th>1</th>\n",
       "      <td>Lead Data Scientist</td>\n",
       "      <td>Senior</td>\n",
       "      <td>120000</td>\n",
       "      <td>San Francisco</td>\n",
       "      <td>7 yrs</td>\n",
       "      <td>hive</td>\n",
       "    </tr>\n",
       "    <tr>\n",
       "      <th>1</th>\n",
       "      <td>Lead Data Scientist</td>\n",
       "      <td>Senior</td>\n",
       "      <td>120000</td>\n",
       "      <td>San Francisco</td>\n",
       "      <td>7 yrs</td>\n",
       "      <td>metadata</td>\n",
       "    </tr>\n",
       "    <tr>\n",
       "      <th>1</th>\n",
       "      <td>Lead Data Scientist</td>\n",
       "      <td>Senior</td>\n",
       "      <td>120000</td>\n",
       "      <td>San Francisco</td>\n",
       "      <td>7 yrs</td>\n",
       "      <td>data domain</td>\n",
       "    </tr>\n",
       "    <tr>\n",
       "      <th>1</th>\n",
       "      <td>Lead Data Scientist</td>\n",
       "      <td>Senior</td>\n",
       "      <td>120000</td>\n",
       "      <td>San Francisco</td>\n",
       "      <td>7 yrs</td>\n",
       "      <td>glue</td>\n",
       "    </tr>\n",
       "    <tr>\n",
       "      <th>1</th>\n",
       "      <td>Lead Data Scientist</td>\n",
       "      <td>Senior</td>\n",
       "      <td>120000</td>\n",
       "      <td>San Francisco</td>\n",
       "      <td>7 yrs</td>\n",
       "      <td>airflow</td>\n",
       "    </tr>\n",
       "  </tbody>\n",
       "</table>\n",
       "</div>"
      ],
      "text/plain": [
       "                 title   level  salary       location experience  \\\n",
       "0       Data Scientist  Senior  100000       New York      5 yrs   \n",
       "0       Data Scientist  Senior  100000       New York      5 yrs   \n",
       "0       Data Scientist  Senior  100000       New York      5 yrs   \n",
       "0       Data Scientist  Senior  100000       New York      5 yrs   \n",
       "1  Lead Data Scientist  Senior  120000  San Francisco      7 yrs   \n",
       "1  Lead Data Scientist  Senior  120000  San Francisco      7 yrs   \n",
       "1  Lead Data Scientist  Senior  120000  San Francisco      7 yrs   \n",
       "1  Lead Data Scientist  Senior  120000  San Francisco      7 yrs   \n",
       "1  Lead Data Scientist  Senior  120000  San Francisco      7 yrs   \n",
       "1  Lead Data Scientist  Senior  120000  San Francisco      7 yrs   \n",
       "\n",
       "             skills  \n",
       "0                ML  \n",
       "0           BigData  \n",
       "0            Python  \n",
       "0                 R  \n",
       "1  Data Engineering  \n",
       "1              hive  \n",
       "1          metadata  \n",
       "1       data domain  \n",
       "1              glue  \n",
       "1           airflow  "
      ]
     },
     "execution_count": 77,
     "metadata": {},
     "output_type": "execute_result"
    }
   ],
   "source": [
    "exploded = df_jobs.explode('skills')\n",
    "exploded.head(10)"
   ]
  },
  {
   "cell_type": "markdown",
   "id": "8198107c",
   "metadata": {
    "papermill": {
     "duration": 0.038872,
     "end_time": "2024-09-23T11:56:17.640483",
     "exception": false,
     "start_time": "2024-09-23T11:56:17.601611",
     "status": "completed"
    },
    "tags": []
   },
   "source": [
    "<h1 style=\"background-color: #f0f8ff; padding: 15px; border: 2px solid #3498db; border-radius: 8px; margin-bottom: 15px; color: #2980b9;\">17. Transforming Data Using apply Function</h1>"
   ]
  },
  {
   "cell_type": "markdown",
   "id": "ba062a8c",
   "metadata": {
    "papermill": {
     "duration": 0.039124,
     "end_time": "2024-09-23T11:56:17.719229",
     "exception": false,
     "start_time": "2024-09-23T11:56:17.680105",
     "status": "completed"
    },
    "tags": []
   },
   "source": [
    "# 17. Transforming Data Using apply Function"
   ]
  },
  {
   "cell_type": "code",
   "execution_count": 78,
   "id": "1034fda7",
   "metadata": {
    "execution": {
     "iopub.execute_input": "2024-09-23T11:56:17.800710Z",
     "iopub.status.busy": "2024-09-23T11:56:17.799353Z",
     "iopub.status.idle": "2024-09-23T11:56:17.810882Z",
     "shell.execute_reply": "2024-09-23T11:56:17.809589Z"
    },
    "papermill": {
     "duration": 0.055113,
     "end_time": "2024-09-23T11:56:17.813654",
     "exception": false,
     "start_time": "2024-09-23T11:56:17.758541",
     "status": "completed"
    },
    "tags": []
   },
   "outputs": [
    {
     "name": "stdout",
     "output_type": "stream",
     "text": [
      "<class 'pandas.core.frame.DataFrame'>\n",
      "RangeIndex: 3 entries, 0 to 2\n",
      "Data columns (total 6 columns):\n",
      " #   Column      Non-Null Count  Dtype \n",
      "---  ------      --------------  ----- \n",
      " 0   title       3 non-null      object\n",
      " 1   level       3 non-null      object\n",
      " 2   salary      3 non-null      int64 \n",
      " 3   location    3 non-null      object\n",
      " 4   experience  3 non-null      object\n",
      " 5   skills      3 non-null      object\n",
      "dtypes: int64(1), object(5)\n",
      "memory usage: 276.0+ bytes\n"
     ]
    }
   ],
   "source": [
    "df_jobs.info()"
   ]
  },
  {
   "cell_type": "code",
   "execution_count": 79,
   "id": "02d2ce91",
   "metadata": {
    "execution": {
     "iopub.execute_input": "2024-09-23T11:56:17.900806Z",
     "iopub.status.busy": "2024-09-23T11:56:17.899711Z",
     "iopub.status.idle": "2024-09-23T11:56:17.917421Z",
     "shell.execute_reply": "2024-09-23T11:56:17.916022Z"
    },
    "papermill": {
     "duration": 0.061116,
     "end_time": "2024-09-23T11:56:17.919755",
     "exception": false,
     "start_time": "2024-09-23T11:56:17.858639",
     "status": "completed"
    },
    "tags": []
   },
   "outputs": [
    {
     "data": {
      "application/vnd.microsoft.datawrangler.viewer.v0+json": {
       "columns": [
        {
         "name": "index",
         "rawType": "int64",
         "type": "integer"
        },
        {
         "name": "title",
         "rawType": "object",
         "type": "string"
        },
        {
         "name": "level",
         "rawType": "object",
         "type": "string"
        },
        {
         "name": "salary",
         "rawType": "int64",
         "type": "integer"
        },
        {
         "name": "location",
         "rawType": "object",
         "type": "string"
        },
        {
         "name": "experience",
         "rawType": "object",
         "type": "string"
        },
        {
         "name": "skills",
         "rawType": "object",
         "type": "unknown"
        },
        {
         "name": "experience_level",
         "rawType": "object",
         "type": "string"
        }
       ],
       "conversionMethod": "pd.DataFrame",
       "ref": "36de4e8f-dd7f-48fa-abf6-30eb8e0b80a8",
       "rows": [
        [
         "0",
         "Data Scientist",
         "Senior",
         "100000",
         "New York",
         "5 yrs",
         "['ML', 'BigData', 'Python', 'R']",
         "Mid-Level"
        ],
        [
         "1",
         "Lead Data Scientist",
         "Senior",
         "120000",
         "San Francisco",
         "7 yrs",
         "['Data Engineering', 'hive', 'metadata', 'data domain', 'glue', 'airflow', 'data processing', 'bi']",
         "Senior"
        ],
        [
         "2",
         "Principal Data Scientist",
         "Senior",
         "150000",
         "Chicago",
         "10 yrs",
         "['Hadoop', 'System Administration', 'Big Data Administration', 'Linux', 'Virtualization', 'VMware', 'KVM', 'Big Data']",
         "Lead"
        ]
       ],
       "shape": {
        "columns": 7,
        "rows": 3
       }
      },
      "text/html": [
       "<div>\n",
       "<style scoped>\n",
       "    .dataframe tbody tr th:only-of-type {\n",
       "        vertical-align: middle;\n",
       "    }\n",
       "\n",
       "    .dataframe tbody tr th {\n",
       "        vertical-align: top;\n",
       "    }\n",
       "\n",
       "    .dataframe thead th {\n",
       "        text-align: right;\n",
       "    }\n",
       "</style>\n",
       "<table border=\"1\" class=\"dataframe\">\n",
       "  <thead>\n",
       "    <tr style=\"text-align: right;\">\n",
       "      <th></th>\n",
       "      <th>title</th>\n",
       "      <th>level</th>\n",
       "      <th>salary</th>\n",
       "      <th>location</th>\n",
       "      <th>experience</th>\n",
       "      <th>skills</th>\n",
       "      <th>experience_level</th>\n",
       "    </tr>\n",
       "  </thead>\n",
       "  <tbody>\n",
       "    <tr>\n",
       "      <th>0</th>\n",
       "      <td>Data Scientist</td>\n",
       "      <td>Senior</td>\n",
       "      <td>100000</td>\n",
       "      <td>New York</td>\n",
       "      <td>5 yrs</td>\n",
       "      <td>[ML, BigData, Python, R]</td>\n",
       "      <td>Mid-Level</td>\n",
       "    </tr>\n",
       "    <tr>\n",
       "      <th>1</th>\n",
       "      <td>Lead Data Scientist</td>\n",
       "      <td>Senior</td>\n",
       "      <td>120000</td>\n",
       "      <td>San Francisco</td>\n",
       "      <td>7 yrs</td>\n",
       "      <td>[Data Engineering, hive, metadata, data domain...</td>\n",
       "      <td>Senior</td>\n",
       "    </tr>\n",
       "    <tr>\n",
       "      <th>2</th>\n",
       "      <td>Principal Data Scientist</td>\n",
       "      <td>Senior</td>\n",
       "      <td>150000</td>\n",
       "      <td>Chicago</td>\n",
       "      <td>10 yrs</td>\n",
       "      <td>[Hadoop, System Administration, Big Data Admin...</td>\n",
       "      <td>Lead</td>\n",
       "    </tr>\n",
       "  </tbody>\n",
       "</table>\n",
       "</div>"
      ],
      "text/plain": [
       "                      title   level  salary       location experience  \\\n",
       "0            Data Scientist  Senior  100000       New York      5 yrs   \n",
       "1       Lead Data Scientist  Senior  120000  San Francisco      7 yrs   \n",
       "2  Principal Data Scientist  Senior  150000        Chicago     10 yrs   \n",
       "\n",
       "                                              skills experience_level  \n",
       "0                           [ML, BigData, Python, R]        Mid-Level  \n",
       "1  [Data Engineering, hive, metadata, data domain...           Senior  \n",
       "2  [Hadoop, System Administration, Big Data Admin...             Lead  "
      ]
     },
     "execution_count": 79,
     "metadata": {},
     "output_type": "execute_result"
    }
   ],
   "source": [
    "def experience_func(entry):\n",
    "    years = int(entry.split(' yrs')[0])\n",
    "    if years > 3 and years <= 5:\n",
    "        return 'Mid-Level'\n",
    "    elif years > 5 and years <= 7:\n",
    "        return 'Senior'\n",
    "    elif years > 7 and years <= 10:\n",
    "        return 'Lead'\n",
    "    elif years >= 15:\n",
    "        return 'Manager'\n",
    "    else:\n",
    "        return 'Junior-Level'\n",
    "    \n",
    "df_jobs['experience_level'] = df_jobs.experience.apply(experience_func)\n",
    "df_jobs"
   ]
  },
  {
   "cell_type": "markdown",
   "id": "1c7b8d07",
   "metadata": {
    "papermill": {
     "duration": 0.054609,
     "end_time": "2024-09-23T11:56:18.023322",
     "exception": false,
     "start_time": "2024-09-23T11:56:17.968713",
     "status": "completed"
    },
    "tags": []
   },
   "source": [
    "<h1 style=\"background-color: #f0f8ff; padding: 15px; border: 2px solid #3498db; border-radius: 8px; margin-bottom: 15px; color: #2980b9;\">18. Pipe function to transform data</h1>"
   ]
  },
  {
   "cell_type": "markdown",
   "id": "db7b4cb7",
   "metadata": {
    "papermill": {
     "duration": 0.040023,
     "end_time": "2024-09-23T11:56:18.111791",
     "exception": false,
     "start_time": "2024-09-23T11:56:18.071768",
     "status": "completed"
    },
    "tags": []
   },
   "source": [
    "# 18. Pipe function to transform data"
   ]
  },
  {
   "cell_type": "code",
   "execution_count": 80,
   "id": "e11372fb",
   "metadata": {
    "execution": {
     "iopub.execute_input": "2024-09-23T11:56:18.196296Z",
     "iopub.status.busy": "2024-09-23T11:56:18.195878Z",
     "iopub.status.idle": "2024-09-23T11:56:18.218003Z",
     "shell.execute_reply": "2024-09-23T11:56:18.216563Z"
    },
    "papermill": {
     "duration": 0.06767,
     "end_time": "2024-09-23T11:56:18.221290",
     "exception": false,
     "start_time": "2024-09-23T11:56:18.153620",
     "status": "completed"
    },
    "tags": []
   },
   "outputs": [
    {
     "data": {
      "application/vnd.microsoft.datawrangler.viewer.v0+json": {
       "columns": [
        {
         "name": "index",
         "rawType": "int64",
         "type": "integer"
        },
        {
         "name": "customer_id",
         "rawType": "int64",
         "type": "integer"
        },
        {
         "name": "product_category",
         "rawType": "object",
         "type": "string"
        },
        {
         "name": "amount_spent",
         "rawType": "int64",
         "type": "integer"
        },
        {
         "name": "purchase_date",
         "rawType": "datetime64[ns]",
         "type": "datetime"
        }
       ],
       "conversionMethod": "pd.DataFrame",
       "ref": "ecb35335-19d5-4d42-82d1-0b435c635ec2",
       "rows": [
        [
         "0",
         "1",
         "electronics",
         "100",
         "2024-01-05 00:00:00"
        ],
        [
         "1",
         "1",
         "clothing",
         "50",
         "2024-01-10 00:00:00"
        ],
        [
         "2",
         "1",
         "electronics",
         "200",
         "2024-02-15 00:00:00"
        ],
        [
         "3",
         "2",
         "clothing",
         "80",
         "2024-03-01 00:00:00"
        ],
        [
         "4",
         "2",
         "furniture",
         "300",
         "2024-03-20 00:00:00"
        ],
        [
         "5",
         "3",
         "electronics",
         "150",
         "2024-04-05 00:00:00"
        ],
        [
         "6",
         "3",
         "clothing",
         "60",
         "2024-04-15 00:00:00"
        ],
        [
         "7",
         "3",
         "furniture",
         "400",
         "2024-05-05 00:00:00"
        ],
        [
         "8",
         "3",
         "electronics",
         "100",
         "2024-05-20 00:00:00"
        ]
       ],
       "shape": {
        "columns": 4,
        "rows": 9
       }
      },
      "text/html": [
       "<div>\n",
       "<style scoped>\n",
       "    .dataframe tbody tr th:only-of-type {\n",
       "        vertical-align: middle;\n",
       "    }\n",
       "\n",
       "    .dataframe tbody tr th {\n",
       "        vertical-align: top;\n",
       "    }\n",
       "\n",
       "    .dataframe thead th {\n",
       "        text-align: right;\n",
       "    }\n",
       "</style>\n",
       "<table border=\"1\" class=\"dataframe\">\n",
       "  <thead>\n",
       "    <tr style=\"text-align: right;\">\n",
       "      <th></th>\n",
       "      <th>customer_id</th>\n",
       "      <th>product_category</th>\n",
       "      <th>amount_spent</th>\n",
       "      <th>purchase_date</th>\n",
       "    </tr>\n",
       "  </thead>\n",
       "  <tbody>\n",
       "    <tr>\n",
       "      <th>0</th>\n",
       "      <td>1</td>\n",
       "      <td>electronics</td>\n",
       "      <td>100</td>\n",
       "      <td>2024-01-05</td>\n",
       "    </tr>\n",
       "    <tr>\n",
       "      <th>1</th>\n",
       "      <td>1</td>\n",
       "      <td>clothing</td>\n",
       "      <td>50</td>\n",
       "      <td>2024-01-10</td>\n",
       "    </tr>\n",
       "    <tr>\n",
       "      <th>2</th>\n",
       "      <td>1</td>\n",
       "      <td>electronics</td>\n",
       "      <td>200</td>\n",
       "      <td>2024-02-15</td>\n",
       "    </tr>\n",
       "    <tr>\n",
       "      <th>3</th>\n",
       "      <td>2</td>\n",
       "      <td>clothing</td>\n",
       "      <td>80</td>\n",
       "      <td>2024-03-01</td>\n",
       "    </tr>\n",
       "    <tr>\n",
       "      <th>4</th>\n",
       "      <td>2</td>\n",
       "      <td>furniture</td>\n",
       "      <td>300</td>\n",
       "      <td>2024-03-20</td>\n",
       "    </tr>\n",
       "    <tr>\n",
       "      <th>5</th>\n",
       "      <td>3</td>\n",
       "      <td>electronics</td>\n",
       "      <td>150</td>\n",
       "      <td>2024-04-05</td>\n",
       "    </tr>\n",
       "    <tr>\n",
       "      <th>6</th>\n",
       "      <td>3</td>\n",
       "      <td>clothing</td>\n",
       "      <td>60</td>\n",
       "      <td>2024-04-15</td>\n",
       "    </tr>\n",
       "    <tr>\n",
       "      <th>7</th>\n",
       "      <td>3</td>\n",
       "      <td>furniture</td>\n",
       "      <td>400</td>\n",
       "      <td>2024-05-05</td>\n",
       "    </tr>\n",
       "    <tr>\n",
       "      <th>8</th>\n",
       "      <td>3</td>\n",
       "      <td>electronics</td>\n",
       "      <td>100</td>\n",
       "      <td>2024-05-20</td>\n",
       "    </tr>\n",
       "  </tbody>\n",
       "</table>\n",
       "</div>"
      ],
      "text/plain": [
       "   customer_id product_category  amount_spent purchase_date\n",
       "0            1      electronics           100    2024-01-05\n",
       "1            1         clothing            50    2024-01-10\n",
       "2            1      electronics           200    2024-02-15\n",
       "3            2         clothing            80    2024-03-01\n",
       "4            2        furniture           300    2024-03-20\n",
       "5            3      electronics           150    2024-04-05\n",
       "6            3         clothing            60    2024-04-15\n",
       "7            3        furniture           400    2024-05-05\n",
       "8            3      electronics           100    2024-05-20"
      ]
     },
     "execution_count": 80,
     "metadata": {},
     "output_type": "execute_result"
    }
   ],
   "source": [
    "# Sample transaction data\n",
    "data = {\n",
    "    'customer_id': [1, 1, 1, 2, 2, 3, 3, 3, 3],\n",
    "    'product_category': ['electronics', 'clothing', 'electronics', 'clothing', 'furniture', 'electronics', 'clothing', 'furniture', 'electronics'],\n",
    "    'amount_spent': [100, 50, 200, 80, 300, 150, 60, 400, 100],\n",
    "    'purchase_date': ['2024-01-05', '2024-01-10', '2024-02-15', '2024-03-01', '2024-03-20', '2024-04-05', '2024-04-15', '2024-05-05', '2024-05-20']\n",
    "}\n",
    "\n",
    "df_purchase = pd.DataFrame(data)\n",
    "df_purchase['purchase_date'] = pd.to_datetime(df_purchase['purchase_date'])\n",
    "\n",
    "df_purchase"
   ]
  },
  {
   "cell_type": "markdown",
   "id": "aa066635",
   "metadata": {
    "papermill": {
     "duration": 0.041141,
     "end_time": "2024-09-23T11:56:18.303899",
     "exception": false,
     "start_time": "2024-09-23T11:56:18.262758",
     "status": "completed"
    },
    "tags": []
   },
   "source": [
    "Now we want to do the following actions on the data:\n",
    "\n",
    "* 1. Calculate the total amount spent by each customer.\n",
    "* 2. Calculate the average amount spent per category for each customer.\n",
    "* 3. Filter out customers who have made fewer than 3 purchases.\n",
    "* 4. Sort the final result by total amount spent.\n",
    "\n",
    "We can define these fuctions and then can apply it one after another using the pipe function."
   ]
  },
  {
   "cell_type": "code",
   "execution_count": 81,
   "id": "e65a5f48",
   "metadata": {
    "execution": {
     "iopub.execute_input": "2024-09-23T11:56:18.386162Z",
     "iopub.status.busy": "2024-09-23T11:56:18.385745Z",
     "iopub.status.idle": "2024-09-23T11:56:18.408574Z",
     "shell.execute_reply": "2024-09-23T11:56:18.407443Z"
    },
    "papermill": {
     "duration": 0.066867,
     "end_time": "2024-09-23T11:56:18.411166",
     "exception": false,
     "start_time": "2024-09-23T11:56:18.344299",
     "status": "completed"
    },
    "tags": []
   },
   "outputs": [],
   "source": [
    "# Function to calculate total spending per customer\n",
    "def calculate_total_spent(df):\n",
    "    return df.groupby('customer_id').agg(total_spent=('amount_spent', 'sum')).reset_index()\n",
    "\n",
    "# Function to calculate average spending per category for each customer\n",
    "def calculate_avg_per_category(df):\n",
    "    avg_spent = df.groupby(['customer_id', 'product_category'])['amount_spent'].mean().reset_index()\n",
    "    avg_spent.rename(columns={'amount_spent': 'avg_spent'}, inplace=True)\n",
    "    return avg_spent\n",
    "\n",
    "# Function to filter out customers with fewer than a given number of purchases\n",
    "def filter_customers(df, min_purchases):\n",
    "    purchase_counts = df.groupby('customer_id').size().reset_index(name='purchase_count')\n",
    "    valid_customers = purchase_counts[purchase_counts['purchase_count'] >= min_purchases]['customer_id']\n",
    "    return df[df['customer_id'].isin(valid_customers)]\n",
    "\n",
    "# Function to sort by total spending\n",
    "def sort_by_total_spent(df):\n",
    "    return df.sort_values(by='total_spent', ascending=False)\n",
    "\n",
    "# Applying the pipeline\n",
    "df_total_spent = (df_purchase.pipe(filter_customers, min_purchases=3)    # Filter customers with >= 3 purchases\n",
    "                             .pipe(calculate_total_spent)                # Calculate total spending per customer\n",
    "                             .pipe(sort_by_total_spent))                 # Sort customers by total spending\n",
    "\n",
    "df_avg_spent = df_purchase.pipe(filter_customers, min_purchases=3)       # Filter customers with >= 3 purchases\n",
    "df_avg_spent = calculate_avg_per_category(df_avg_spent)         # Calculate avg spending per category"
   ]
  },
  {
   "cell_type": "code",
   "execution_count": 82,
   "id": "c8ed180a",
   "metadata": {
    "execution": {
     "iopub.execute_input": "2024-09-23T11:56:18.495228Z",
     "iopub.status.busy": "2024-09-23T11:56:18.494813Z",
     "iopub.status.idle": "2024-09-23T11:56:18.504248Z",
     "shell.execute_reply": "2024-09-23T11:56:18.502989Z"
    },
    "papermill": {
     "duration": 0.055199,
     "end_time": "2024-09-23T11:56:18.506889",
     "exception": false,
     "start_time": "2024-09-23T11:56:18.451690",
     "status": "completed"
    },
    "tags": []
   },
   "outputs": [
    {
     "name": "stdout",
     "output_type": "stream",
     "text": [
      "Total Spending per Customer:\n",
      "   customer_id  total_spent\n",
      "1            3          710\n",
      "0            1          350\n",
      "\n",
      "Average Spending per Category for Each Customer:\n",
      "   customer_id product_category  avg_spent\n",
      "0            1         clothing       50.0\n",
      "1            1      electronics      150.0\n",
      "2            3         clothing       60.0\n",
      "3            3      electronics      125.0\n",
      "4            3        furniture      400.0\n"
     ]
    }
   ],
   "source": [
    "# Displaying the results\n",
    "print(\"Total Spending per Customer:\")\n",
    "print(df_total_spent)\n",
    "\n",
    "print(\"\\nAverage Spending per Category for Each Customer:\")\n",
    "print(df_avg_spent)"
   ]
  },
  {
   "cell_type": "markdown",
   "id": "7eef4909",
   "metadata": {
    "papermill": {
     "duration": 0.040294,
     "end_time": "2024-09-23T11:56:18.587552",
     "exception": false,
     "start_time": "2024-09-23T11:56:18.547258",
     "status": "completed"
    },
    "tags": []
   },
   "source": [
    "<h1 style=\"background-color: #f0f8ff; padding: 15px; border: 2px solid #3498db; border-radius: 8px; margin-bottom: 15px; color: #2980b9;\">19. Merging Dataframes</h1>"
   ]
  },
  {
   "cell_type": "markdown",
   "id": "4ec88cce",
   "metadata": {
    "papermill": {
     "duration": 0.039737,
     "end_time": "2024-09-23T11:56:18.667451",
     "exception": false,
     "start_time": "2024-09-23T11:56:18.627714",
     "status": "completed"
    },
    "tags": []
   },
   "source": [
    "# 19. Merging Dataframes"
   ]
  },
  {
   "cell_type": "code",
   "execution_count": 83,
   "id": "9e4c5544",
   "metadata": {
    "execution": {
     "iopub.execute_input": "2024-09-23T11:56:18.753278Z",
     "iopub.status.busy": "2024-09-23T11:56:18.752893Z",
     "iopub.status.idle": "2024-09-23T11:56:18.763436Z",
     "shell.execute_reply": "2024-09-23T11:56:18.762183Z"
    },
    "papermill": {
     "duration": 0.056985,
     "end_time": "2024-09-23T11:56:18.766247",
     "exception": false,
     "start_time": "2024-09-23T11:56:18.709262",
     "status": "completed"
    },
    "tags": []
   },
   "outputs": [
    {
     "name": "stdout",
     "output_type": "stream",
     "text": [
      "   CustId  Price\n",
      "0    1001    100\n",
      "1    1002     30\n",
      "2    1003    180\n",
      "3    1004     50\n",
      "4    1006    200\n",
      "   CustId   Name\n",
      "0    1001   John\n",
      "1    1002   Jane\n",
      "2    1003    Bob\n",
      "3    1004  Alice\n",
      "4    1007   Jake\n"
     ]
    }
   ],
   "source": [
    "df_cust1 = pd.DataFrame(\n",
    "{\n",
    "    'CustId': [1001, 1002, 1003, 1004, 1006], 'Price': [100, 30, 180, 50, 200]\n",
    "})\n",
    "\n",
    "df_cust2 = pd.DataFrame(\n",
    "{\n",
    "    'CustId': [1001, 1002, 1003, 1004, 1007], 'Name': ['John', 'Jane', 'Bob', 'Alice', 'Jake']\n",
    "})\n",
    "\n",
    "print(df_cust1)\n",
    "print(df_cust2)"
   ]
  },
  {
   "cell_type": "code",
   "execution_count": 84,
   "id": "b3440172",
   "metadata": {
    "execution": {
     "iopub.execute_input": "2024-09-23T11:56:18.850307Z",
     "iopub.status.busy": "2024-09-23T11:56:18.849921Z",
     "iopub.status.idle": "2024-09-23T11:56:18.865947Z",
     "shell.execute_reply": "2024-09-23T11:56:18.864780Z"
    },
    "papermill": {
     "duration": 0.060946,
     "end_time": "2024-09-23T11:56:18.868132",
     "exception": false,
     "start_time": "2024-09-23T11:56:18.807186",
     "status": "completed"
    },
    "tags": []
   },
   "outputs": [
    {
     "data": {
      "application/vnd.microsoft.datawrangler.viewer.v0+json": {
       "columns": [
        {
         "name": "index",
         "rawType": "int64",
         "type": "integer"
        },
        {
         "name": "CustId",
         "rawType": "int64",
         "type": "integer"
        },
        {
         "name": "Price",
         "rawType": "int64",
         "type": "integer"
        },
        {
         "name": "Name",
         "rawType": "object",
         "type": "string"
        }
       ],
       "conversionMethod": "pd.DataFrame",
       "ref": "0d47824b-2fb2-4a80-b06e-e86921380f17",
       "rows": [
        [
         "0",
         "1001",
         "100",
         "John"
        ],
        [
         "1",
         "1002",
         "30",
         "Jane"
        ],
        [
         "2",
         "1003",
         "180",
         "Bob"
        ],
        [
         "3",
         "1004",
         "50",
         "Alice"
        ]
       ],
       "shape": {
        "columns": 3,
        "rows": 4
       }
      },
      "text/html": [
       "<div>\n",
       "<style scoped>\n",
       "    .dataframe tbody tr th:only-of-type {\n",
       "        vertical-align: middle;\n",
       "    }\n",
       "\n",
       "    .dataframe tbody tr th {\n",
       "        vertical-align: top;\n",
       "    }\n",
       "\n",
       "    .dataframe thead th {\n",
       "        text-align: right;\n",
       "    }\n",
       "</style>\n",
       "<table border=\"1\" class=\"dataframe\">\n",
       "  <thead>\n",
       "    <tr style=\"text-align: right;\">\n",
       "      <th></th>\n",
       "      <th>CustId</th>\n",
       "      <th>Price</th>\n",
       "      <th>Name</th>\n",
       "    </tr>\n",
       "  </thead>\n",
       "  <tbody>\n",
       "    <tr>\n",
       "      <th>0</th>\n",
       "      <td>1001</td>\n",
       "      <td>100</td>\n",
       "      <td>John</td>\n",
       "    </tr>\n",
       "    <tr>\n",
       "      <th>1</th>\n",
       "      <td>1002</td>\n",
       "      <td>30</td>\n",
       "      <td>Jane</td>\n",
       "    </tr>\n",
       "    <tr>\n",
       "      <th>2</th>\n",
       "      <td>1003</td>\n",
       "      <td>180</td>\n",
       "      <td>Bob</td>\n",
       "    </tr>\n",
       "    <tr>\n",
       "      <th>3</th>\n",
       "      <td>1004</td>\n",
       "      <td>50</td>\n",
       "      <td>Alice</td>\n",
       "    </tr>\n",
       "  </tbody>\n",
       "</table>\n",
       "</div>"
      ],
      "text/plain": [
       "   CustId  Price   Name\n",
       "0    1001    100   John\n",
       "1    1002     30   Jane\n",
       "2    1003    180    Bob\n",
       "3    1004     50  Alice"
      ]
     },
     "execution_count": 84,
     "metadata": {},
     "output_type": "execute_result"
    }
   ],
   "source": [
    "merged_df = pd.merge(df_cust1, df_cust2, on='CustId')\n",
    "merged_df"
   ]
  },
  {
   "cell_type": "markdown",
   "id": "0c0251cb",
   "metadata": {
    "papermill": {
     "duration": 0.041747,
     "end_time": "2024-09-23T11:56:18.951466",
     "exception": false,
     "start_time": "2024-09-23T11:56:18.909719",
     "status": "completed"
    },
    "tags": []
   },
   "source": [
    "💡 Different Formats for Merging DataFrames in Pandas\n",
    "\n",
    "Pandas provides several ways to **merge** DataFrames based on a key column(s). Here are the common formats you can use to merge DataFrames using different types of joins:\n",
    "\n",
    "```python\n",
    "## Left join: Keeps all rows from df1, and only matching rows from df2\n",
    "df1.merge(df2, on='CustId', how='left')\n",
    "\n",
    "## Right join: Keeps all rows from df2, and only matching rows from df1\n",
    "df1.merge(df2, on='CustId', how='right')\n",
    "\n",
    "## Inner join (default): Keeps only the rows with matching keys in both DataFrames\n",
    "df1.merge(df2, on='CustId', how='inner')\n",
    "\n",
    "## Outer join: Keeps all rows from both DataFrames, matching where possible, and filling with NaN where no match exists\n",
    "df1.merge(df2, on='CustId', how='outer')\n",
    "```"
   ]
  },
  {
   "cell_type": "code",
   "execution_count": 85,
   "id": "7d7ff884",
   "metadata": {
    "execution": {
     "iopub.execute_input": "2024-09-23T11:56:19.038395Z",
     "iopub.status.busy": "2024-09-23T11:56:19.037960Z",
     "iopub.status.idle": "2024-09-23T11:56:19.051134Z",
     "shell.execute_reply": "2024-09-23T11:56:19.049913Z"
    },
    "papermill": {
     "duration": 0.061577,
     "end_time": "2024-09-23T11:56:19.053965",
     "exception": false,
     "start_time": "2024-09-23T11:56:18.992388",
     "status": "completed"
    },
    "tags": []
   },
   "outputs": [
    {
     "data": {
      "application/vnd.microsoft.datawrangler.viewer.v0+json": {
       "columns": [
        {
         "name": "index",
         "rawType": "int64",
         "type": "integer"
        },
        {
         "name": "CustId",
         "rawType": "int64",
         "type": "integer"
        },
        {
         "name": "Price",
         "rawType": "int64",
         "type": "integer"
        },
        {
         "name": "Name",
         "rawType": "object",
         "type": "unknown"
        }
       ],
       "conversionMethod": "pd.DataFrame",
       "ref": "1e795aeb-1f01-434b-8056-30fd6a693c38",
       "rows": [
        [
         "0",
         "1001",
         "100",
         "John"
        ],
        [
         "1",
         "1002",
         "30",
         "Jane"
        ],
        [
         "2",
         "1003",
         "180",
         "Bob"
        ],
        [
         "3",
         "1004",
         "50",
         "Alice"
        ],
        [
         "4",
         "1006",
         "200",
         null
        ]
       ],
       "shape": {
        "columns": 3,
        "rows": 5
       }
      },
      "text/html": [
       "<div>\n",
       "<style scoped>\n",
       "    .dataframe tbody tr th:only-of-type {\n",
       "        vertical-align: middle;\n",
       "    }\n",
       "\n",
       "    .dataframe tbody tr th {\n",
       "        vertical-align: top;\n",
       "    }\n",
       "\n",
       "    .dataframe thead th {\n",
       "        text-align: right;\n",
       "    }\n",
       "</style>\n",
       "<table border=\"1\" class=\"dataframe\">\n",
       "  <thead>\n",
       "    <tr style=\"text-align: right;\">\n",
       "      <th></th>\n",
       "      <th>CustId</th>\n",
       "      <th>Price</th>\n",
       "      <th>Name</th>\n",
       "    </tr>\n",
       "  </thead>\n",
       "  <tbody>\n",
       "    <tr>\n",
       "      <th>0</th>\n",
       "      <td>1001</td>\n",
       "      <td>100</td>\n",
       "      <td>John</td>\n",
       "    </tr>\n",
       "    <tr>\n",
       "      <th>1</th>\n",
       "      <td>1002</td>\n",
       "      <td>30</td>\n",
       "      <td>Jane</td>\n",
       "    </tr>\n",
       "    <tr>\n",
       "      <th>2</th>\n",
       "      <td>1003</td>\n",
       "      <td>180</td>\n",
       "      <td>Bob</td>\n",
       "    </tr>\n",
       "    <tr>\n",
       "      <th>3</th>\n",
       "      <td>1004</td>\n",
       "      <td>50</td>\n",
       "      <td>Alice</td>\n",
       "    </tr>\n",
       "    <tr>\n",
       "      <th>4</th>\n",
       "      <td>1006</td>\n",
       "      <td>200</td>\n",
       "      <td>NaN</td>\n",
       "    </tr>\n",
       "  </tbody>\n",
       "</table>\n",
       "</div>"
      ],
      "text/plain": [
       "   CustId  Price   Name\n",
       "0    1001    100   John\n",
       "1    1002     30   Jane\n",
       "2    1003    180    Bob\n",
       "3    1004     50  Alice\n",
       "4    1006    200    NaN"
      ]
     },
     "execution_count": 85,
     "metadata": {},
     "output_type": "execute_result"
    }
   ],
   "source": [
    "df_cust1.merge(df_cust2, on='CustId', how='left')"
   ]
  },
  {
   "cell_type": "code",
   "execution_count": 86,
   "id": "bfb88be8",
   "metadata": {
    "execution": {
     "iopub.execute_input": "2024-09-23T11:56:19.138221Z",
     "iopub.status.busy": "2024-09-23T11:56:19.137785Z",
     "iopub.status.idle": "2024-09-23T11:56:19.153506Z",
     "shell.execute_reply": "2024-09-23T11:56:19.152313Z"
    },
    "papermill": {
     "duration": 0.06031,
     "end_time": "2024-09-23T11:56:19.156076",
     "exception": false,
     "start_time": "2024-09-23T11:56:19.095766",
     "status": "completed"
    },
    "tags": []
   },
   "outputs": [
    {
     "data": {
      "application/vnd.microsoft.datawrangler.viewer.v0+json": {
       "columns": [
        {
         "name": "index",
         "rawType": "int64",
         "type": "integer"
        },
        {
         "name": "CustId",
         "rawType": "int64",
         "type": "integer"
        },
        {
         "name": "Price",
         "rawType": "float64",
         "type": "float"
        },
        {
         "name": "Name",
         "rawType": "object",
         "type": "string"
        }
       ],
       "conversionMethod": "pd.DataFrame",
       "ref": "90977184-4893-4885-98ba-fa997357ecfc",
       "rows": [
        [
         "0",
         "1001",
         "100.0",
         "John"
        ],
        [
         "1",
         "1002",
         "30.0",
         "Jane"
        ],
        [
         "2",
         "1003",
         "180.0",
         "Bob"
        ],
        [
         "3",
         "1004",
         "50.0",
         "Alice"
        ],
        [
         "4",
         "1007",
         null,
         "Jake"
        ]
       ],
       "shape": {
        "columns": 3,
        "rows": 5
       }
      },
      "text/html": [
       "<div>\n",
       "<style scoped>\n",
       "    .dataframe tbody tr th:only-of-type {\n",
       "        vertical-align: middle;\n",
       "    }\n",
       "\n",
       "    .dataframe tbody tr th {\n",
       "        vertical-align: top;\n",
       "    }\n",
       "\n",
       "    .dataframe thead th {\n",
       "        text-align: right;\n",
       "    }\n",
       "</style>\n",
       "<table border=\"1\" class=\"dataframe\">\n",
       "  <thead>\n",
       "    <tr style=\"text-align: right;\">\n",
       "      <th></th>\n",
       "      <th>CustId</th>\n",
       "      <th>Price</th>\n",
       "      <th>Name</th>\n",
       "    </tr>\n",
       "  </thead>\n",
       "  <tbody>\n",
       "    <tr>\n",
       "      <th>0</th>\n",
       "      <td>1001</td>\n",
       "      <td>100.0</td>\n",
       "      <td>John</td>\n",
       "    </tr>\n",
       "    <tr>\n",
       "      <th>1</th>\n",
       "      <td>1002</td>\n",
       "      <td>30.0</td>\n",
       "      <td>Jane</td>\n",
       "    </tr>\n",
       "    <tr>\n",
       "      <th>2</th>\n",
       "      <td>1003</td>\n",
       "      <td>180.0</td>\n",
       "      <td>Bob</td>\n",
       "    </tr>\n",
       "    <tr>\n",
       "      <th>3</th>\n",
       "      <td>1004</td>\n",
       "      <td>50.0</td>\n",
       "      <td>Alice</td>\n",
       "    </tr>\n",
       "    <tr>\n",
       "      <th>4</th>\n",
       "      <td>1007</td>\n",
       "      <td>NaN</td>\n",
       "      <td>Jake</td>\n",
       "    </tr>\n",
       "  </tbody>\n",
       "</table>\n",
       "</div>"
      ],
      "text/plain": [
       "   CustId  Price   Name\n",
       "0    1001  100.0   John\n",
       "1    1002   30.0   Jane\n",
       "2    1003  180.0    Bob\n",
       "3    1004   50.0  Alice\n",
       "4    1007    NaN   Jake"
      ]
     },
     "execution_count": 86,
     "metadata": {},
     "output_type": "execute_result"
    }
   ],
   "source": [
    "df_cust1.merge(df_cust2, on='CustId', how='right')"
   ]
  },
  {
   "cell_type": "code",
   "execution_count": 87,
   "id": "375d3a58",
   "metadata": {
    "execution": {
     "iopub.execute_input": "2024-09-23T11:56:19.242544Z",
     "iopub.status.busy": "2024-09-23T11:56:19.242059Z",
     "iopub.status.idle": "2024-09-23T11:56:19.261582Z",
     "shell.execute_reply": "2024-09-23T11:56:19.260253Z"
    },
    "papermill": {
     "duration": 0.066524,
     "end_time": "2024-09-23T11:56:19.264033",
     "exception": false,
     "start_time": "2024-09-23T11:56:19.197509",
     "status": "completed"
    },
    "tags": []
   },
   "outputs": [
    {
     "data": {
      "application/vnd.microsoft.datawrangler.viewer.v0+json": {
       "columns": [
        {
         "name": "index",
         "rawType": "int64",
         "type": "integer"
        },
        {
         "name": "CustId",
         "rawType": "int64",
         "type": "integer"
        },
        {
         "name": "Price",
         "rawType": "float64",
         "type": "float"
        },
        {
         "name": "Name",
         "rawType": "object",
         "type": "unknown"
        }
       ],
       "conversionMethod": "pd.DataFrame",
       "ref": "29ba35c3-25e6-444a-9966-37dbd45b53d8",
       "rows": [
        [
         "0",
         "1001",
         "100.0",
         "John"
        ],
        [
         "1",
         "1002",
         "30.0",
         "Jane"
        ],
        [
         "2",
         "1003",
         "180.0",
         "Bob"
        ],
        [
         "3",
         "1004",
         "50.0",
         "Alice"
        ],
        [
         "4",
         "1006",
         "200.0",
         null
        ],
        [
         "5",
         "1007",
         null,
         "Jake"
        ]
       ],
       "shape": {
        "columns": 3,
        "rows": 6
       }
      },
      "text/html": [
       "<div>\n",
       "<style scoped>\n",
       "    .dataframe tbody tr th:only-of-type {\n",
       "        vertical-align: middle;\n",
       "    }\n",
       "\n",
       "    .dataframe tbody tr th {\n",
       "        vertical-align: top;\n",
       "    }\n",
       "\n",
       "    .dataframe thead th {\n",
       "        text-align: right;\n",
       "    }\n",
       "</style>\n",
       "<table border=\"1\" class=\"dataframe\">\n",
       "  <thead>\n",
       "    <tr style=\"text-align: right;\">\n",
       "      <th></th>\n",
       "      <th>CustId</th>\n",
       "      <th>Price</th>\n",
       "      <th>Name</th>\n",
       "    </tr>\n",
       "  </thead>\n",
       "  <tbody>\n",
       "    <tr>\n",
       "      <th>0</th>\n",
       "      <td>1001</td>\n",
       "      <td>100.0</td>\n",
       "      <td>John</td>\n",
       "    </tr>\n",
       "    <tr>\n",
       "      <th>1</th>\n",
       "      <td>1002</td>\n",
       "      <td>30.0</td>\n",
       "      <td>Jane</td>\n",
       "    </tr>\n",
       "    <tr>\n",
       "      <th>2</th>\n",
       "      <td>1003</td>\n",
       "      <td>180.0</td>\n",
       "      <td>Bob</td>\n",
       "    </tr>\n",
       "    <tr>\n",
       "      <th>3</th>\n",
       "      <td>1004</td>\n",
       "      <td>50.0</td>\n",
       "      <td>Alice</td>\n",
       "    </tr>\n",
       "    <tr>\n",
       "      <th>4</th>\n",
       "      <td>1006</td>\n",
       "      <td>200.0</td>\n",
       "      <td>NaN</td>\n",
       "    </tr>\n",
       "    <tr>\n",
       "      <th>5</th>\n",
       "      <td>1007</td>\n",
       "      <td>NaN</td>\n",
       "      <td>Jake</td>\n",
       "    </tr>\n",
       "  </tbody>\n",
       "</table>\n",
       "</div>"
      ],
      "text/plain": [
       "   CustId  Price   Name\n",
       "0    1001  100.0   John\n",
       "1    1002   30.0   Jane\n",
       "2    1003  180.0    Bob\n",
       "3    1004   50.0  Alice\n",
       "4    1006  200.0    NaN\n",
       "5    1007    NaN   Jake"
      ]
     },
     "execution_count": 87,
     "metadata": {},
     "output_type": "execute_result"
    }
   ],
   "source": [
    "df_cust1.merge(df_cust2, on='CustId', how='outer')"
   ]
  },
  {
   "cell_type": "code",
   "execution_count": 88,
   "id": "3ac448ad",
   "metadata": {
    "execution": {
     "iopub.execute_input": "2024-09-23T11:56:19.352123Z",
     "iopub.status.busy": "2024-09-23T11:56:19.351734Z",
     "iopub.status.idle": "2024-09-23T11:56:19.365945Z",
     "shell.execute_reply": "2024-09-23T11:56:19.364721Z"
    },
    "papermill": {
     "duration": 0.061372,
     "end_time": "2024-09-23T11:56:19.368266",
     "exception": false,
     "start_time": "2024-09-23T11:56:19.306894",
     "status": "completed"
    },
    "tags": []
   },
   "outputs": [
    {
     "data": {
      "application/vnd.microsoft.datawrangler.viewer.v0+json": {
       "columns": [
        {
         "name": "index",
         "rawType": "int64",
         "type": "integer"
        },
        {
         "name": "CustId",
         "rawType": "int64",
         "type": "integer"
        },
        {
         "name": "Price",
         "rawType": "int64",
         "type": "integer"
        },
        {
         "name": "Name",
         "rawType": "object",
         "type": "string"
        }
       ],
       "conversionMethod": "pd.DataFrame",
       "ref": "f57d6b36-22a4-49a0-ae08-fe44df5f75c1",
       "rows": [
        [
         "0",
         "1001",
         "100",
         "John"
        ],
        [
         "1",
         "1002",
         "30",
         "Jane"
        ],
        [
         "2",
         "1003",
         "180",
         "Bob"
        ],
        [
         "3",
         "1004",
         "50",
         "Alice"
        ]
       ],
       "shape": {
        "columns": 3,
        "rows": 4
       }
      },
      "text/html": [
       "<div>\n",
       "<style scoped>\n",
       "    .dataframe tbody tr th:only-of-type {\n",
       "        vertical-align: middle;\n",
       "    }\n",
       "\n",
       "    .dataframe tbody tr th {\n",
       "        vertical-align: top;\n",
       "    }\n",
       "\n",
       "    .dataframe thead th {\n",
       "        text-align: right;\n",
       "    }\n",
       "</style>\n",
       "<table border=\"1\" class=\"dataframe\">\n",
       "  <thead>\n",
       "    <tr style=\"text-align: right;\">\n",
       "      <th></th>\n",
       "      <th>CustId</th>\n",
       "      <th>Price</th>\n",
       "      <th>Name</th>\n",
       "    </tr>\n",
       "  </thead>\n",
       "  <tbody>\n",
       "    <tr>\n",
       "      <th>0</th>\n",
       "      <td>1001</td>\n",
       "      <td>100</td>\n",
       "      <td>John</td>\n",
       "    </tr>\n",
       "    <tr>\n",
       "      <th>1</th>\n",
       "      <td>1002</td>\n",
       "      <td>30</td>\n",
       "      <td>Jane</td>\n",
       "    </tr>\n",
       "    <tr>\n",
       "      <th>2</th>\n",
       "      <td>1003</td>\n",
       "      <td>180</td>\n",
       "      <td>Bob</td>\n",
       "    </tr>\n",
       "    <tr>\n",
       "      <th>3</th>\n",
       "      <td>1004</td>\n",
       "      <td>50</td>\n",
       "      <td>Alice</td>\n",
       "    </tr>\n",
       "  </tbody>\n",
       "</table>\n",
       "</div>"
      ],
      "text/plain": [
       "   CustId  Price   Name\n",
       "0    1001    100   John\n",
       "1    1002     30   Jane\n",
       "2    1003    180    Bob\n",
       "3    1004     50  Alice"
      ]
     },
     "execution_count": 88,
     "metadata": {},
     "output_type": "execute_result"
    }
   ],
   "source": [
    "df_cust1.merge(df_cust2, on='CustId', how='inner')"
   ]
  },
  {
   "cell_type": "code",
   "execution_count": 89,
   "id": "092f81e9",
   "metadata": {
    "execution": {
     "iopub.execute_input": "2024-09-23T11:56:19.453752Z",
     "iopub.status.busy": "2024-09-23T11:56:19.453138Z",
     "iopub.status.idle": "2024-09-23T11:56:19.469059Z",
     "shell.execute_reply": "2024-09-23T11:56:19.467768Z"
    },
    "papermill": {
     "duration": 0.061952,
     "end_time": "2024-09-23T11:56:19.471569",
     "exception": false,
     "start_time": "2024-09-23T11:56:19.409617",
     "status": "completed"
    },
    "tags": []
   },
   "outputs": [
    {
     "data": {
      "application/vnd.microsoft.datawrangler.viewer.v0+json": {
       "columns": [
        {
         "name": "index",
         "rawType": "int64",
         "type": "integer"
        },
        {
         "name": "CustId",
         "rawType": "int64",
         "type": "integer"
        },
        {
         "name": "Price",
         "rawType": "float64",
         "type": "float"
        },
        {
         "name": "Name",
         "rawType": "object",
         "type": "unknown"
        }
       ],
       "conversionMethod": "pd.DataFrame",
       "ref": "674a54d0-931b-45e4-a999-9a01bfded448",
       "rows": [
        [
         "0",
         "1001",
         "100.0",
         null
        ],
        [
         "1",
         "1002",
         "30.0",
         null
        ],
        [
         "2",
         "1003",
         "180.0",
         null
        ],
        [
         "3",
         "1004",
         "50.0",
         null
        ],
        [
         "4",
         "1006",
         "200.0",
         null
        ],
        [
         "5",
         "1001",
         null,
         "John"
        ],
        [
         "6",
         "1002",
         null,
         "Jane"
        ],
        [
         "7",
         "1003",
         null,
         "Bob"
        ],
        [
         "8",
         "1004",
         null,
         "Alice"
        ],
        [
         "9",
         "1007",
         null,
         "Jake"
        ]
       ],
       "shape": {
        "columns": 3,
        "rows": 10
       }
      },
      "text/html": [
       "<div>\n",
       "<style scoped>\n",
       "    .dataframe tbody tr th:only-of-type {\n",
       "        vertical-align: middle;\n",
       "    }\n",
       "\n",
       "    .dataframe tbody tr th {\n",
       "        vertical-align: top;\n",
       "    }\n",
       "\n",
       "    .dataframe thead th {\n",
       "        text-align: right;\n",
       "    }\n",
       "</style>\n",
       "<table border=\"1\" class=\"dataframe\">\n",
       "  <thead>\n",
       "    <tr style=\"text-align: right;\">\n",
       "      <th></th>\n",
       "      <th>CustId</th>\n",
       "      <th>Price</th>\n",
       "      <th>Name</th>\n",
       "    </tr>\n",
       "  </thead>\n",
       "  <tbody>\n",
       "    <tr>\n",
       "      <th>0</th>\n",
       "      <td>1001</td>\n",
       "      <td>100.0</td>\n",
       "      <td>NaN</td>\n",
       "    </tr>\n",
       "    <tr>\n",
       "      <th>1</th>\n",
       "      <td>1002</td>\n",
       "      <td>30.0</td>\n",
       "      <td>NaN</td>\n",
       "    </tr>\n",
       "    <tr>\n",
       "      <th>2</th>\n",
       "      <td>1003</td>\n",
       "      <td>180.0</td>\n",
       "      <td>NaN</td>\n",
       "    </tr>\n",
       "    <tr>\n",
       "      <th>3</th>\n",
       "      <td>1004</td>\n",
       "      <td>50.0</td>\n",
       "      <td>NaN</td>\n",
       "    </tr>\n",
       "    <tr>\n",
       "      <th>4</th>\n",
       "      <td>1006</td>\n",
       "      <td>200.0</td>\n",
       "      <td>NaN</td>\n",
       "    </tr>\n",
       "    <tr>\n",
       "      <th>5</th>\n",
       "      <td>1001</td>\n",
       "      <td>NaN</td>\n",
       "      <td>John</td>\n",
       "    </tr>\n",
       "    <tr>\n",
       "      <th>6</th>\n",
       "      <td>1002</td>\n",
       "      <td>NaN</td>\n",
       "      <td>Jane</td>\n",
       "    </tr>\n",
       "    <tr>\n",
       "      <th>7</th>\n",
       "      <td>1003</td>\n",
       "      <td>NaN</td>\n",
       "      <td>Bob</td>\n",
       "    </tr>\n",
       "    <tr>\n",
       "      <th>8</th>\n",
       "      <td>1004</td>\n",
       "      <td>NaN</td>\n",
       "      <td>Alice</td>\n",
       "    </tr>\n",
       "    <tr>\n",
       "      <th>9</th>\n",
       "      <td>1007</td>\n",
       "      <td>NaN</td>\n",
       "      <td>Jake</td>\n",
       "    </tr>\n",
       "  </tbody>\n",
       "</table>\n",
       "</div>"
      ],
      "text/plain": [
       "   CustId  Price   Name\n",
       "0    1001  100.0    NaN\n",
       "1    1002   30.0    NaN\n",
       "2    1003  180.0    NaN\n",
       "3    1004   50.0    NaN\n",
       "4    1006  200.0    NaN\n",
       "5    1001    NaN   John\n",
       "6    1002    NaN   Jane\n",
       "7    1003    NaN    Bob\n",
       "8    1004    NaN  Alice\n",
       "9    1007    NaN   Jake"
      ]
     },
     "execution_count": 89,
     "metadata": {},
     "output_type": "execute_result"
    }
   ],
   "source": [
    "pd.concat([df_cust1, df_cust2], ignore_index=True)"
   ]
  },
  {
   "cell_type": "markdown",
   "id": "3df50903",
   "metadata": {
    "papermill": {
     "duration": 0.041985,
     "end_time": "2024-09-23T11:56:19.556870",
     "exception": false,
     "start_time": "2024-09-23T11:56:19.514885",
     "status": "completed"
    },
    "tags": []
   },
   "source": [
    "<h1 style=\"background-color: #f0f8ff; padding: 15px; border: 2px solid #3498db; border-radius: 8px; margin-bottom: 15px; color: #2980b9;\">20. IF-Else and np.where() in DataFrames</h1>"
   ]
  },
  {
   "cell_type": "markdown",
   "id": "3a9b7fc3",
   "metadata": {
    "papermill": {
     "duration": 0.041316,
     "end_time": "2024-09-23T11:56:19.640186",
     "exception": false,
     "start_time": "2024-09-23T11:56:19.598870",
     "status": "completed"
    },
    "tags": []
   },
   "source": [
    "# 20. IF-Else and np.where() in DataFrames"
   ]
  },
  {
   "cell_type": "markdown",
   "id": "f20244bb",
   "metadata": {
    "papermill": {
     "duration": 0.042756,
     "end_time": "2024-09-23T11:56:19.725975",
     "exception": false,
     "start_time": "2024-09-23T11:56:19.683219",
     "status": "completed"
    },
    "tags": []
   },
   "source": [
    "💡 Using IF-Else Logic and `np.where()` in Pandas\n",
    "\n",
    "In pandas, you can apply **IF-Else logic** to columns using either native pandas operations or the `np.where()` function from NumPy.\n",
    "\n",
    "#### **1. Using `np.where()`**:\n",
    "`np.where()` works like a vectorized version of the **IF-Else** statement. It allows you to apply a condition to your DataFrame and choose values based on whether the condition is `True` or `False`.\n",
    "\n",
    "#### **Example:**\n",
    "\n",
    "```python\n",
    "import numpy as np\n",
    "import pandas as pd\n",
    "\n",
    "## Sample DataFrame\n",
    "df = pd.DataFrame({\n",
    "    'Price': [150, 80, 200, 50],\n",
    "    'Category': ['Electronics', 'Clothing', 'Electronics', 'Groceries']\n",
    "})\n",
    "\n",
    "## Use np.where() to classify products as \"Expensive\" if Price > 100, else \"Cheap\"\n",
    "df['Price_Category'] = np.where(df['Price'] > 100, 'Expensive', 'Cheap')\n",
    "\n",
    "print(df)\n",
    "```\n"
   ]
  },
  {
   "cell_type": "code",
   "execution_count": 90,
   "id": "c3053f1b",
   "metadata": {
    "execution": {
     "iopub.execute_input": "2024-09-23T11:56:19.811894Z",
     "iopub.status.busy": "2024-09-23T11:56:19.811462Z",
     "iopub.status.idle": "2024-09-23T11:56:19.822978Z",
     "shell.execute_reply": "2024-09-23T11:56:19.821855Z"
    },
    "papermill": {
     "duration": 0.05659,
     "end_time": "2024-09-23T11:56:19.825118",
     "exception": false,
     "start_time": "2024-09-23T11:56:19.768528",
     "status": "completed"
    },
    "tags": []
   },
   "outputs": [
    {
     "data": {
      "application/vnd.microsoft.datawrangler.viewer.v0+json": {
       "columns": [
        {
         "name": "index",
         "rawType": "int64",
         "type": "integer"
        },
        {
         "name": "CustId",
         "rawType": "int64",
         "type": "integer"
        },
        {
         "name": "Price",
         "rawType": "int64",
         "type": "integer"
        },
        {
         "name": "Expensive",
         "rawType": "object",
         "type": "string"
        }
       ],
       "conversionMethod": "pd.DataFrame",
       "ref": "c55e24fd-2b7c-4723-b8f4-178e83707319",
       "rows": [
        [
         "0",
         "1001",
         "100",
         "No"
        ],
        [
         "1",
         "1002",
         "30",
         "No"
        ],
        [
         "2",
         "1003",
         "180",
         "Yes"
        ],
        [
         "3",
         "1004",
         "50",
         "No"
        ],
        [
         "4",
         "1006",
         "200",
         "Yes"
        ]
       ],
       "shape": {
        "columns": 3,
        "rows": 5
       }
      },
      "text/html": [
       "<div>\n",
       "<style scoped>\n",
       "    .dataframe tbody tr th:only-of-type {\n",
       "        vertical-align: middle;\n",
       "    }\n",
       "\n",
       "    .dataframe tbody tr th {\n",
       "        vertical-align: top;\n",
       "    }\n",
       "\n",
       "    .dataframe thead th {\n",
       "        text-align: right;\n",
       "    }\n",
       "</style>\n",
       "<table border=\"1\" class=\"dataframe\">\n",
       "  <thead>\n",
       "    <tr style=\"text-align: right;\">\n",
       "      <th></th>\n",
       "      <th>CustId</th>\n",
       "      <th>Price</th>\n",
       "      <th>Expensive</th>\n",
       "    </tr>\n",
       "  </thead>\n",
       "  <tbody>\n",
       "    <tr>\n",
       "      <th>0</th>\n",
       "      <td>1001</td>\n",
       "      <td>100</td>\n",
       "      <td>No</td>\n",
       "    </tr>\n",
       "    <tr>\n",
       "      <th>1</th>\n",
       "      <td>1002</td>\n",
       "      <td>30</td>\n",
       "      <td>No</td>\n",
       "    </tr>\n",
       "    <tr>\n",
       "      <th>2</th>\n",
       "      <td>1003</td>\n",
       "      <td>180</td>\n",
       "      <td>Yes</td>\n",
       "    </tr>\n",
       "    <tr>\n",
       "      <th>3</th>\n",
       "      <td>1004</td>\n",
       "      <td>50</td>\n",
       "      <td>No</td>\n",
       "    </tr>\n",
       "    <tr>\n",
       "      <th>4</th>\n",
       "      <td>1006</td>\n",
       "      <td>200</td>\n",
       "      <td>Yes</td>\n",
       "    </tr>\n",
       "  </tbody>\n",
       "</table>\n",
       "</div>"
      ],
      "text/plain": [
       "   CustId  Price Expensive\n",
       "0    1001    100        No\n",
       "1    1002     30        No\n",
       "2    1003    180       Yes\n",
       "3    1004     50        No\n",
       "4    1006    200       Yes"
      ]
     },
     "execution_count": 90,
     "metadata": {},
     "output_type": "execute_result"
    }
   ],
   "source": [
    "df_cust1[\"Expensive\"] = [\"Yes\" if Price > 100 else \"No\" for Price in df_cust1['Price']]\n",
    "df_cust1"
   ]
  },
  {
   "cell_type": "code",
   "execution_count": 91,
   "id": "e83b81c1",
   "metadata": {
    "execution": {
     "iopub.execute_input": "2024-09-23T11:56:19.912438Z",
     "iopub.status.busy": "2024-09-23T11:56:19.911435Z",
     "iopub.status.idle": "2024-09-23T11:56:19.924929Z",
     "shell.execute_reply": "2024-09-23T11:56:19.923631Z"
    },
    "papermill": {
     "duration": 0.058856,
     "end_time": "2024-09-23T11:56:19.927224",
     "exception": false,
     "start_time": "2024-09-23T11:56:19.868368",
     "status": "completed"
    },
    "tags": []
   },
   "outputs": [
    {
     "data": {
      "application/vnd.microsoft.datawrangler.viewer.v0+json": {
       "columns": [
        {
         "name": "index",
         "rawType": "int64",
         "type": "integer"
        },
        {
         "name": "CustId",
         "rawType": "int64",
         "type": "integer"
        },
        {
         "name": "Price",
         "rawType": "int64",
         "type": "integer"
        },
        {
         "name": "Expensive",
         "rawType": "object",
         "type": "string"
        },
        {
         "name": "Cheap",
         "rawType": "object",
         "type": "string"
        }
       ],
       "conversionMethod": "pd.DataFrame",
       "ref": "24deb88a-69f6-4c1a-bc9a-b83043966de9",
       "rows": [
        [
         "0",
         "1001",
         "100",
         "No",
         "No"
        ],
        [
         "1",
         "1002",
         "30",
         "No",
         "Yes"
        ],
        [
         "2",
         "1003",
         "180",
         "Yes",
         "No"
        ],
        [
         "3",
         "1004",
         "50",
         "No",
         "Yes"
        ],
        [
         "4",
         "1006",
         "200",
         "Yes",
         "No"
        ]
       ],
       "shape": {
        "columns": 4,
        "rows": 5
       }
      },
      "text/html": [
       "<div>\n",
       "<style scoped>\n",
       "    .dataframe tbody tr th:only-of-type {\n",
       "        vertical-align: middle;\n",
       "    }\n",
       "\n",
       "    .dataframe tbody tr th {\n",
       "        vertical-align: top;\n",
       "    }\n",
       "\n",
       "    .dataframe thead th {\n",
       "        text-align: right;\n",
       "    }\n",
       "</style>\n",
       "<table border=\"1\" class=\"dataframe\">\n",
       "  <thead>\n",
       "    <tr style=\"text-align: right;\">\n",
       "      <th></th>\n",
       "      <th>CustId</th>\n",
       "      <th>Price</th>\n",
       "      <th>Expensive</th>\n",
       "      <th>Cheap</th>\n",
       "    </tr>\n",
       "  </thead>\n",
       "  <tbody>\n",
       "    <tr>\n",
       "      <th>0</th>\n",
       "      <td>1001</td>\n",
       "      <td>100</td>\n",
       "      <td>No</td>\n",
       "      <td>No</td>\n",
       "    </tr>\n",
       "    <tr>\n",
       "      <th>1</th>\n",
       "      <td>1002</td>\n",
       "      <td>30</td>\n",
       "      <td>No</td>\n",
       "      <td>Yes</td>\n",
       "    </tr>\n",
       "    <tr>\n",
       "      <th>2</th>\n",
       "      <td>1003</td>\n",
       "      <td>180</td>\n",
       "      <td>Yes</td>\n",
       "      <td>No</td>\n",
       "    </tr>\n",
       "    <tr>\n",
       "      <th>3</th>\n",
       "      <td>1004</td>\n",
       "      <td>50</td>\n",
       "      <td>No</td>\n",
       "      <td>Yes</td>\n",
       "    </tr>\n",
       "    <tr>\n",
       "      <th>4</th>\n",
       "      <td>1006</td>\n",
       "      <td>200</td>\n",
       "      <td>Yes</td>\n",
       "      <td>No</td>\n",
       "    </tr>\n",
       "  </tbody>\n",
       "</table>\n",
       "</div>"
      ],
      "text/plain": [
       "   CustId  Price Expensive Cheap\n",
       "0    1001    100        No    No\n",
       "1    1002     30        No   Yes\n",
       "2    1003    180       Yes    No\n",
       "3    1004     50        No   Yes\n",
       "4    1006    200       Yes    No"
      ]
     },
     "execution_count": 91,
     "metadata": {},
     "output_type": "execute_result"
    }
   ],
   "source": [
    "df_cust1['Cheap'] = np.where(df_cust1.Price < 100, 'Yes', 'No')\n",
    "df_cust1"
   ]
  }
 ],
 "metadata": {
  "kaggle": {
   "accelerator": "none",
   "dataSources": [],
   "dockerImageVersionId": 30761,
   "isGpuEnabled": false,
   "isInternetEnabled": true,
   "language": "python",
   "sourceType": "notebook"
  },
  "kernelspec": {
   "display_name": "Python 3",
   "language": "python",
   "name": "python3"
  },
  "language_info": {
   "codemirror_mode": {
    "name": "ipython",
    "version": 3
   },
   "file_extension": ".py",
   "mimetype": "text/x-python",
   "name": "python",
   "nbconvert_exporter": "python",
   "pygments_lexer": "ipython3",
   "version": "3.13.0"
  },
  "papermill": {
   "default_parameters": {},
   "duration": 22.602424,
   "end_time": "2024-09-23T11:56:20.693953",
   "environment_variables": {},
   "exception": null,
   "input_path": "__notebook__.ipynb",
   "output_path": "__notebook__.ipynb",
   "parameters": {},
   "start_time": "2024-09-23T11:55:58.091529",
   "version": "2.6.0"
  }
 },
 "nbformat": 4,
 "nbformat_minor": 5
}
