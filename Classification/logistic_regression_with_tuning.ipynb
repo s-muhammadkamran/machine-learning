{
 "cells": [
  {
   "cell_type": "markdown",
   "metadata": {},
   "source": [
    "# Logistic Regression:\n",
    "## With Hyper Parameter Tunning and Cross Validation"
   ]
  },
  {
   "cell_type": "markdown",
   "metadata": {},
   "source": [
    "## What is Logistic Regression?\n",
    "- Logistic Regression is a **binary classification algorithm** (2 class problem). It can predict if output is True/False or Yes/No or 0/1 or Class1/Class2.\n",
    "- It finds the **best fit decision boundary** between two classes. (One vs One).\n",
    "- Instead of a straight-line output like Linear Regression, it **maps predictions to probabilities** using the **sigmoid function**.\n",
    "- If we want to solve multi class problem i.e. 3 classes, you can do this by creating more than 1 Logistic Model. (One Vs Rest)."
   ]
  },
  {
   "cell_type": "markdown",
   "metadata": {},
   "source": [
    "## Logistic Regression Formula:\n",
    "$P(Y=1 | X) = \\sigma(z) = \\frac{1}{1 + e^{-z}}$\n",
    "\n",
    "Where:\n",
    "- $P(Y=1 | X)$ → Probability that the output $Y$ is **1** given input $X$.\n",
    "- $\\sigma(z)$ → Sigmoid function that converts $z$ into a probability.\n",
    "- $e$ → Euler's number (**≈2.718**), the base of the natural logarithm.\n",
    "- $z$ → Linear combination of input features:\n",
    "\n",
    "  $z = w_0 + w_1 x_1 + w_2 x_2 + ... + w_n x_n$\n",
    "\n",
    "  - $w_0$ → Bias term (intercept).\n",
    "  - $w_1, w_2, ..., w_n$ → Model weights (learned from data).\n",
    "  - $x_1, x_2, ..., x_n$ → Input feature values."
   ]
  },
  {
   "cell_type": "markdown",
   "metadata": {},
   "source": [
    "## Example:  \n",
    "  \n",
    "Predicting whether a Customer will buy a Product based on age and income per year.\n",
    "  \n",
    "$z = w_0 + w_1x_1 + w_2x_2$  \n",
    "  \n",
    "- $x_1 =$ Customer Age (in years)   \n",
    "- $x_2 =$ Customer Income (in 1000s per year)  \n",
    "- $w_0 = -4$ (bias / intercept)  \n",
    "- $w_1 = 0.05$ (weight / slope for age)  \n",
    "- $w_2 = 0.01$ (weight / slope for income)​  \n",
    "\n",
    "Solve for Age $x_1 = 30$  \n",
    "Salary per year $x_2 = 50,000$ USD  "
   ]
  },
  {
   "cell_type": "markdown",
   "metadata": {},
   "source": [
    "### Solution:\n",
    "\n",
    "**Step 1: Compute Z**\n",
    "\n",
    "$z = w_0 + w_1x_1 + w_2x_2$  \n",
    "\n",
    "z = (−4) + (0.05×30) + (0.1×50)  \n",
    "z = −4 + 1.5 + 5  \n",
    "z = 2.5  \n",
    "\n",
    "**Step 2: Apply the Sigmoid Function**\n",
    "\n",
    "$\\sigma(z) = \\frac{1}{1 + e^{-z}}$  \n",
    "  \n",
    "$\\sigma(2.5) = \\frac{1}{1 + e^{-2.5}}, {where}: e \\approx 2.718$  \n",
    "\n",
    "$\\sigma(2.5) = \\frac{1}{1 + 0.082}$  \n",
    "\n",
    "​$\\sigma(2.5) \\approx 0.923$\n",
    "\n",
    "\n",
    "**Step 3: Interpret the Probability**\n",
    "\n",
    "- The model predicts a 92.3% probability that the customer will buy the product.\n",
    "- Since $\\sigma(2.5) = 0.923$ that is > 0.5, we classify the customer as likely to buy."
   ]
  },
  {
   "cell_type": "markdown",
   "metadata": {},
   "source": [
    "## Model Performance\n",
    "\n",
    "### Confusion Matrix:\n",
    "\n",
    "\n",
    "\n",
    "<img src=\"./data/ConfusionMatrix.jpg\" alt=\"Confusion Matrix\" width=\"600\" height=\"400\">"
   ]
  },
  {
   "cell_type": "markdown",
   "metadata": {},
   "source": [
    "### Confusion Matrix in Python.\n",
    "\n",
    "In Python the Confusion matrix is actually a 2D array hence it is shown flipped.\n",
    "\n",
    "[[TN   FP]  \n",
    " [FN   TP]]  \n",
    "\n",
    "Where:\n",
    "|   | $0_{Predicated}$ | $1_{Predicated}$ |\n",
    "|---|---|---|\n",
    "| $0_{Actual}$ | $TN_{[0, 0]}$ | $FP_{[0, 1]}$ |\n",
    "| $1_{Actual}$ | $FN_{[1, 0]}$ | $TP_{[1, 1]}$ |\n",
    "\n",
    "Where:  \n",
    "- [0, 0] = TN -> $Actual_{False}$, $Predicated_{False}$  \n",
    "- [0, 1] = FP -> $Actual_{False}$, $Predicated_{True}$  \n",
    "- [1, 0] = FN -> $Actual_{True}$, $Predicated_{False}$  \n",
    "- [1, 1] = TP -> $Actual_{True}$, $Predicated_{True}$  \n",
    "\n",
    "### Other Metrics\n",
    "\n",
    "- Precision -> $\\frac{TP}{(TP + FP)}$  \n",
    "\n",
    "- Recall -> $\\frac{TP}{(TP + FN)}$  \n",
    "\n",
    "- F1 Score -> $2 \\times \\frac{(Precision * Recall)}{(Precision + Recall)}$  \n",
    "\n",
    "- Accuracy -> $\\frac{(TP + TN)}{(TP + TN + FP + FN)}$\n",
    "\n",
    "- Error Rate -> $1 - Accuracy$"
   ]
  },
  {
   "cell_type": "code",
   "execution_count": 471,
   "metadata": {},
   "outputs": [],
   "source": [
    "import pandas as pd\n",
    "import numpy as np\n",
    "import matplotlib.pyplot as plt\n",
    "import seaborn as sns\n",
    "\n",
    "from sklearn.datasets import make_classification\n",
    "from sklearn.linear_model import LogisticRegression\n",
    "from sklearn.model_selection import train_test_split\n",
    "from sklearn.metrics import confusion_matrix, accuracy_score, classification_report, precision_score, recall_score, f1_score"
   ]
  },
  {
   "cell_type": "markdown",
   "metadata": {},
   "source": [
    "## Generate simulated data"
   ]
  },
  {
   "cell_type": "code",
   "execution_count": 472,
   "metadata": {},
   "outputs": [
    {
     "data": {
      "text/plain": [
       "(          0         1         2         3         4         5         6  \\\n",
       " 0  0.633563  0.357385 -0.503931  0.935066  0.647981 -0.050796 -1.933989   \n",
       " 1  1.283905  1.109459 -0.908953  1.006586  0.492219  1.107295  1.243526   \n",
       " 2 -0.966476 -0.593314  0.458020  1.032323  1.283685 -0.317640  1.499045   \n",
       " 3  2.429309 -1.306530 -1.869925  3.092164  2.028800 -0.879635 -0.393494   \n",
       " 4 -1.204798  0.078464  0.705181  0.224765  0.618707  1.534946 -0.302288   \n",
       " \n",
       "           7         8         9  \n",
       " 0  2.081684  0.041266 -0.258298  \n",
       " 1 -0.172200  1.150359  0.147744  \n",
       " 2  0.434477  0.423678  1.251380  \n",
       " 3 -0.101213 -1.624066  0.443553  \n",
       " 4  2.325055  0.495505  0.538133  ,\n",
       " array([1, 1, 1, 1, 0]))"
      ]
     },
     "execution_count": 472,
     "metadata": {},
     "output_type": "execute_result"
    }
   ],
   "source": [
    "# Generate simulated dataset (numpy array)\n",
    "X, y = make_classification(n_samples=10000, n_features=10, n_classes=2, random_state=42)\n",
    "X = pd.DataFrame(X)\n",
    "\n",
    "X.head(5), y[:5]"
   ]
  },
  {
   "cell_type": "code",
   "execution_count": 473,
   "metadata": {},
   "outputs": [
    {
     "data": {
      "text/plain": [
       "(array([0, 1]), array([4988, 5012]))"
      ]
     },
     "execution_count": 473,
     "metadata": {},
     "output_type": "execute_result"
    }
   ],
   "source": [
    "# Check the unique values in their count in array y\n",
    "np.unique(y, return_counts=True)"
   ]
  },
  {
   "cell_type": "markdown",
   "metadata": {},
   "source": [
    "## Train the Model on Training Data"
   ]
  },
  {
   "cell_type": "code",
   "execution_count": 474,
   "metadata": {},
   "outputs": [
    {
     "data": {
      "text/plain": [
       "((7000, 10), (7000,), (3000, 10), (3000,))"
      ]
     },
     "execution_count": 474,
     "metadata": {},
     "output_type": "execute_result"
    }
   ],
   "source": [
    "X_train, X_test, y_train, y_test = train_test_split(X, y, test_size=0.3, random_state=42)\n",
    "\n",
    "X_train.shape, y_train.shape, X_test.shape, y_test.shape"
   ]
  },
  {
   "cell_type": "code",
   "execution_count": 475,
   "metadata": {},
   "outputs": [],
   "source": [
    "logistic_m1 = LogisticRegression()"
   ]
  },
  {
   "cell_type": "code",
   "execution_count": 476,
   "metadata": {},
   "outputs": [],
   "source": [
    "# Fit the model using training data\n",
    "logistic_m1 = logistic_m1.fit(X_train, y_train)"
   ]
  },
  {
   "cell_type": "markdown",
   "metadata": {},
   "source": [
    "## Make Prediction on Test Data"
   ]
  },
  {
   "cell_type": "code",
   "execution_count": 477,
   "metadata": {},
   "outputs": [
    {
     "data": {
      "text/plain": [
       "array([1, 1, 1, ..., 0, 1, 0])"
      ]
     },
     "execution_count": 477,
     "metadata": {},
     "output_type": "execute_result"
    }
   ],
   "source": [
    "# Predict on Test Data\n",
    "y_pred_m1 = logistic_m1.predict(X_test)\n",
    "y_pred_m1"
   ]
  },
  {
   "cell_type": "code",
   "execution_count": 478,
   "metadata": {},
   "outputs": [
    {
     "data": {
      "text/plain": [
       "array([[0.01640705, 0.98359295],\n",
       "       [0.11288143, 0.88711857],\n",
       "       [0.11091352, 0.88908648],\n",
       "       [0.93541396, 0.06458604],\n",
       "       [0.82523652, 0.17476348]])"
      ]
     },
     "execution_count": 478,
     "metadata": {},
     "output_type": "execute_result"
    }
   ],
   "source": [
    "# Get predicted probabilities\n",
    "pred_prob_m1 = logistic_m1.predict_proba(X_test)\n",
    "\n",
    "pred_prob_m1[:5]"
   ]
  },
  {
   "cell_type": "code",
   "execution_count": 479,
   "metadata": {},
   "outputs": [
    {
     "data": {
      "application/vnd.microsoft.datawrangler.viewer.v0+json": {
       "columns": [
        {
         "name": "index",
         "rawType": "int64",
         "type": "integer"
        },
        {
         "name": "0",
         "rawType": "object",
         "type": "string"
        }
       ],
       "conversionMethod": "pd.DataFrame",
       "ref": "9a979d15-ba07-45fe-be83-0d82b1810a96",
       "rows": [
        [
         "0",
         "Class 1"
        ],
        [
         "1",
         "Class 1"
        ],
        [
         "2",
         "Class 1"
        ],
        [
         "3",
         "Class 2"
        ],
        [
         "4",
         "Class 2"
        ]
       ],
       "shape": {
        "columns": 1,
        "rows": 5
       }
      },
      "text/html": [
       "<div>\n",
       "<style scoped>\n",
       "    .dataframe tbody tr th:only-of-type {\n",
       "        vertical-align: middle;\n",
       "    }\n",
       "\n",
       "    .dataframe tbody tr th {\n",
       "        vertical-align: top;\n",
       "    }\n",
       "\n",
       "    .dataframe thead th {\n",
       "        text-align: right;\n",
       "    }\n",
       "</style>\n",
       "<table border=\"1\" class=\"dataframe\">\n",
       "  <thead>\n",
       "    <tr style=\"text-align: right;\">\n",
       "      <th></th>\n",
       "      <th>0</th>\n",
       "    </tr>\n",
       "  </thead>\n",
       "  <tbody>\n",
       "    <tr>\n",
       "      <th>0</th>\n",
       "      <td>Class 1</td>\n",
       "    </tr>\n",
       "    <tr>\n",
       "      <th>1</th>\n",
       "      <td>Class 1</td>\n",
       "    </tr>\n",
       "    <tr>\n",
       "      <th>2</th>\n",
       "      <td>Class 1</td>\n",
       "    </tr>\n",
       "    <tr>\n",
       "      <th>3</th>\n",
       "      <td>Class 2</td>\n",
       "    </tr>\n",
       "    <tr>\n",
       "      <th>4</th>\n",
       "      <td>Class 2</td>\n",
       "    </tr>\n",
       "  </tbody>\n",
       "</table>\n",
       "</div>"
      ],
      "text/plain": [
       "         0\n",
       "0  Class 1\n",
       "1  Class 1\n",
       "2  Class 1\n",
       "3  Class 2\n",
       "4  Class 2"
      ]
     },
     "execution_count": 479,
     "metadata": {},
     "output_type": "execute_result"
    }
   ],
   "source": [
    "# From predicted probabilities convert to Class1 and 1 Class2\n",
    "y_pred_m1_class = pd.DataFrame(np.where(y_pred_m1 > 0.5, 'Class 1', 'Class 2'))\n",
    "\n",
    "y_pred_m1_class.head()"
   ]
  },
  {
   "cell_type": "markdown",
   "metadata": {},
   "source": [
    "## Evaluate Performance Metrics"
   ]
  },
  {
   "cell_type": "code",
   "execution_count": 480,
   "metadata": {},
   "outputs": [],
   "source": [
    "# Helping Method to Display Report\n",
    "def evaluate_display_model(y_true, y_pred, desc, class_rpt = True):\n",
    "    \"\"\"\n",
    "    Computes and displays classification metrics including:\n",
    "    - Confusion Matrix\n",
    "    - Precision\n",
    "    - Recall\n",
    "    - F1 Score\n",
    "    - Accuracy\n",
    "    - Error Rate\n",
    "    - Classification Report (Conditional)\n",
    "    \n",
    "    Args:\n",
    "    y_true (array-like): Actual class labels\n",
    "    y_pred (array-like): Predicted class labels\n",
    "    desc: Description to be printed as Model Stats heading\n",
    "    class_rpt (bool, optional): If True (Default), displays a classification report.\n",
    "    \n",
    "    Returns:\n",
    "    dict: A dictionary containing all computed metrics.\n",
    "    \"\"\"\n",
    "    # Compute confusion matrix\n",
    "    conf_matrix = confusion_matrix(y_true, y_pred)\n",
    "\n",
    "    # Extract True Positives (TP), False Positives (FP), False Negatives (FN), True Negatives (TN)\n",
    "    TN, FP, FN, TP = conf_matrix.ravel()\n",
    "\n",
    "    # Compute metrics\n",
    "    precision = precision_score(y_true, y_pred)\n",
    "    recall = recall_score(y_true, y_pred)\n",
    "    f1score = f1_score(y_true, y_pred)\n",
    "    accuracy = accuracy_score(y_true, y_pred)\n",
    "    error_rate = 1 - accuracy\n",
    "    class_report = \"\"\n",
    "    if class_rpt:\n",
    "        class_report = classification_report(y_true, y_pred, zero_division=1)\n",
    "\n",
    "    # Print Confusion Matrix\n",
    "    print(f\"\\n{desc} Performance:\")\n",
    "    print(\"\\nConfusion Matrix:\")\n",
    "    print(conf_matrix)\n",
    "    print(f\"\\nWhere:\")\n",
    "    print(f\"TP (Actual +ve, Predicted +ve) = {TP}\")\n",
    "    print(f\"FP (Actual -ve, Predicted +ve) = {FP}\")\n",
    "    print(f\"FN (Actual +ve, Predicted -ve) = {FN}\")\n",
    "    print(f\"TN (Actual -ve, Predicted -ve) = {TN}\")\n",
    "\n",
    "    # Print Other Metrics\n",
    "    print(f\"\\nOther Metrics:\")\n",
    "    print(f\"Precision (TP / (TP + FP)): {precision:.4f}\")\n",
    "    print(f\"Recall (TP / (TP + FN)): {recall:.4f}\")\n",
    "    print(f\"F1 Score (2 * (Precision * Recall) / (Precision + Recall)): {f1score:.4f}\")\n",
    "    print(f\"Accuracy ((TP + TN) / (TP + TN + FP + FN)): {accuracy:.4f}\")\n",
    "    print(f\"Error Rate (1 - Accuracy): {error_rate:.4f}\")\n",
    "    if class_rpt:\n",
    "        print(f\"\\nClassification Report:\\n{class_report}\")\n",
    "\n",
    "    # Return all metrics in a dictionary (useful for further analysis)\n",
    "    return {\n",
    "        \"Confusion Matrix\": conf_matrix,\n",
    "        \"Precision\": precision,\n",
    "        \"Recall\": recall,\n",
    "        \"F1 Score\": f1score,\n",
    "        \"Accuracy\": accuracy,\n",
    "        \"Error Rate\": error_rate,\n",
    "        \"Classification Report\": class_report\n",
    "    }"
   ]
  },
  {
   "cell_type": "code",
   "execution_count": 481,
   "metadata": {},
   "outputs": [
    {
     "name": "stdout",
     "output_type": "stream",
     "text": [
      "\n",
      "Model 1 (Before Tuning) Performance:\n",
      "\n",
      "Confusion Matrix:\n",
      "[[1329  155]\n",
      " [ 168 1348]]\n",
      "\n",
      "Where:\n",
      "TP (Actual +ve, Predicted +ve) = 1348\n",
      "FP (Actual -ve, Predicted +ve) = 155\n",
      "FN (Actual +ve, Predicted -ve) = 168\n",
      "TN (Actual -ve, Predicted -ve) = 1329\n",
      "\n",
      "Other Metrics:\n",
      "Precision (TP / (TP + FP)): 0.8969\n",
      "Recall (TP / (TP + FN)): 0.8892\n",
      "F1 Score (2 * (Precision * Recall) / (Precision + Recall)): 0.8930\n",
      "Accuracy ((TP + TN) / (TP + TN + FP + FN)): 0.8923\n",
      "Error Rate (1 - Accuracy): 0.1077\n",
      "\n",
      "Classification Report:\n",
      "              precision    recall  f1-score   support\n",
      "\n",
      "           0       0.89      0.90      0.89      1484\n",
      "           1       0.90      0.89      0.89      1516\n",
      "\n",
      "    accuracy                           0.89      3000\n",
      "   macro avg       0.89      0.89      0.89      3000\n",
      "weighted avg       0.89      0.89      0.89      3000\n",
      "\n"
     ]
    },
    {
     "data": {
      "text/plain": [
       "{'Confusion Matrix': array([[1329,  155],\n",
       "        [ 168, 1348]]),\n",
       " 'Precision': np.float64(0.8968729208250167),\n",
       " 'Recall': np.float64(0.8891820580474934),\n",
       " 'F1 Score': np.float64(0.8930109307717787),\n",
       " 'Accuracy': 0.8923333333333333,\n",
       " 'Error Rate': 0.10766666666666669,\n",
       " 'Classification Report': '              precision    recall  f1-score   support\\n\\n           0       0.89      0.90      0.89      1484\\n           1       0.90      0.89      0.89      1516\\n\\n    accuracy                           0.89      3000\\n   macro avg       0.89      0.89      0.89      3000\\nweighted avg       0.89      0.89      0.89      3000\\n'}"
      ]
     },
     "execution_count": 481,
     "metadata": {},
     "output_type": "execute_result"
    }
   ],
   "source": [
    "# Performance Metrics\n",
    "evaluate_display_model(y_test, y_pred_m1, \"Model 1 (Before Tuning)\")"
   ]
  },
  {
   "cell_type": "markdown",
   "metadata": {},
   "source": [
    "## Interpret the Performance Metrics\n",
    "\n",
    "- High Precission (84%)  \n",
    "- High Recall (85%)\n",
    "- High F1 Score (84.5%)\n",
    "- High Accuracy (85%)\n",
    "- Low False Positive Rate (15%)\n",
    "- Low False Negative Rate (15%)\n",
    "\n",
    "**Conclusion:** This is a good model and generalizes well on unseen data."
   ]
  },
  {
   "cell_type": "markdown",
   "metadata": {},
   "source": [
    "## HyperParameter Tuning And Cross Validation (CV)"
   ]
  },
  {
   "cell_type": "markdown",
   "metadata": {},
   "source": [
    "### **HyperParameter Tuning**\n",
    "\n",
    "**Hyperparameter tuning** is the process of selecting the best combination of **hyperparameters** to optimize a machine learning model’s performance.\n",
    "\n",
    "- **Grid Search CV**\n",
    "  - **Grid Search CV** is an exhaustive search technique that evaluates all possible **combinations** of hyperparameters.\n",
    "  - It performs a **brute-force search** over a predefined **grid of values**.\n",
    "  - **Best for small datasets** where computational cost is manageable.\n",
    "  - **Disadvantage:** Can be **computationally expensive** for large datasets.\n",
    "   \n",
    "- **Random Search CV**\n",
    "  - **Random Search CV** is a hyperparameter tuning technique that, instead of searching every possible combination like Grid Search, **randomly selects values** for hyperparameters.\n",
    "  - It is **faster than Grid Search CV** and can be **more effective in high-dimensional spaces**.\n",
    "  - **Best for large hyperparameter spaces** where exhaustive search is impractical.\n",
    "  - **Disadvantage:** It might **miss the best combination** since it does not check all possibilities.\n"
   ]
  },
  {
   "cell_type": "markdown",
   "metadata": {},
   "source": [
    "### **Cross Validation**\n",
    "\n",
    "**Cross-validation** is a technique used to evaluate the performance of a model on unseen data. It involves splitting the training data into K samples.\n",
    "\n",
    "- **Leave One Out Cross Validation (LOOCV):** \n",
    "  \n",
    "  - Model is validated on **each individual data point** in the training set.\n",
    "  - Requires **N iterations** (where N = number of samples).\n",
    "  - **Example**: If the dataset has 100 samples, **100 models are trained**.\n",
    "  - **Advantage:** Utilizes **maximum data** for training.\n",
    "  - **Disadvantage:** Computationally expensive for large datasets.\n",
    "  \n",
    "- **Leave P Out Cross Validation (LPOCV):**\n",
    "  - Similar to LOOCV, but instead of taking one data point out at a time, P data points.\n",
    "  - Take N-P Iterations.\n",
    "  - **Example**: If dataset has 100 samples and P=5, then **95 samples are used for training, and 5 for validation** in each iteration.\n",
    "  \n",
    "- **K-Fold Cross Validation:** \n",
    "  - Splits the dataset into **K equal parts** (or \"folds\").\n",
    "  - The model is trained on **K-1 folds** and validated on the **remaining fold**.\n",
    "  - This process repeats **K times**, each time using a different fold for validation.\n",
    "  - **Total Iterations:** $N/K$\n",
    "  - **Example**:\n",
    "    - If dataset size = **500** and **K = 10**, then:\n",
    "      - **Iterations** = $500/10 = 50$\n",
    "    - The **average accuracy across K iterations** is used as the performance metric.\n",
    "  - **Advantage:** More efficient than LOOCV.\n",
    "  - **Disadvantage:** May not perform well on small datasets.- Takes K Number of samples to train the model.\n",
    "\n",
    "- **Stratified K-Fold Cross Validation:**\n",
    "  - Works like **K-Fold CV** but **preserves the class distribution** in each fold.\n",
    "  - Useful for **imbalanced datasets** where some classes appear much less frequently.\n",
    "  - Ensures that **each fold has the same proportion of classes** as the original dataset.\n",
    "  - **Example**:\n",
    "    - If dataset has **70% class A and 30% class B**, each fold maintains the **same ratio**.\n",
    "  - **Advantage:** Prevents bias due to imbalanced data.\n",
    "  - **Disadvantage:** Slightly more complex than standard K-Fold CV. \n",
    "\n",
    "- **Time Series Cross Validation:**\n",
    "  - Used for **time-dependent data** (e.g., stock prices, weather forecasting).\n",
    "  - Unlike random splits, **future data cannot be used to train past data**.\n",
    "  - Splitting is done **sequentially**, preserving the time order.\n",
    "  - **Example**:\n",
    "    - Train on **January to June**, test on **July**.\n",
    "    - Train on **January to July**, test on **August**.\n",
    "    - And so on...\n",
    "  - **Advantage:** Maintains temporal dependencies.\n",
    "  - **Disadvantage:** Not all data is used in early iterations."
   ]
  },
  {
   "cell_type": "markdown",
   "metadata": {},
   "source": [
    "| Cross-Validation Method | Best Used For | Iterations | Key Feature |\n",
    "|-------------------------|--------------|------------|-------------|\n",
    "| **LOOCV** | Small datasets | N | Uses 1 sample for validation per iteration |\n",
    "| **LPOCV** | Small datasets | N-P | Uses P samples for validation per iteration |\n",
    "| **K-Fold CV** | General-purpose | N/K | Splits into K folds and rotates validation set |\n",
    "| **Stratified K-Fold** | Imbalanced datasets | N/K | Preserves class proportions in folds |\n",
    "| **Time Series CV** | Time-dependent data | Variable | Preserves chronological order |"
   ]
  },
  {
   "cell_type": "markdown",
   "metadata": {},
   "source": [
    "## Grid Search Cross Validadtion:"
   ]
  },
  {
   "cell_type": "code",
   "execution_count": 482,
   "metadata": {},
   "outputs": [],
   "source": [
    "from sklearn.model_selection import GridSearchCV\n",
    "from sklearn.model_selection import StratifiedKFold"
   ]
  },
  {
   "cell_type": "markdown",
   "metadata": {},
   "source": [
    "\n",
    "### Defining Hyperparameters"
   ]
  },
  {
   "cell_type": "code",
   "execution_count": 483,
   "metadata": {},
   "outputs": [],
   "source": [
    "# Define hyper parameters\n",
    "#penalty = ['l1', 'l2', 'elasticnet'] #L1 = Lasso, L2 = Ridge, ElasticNet = Combination of Both\n",
    "penalty = ['l1', 'l2']\n",
    "c_values = [100, 10, 1.0, 0.1, 0.01] # Inverse of regularization strength\n",
    "#solver = ['newton-cg', 'lbfgs', liblinear', 'sag', 'saga'] # Algorithm to be used. Only solvers that support 'l1' and 'elasticnet'\n",
    "solver = ['liblinear', 'saga'] # Saga supports all the penalty terms l1, l2, and elasticnet hence passing saga\n",
    "l1_ratio = [0.1, 0.5, 0.9]  # Required for ElasticNet"
   ]
  },
  {
   "cell_type": "code",
   "execution_count": 484,
   "metadata": {},
   "outputs": [],
   "source": [
    "# Create a dictionary for hyperparameters to pass to GridSeach\n",
    "params = dict( \n",
    "    penalty = penalty,\n",
    "    C = c_values,\n",
    "    solver = solver,\n",
    "    #l1_ratio = l1_ratio # Only needed for ElasticNet penalty \n",
    ")"
   ]
  },
  {
   "cell_type": "code",
   "execution_count": 485,
   "metadata": {},
   "outputs": [],
   "source": [
    "# Startified K-Fold Cross Validation\n",
    "# We want to do Cross Validation 5 times\n",
    "startify_kfold_cv = StratifiedKFold(n_splits=5, shuffle=False)"
   ]
  },
  {
   "cell_type": "code",
   "execution_count": 486,
   "metadata": {},
   "outputs": [],
   "source": [
    "# Create Logistic Model\n",
    "logistic_m2 = LogisticRegression()"
   ]
  },
  {
   "cell_type": "code",
   "execution_count": 487,
   "metadata": {},
   "outputs": [],
   "source": [
    "# Define Grid Search Cross Validator to tune the Hyperparmeters\n",
    "grid_search = GridSearchCV(\n",
    "    estimator = logistic_m2,\n",
    "    param_grid = params,\n",
    "    scoring = 'accuracy', # I am looking for increased accuracy\n",
    "    cv = startify_kfold_cv, # How many times I need to do K-Fold cross validation\n",
    "    n_jobs = -1, # Use all available cores of our CPU\n",
    ")"
   ]
  },
  {
   "cell_type": "markdown",
   "metadata": {},
   "source": [
    "### Training the Model with Grid Search Cross CV"
   ]
  },
  {
   "cell_type": "code",
   "execution_count": 488,
   "metadata": {},
   "outputs": [
    {
     "data": {
      "text/html": [
       "<style>#sk-container-id-30 {\n",
       "  /* Definition of color scheme common for light and dark mode */\n",
       "  --sklearn-color-text: black;\n",
       "  --sklearn-color-line: gray;\n",
       "  /* Definition of color scheme for unfitted estimators */\n",
       "  --sklearn-color-unfitted-level-0: #fff5e6;\n",
       "  --sklearn-color-unfitted-level-1: #f6e4d2;\n",
       "  --sklearn-color-unfitted-level-2: #ffe0b3;\n",
       "  --sklearn-color-unfitted-level-3: chocolate;\n",
       "  /* Definition of color scheme for fitted estimators */\n",
       "  --sklearn-color-fitted-level-0: #f0f8ff;\n",
       "  --sklearn-color-fitted-level-1: #d4ebff;\n",
       "  --sklearn-color-fitted-level-2: #b3dbfd;\n",
       "  --sklearn-color-fitted-level-3: cornflowerblue;\n",
       "\n",
       "  /* Specific color for light theme */\n",
       "  --sklearn-color-text-on-default-background: var(--sg-text-color, var(--theme-code-foreground, var(--jp-content-font-color1, black)));\n",
       "  --sklearn-color-background: var(--sg-background-color, var(--theme-background, var(--jp-layout-color0, white)));\n",
       "  --sklearn-color-border-box: var(--sg-text-color, var(--theme-code-foreground, var(--jp-content-font-color1, black)));\n",
       "  --sklearn-color-icon: #696969;\n",
       "\n",
       "  @media (prefers-color-scheme: dark) {\n",
       "    /* Redefinition of color scheme for dark theme */\n",
       "    --sklearn-color-text-on-default-background: var(--sg-text-color, var(--theme-code-foreground, var(--jp-content-font-color1, white)));\n",
       "    --sklearn-color-background: var(--sg-background-color, var(--theme-background, var(--jp-layout-color0, #111)));\n",
       "    --sklearn-color-border-box: var(--sg-text-color, var(--theme-code-foreground, var(--jp-content-font-color1, white)));\n",
       "    --sklearn-color-icon: #878787;\n",
       "  }\n",
       "}\n",
       "\n",
       "#sk-container-id-30 {\n",
       "  color: var(--sklearn-color-text);\n",
       "}\n",
       "\n",
       "#sk-container-id-30 pre {\n",
       "  padding: 0;\n",
       "}\n",
       "\n",
       "#sk-container-id-30 input.sk-hidden--visually {\n",
       "  border: 0;\n",
       "  clip: rect(1px 1px 1px 1px);\n",
       "  clip: rect(1px, 1px, 1px, 1px);\n",
       "  height: 1px;\n",
       "  margin: -1px;\n",
       "  overflow: hidden;\n",
       "  padding: 0;\n",
       "  position: absolute;\n",
       "  width: 1px;\n",
       "}\n",
       "\n",
       "#sk-container-id-30 div.sk-dashed-wrapped {\n",
       "  border: 1px dashed var(--sklearn-color-line);\n",
       "  margin: 0 0.4em 0.5em 0.4em;\n",
       "  box-sizing: border-box;\n",
       "  padding-bottom: 0.4em;\n",
       "  background-color: var(--sklearn-color-background);\n",
       "}\n",
       "\n",
       "#sk-container-id-30 div.sk-container {\n",
       "  /* jupyter's `normalize.less` sets `[hidden] { display: none; }`\n",
       "     but bootstrap.min.css set `[hidden] { display: none !important; }`\n",
       "     so we also need the `!important` here to be able to override the\n",
       "     default hidden behavior on the sphinx rendered scikit-learn.org.\n",
       "     See: https://github.com/scikit-learn/scikit-learn/issues/21755 */\n",
       "  display: inline-block !important;\n",
       "  position: relative;\n",
       "}\n",
       "\n",
       "#sk-container-id-30 div.sk-text-repr-fallback {\n",
       "  display: none;\n",
       "}\n",
       "\n",
       "div.sk-parallel-item,\n",
       "div.sk-serial,\n",
       "div.sk-item {\n",
       "  /* draw centered vertical line to link estimators */\n",
       "  background-image: linear-gradient(var(--sklearn-color-text-on-default-background), var(--sklearn-color-text-on-default-background));\n",
       "  background-size: 2px 100%;\n",
       "  background-repeat: no-repeat;\n",
       "  background-position: center center;\n",
       "}\n",
       "\n",
       "/* Parallel-specific style estimator block */\n",
       "\n",
       "#sk-container-id-30 div.sk-parallel-item::after {\n",
       "  content: \"\";\n",
       "  width: 100%;\n",
       "  border-bottom: 2px solid var(--sklearn-color-text-on-default-background);\n",
       "  flex-grow: 1;\n",
       "}\n",
       "\n",
       "#sk-container-id-30 div.sk-parallel {\n",
       "  display: flex;\n",
       "  align-items: stretch;\n",
       "  justify-content: center;\n",
       "  background-color: var(--sklearn-color-background);\n",
       "  position: relative;\n",
       "}\n",
       "\n",
       "#sk-container-id-30 div.sk-parallel-item {\n",
       "  display: flex;\n",
       "  flex-direction: column;\n",
       "}\n",
       "\n",
       "#sk-container-id-30 div.sk-parallel-item:first-child::after {\n",
       "  align-self: flex-end;\n",
       "  width: 50%;\n",
       "}\n",
       "\n",
       "#sk-container-id-30 div.sk-parallel-item:last-child::after {\n",
       "  align-self: flex-start;\n",
       "  width: 50%;\n",
       "}\n",
       "\n",
       "#sk-container-id-30 div.sk-parallel-item:only-child::after {\n",
       "  width: 0;\n",
       "}\n",
       "\n",
       "/* Serial-specific style estimator block */\n",
       "\n",
       "#sk-container-id-30 div.sk-serial {\n",
       "  display: flex;\n",
       "  flex-direction: column;\n",
       "  align-items: center;\n",
       "  background-color: var(--sklearn-color-background);\n",
       "  padding-right: 1em;\n",
       "  padding-left: 1em;\n",
       "}\n",
       "\n",
       "\n",
       "/* Toggleable style: style used for estimator/Pipeline/ColumnTransformer box that is\n",
       "clickable and can be expanded/collapsed.\n",
       "- Pipeline and ColumnTransformer use this feature and define the default style\n",
       "- Estimators will overwrite some part of the style using the `sk-estimator` class\n",
       "*/\n",
       "\n",
       "/* Pipeline and ColumnTransformer style (default) */\n",
       "\n",
       "#sk-container-id-30 div.sk-toggleable {\n",
       "  /* Default theme specific background. It is overwritten whether we have a\n",
       "  specific estimator or a Pipeline/ColumnTransformer */\n",
       "  background-color: var(--sklearn-color-background);\n",
       "}\n",
       "\n",
       "/* Toggleable label */\n",
       "#sk-container-id-30 label.sk-toggleable__label {\n",
       "  cursor: pointer;\n",
       "  display: block;\n",
       "  width: 100%;\n",
       "  margin-bottom: 0;\n",
       "  padding: 0.5em;\n",
       "  box-sizing: border-box;\n",
       "  text-align: center;\n",
       "}\n",
       "\n",
       "#sk-container-id-30 label.sk-toggleable__label-arrow:before {\n",
       "  /* Arrow on the left of the label */\n",
       "  content: \"▸\";\n",
       "  float: left;\n",
       "  margin-right: 0.25em;\n",
       "  color: var(--sklearn-color-icon);\n",
       "}\n",
       "\n",
       "#sk-container-id-30 label.sk-toggleable__label-arrow:hover:before {\n",
       "  color: var(--sklearn-color-text);\n",
       "}\n",
       "\n",
       "/* Toggleable content - dropdown */\n",
       "\n",
       "#sk-container-id-30 div.sk-toggleable__content {\n",
       "  max-height: 0;\n",
       "  max-width: 0;\n",
       "  overflow: hidden;\n",
       "  text-align: left;\n",
       "  /* unfitted */\n",
       "  background-color: var(--sklearn-color-unfitted-level-0);\n",
       "}\n",
       "\n",
       "#sk-container-id-30 div.sk-toggleable__content.fitted {\n",
       "  /* fitted */\n",
       "  background-color: var(--sklearn-color-fitted-level-0);\n",
       "}\n",
       "\n",
       "#sk-container-id-30 div.sk-toggleable__content pre {\n",
       "  margin: 0.2em;\n",
       "  border-radius: 0.25em;\n",
       "  color: var(--sklearn-color-text);\n",
       "  /* unfitted */\n",
       "  background-color: var(--sklearn-color-unfitted-level-0);\n",
       "}\n",
       "\n",
       "#sk-container-id-30 div.sk-toggleable__content.fitted pre {\n",
       "  /* unfitted */\n",
       "  background-color: var(--sklearn-color-fitted-level-0);\n",
       "}\n",
       "\n",
       "#sk-container-id-30 input.sk-toggleable__control:checked~div.sk-toggleable__content {\n",
       "  /* Expand drop-down */\n",
       "  max-height: 200px;\n",
       "  max-width: 100%;\n",
       "  overflow: auto;\n",
       "}\n",
       "\n",
       "#sk-container-id-30 input.sk-toggleable__control:checked~label.sk-toggleable__label-arrow:before {\n",
       "  content: \"▾\";\n",
       "}\n",
       "\n",
       "/* Pipeline/ColumnTransformer-specific style */\n",
       "\n",
       "#sk-container-id-30 div.sk-label input.sk-toggleable__control:checked~label.sk-toggleable__label {\n",
       "  color: var(--sklearn-color-text);\n",
       "  background-color: var(--sklearn-color-unfitted-level-2);\n",
       "}\n",
       "\n",
       "#sk-container-id-30 div.sk-label.fitted input.sk-toggleable__control:checked~label.sk-toggleable__label {\n",
       "  background-color: var(--sklearn-color-fitted-level-2);\n",
       "}\n",
       "\n",
       "/* Estimator-specific style */\n",
       "\n",
       "/* Colorize estimator box */\n",
       "#sk-container-id-30 div.sk-estimator input.sk-toggleable__control:checked~label.sk-toggleable__label {\n",
       "  /* unfitted */\n",
       "  background-color: var(--sklearn-color-unfitted-level-2);\n",
       "}\n",
       "\n",
       "#sk-container-id-30 div.sk-estimator.fitted input.sk-toggleable__control:checked~label.sk-toggleable__label {\n",
       "  /* fitted */\n",
       "  background-color: var(--sklearn-color-fitted-level-2);\n",
       "}\n",
       "\n",
       "#sk-container-id-30 div.sk-label label.sk-toggleable__label,\n",
       "#sk-container-id-30 div.sk-label label {\n",
       "  /* The background is the default theme color */\n",
       "  color: var(--sklearn-color-text-on-default-background);\n",
       "}\n",
       "\n",
       "/* On hover, darken the color of the background */\n",
       "#sk-container-id-30 div.sk-label:hover label.sk-toggleable__label {\n",
       "  color: var(--sklearn-color-text);\n",
       "  background-color: var(--sklearn-color-unfitted-level-2);\n",
       "}\n",
       "\n",
       "/* Label box, darken color on hover, fitted */\n",
       "#sk-container-id-30 div.sk-label.fitted:hover label.sk-toggleable__label.fitted {\n",
       "  color: var(--sklearn-color-text);\n",
       "  background-color: var(--sklearn-color-fitted-level-2);\n",
       "}\n",
       "\n",
       "/* Estimator label */\n",
       "\n",
       "#sk-container-id-30 div.sk-label label {\n",
       "  font-family: monospace;\n",
       "  font-weight: bold;\n",
       "  display: inline-block;\n",
       "  line-height: 1.2em;\n",
       "}\n",
       "\n",
       "#sk-container-id-30 div.sk-label-container {\n",
       "  text-align: center;\n",
       "}\n",
       "\n",
       "/* Estimator-specific */\n",
       "#sk-container-id-30 div.sk-estimator {\n",
       "  font-family: monospace;\n",
       "  border: 1px dotted var(--sklearn-color-border-box);\n",
       "  border-radius: 0.25em;\n",
       "  box-sizing: border-box;\n",
       "  margin-bottom: 0.5em;\n",
       "  /* unfitted */\n",
       "  background-color: var(--sklearn-color-unfitted-level-0);\n",
       "}\n",
       "\n",
       "#sk-container-id-30 div.sk-estimator.fitted {\n",
       "  /* fitted */\n",
       "  background-color: var(--sklearn-color-fitted-level-0);\n",
       "}\n",
       "\n",
       "/* on hover */\n",
       "#sk-container-id-30 div.sk-estimator:hover {\n",
       "  /* unfitted */\n",
       "  background-color: var(--sklearn-color-unfitted-level-2);\n",
       "}\n",
       "\n",
       "#sk-container-id-30 div.sk-estimator.fitted:hover {\n",
       "  /* fitted */\n",
       "  background-color: var(--sklearn-color-fitted-level-2);\n",
       "}\n",
       "\n",
       "/* Specification for estimator info (e.g. \"i\" and \"?\") */\n",
       "\n",
       "/* Common style for \"i\" and \"?\" */\n",
       "\n",
       ".sk-estimator-doc-link,\n",
       "a:link.sk-estimator-doc-link,\n",
       "a:visited.sk-estimator-doc-link {\n",
       "  float: right;\n",
       "  font-size: smaller;\n",
       "  line-height: 1em;\n",
       "  font-family: monospace;\n",
       "  background-color: var(--sklearn-color-background);\n",
       "  border-radius: 1em;\n",
       "  height: 1em;\n",
       "  width: 1em;\n",
       "  text-decoration: none !important;\n",
       "  margin-left: 1ex;\n",
       "  /* unfitted */\n",
       "  border: var(--sklearn-color-unfitted-level-1) 1pt solid;\n",
       "  color: var(--sklearn-color-unfitted-level-1);\n",
       "}\n",
       "\n",
       ".sk-estimator-doc-link.fitted,\n",
       "a:link.sk-estimator-doc-link.fitted,\n",
       "a:visited.sk-estimator-doc-link.fitted {\n",
       "  /* fitted */\n",
       "  border: var(--sklearn-color-fitted-level-1) 1pt solid;\n",
       "  color: var(--sklearn-color-fitted-level-1);\n",
       "}\n",
       "\n",
       "/* On hover */\n",
       "div.sk-estimator:hover .sk-estimator-doc-link:hover,\n",
       ".sk-estimator-doc-link:hover,\n",
       "div.sk-label-container:hover .sk-estimator-doc-link:hover,\n",
       ".sk-estimator-doc-link:hover {\n",
       "  /* unfitted */\n",
       "  background-color: var(--sklearn-color-unfitted-level-3);\n",
       "  color: var(--sklearn-color-background);\n",
       "  text-decoration: none;\n",
       "}\n",
       "\n",
       "div.sk-estimator.fitted:hover .sk-estimator-doc-link.fitted:hover,\n",
       ".sk-estimator-doc-link.fitted:hover,\n",
       "div.sk-label-container:hover .sk-estimator-doc-link.fitted:hover,\n",
       ".sk-estimator-doc-link.fitted:hover {\n",
       "  /* fitted */\n",
       "  background-color: var(--sklearn-color-fitted-level-3);\n",
       "  color: var(--sklearn-color-background);\n",
       "  text-decoration: none;\n",
       "}\n",
       "\n",
       "/* Span, style for the box shown on hovering the info icon */\n",
       ".sk-estimator-doc-link span {\n",
       "  display: none;\n",
       "  z-index: 9999;\n",
       "  position: relative;\n",
       "  font-weight: normal;\n",
       "  right: .2ex;\n",
       "  padding: .5ex;\n",
       "  margin: .5ex;\n",
       "  width: min-content;\n",
       "  min-width: 20ex;\n",
       "  max-width: 50ex;\n",
       "  color: var(--sklearn-color-text);\n",
       "  box-shadow: 2pt 2pt 4pt #999;\n",
       "  /* unfitted */\n",
       "  background: var(--sklearn-color-unfitted-level-0);\n",
       "  border: .5pt solid var(--sklearn-color-unfitted-level-3);\n",
       "}\n",
       "\n",
       ".sk-estimator-doc-link.fitted span {\n",
       "  /* fitted */\n",
       "  background: var(--sklearn-color-fitted-level-0);\n",
       "  border: var(--sklearn-color-fitted-level-3);\n",
       "}\n",
       "\n",
       ".sk-estimator-doc-link:hover span {\n",
       "  display: block;\n",
       "}\n",
       "\n",
       "/* \"?\"-specific style due to the `<a>` HTML tag */\n",
       "\n",
       "#sk-container-id-30 a.estimator_doc_link {\n",
       "  float: right;\n",
       "  font-size: 1rem;\n",
       "  line-height: 1em;\n",
       "  font-family: monospace;\n",
       "  background-color: var(--sklearn-color-background);\n",
       "  border-radius: 1rem;\n",
       "  height: 1rem;\n",
       "  width: 1rem;\n",
       "  text-decoration: none;\n",
       "  /* unfitted */\n",
       "  color: var(--sklearn-color-unfitted-level-1);\n",
       "  border: var(--sklearn-color-unfitted-level-1) 1pt solid;\n",
       "}\n",
       "\n",
       "#sk-container-id-30 a.estimator_doc_link.fitted {\n",
       "  /* fitted */\n",
       "  border: var(--sklearn-color-fitted-level-1) 1pt solid;\n",
       "  color: var(--sklearn-color-fitted-level-1);\n",
       "}\n",
       "\n",
       "/* On hover */\n",
       "#sk-container-id-30 a.estimator_doc_link:hover {\n",
       "  /* unfitted */\n",
       "  background-color: var(--sklearn-color-unfitted-level-3);\n",
       "  color: var(--sklearn-color-background);\n",
       "  text-decoration: none;\n",
       "}\n",
       "\n",
       "#sk-container-id-30 a.estimator_doc_link.fitted:hover {\n",
       "  /* fitted */\n",
       "  background-color: var(--sklearn-color-fitted-level-3);\n",
       "}\n",
       "</style><div id=\"sk-container-id-30\" class=\"sk-top-container\"><div class=\"sk-text-repr-fallback\"><pre>GridSearchCV(cv=StratifiedKFold(n_splits=5, random_state=None, shuffle=False),\n",
       "             estimator=LogisticRegression(), n_jobs=-1,\n",
       "             param_grid={&#x27;C&#x27;: [100, 10, 1.0, 0.1, 0.01],\n",
       "                         &#x27;penalty&#x27;: [&#x27;l1&#x27;, &#x27;l2&#x27;],\n",
       "                         &#x27;solver&#x27;: [&#x27;liblinear&#x27;, &#x27;saga&#x27;]},\n",
       "             scoring=&#x27;accuracy&#x27;)</pre><b>In a Jupyter environment, please rerun this cell to show the HTML representation or trust the notebook. <br />On GitHub, the HTML representation is unable to render, please try loading this page with nbviewer.org.</b></div><div class=\"sk-container\" hidden><div class=\"sk-item sk-dashed-wrapped\"><div class=\"sk-label-container\"><div class=\"sk-label fitted sk-toggleable\"><input class=\"sk-toggleable__control sk-hidden--visually\" id=\"sk-estimator-id-82\" type=\"checkbox\" ><label for=\"sk-estimator-id-82\" class=\"sk-toggleable__label fitted sk-toggleable__label-arrow fitted\">&nbsp;&nbsp;GridSearchCV<a class=\"sk-estimator-doc-link fitted\" rel=\"noreferrer\" target=\"_blank\" href=\"https://scikit-learn.org/1.5/modules/generated/sklearn.model_selection.GridSearchCV.html\">?<span>Documentation for GridSearchCV</span></a><span class=\"sk-estimator-doc-link fitted\">i<span>Fitted</span></span></label><div class=\"sk-toggleable__content fitted\"><pre>GridSearchCV(cv=StratifiedKFold(n_splits=5, random_state=None, shuffle=False),\n",
       "             estimator=LogisticRegression(), n_jobs=-1,\n",
       "             param_grid={&#x27;C&#x27;: [100, 10, 1.0, 0.1, 0.01],\n",
       "                         &#x27;penalty&#x27;: [&#x27;l1&#x27;, &#x27;l2&#x27;],\n",
       "                         &#x27;solver&#x27;: [&#x27;liblinear&#x27;, &#x27;saga&#x27;]},\n",
       "             scoring=&#x27;accuracy&#x27;)</pre></div> </div></div><div class=\"sk-parallel\"><div class=\"sk-parallel-item\"><div class=\"sk-item\"><div class=\"sk-label-container\"><div class=\"sk-label fitted sk-toggleable\"><input class=\"sk-toggleable__control sk-hidden--visually\" id=\"sk-estimator-id-83\" type=\"checkbox\" ><label for=\"sk-estimator-id-83\" class=\"sk-toggleable__label fitted sk-toggleable__label-arrow fitted\">best_estimator_: LogisticRegression</label><div class=\"sk-toggleable__content fitted\"><pre>LogisticRegression(C=0.01, penalty=&#x27;l1&#x27;, solver=&#x27;liblinear&#x27;)</pre></div> </div></div><div class=\"sk-serial\"><div class=\"sk-item\"><div class=\"sk-estimator fitted sk-toggleable\"><input class=\"sk-toggleable__control sk-hidden--visually\" id=\"sk-estimator-id-84\" type=\"checkbox\" ><label for=\"sk-estimator-id-84\" class=\"sk-toggleable__label fitted sk-toggleable__label-arrow fitted\">&nbsp;LogisticRegression<a class=\"sk-estimator-doc-link fitted\" rel=\"noreferrer\" target=\"_blank\" href=\"https://scikit-learn.org/1.5/modules/generated/sklearn.linear_model.LogisticRegression.html\">?<span>Documentation for LogisticRegression</span></a></label><div class=\"sk-toggleable__content fitted\"><pre>LogisticRegression(C=0.01, penalty=&#x27;l1&#x27;, solver=&#x27;liblinear&#x27;)</pre></div> </div></div></div></div></div></div></div></div></div>"
      ],
      "text/plain": [
       "GridSearchCV(cv=StratifiedKFold(n_splits=5, random_state=None, shuffle=False),\n",
       "             estimator=LogisticRegression(), n_jobs=-1,\n",
       "             param_grid={'C': [100, 10, 1.0, 0.1, 0.01],\n",
       "                         'penalty': ['l1', 'l2'],\n",
       "                         'solver': ['liblinear', 'saga']},\n",
       "             scoring='accuracy')"
      ]
     },
     "execution_count": 488,
     "metadata": {},
     "output_type": "execute_result"
    }
   ],
   "source": [
    "grid_search = grid_search.fit(X_train, y_train)\n",
    "\n",
    "grid_search"
   ]
  },
  {
   "cell_type": "code",
   "execution_count": 489,
   "metadata": {},
   "outputs": [
    {
     "data": {
      "text/plain": [
       "({'C': 0.01, 'penalty': 'l1', 'solver': 'liblinear'},\n",
       " np.float64(0.8917142857142857))"
      ]
     },
     "execution_count": 489,
     "metadata": {},
     "output_type": "execute_result"
    }
   ],
   "source": [
    "grid_search.best_params_, grid_search.best_score_"
   ]
  },
  {
   "cell_type": "markdown",
   "metadata": {},
   "source": [
    "### Testing the Tuned Model"
   ]
  },
  {
   "cell_type": "code",
   "execution_count": 490,
   "metadata": {},
   "outputs": [],
   "source": [
    "y_pred_m2 = grid_search.predict(X_test)"
   ]
  },
  {
   "cell_type": "markdown",
   "metadata": {},
   "source": [
    "### Comparing Models Performance"
   ]
  },
  {
   "cell_type": "markdown",
   "metadata": {},
   "source": [
    "#### We can observe slight improvement in Accuracy (Our Selected Metric in Hyper Parameter) for the tuned model."
   ]
  },
  {
   "cell_type": "code",
   "execution_count": 491,
   "metadata": {},
   "outputs": [
    {
     "name": "stdout",
     "output_type": "stream",
     "text": [
      "\n",
      "Model 1 (Before Tuning) Performance:\n",
      "\n",
      "Confusion Matrix:\n",
      "[[1329  155]\n",
      " [ 168 1348]]\n",
      "\n",
      "Where:\n",
      "TP (Actual +ve, Predicted +ve) = 1348\n",
      "FP (Actual -ve, Predicted +ve) = 155\n",
      "FN (Actual +ve, Predicted -ve) = 168\n",
      "TN (Actual -ve, Predicted -ve) = 1329\n",
      "\n",
      "Other Metrics:\n",
      "Precision (TP / (TP + FP)): 0.8969\n",
      "Recall (TP / (TP + FN)): 0.8892\n",
      "F1 Score (2 * (Precision * Recall) / (Precision + Recall)): 0.8930\n",
      "Accuracy ((TP + TN) / (TP + TN + FP + FN)): 0.8923\n",
      "Error Rate (1 - Accuracy): 0.1077\n",
      "\n",
      "Classification Report:\n",
      "              precision    recall  f1-score   support\n",
      "\n",
      "           0       0.89      0.90      0.89      1484\n",
      "           1       0.90      0.89      0.89      1516\n",
      "\n",
      "    accuracy                           0.89      3000\n",
      "   macro avg       0.89      0.89      0.89      3000\n",
      "weighted avg       0.89      0.89      0.89      3000\n",
      "\n"
     ]
    }
   ],
   "source": [
    "# Performance Metrics\n",
    "evaluate_display_model(y_test, y_pred_m1, \"Model 1 (Before Tuning)\")\n",
    "pass"
   ]
  },
  {
   "cell_type": "code",
   "execution_count": 492,
   "metadata": {},
   "outputs": [
    {
     "name": "stdout",
     "output_type": "stream",
     "text": [
      "\n",
      "Model 2 (After GridSearchCV) Performance:\n",
      "\n",
      "Confusion Matrix:\n",
      "[[1332  152]\n",
      " [ 163 1353]]\n",
      "\n",
      "Where:\n",
      "TP (Actual +ve, Predicted +ve) = 1353\n",
      "FP (Actual -ve, Predicted +ve) = 152\n",
      "FN (Actual +ve, Predicted -ve) = 163\n",
      "TN (Actual -ve, Predicted -ve) = 1332\n",
      "\n",
      "Other Metrics:\n",
      "Precision (TP / (TP + FP)): 0.8990\n",
      "Recall (TP / (TP + FN)): 0.8925\n",
      "F1 Score (2 * (Precision * Recall) / (Precision + Recall)): 0.8957\n",
      "Accuracy ((TP + TN) / (TP + TN + FP + FN)): 0.8950\n",
      "Error Rate (1 - Accuracy): 0.1050\n",
      "\n",
      "Classification Report:\n",
      "              precision    recall  f1-score   support\n",
      "\n",
      "           0       0.89      0.90      0.89      1484\n",
      "           1       0.90      0.89      0.90      1516\n",
      "\n",
      "    accuracy                           0.90      3000\n",
      "   macro avg       0.89      0.90      0.89      3000\n",
      "weighted avg       0.90      0.90      0.90      3000\n",
      "\n"
     ]
    }
   ],
   "source": [
    "evaluate_display_model(y_test, y_pred_m2, \"Model 2 (After GridSearchCV)\")\n",
    "pass"
   ]
  },
  {
   "cell_type": "markdown",
   "metadata": {},
   "source": [
    "## Randomized Search Cross Validation"
   ]
  },
  {
   "cell_type": "code",
   "execution_count": 493,
   "metadata": {},
   "outputs": [],
   "source": [
    "from sklearn.model_selection import RandomizedSearchCV"
   ]
  },
  {
   "cell_type": "code",
   "execution_count": 494,
   "metadata": {},
   "outputs": [],
   "source": [
    "logistic_m3 = LogisticRegression()"
   ]
  },
  {
   "cell_type": "code",
   "execution_count": 495,
   "metadata": {},
   "outputs": [],
   "source": [
    "random_search = RandomizedSearchCV(\n",
    "    estimator=logistic_m3, \n",
    "    param_distributions=params,\n",
    "    cv = 5,\n",
    "    scoring='accuracy'\n",
    ")"
   ]
  },
  {
   "cell_type": "code",
   "execution_count": 496,
   "metadata": {},
   "outputs": [],
   "source": [
    "random_search = random_search.fit(X_train, y_train)"
   ]
  },
  {
   "cell_type": "code",
   "execution_count": 497,
   "metadata": {},
   "outputs": [
    {
     "data": {
      "text/plain": [
       "({'solver': 'liblinear', 'penalty': 'l1', 'C': 0.01},\n",
       " np.float64(0.8917142857142857))"
      ]
     },
     "execution_count": 497,
     "metadata": {},
     "output_type": "execute_result"
    }
   ],
   "source": [
    "random_search.best_params_, random_search.best_score_"
   ]
  },
  {
   "cell_type": "code",
   "execution_count": 498,
   "metadata": {},
   "outputs": [],
   "source": [
    "y_pred_m3 = random_search.predict(X_test)"
   ]
  },
  {
   "cell_type": "code",
   "execution_count": 499,
   "metadata": {},
   "outputs": [
    {
     "name": "stdout",
     "output_type": "stream",
     "text": [
      "\n",
      "Model 3 (After RandomSearchCV) Performance:\n",
      "\n",
      "Confusion Matrix:\n",
      "[[1332  152]\n",
      " [ 163 1353]]\n",
      "\n",
      "Where:\n",
      "TP (Actual +ve, Predicted +ve) = 1353\n",
      "FP (Actual -ve, Predicted +ve) = 152\n",
      "FN (Actual +ve, Predicted -ve) = 163\n",
      "TN (Actual -ve, Predicted -ve) = 1332\n",
      "\n",
      "Other Metrics:\n",
      "Precision (TP / (TP + FP)): 0.8990\n",
      "Recall (TP / (TP + FN)): 0.8925\n",
      "F1 Score (2 * (Precision * Recall) / (Precision + Recall)): 0.8957\n",
      "Accuracy ((TP + TN) / (TP + TN + FP + FN)): 0.8950\n",
      "Error Rate (1 - Accuracy): 0.1050\n",
      "\n",
      "Classification Report:\n",
      "              precision    recall  f1-score   support\n",
      "\n",
      "           0       0.89      0.90      0.89      1484\n",
      "           1       0.90      0.89      0.90      1516\n",
      "\n",
      "    accuracy                           0.90      3000\n",
      "   macro avg       0.89      0.90      0.89      3000\n",
      "weighted avg       0.90      0.90      0.90      3000\n",
      "\n"
     ]
    }
   ],
   "source": [
    "evaluate_display_model(y_test, y_pred_m3, \"Model 3 (After RandomSearchCV)\")\n",
    "pass"
   ]
  }
 ],
 "metadata": {
  "kernelspec": {
   "display_name": "Python 3",
   "language": "python",
   "name": "python3"
  },
  "language_info": {
   "codemirror_mode": {
    "name": "ipython",
    "version": 3
   },
   "file_extension": ".py",
   "mimetype": "text/x-python",
   "name": "python",
   "nbconvert_exporter": "python",
   "pygments_lexer": "ipython3",
   "version": "3.13.0"
  }
 },
 "nbformat": 4,
 "nbformat_minor": 2
}
