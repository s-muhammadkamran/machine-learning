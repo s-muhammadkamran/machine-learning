{
 "cells": [
  {
   "cell_type": "markdown",
   "metadata": {},
   "source": [
    "### Objective:\n",
    "\n",
    "<p>\n",
    "The goal is to extract data (from a chosen number of pages) from The Movie Database website\n",
    "(https://www.themoviedb.org/) into a tabular data format so that further analysis (e.g., details about a\n",
    "movie's genre, cast, and user rating) can be facilitated.\n",
    "</p>"
   ]
  },
  {
   "cell_type": "code",
   "execution_count": 5,
   "metadata": {},
   "outputs": [
    {
     "name": "stdout",
     "output_type": "stream",
     "text": [
      "Requirement already satisfied: requests in e:\\program files\\python313\\lib\\site-packages (2.32.3)\n",
      "Requirement already satisfied: charset-normalizer<4,>=2 in e:\\program files\\python313\\lib\\site-packages (from requests) (3.4.1)\n",
      "Requirement already satisfied: idna<4,>=2.5 in e:\\program files\\python313\\lib\\site-packages (from requests) (3.10)\n",
      "Requirement already satisfied: urllib3<3,>=1.21.1 in e:\\program files\\python313\\lib\\site-packages (from requests) (2.3.0)\n",
      "Requirement already satisfied: certifi>=2017.4.17 in e:\\program files\\python313\\lib\\site-packages (from requests) (2025.1.31)\n"
     ]
    }
   ],
   "source": [
    "! pip install requests"
   ]
  },
  {
   "cell_type": "code",
   "execution_count": 6,
   "metadata": {
    "execution": {
     "iopub.execute_input": "2024-09-13T16:17:38.029055Z",
     "iopub.status.busy": "2024-09-13T16:17:38.028604Z",
     "iopub.status.idle": "2024-09-13T16:17:38.034465Z",
     "shell.execute_reply": "2024-09-13T16:17:38.033208Z",
     "shell.execute_reply.started": "2024-09-13T16:17:38.029013Z"
    },
    "trusted": true
   },
   "outputs": [],
   "source": [
    "#For pretty printing, this is built in python standard library, no need to install\n",
    "from pprint import pprint"
   ]
  },
  {
   "cell_type": "markdown",
   "metadata": {},
   "source": [
    "### 1. Establish a connection to webpage [TheMovieDb](https://www.themoviedb.org/movie)"
   ]
  },
  {
   "cell_type": "code",
   "execution_count": 7,
   "metadata": {
    "execution": {
     "iopub.execute_input": "2024-09-13T16:17:38.036931Z",
     "iopub.status.busy": "2024-09-13T16:17:38.036541Z",
     "iopub.status.idle": "2024-09-13T16:17:38.049101Z",
     "shell.execute_reply": "2024-09-13T16:17:38.047517Z",
     "shell.execute_reply.started": "2024-09-13T16:17:38.036891Z"
    },
    "trusted": true
   },
   "outputs": [],
   "source": [
    "# define some Constants, conventionally we represent Constants as all caps\n",
    "# URL to scrape\n",
    "URL = 'https://www.themoviedb.org/movie'\n",
    "\n",
    "# User-Agent header to avoid 403 Forbidden error\n",
    "# Specifying the expected response language to be English \n",
    "# Otherwise, by default regional response (title description) would be returned\n",
    "NEEDED_HEADERS = {\n",
    "    'User-Agent':\"Mozilla/5.0 (Windows NT 6.3; Win64; x64) AppleWebKit/537.36 (KHTML, like Gecko) Chrome/92.0.4515.131 Safari/537.36\",\n",
    "    'Accept-Language': \"en-US,en;q=0.9\"\n",
    "}"
   ]
  },
  {
   "cell_type": "markdown",
   "metadata": {},
   "source": [
    "##### Import requests library and formulate a get request to download the contents of the webpage:\n",
    "(\"https://www.themoviedb.org/movie\")"
   ]
  },
  {
   "cell_type": "code",
   "execution_count": 8,
   "metadata": {
    "execution": {
     "iopub.execute_input": "2024-09-13T16:17:38.051614Z",
     "iopub.status.busy": "2024-09-13T16:17:38.051125Z",
     "iopub.status.idle": "2024-09-13T16:17:38.581682Z",
     "shell.execute_reply": "2024-09-13T16:17:38.580528Z",
     "shell.execute_reply.started": "2024-09-13T16:17:38.051559Z"
    },
    "trusted": true
   },
   "outputs": [
    {
     "data": {
      "text/plain": [
       "<Response [200]>"
      ]
     },
     "execution_count": 8,
     "metadata": {},
     "output_type": "execute_result"
    }
   ],
   "source": [
    "import requests\n",
    "\n",
    "response = requests.get(url=URL, headers=NEEDED_HEADERS)\n",
    "response"
   ]
  },
  {
   "cell_type": "markdown",
   "metadata": {},
   "source": [
    "##### Verify the status code of the request and confirm that the request was executed appropriately"
   ]
  },
  {
   "cell_type": "code",
   "execution_count": 9,
   "metadata": {
    "execution": {
     "iopub.execute_input": "2024-09-13T16:17:38.583583Z",
     "iopub.status.busy": "2024-09-13T16:17:38.583130Z",
     "iopub.status.idle": "2024-09-13T16:17:38.590589Z",
     "shell.execute_reply": "2024-09-13T16:17:38.589228Z",
     "shell.execute_reply.started": "2024-09-13T16:17:38.583534Z"
    },
    "trusted": true
   },
   "outputs": [
    {
     "name": "stdout",
     "output_type": "stream",
     "text": [
      "Request was successfull with status code [200] to [https://www.themoviedb.org/movie]\n"
     ]
    }
   ],
   "source": [
    "if response:\n",
    "    if response.status_code == 200:\n",
    "        print(f\"Request was successfull with status code [{response.status_code}] to [{URL}]\")\n",
    "    else:\n",
    "        print(f\"Request failed with status code [{response.status_code}] to [{URL}]\")\n",
    "else:\n",
    "    print(f\"Request failed with no response from [{URL}]\")"
   ]
  },
  {
   "cell_type": "code",
   "execution_count": 10,
   "metadata": {
    "execution": {
     "iopub.execute_input": "2024-09-13T16:17:38.595423Z",
     "iopub.status.busy": "2024-09-13T16:17:38.594819Z",
     "iopub.status.idle": "2024-09-13T16:17:38.603224Z",
     "shell.execute_reply": "2024-09-13T16:17:38.601972Z",
     "shell.execute_reply.started": "2024-09-13T16:17:38.595365Z"
    },
    "trusted": true
   },
   "outputs": [
    {
     "name": "stdout",
     "output_type": "stream",
     "text": [
      "Type of content variable is [<class 'requests.models.Response'>]\n",
      "Printing top 200 characters from the content using string slicing\n",
      "(b'<!DOCTYPE html>\\n<html lang=\"en\" class=\"no-js\">\\n  <head>\\n    <title>Popul'\n",
      " b'ar Movies &#8212; The Movie Database (TMDB)</title>\\n    <meta http-equiv'\n",
      " b'=\"cleartype\" content=\"on\">\\n    <meta charset=\"utf-8\">\\n    <meta name=\"ke'\n",
      " b'ywords\" content=\"Movies, TV Shows, Streaming, Reviews, API, Actors, Actresse'\n",
      " b's, Photos, User Ratings, Synopsis, Trailers, Teasers, Credits, Cast\">\\n  '\n",
      " b'  <meta name=\"mobile-web-app-capable\" content=\"yes\">\\n    <meta name=\"app'\n",
      " b'le-mobile-web-app-capable\" content=\"yes\">\\n    <meta name=\"viewpo')\n"
     ]
    }
   ],
   "source": [
    "print(f\"Type of content variable is [{type(response)}]\")\n",
    "print(f\"Printing top 200 characters from the content using string slicing\")\n",
    "pprint(response.content[:500])"
   ]
  },
  {
   "cell_type": "markdown",
   "metadata": {},
   "source": [
    "#### 2. Parse the content of HTML response using the BeautifulSoup library and execute the tasks"
   ]
  },
  {
   "cell_type": "code",
   "execution_count": 14,
   "metadata": {},
   "outputs": [
    {
     "name": "stdout",
     "output_type": "stream",
     "text": [
      "Collecting bs4\n",
      "  Downloading bs4-0.0.2-py2.py3-none-any.whl.metadata (411 bytes)\n",
      "Collecting beautifulsoup4 (from bs4)\n",
      "  Downloading beautifulsoup4-4.13.3-py3-none-any.whl.metadata (3.8 kB)\n",
      "Collecting soupsieve>1.2 (from beautifulsoup4->bs4)\n",
      "  Downloading soupsieve-2.6-py3-none-any.whl.metadata (4.6 kB)\n",
      "Requirement already satisfied: typing-extensions>=4.0.0 in e:\\program files\\python313\\lib\\site-packages (from beautifulsoup4->bs4) (4.12.2)\n",
      "Downloading bs4-0.0.2-py2.py3-none-any.whl (1.2 kB)\n",
      "Downloading beautifulsoup4-4.13.3-py3-none-any.whl (186 kB)\n",
      "Downloading soupsieve-2.6-py3-none-any.whl (36 kB)\n",
      "Installing collected packages: soupsieve, beautifulsoup4, bs4\n",
      "Successfully installed beautifulsoup4-4.13.3 bs4-0.0.2 soupsieve-2.6\n"
     ]
    }
   ],
   "source": [
    "!pip install bs4"
   ]
  },
  {
   "cell_type": "code",
   "execution_count": 12,
   "metadata": {},
   "outputs": [
    {
     "name": "stdout",
     "output_type": "stream",
     "text": [
      "Collecting BeautifulSoup\n",
      "  Downloading BeautifulSoup-3.2.2.tar.gz (32 kB)\n",
      "  Installing build dependencies: started\n",
      "  Installing build dependencies: finished with status 'done'\n",
      "  Getting requirements to build wheel: started\n",
      "  Getting requirements to build wheel: finished with status 'error'\n"
     ]
    },
    {
     "name": "stderr",
     "output_type": "stream",
     "text": [
      "  error: subprocess-exited-with-error\n",
      "  \n",
      "  × Getting requirements to build wheel did not run successfully.\n",
      "  │ exit code: 1\n",
      "  ╰─> [25 lines of output]\n",
      "      Traceback (most recent call last):\n",
      "        File \"E:\\Program Files\\Python313\\Lib\\site-packages\\pip\\_vendor\\pyproject_hooks\\_in_process\\_in_process.py\", line 389, in <module>\n",
      "          main()\n",
      "          ~~~~^^\n",
      "        File \"E:\\Program Files\\Python313\\Lib\\site-packages\\pip\\_vendor\\pyproject_hooks\\_in_process\\_in_process.py\", line 373, in main\n",
      "          json_out[\"return_val\"] = hook(**hook_input[\"kwargs\"])\n",
      "                                   ~~~~^^^^^^^^^^^^^^^^^^^^^^^^\n",
      "        File \"E:\\Program Files\\Python313\\Lib\\site-packages\\pip\\_vendor\\pyproject_hooks\\_in_process\\_in_process.py\", line 143, in get_requires_for_build_wheel\n",
      "          return hook(config_settings)\n",
      "        File \"C:\\Users\\smkamran\\AppData\\Local\\Temp\\pip-build-env-nlis5p9c\\overlay\\Lib\\site-packages\\setuptools\\build_meta.py\", line 334, in get_requires_for_build_wheel\n",
      "          return self._get_build_requires(config_settings, requirements=[])\n",
      "                 ~~~~~~~~~~~~~~~~~~~~~~~~^^^^^^^^^^^^^^^^^^^^^^^^^^^^^^^^^^\n",
      "        File \"C:\\Users\\smkamran\\AppData\\Local\\Temp\\pip-build-env-nlis5p9c\\overlay\\Lib\\site-packages\\setuptools\\build_meta.py\", line 304, in _get_build_requires\n",
      "          self.run_setup()\n",
      "          ~~~~~~~~~~~~~~^^\n",
      "        File \"C:\\Users\\smkamran\\AppData\\Local\\Temp\\pip-build-env-nlis5p9c\\overlay\\Lib\\site-packages\\setuptools\\build_meta.py\", line 522, in run_setup\n",
      "          super().run_setup(setup_script=setup_script)\n",
      "          ~~~~~~~~~~~~~~~~~^^^^^^^^^^^^^^^^^^^^^^^^^^^\n",
      "        File \"C:\\Users\\smkamran\\AppData\\Local\\Temp\\pip-build-env-nlis5p9c\\overlay\\Lib\\site-packages\\setuptools\\build_meta.py\", line 320, in run_setup\n",
      "          exec(code, locals())\n",
      "          ~~~~^^^^^^^^^^^^^^^^\n",
      "        File \"<string>\", line 3\n",
      "          \"You're trying to run a very old release of Beautiful Soup under Python 3. This will not work.\"<>\"Please use Beautiful Soup 4, available through the pip package 'beautifulsoup4'.\"\n",
      "                                                                                                         ^^\n",
      "      SyntaxError: invalid syntax\n",
      "      [end of output]\n",
      "  \n",
      "  note: This error originates from a subprocess, and is likely not a problem with pip.\n",
      "error: subprocess-exited-with-error\n",
      "\n",
      "× Getting requirements to build wheel did not run successfully.\n",
      "│ exit code: 1\n",
      "╰─> See above for output.\n",
      "\n",
      "note: This error originates from a subprocess, and is likely not a problem with pip.\n"
     ]
    }
   ],
   "source": [
    "!pip install BeautifulSoup"
   ]
  },
  {
   "cell_type": "code",
   "execution_count": 15,
   "metadata": {
    "execution": {
     "iopub.execute_input": "2024-09-13T16:17:38.605086Z",
     "iopub.status.busy": "2024-09-13T16:17:38.604746Z",
     "iopub.status.idle": "2024-09-13T16:17:38.891843Z",
     "shell.execute_reply": "2024-09-13T16:17:38.890453Z",
     "shell.execute_reply.started": "2024-09-13T16:17:38.605049Z"
    },
    "trusted": true
   },
   "outputs": [],
   "source": [
    "from bs4 import BeautifulSoup\n",
    "\n",
    "#Create the Soup object using html parse\n",
    "soup = BeautifulSoup(response.content, 'html.parser')\n"
   ]
  },
  {
   "cell_type": "markdown",
   "metadata": {},
   "source": [
    "##### Extract the title of the parsed web page content"
   ]
  },
  {
   "cell_type": "code",
   "execution_count": 16,
   "metadata": {
    "execution": {
     "iopub.execute_input": "2024-09-13T16:17:38.893982Z",
     "iopub.status.busy": "2024-09-13T16:17:38.893484Z",
     "iopub.status.idle": "2024-09-13T16:17:38.902534Z",
     "shell.execute_reply": "2024-09-13T16:17:38.901317Z",
     "shell.execute_reply.started": "2024-09-13T16:17:38.893924Z"
    },
    "trusted": true
   },
   "outputs": [
    {
     "data": {
      "text/plain": [
       "'Popular Movies — The Movie Database (TMDB)'"
      ]
     },
     "execution_count": 16,
     "metadata": {},
     "output_type": "execute_result"
    }
   ],
   "source": [
    "soup.title.string"
   ]
  },
  {
   "cell_type": "markdown",
   "metadata": {},
   "source": [
    "##### Write a user defined function to generalize the task"
   ]
  },
  {
   "cell_type": "code",
   "execution_count": 17,
   "metadata": {
    "execution": {
     "iopub.execute_input": "2024-09-13T16:17:38.904416Z",
     "iopub.status.busy": "2024-09-13T16:17:38.904026Z",
     "iopub.status.idle": "2024-09-13T16:17:38.914361Z",
     "shell.execute_reply": "2024-09-13T16:17:38.913201Z",
     "shell.execute_reply.started": "2024-09-13T16:17:38.904377Z"
    },
    "trusted": true
   },
   "outputs": [],
   "source": [
    "def get_soup_object(url, headers=None):\n",
    "    \"\"\"\n",
    "    This function takes a URL as input and returns the BeautifulSoup object of the webpage.\n",
    "    It is assumed that the BeautifulSoup and requests libraries are already imported by the caller.\n",
    "    The function make use of html.parser parser\n",
    "    \n",
    "    Args:\n",
    "    url (string): The url for the web page\n",
    "    headers (dictionary (String:String)): The headers to be used in the request. Default is None. It is not required to pass \n",
    "    any headers. If no values are passed then the default headers of User-Agent and Accept-Language will be used.\n",
    "\n",
    "    Returns:\n",
    "    soup (BeautifulSoup object): The BeautifulSoup object of the webpage\n",
    "\n",
    "    Example:\n",
    "    >>> get_soup('https://www.test.com')\n",
    "    \"\"\"\n",
    "\n",
    "    # Set the headers conditionally, if no headers are passed\n",
    "    # These headers are local to the get_soup_object function \n",
    "    if headers is None:\n",
    "        headers = {\n",
    "            \"User-Agent\": \"Mozilla/5.0 (Windows NT 6.3; Win64; x64) AppleWebKit/537.36 (KHTML, like Gecko) Chrome/92.0.4515.131 Safari/537.36\",\n",
    "            \"Accept-Language\": \"en-US,en;q=0.9\"\n",
    "        }\n",
    "\n",
    "    try:\n",
    "        # Send a GET request to the URL with User-Agent and Accept Language Headers\n",
    "        res = requests.get(url=url, headers=headers)\n",
    "\n",
    "        if res.status_code != 200:\n",
    "            raise Exception (\n",
    "                f\"Request failed for [{url}] with StatusCode:[{res.status_code}] and Reason:[{res.reason}]\"\n",
    "            )                   \n",
    "        return BeautifulSoup(res.content, 'html.parser')    \n",
    "    except requests.exceptions.RequestException as e:\n",
    "        raise Exception(f\"Request error occoured for [{url}] with error message [{e}]\")"
   ]
  },
  {
   "cell_type": "markdown",
   "metadata": {},
   "source": [
    "#### 3. Extract the content of the webpage that hosts a current dated listing of popular movies"
   ]
  },
  {
   "cell_type": "code",
   "execution_count": 18,
   "metadata": {
    "execution": {
     "iopub.execute_input": "2024-09-13T16:17:38.916095Z",
     "iopub.status.busy": "2024-09-13T16:17:38.915746Z",
     "iopub.status.idle": "2024-09-13T16:17:39.663888Z",
     "shell.execute_reply": "2024-09-13T16:17:39.662752Z",
     "shell.execute_reply.started": "2024-09-13T16:17:38.916050Z"
    },
    "trusted": true
   },
   "outputs": [
    {
     "name": "stdout",
     "output_type": "stream",
     "text": [
      "('<!DOCTYPE html>\\n'\n",
      " '<html class=\"no-js\" lang=\"en\">\\n'\n",
      " ' <head>\\n'\n",
      " '  <title>\\n'\n",
      " '   Popular Movies — The Movie Database (TMDB)\\n'\n",
      " '  </title>\\n'\n",
      " '  <meta content=\"on\" http-equiv=\"cleartype\"/>\\n'\n",
      " '  <meta charset=\"utf-8\"/>\\n'\n",
      " '  <meta content=\"Movies, TV Shows, Streaming, Reviews, API, Actors, '\n",
      " 'Actresses, Photos, User Ratings, Synopsis, Trailers, Teasers, Credits, Cast\" '\n",
      " 'name=\"keywords\"/>\\n'\n",
      " '  <meta content=\"yes\" name=\"mobile-web-app-capable\"/>\\n'\n",
      " '  <meta content=\"yes\" name=\"apple-mobile-web-app-capable\"/>\\n'\n",
      " '  <meta content=\"width=device-width,initial-scale=1\" name=\"viewport\"/>\\n'\n",
      " '  <meta content=\"The Movie Database (TMDB) is a popular, user editable '\n",
      " 'database for movies and TV shows.\" name=\"description\"/>\\n'\n",
      " '  <meta '\n",
      " 'content=\"/assets/2/v4/icons/mstile-144x144-30e7905a8315a080978ad6aeb71c69222b72c2f75d26dab1224173a96fecc962.png\" '\n",
      " 'name=\"msapplication-TileImage\"/>\\n'\n",
      " '  <meta content=\"#032541\" name=\"msapplication-TileColor\"/>\\n'\n",
      " '  <meta content=\"#032541\" name=\"theme-color\"/>\\n'\n",
      " '  <link href=\"/assets/2/apple-touch-icon-57ed4b3b0450fd5e9a0c20f34e814b')\n"
     ]
    }
   ],
   "source": [
    "try:\n",
    "    # URL and NEEDED_HEADERS were defined in the start\n",
    "    soup_tmdb = get_soup_object(url=URL, headers=NEEDED_HEADERS)\n",
    "    pprint(soup_tmdb.prettify()[:1000])\n",
    "except Exception as e:\n",
    "    pprint(f\"Error Occoured: {e}\")"
   ]
  },
  {
   "cell_type": "markdown",
   "metadata": {},
   "source": [
    "##### Print the HTML content associated with the first movie displayed on the web page"
   ]
  },
  {
   "cell_type": "markdown",
   "metadata": {},
   "source": [
    "By inspecting the HTML we can see all the movies details are enclosed inside a wrapping div with CSS class page_wrapper. Than the movie details are enclosed in an inner DIV tag with CSS class as card and style_1. We will use these 2 classes in find method to get the first occurance of the HTML tags which contains all the HTML for the first listed movie."
   ]
  },
  {
   "cell_type": "code",
   "execution_count": 19,
   "metadata": {
    "execution": {
     "iopub.execute_input": "2024-09-13T16:17:39.666019Z",
     "iopub.status.busy": "2024-09-13T16:17:39.665666Z",
     "iopub.status.idle": "2024-09-13T16:17:39.683409Z",
     "shell.execute_reply": "2024-09-13T16:17:39.682004Z",
     "shell.execute_reply.started": "2024-09-13T16:17:39.665982Z"
    },
    "trusted": true
   },
   "outputs": [
    {
     "name": "stdout",
     "output_type": "stream",
     "text": [
      "('<div class=\"card style_1\">\\n'\n",
      " ' <div class=\"image\">\\n'\n",
      " '  <div class=\"wrapper glyphicons_v2 picture grey no_image_holder\">\\n'\n",
      " '   <a class=\"image\" href=\"/movie/762509-mufasa-the-lion-king\" title=\"Mufasa: '\n",
      " 'The Lion King\">\\n'\n",
      " '    <img alt=\"Mufasa: The Lion King\" class=\"poster w-full\" loading=\"lazy\" '\n",
      " 'src=\"https://media.themoviedb.org/t/p/w220_and_h330_face/9bXHaLlsFYpJUutg4E6WXAjaxDi.jpg\" '\n",
      " 'srcset=\"https://media.themoviedb.org/t/p/w220_and_h330_face/9bXHaLlsFYpJUutg4E6WXAjaxDi.jpg '\n",
      " '1x, '\n",
      " 'https://media.themoviedb.org/t/p/w440_and_h660_face/9bXHaLlsFYpJUutg4E6WXAjaxDi.jpg '\n",
      " '2x\"/>\\n'\n",
      " '   </a>\\n'\n",
      " '  </div>\\n'\n",
      " '  <div class=\"options\" data-id=\"762509\" data-media-type=\"movie\" '\n",
      " 'data-object-id=\"5fa9c3759ac5350041b9b405\">\\n'\n",
      " '   <a aria-label=\"View Item Options\" class=\"no_click\" href=\"#\">\\n'\n",
      " '    <div class=\"glyphicons_v2 circle-more white\">\\n'\n",
      " '    </div>\\n'\n",
      " '   </a>\\n'\n",
      " '  </div>\\n'\n",
      " ' </div>\\n'\n",
      " ' <div class=\"content\">\\n'\n",
      " '  <div class=\"consensus tight\">\\n'\n",
      " '   <div class=\"outer_ring\">\\n'\n",
      " '    <div class=\"user_score_chart 5fa9c3759ac5350041b9b405\" '\n",
      " 'data-bar-color=\"#21d07a\" d')\n"
     ]
    }
   ],
   "source": [
    "if soup_tmdb:\n",
    "    first_movie_html = soup_tmdb.find('div', class_='card style_1')\n",
    "    pprint(first_movie_html.prettify()[0:1000])\n",
    "else:\n",
    "    print('HTML source for movie details not found')"
   ]
  },
  {
   "cell_type": "markdown",
   "metadata": {},
   "source": [
    "##### Display the name of the first movie"
   ]
  },
  {
   "cell_type": "code",
   "execution_count": 20,
   "metadata": {
    "execution": {
     "iopub.execute_input": "2024-09-13T16:17:39.688806Z",
     "iopub.status.busy": "2024-09-13T16:17:39.688315Z",
     "iopub.status.idle": "2024-09-13T16:17:39.706951Z",
     "shell.execute_reply": "2024-09-13T16:17:39.705619Z",
     "shell.execute_reply.started": "2024-09-13T16:17:39.688761Z"
    },
    "trusted": true
   },
   "outputs": [
    {
     "name": "stdout",
     "output_type": "stream",
     "text": [
      "Movie Title = Mufasa: The Lion King\n"
     ]
    }
   ],
   "source": [
    "if soup_tmdb:\n",
    "    first_movie = soup_tmdb.find('div', class_='card style_1')\n",
    "    if first_movie:\n",
    "        title = first_movie.find('h2').get_text(strip=True)\n",
    "        print('Movie Title =', title)\n",
    "else:\n",
    "    print('Movie title not found')"
   ]
  },
  {
   "cell_type": "markdown",
   "metadata": {},
   "source": [
    "##### Display the user rating (Score Chart) of the first movie"
   ]
  },
  {
   "cell_type": "code",
   "execution_count": 21,
   "metadata": {
    "execution": {
     "iopub.execute_input": "2024-09-13T16:17:39.708944Z",
     "iopub.status.busy": "2024-09-13T16:17:39.708482Z",
     "iopub.status.idle": "2024-09-13T16:17:39.727726Z",
     "shell.execute_reply": "2024-09-13T16:17:39.726583Z",
     "shell.execute_reply.started": "2024-09-13T16:17:39.708890Z"
    },
    "trusted": true
   },
   "outputs": [
    {
     "name": "stdout",
     "output_type": "stream",
     "text": [
      "User Score Percentage = 75%\n"
     ]
    }
   ],
   "source": [
    "if soup_tmdb:\n",
    "    first_movie = soup_tmdb.find('div', class_=['card style_1'])\n",
    "    if first_movie:\n",
    "        score_chart = first_movie.find('div', class_='user_score_chart')\n",
    "        if score_chart:\n",
    "            score = score_chart.get('data-percent', 'not rated')\n",
    "            print('User Score Percentage =', f\"{score}%\")\n",
    "        else:\n",
    "            print('not rated')"
   ]
  },
  {
   "cell_type": "markdown",
   "metadata": {},
   "source": [
    "##### Extract the part of the url"
   ]
  },
  {
   "cell_type": "markdown",
   "metadata": {},
   "source": [
    "The url tag for the movie is in the relative URL format, hence we don't have to extract it. We will use the slicing technique of string to remove the first / from the relative url\n",
    "\n",
    "```\n",
    "<a class=\"image\" href=\"/movie/533535-deadpool-wolverine\" title=\"Deadpool &amp; Wolverine\" /> \n",
    "```"
   ]
  },
  {
   "cell_type": "code",
   "execution_count": 22,
   "metadata": {
    "execution": {
     "iopub.execute_input": "2024-09-13T16:17:39.730045Z",
     "iopub.status.busy": "2024-09-13T16:17:39.729571Z",
     "iopub.status.idle": "2024-09-13T16:17:39.748965Z",
     "shell.execute_reply": "2024-09-13T16:17:39.747580Z",
     "shell.execute_reply.started": "2024-09-13T16:17:39.729992Z"
    },
    "trusted": true
   },
   "outputs": [
    {
     "name": "stdout",
     "output_type": "stream",
     "text": [
      "movie/762509-mufasa-the-lion-king\n"
     ]
    }
   ],
   "source": [
    "if soup_tmdb:\n",
    "    first_movie = soup_tmdb.find('div', class_=['card style_1'])\n",
    "    if first_movie:\n",
    "        relative_url = first_movie.find('a', class_='image')['href'][1:]\n",
    "        print(relative_url)\n",
    "    else:\n",
    "        print('Relative URL for movie not found')"
   ]
  },
  {
   "cell_type": "markdown",
   "metadata": {},
   "source": [
    "#### Define functions for extracting info like\n",
    "* Titles\n",
    "* Ratings\n",
    "* Genere\n",
    "* Cast"
   ]
  },
  {
   "cell_type": "markdown",
   "metadata": {},
   "source": [
    "##### Titles of all the movies on the page as a Python list"
   ]
  },
  {
   "cell_type": "code",
   "execution_count": 23,
   "metadata": {
    "execution": {
     "iopub.execute_input": "2024-09-13T16:17:39.751341Z",
     "iopub.status.busy": "2024-09-13T16:17:39.750874Z",
     "iopub.status.idle": "2024-09-13T16:17:39.759427Z",
     "shell.execute_reply": "2024-09-13T16:17:39.757933Z",
     "shell.execute_reply.started": "2024-09-13T16:17:39.751296Z"
    },
    "trusted": true
   },
   "outputs": [],
   "source": [
    "def get_movie_titles(obj_soup):\n",
    "    \"\"\"\n",
    "    Extracts movie titles from a TMDB BeautifulSoup object.\n",
    "    :param obj_soup: A BeautifulSoup object of the page\n",
    "    :return: A list of movie titles\n",
    "    \"\"\"\n",
    "    titles = []\n",
    "    #get all movie cards\n",
    "    movies = obj_soup.find_all('div', class_=['card style_1'])\n",
    "\n",
    "    titles = [movie.find('h2').get_text(strip=True) for movie in movies]\n",
    "    return titles"
   ]
  },
  {
   "cell_type": "markdown",
   "metadata": {},
   "source": [
    "##### We have our soup object in soup_tmdb variable which we will use here"
   ]
  },
  {
   "cell_type": "code",
   "execution_count": 24,
   "metadata": {
    "execution": {
     "iopub.execute_input": "2024-09-13T16:17:39.761606Z",
     "iopub.status.busy": "2024-09-13T16:17:39.761064Z",
     "iopub.status.idle": "2024-09-13T16:17:39.791056Z",
     "shell.execute_reply": "2024-09-13T16:17:39.789617Z",
     "shell.execute_reply.started": "2024-09-13T16:17:39.761541Z"
    },
    "trusted": true
   },
   "outputs": [
    {
     "name": "stdout",
     "output_type": "stream",
     "text": [
      "['Mufasa: The Lion King',\n",
      " 'Moana 2',\n",
      " 'Sonic the Hedgehog 3',\n",
      " 'Amaran',\n",
      " 'Captain America: Brave New World',\n",
      " 'The Gorge',\n",
      " 'Panda Plan',\n",
      " 'Flight Risk',\n",
      " 'My Fault: London',\n",
      " 'Kraven the Hunter']\n"
     ]
    }
   ],
   "source": [
    "titles = get_movie_titles(soup_tmdb)\n",
    "pprint(titles[:10])"
   ]
  },
  {
   "cell_type": "markdown",
   "metadata": {},
   "source": [
    "##### User ratings of all the movies"
   ]
  },
  {
   "cell_type": "code",
   "execution_count": 25,
   "metadata": {
    "execution": {
     "iopub.execute_input": "2024-09-13T16:17:39.793674Z",
     "iopub.status.busy": "2024-09-13T16:17:39.793117Z",
     "iopub.status.idle": "2024-09-13T16:17:39.802026Z",
     "shell.execute_reply": "2024-09-13T16:17:39.800791Z",
     "shell.execute_reply.started": "2024-09-13T16:17:39.793618Z"
    },
    "trusted": true
   },
   "outputs": [],
   "source": [
    "def get_user_ratings(obj_soup):\n",
    "    \"\"\"\n",
    "    Extracts user ratings from a given soup object of TMDB movies cards.\n",
    "    :param obj_soup: The soup object of TMBD movies page\n",
    "    :return: A list of user ratings\n",
    "    \"\"\"\n",
    "    ratings = []\n",
    "    #get all movie cards\n",
    "    movies = obj_soup.find_all('div', class_=['card style_1'])\n",
    "\n",
    "    for movie in movies:\n",
    "        score_chart = movie.find('div', class_='user_score_chart')\n",
    "        if score_chart:\n",
    "            score = score_chart.get('data-percent', 'not rated')\n",
    "        else:\n",
    "            score = 'not rated'\n",
    "        ratings.append(score)\n",
    "    return ratings"
   ]
  },
  {
   "cell_type": "code",
   "execution_count": 26,
   "metadata": {
    "execution": {
     "iopub.execute_input": "2024-09-13T16:17:39.804382Z",
     "iopub.status.busy": "2024-09-13T16:17:39.803843Z",
     "iopub.status.idle": "2024-09-13T16:17:39.839524Z",
     "shell.execute_reply": "2024-09-13T16:17:39.838267Z",
     "shell.execute_reply.started": "2024-09-13T16:17:39.804302Z"
    },
    "trusted": true
   },
   "outputs": [
    {
     "name": "stdout",
     "output_type": "stream",
     "text": [
      "['75', '72', '78', '76', '62', '78', '72', '58', '75', '67']\n"
     ]
    }
   ],
   "source": [
    "user_ratings = get_user_ratings(soup_tmdb)\n",
    "pprint(user_ratings[:10])"
   ]
  },
  {
   "cell_type": "markdown",
   "metadata": {},
   "source": [
    "##### HTML content of all the individual pages"
   ]
  },
  {
   "cell_type": "code",
   "execution_count": 27,
   "metadata": {
    "execution": {
     "iopub.execute_input": "2024-09-13T16:17:39.841608Z",
     "iopub.status.busy": "2024-09-13T16:17:39.840953Z",
     "iopub.status.idle": "2024-09-13T16:17:39.850705Z",
     "shell.execute_reply": "2024-09-13T16:17:39.849348Z",
     "shell.execute_reply.started": "2024-09-13T16:17:39.841560Z"
    },
    "trusted": true
   },
   "outputs": [],
   "source": [
    "def get_movies_html(obj_soup):\n",
    "    \"\"\"\n",
    "    Extracts movie information from a BeautifulSoup object of TMBD movies page.\n",
    "    :param obj_soup: The soup object representation of TMDB movies page\n",
    "    :return: A list of dictionaries containing movie information\n",
    "    \"\"\"\n",
    "    movies_html = []\n",
    "    #get all movie cards\n",
    "    movies = obj_soup.find_all('div', class_=['card style_1'])        \n",
    "    movies_html = [movie for movie in movies]\n",
    "    return movies_html\n",
    "\n",
    "def get_movies_details_url(obj_soup):\n",
    "    \"\"\"\n",
    "    Extracts the URL of the movie details page from a BeautifulSoup object of TMBD movies page\n",
    "    :param obj_soup: The soup object representation of TMDB movies page\n",
    "    :return: A list of URLs of the movie details page\n",
    "    \"\"\"\n",
    "    movies_details_url = []\n",
    "    #get all movie cards\n",
    "    movies = obj_soup.find_all('div', class_=['card style_1'])\n",
    "    movies_details_url = [movie.find('a', class_='image')['href'][1:] for movie in movies]\n",
    "    return movies_details_url"
   ]
  },
  {
   "cell_type": "code",
   "execution_count": 28,
   "metadata": {
    "execution": {
     "iopub.execute_input": "2024-09-13T16:17:39.852908Z",
     "iopub.status.busy": "2024-09-13T16:17:39.852110Z",
     "iopub.status.idle": "2024-09-13T16:17:39.879450Z",
     "shell.execute_reply": "2024-09-13T16:17:39.878169Z",
     "shell.execute_reply.started": "2024-09-13T16:17:39.852851Z"
    },
    "trusted": true
   },
   "outputs": [
    {
     "name": "stdout",
     "output_type": "stream",
     "text": [
      "<div class=\"card style_1\">\n",
      "<div class=\"image\">\n",
      "<div class=\"wrapper glyphicons_v2 picture grey no_image_holder\">\n",
      "<a class=\"image\" href=\"/movie/762509-mufasa-the-lion-king\" title=\"Mufasa: The Lion King\">\n",
      "<img alt=\"Mufasa: The Lion King\" class=\"poster w-full\" loading=\"lazy\" src=\"https://media.themoviedb.org/t/p/w220_and_h330_face/9bXHaLlsFYpJUutg4E6WXAjaxDi.jpg\" srcset=\"https://media.themoviedb.org/t/p/w220_and_h330_face/9bXHaLlsFYpJUutg4E6WXAjaxDi.jpg 1x, https://media.themoviedb.org/t/p/w440_and_h660_face/9bXHaLlsFYpJUutg4E6WXAjaxDi.jpg 2x\"/>\n",
      "</a>\n",
      "</div>\n",
      "<div class=\"options\" data-id=\"762509\" data-media-type=\"movie\" data-object-id=\"5fa9c3759ac5350041b9b405\">\n",
      "<a aria-label=\"View Item Options\" class=\"no_click\" href=\"#\"><div class=\"glyphicons_v2 circle-more white\"></div></a>\n",
      "</div>\n",
      "</div>\n",
      "<div class=\"content\">\n",
      "<div class=\"consensus tight\">\n",
      "<div class=\"outer_ring\">\n",
      "<div class=\"user_score_chart 5fa9c3759ac5350041b9b405\" data-bar-color=\"#21d07a\" data-percent=\"75\" data-track-color=\"#204529\">\n",
      "<div class=\"percent\">\n",
      "<span class=\"icon icon-r75\"></span>\n",
      "</div>\n",
      "</div>\n",
      "</div>\n",
      "</div>\n",
      "<h2><a href=\"/movie/762509-mufasa-the-lion-king\" title=\"Mufasa: The Lion King\">Mufasa: The Lion King</a></h2>\n",
      "<p>Dec 18, 2024</p>\n",
      "</div>\n",
      "<div class=\"hover 762509\"></div>\n",
      "</div>\n"
     ]
    }
   ],
   "source": [
    "movies_html = get_movies_html(soup_tmdb)\n",
    "pprint(movies_html[0])"
   ]
  },
  {
   "cell_type": "code",
   "execution_count": 29,
   "metadata": {
    "execution": {
     "iopub.execute_input": "2024-09-13T16:17:39.881689Z",
     "iopub.status.busy": "2024-09-13T16:17:39.881182Z",
     "iopub.status.idle": "2024-09-13T16:17:39.910666Z",
     "shell.execute_reply": "2024-09-13T16:17:39.909348Z",
     "shell.execute_reply.started": "2024-09-13T16:17:39.881634Z"
    },
    "trusted": true
   },
   "outputs": [
    {
     "name": "stdout",
     "output_type": "stream",
     "text": [
      "['movie/762509-mufasa-the-lion-king',\n",
      " 'movie/1241982-moana-2',\n",
      " 'movie/939243-sonic-the-hedgehog-3',\n",
      " 'movie/927342',\n",
      " 'movie/822119-captain-america-brave-new-world',\n",
      " 'movie/950396-the-gorge',\n",
      " 'movie/1160956',\n",
      " 'movie/1126166-flight-risk',\n",
      " 'movie/1294203-my-fault-london',\n",
      " 'movie/539972-kraven-the-hunter']\n"
     ]
    }
   ],
   "source": [
    "movies_url_list = get_movies_details_url(soup_tmdb)\n",
    "pprint(movies_url_list[:10])"
   ]
  },
  {
   "cell_type": "markdown",
   "metadata": {},
   "source": [
    "#### Genres of all the movies"
   ]
  },
  {
   "cell_type": "markdown",
   "metadata": {},
   "source": [
    "<p>\n",
    "    Genere is itself a list, hence, we will pass the list of relative URLs for the movies to the function and the function will return a list of list containing all genere for each movie represented by the each URL in the list.\n",
    "\n",
    "    Input: List of relative URLs for movies details page\n",
    "    Output: List of Genere for each movie in the input list\n",
    "<p>"
   ]
  },
  {
   "cell_type": "code",
   "execution_count": 30,
   "metadata": {
    "execution": {
     "iopub.execute_input": "2024-09-13T16:17:39.912631Z",
     "iopub.status.busy": "2024-09-13T16:17:39.912202Z",
     "iopub.status.idle": "2024-09-13T16:17:39.922026Z",
     "shell.execute_reply": "2024-09-13T16:17:39.921028Z",
     "shell.execute_reply.started": "2024-09-13T16:17:39.912588Z"
    },
    "trusted": true
   },
   "outputs": [],
   "source": [
    "def get_movies_genere(movie_details_url, debug=False):\n",
    "    \"\"\"\n",
    "    This function takes a movie details URL and returns a list of genres of the movie.\n",
    "    Args:\n",
    "    movie_details_url (str): The URLs of the all the movie details pages.\n",
    "    debug (bool): If True, it will print the genres of the movie. Default is False\n",
    "    Returns: List of movies generes for each URL's in the input list\n",
    "    \"\"\"\n",
    "    movie_genere = []\n",
    "    for rel_url in movie_details_url:\n",
    "        # Construct the detailed movie URL\n",
    "        details_url = format(f\"https://www.themoviedb.org/{rel_url}\")\n",
    "        if debug: print(f\"Fetching generes for [{details_url}]\")\n",
    "        # Get the soup object for the detailed page\n",
    "        soup = get_soup_object(details_url)        \n",
    "        if soup:\n",
    "            generes = soup.find('span', class_='genres')\n",
    "            if generes:\n",
    "                g = [a.get_text(strip=True) for a in generes.find_all('a')]\n",
    "            else:\n",
    "                g = []\n",
    "        movie_genere.append(g)\n",
    "    return movie_genere"
   ]
  },
  {
   "cell_type": "code",
   "execution_count": 31,
   "metadata": {
    "execution": {
     "iopub.execute_input": "2024-09-13T16:17:39.924039Z",
     "iopub.status.busy": "2024-09-13T16:17:39.923579Z",
     "iopub.status.idle": "2024-09-13T16:17:46.164022Z",
     "shell.execute_reply": "2024-09-13T16:17:46.162933Z",
     "shell.execute_reply.started": "2024-09-13T16:17:39.923997Z"
    },
    "trusted": true
   },
   "outputs": [
    {
     "name": "stdout",
     "output_type": "stream",
     "text": [
      "[['Adventure', 'Family', 'Animation'],\n",
      " ['Animation', 'Adventure', 'Family', 'Comedy'],\n",
      " ['Action', 'Science Fiction', 'Comedy', 'Family'],\n",
      " ['Action', 'Drama', 'Adventure', 'War'],\n",
      " ['Action', 'Thriller', 'Science Fiction'],\n",
      " ['Romance', 'Science Fiction', 'Thriller'],\n",
      " ['Action', 'Comedy'],\n",
      " ['Action', 'Thriller', 'Crime'],\n",
      " ['Romance', 'Drama'],\n",
      " ['Action', 'Adventure', 'Thriller']]\n"
     ]
    }
   ],
   "source": [
    "movie_genere = get_movies_genere(get_movies_details_url(soup_tmdb))\n",
    "pprint(movie_genere[:10])"
   ]
  },
  {
   "cell_type": "markdown",
   "metadata": {},
   "source": [
    "#### Cast of all the movies"
   ]
  },
  {
   "cell_type": "markdown",
   "metadata": {},
   "source": [
    "<p>\n",
    "    The cast for each movie have 2 details, Actor and Character. Hence, we will pass a list of movies relative URL and the function will return a list of Dictionary objects containing each cast member for each movie in the format of Actor: Name, Character: Name\n",
    "\n",
    "    Input: List of relative URLs for movies details page\n",
    "    Output: List of Dictionary objects containing each cast member for each movie in the list\n",
    "</p>"
   ]
  },
  {
   "cell_type": "code",
   "execution_count": 32,
   "metadata": {
    "execution": {
     "iopub.execute_input": "2024-09-13T16:17:46.165700Z",
     "iopub.status.busy": "2024-09-13T16:17:46.165346Z",
     "iopub.status.idle": "2024-09-13T16:17:46.175452Z",
     "shell.execute_reply": "2024-09-13T16:17:46.173998Z",
     "shell.execute_reply.started": "2024-09-13T16:17:46.165662Z"
    },
    "trusted": true
   },
   "outputs": [],
   "source": [
    "def get_movies_cast(movie_details_url, debug=False):\n",
    "    \"\"\"\n",
    "    Get the cast of all the movies from the movie details URL list.\n",
    "    Args:\n",
    "    movie_details_url (list): List of URLs of movie details pages.\n",
    "    debug (bool): If True, print debug messages. Default is True.\n",
    "    Returns: List of actors in the movie in Actor as Character format\n",
    "    \"\"\"\n",
    "    movies_actor_list = []\n",
    "    for rel_url in movie_details_url:\n",
    "        # Construct the detailed movie URL\n",
    "        details_url = format(f\"https://www.themoviedb.org/{rel_url}\")\n",
    "        if debug: print(f\"Fetching cast for [{details_url}]\")\n",
    "        # Get the soup object for the detailed page\n",
    "        soup = get_soup_object(details_url)        \n",
    "        if soup:            \n",
    "            casts = soup.find_all('li', class_='card')\n",
    "            actor_list = []\n",
    "            if casts:                \n",
    "                for cst in casts:\n",
    "                    actor = cst.find('p').find('a').get_text(strip=True)\n",
    "                    character = cst.find('p', class_=['character']).get_text(strip=True)\n",
    "                    actor_list.append(f\"{actor}, as {character}\" if character else f\"{actor},\")\n",
    "            movies_actor_list.append(actor_list)\n",
    "    return movies_actor_list"
   ]
  },
  {
   "cell_type": "code",
   "execution_count": 33,
   "metadata": {
    "execution": {
     "iopub.execute_input": "2024-09-13T16:17:46.177306Z",
     "iopub.status.busy": "2024-09-13T16:17:46.176886Z",
     "iopub.status.idle": "2024-09-13T16:17:53.166832Z",
     "shell.execute_reply": "2024-09-13T16:17:53.165334Z",
     "shell.execute_reply.started": "2024-09-13T16:17:46.177228Z"
    },
    "trusted": true
   },
   "outputs": [
    {
     "name": "stdout",
     "output_type": "stream",
     "text": [
      "[['Aaron Pierre, as Mufasa (voice)',\n",
      "  'Kelvin Harrison Jr., as Taka (voice)',\n",
      "  'Tiffany Boone, as Sarabi (voice)',\n",
      "  'Kagiso Lediga, as Young Rafiki (voice)',\n",
      "  'Preston Nyman, as Zazu (voice)',\n",
      "  'Blue Ivy Carter, as Kiara (voice)',\n",
      "  'John Kani, as Rafiki (voice)',\n",
      "  'Mads Mikkelsen, as Kiros (voice)',\n",
      "  'Seth Rogen, as Pumbaa (voice)'],\n",
      " ['Auliʻi Cravalho, as Moana (voice)',\n",
      "  'Dwayne Johnson, as Maui (voice)',\n",
      "  'Hualālai Chung, as Moni (voice)',\n",
      "  'Rose Matafeo, as Loto (voice)',\n",
      "  'David Fane, as Kele (voice)',\n",
      "  'Awhimai Fraser, as Matangi (voice)',\n",
      "  'Khaleesi Lambert-Tsuda, as Simea (voice)',\n",
      "  'Temuera Morrison, as Chief Tui (voice)',\n",
      "  'Nicole Scherzinger, as Sina (voice)'],\n",
      " ['Jim Carrey, as Ivo Robotnik / Gerald Robotnik',\n",
      "  'Ben Schwartz, as Sonic (voice)',\n",
      "  'Keanu Reeves, as Shadow (voice)',\n",
      "  'Idris Elba, as Knuckles (voice)',\n",
      "  \"Colleen O'Shaughnessey, as Tails (voice)\",\n",
      "  'James Marsden, as Tom',\n",
      "  'Tika Sumpter, as Maddie',\n",
      "  'Lee Majdoub, as Agent Stone',\n",
      "  'Krysten Ritter, as Director Rockwell'],\n",
      " ['Sivakarthikeyan, as Major Mukund Varadarajan',\n",
      "  'Sai Pallavi, as Indhu Rebecca Varghese',\n",
      "  'Rahul Bose, as Colonel Amit Singh Dabas',\n",
      "  'Bhuvan Arora, as Vikram Singh',\n",
      "  'Lallu Prasath, as Ravi Shankar',\n",
      "  \"Shyam Mohan, as Indhu's brother\",\n",
      "  'Mir Salman, as Saifudeen K',\n",
      "  'Shyamaprasad, as R. Varadarajan',\n",
      "  'Geetha Kailasam, as Geetha Varadarajan'],\n",
      " ['Anthony Mackie, as Sam Wilson / Captain America',\n",
      "  'Harrison Ford, as President Thaddeus Ross',\n",
      "  'Danny Ramirez, as Joaquin Torres',\n",
      "  'Shira Haas, as Ruth Bat-Seraph',\n",
      "  'Tim Blake Nelson, as Samuel Sterns',\n",
      "  'Carl Lumbly, as Isaiah Bradley',\n",
      "  'Giancarlo Esposito, as Sidewinder',\n",
      "  'Liv Tyler, as Betty Ross',\n",
      "  'Xosha Roquemore, as Leila Taylor']]\n"
     ]
    }
   ],
   "source": [
    "movie_actor_list = get_movies_cast(get_movies_details_url(soup_tmdb)) \n",
    "pprint(movie_actor_list[:5])"
   ]
  },
  {
   "cell_type": "markdown",
   "metadata": {},
   "source": [
    "#### We get a data frame with following data:\n",
    "\n",
    "* Titles of the movies listed on the page\n",
    "* User ratings of the movies listed on the page\n",
    "* Genres of the movies listed on the page\n",
    "* Cast of the movies listed on the page"
   ]
  },
  {
   "cell_type": "code",
   "execution_count": 34,
   "metadata": {
    "execution": {
     "iopub.execute_input": "2024-09-13T16:17:53.170185Z",
     "iopub.status.busy": "2024-09-13T16:17:53.169297Z",
     "iopub.status.idle": "2024-09-13T16:17:53.582991Z",
     "shell.execute_reply": "2024-09-13T16:17:53.581769Z",
     "shell.execute_reply.started": "2024-09-13T16:17:53.170126Z"
    },
    "trusted": true
   },
   "outputs": [],
   "source": [
    "import pandas as pd\n",
    "\n",
    "def create_movies_dataframe(movies_page_url, headers=None, debug=False):\n",
    "    \"\"\"\n",
    "    Creates a pandas DataFrame from the movies page of a given URL.\n",
    "    The function utilizes existing functions for fetching titles, ratings, generes and casts\n",
    "    and returns a DataFrame with the fetched data.\n",
    "    Args:\n",
    "        movies_page_url (str): The list of URL of the movies detail pages.\n",
    "        headers (dict): A dictionary of headers to be used in the request. Defaults to None.\n",
    "        debug (bool): A flag to enable debug mode. Defaults to False.\n",
    "        Returns: A DataFrame with Titles, Ratings, Generes and Actors for all the movies in the input list\n",
    "    \"\"\"\n",
    "    # Send a GET request to the movies page\n",
    "    # Initialize lists to store the data\n",
    "    titles = []\n",
    "    user_ratings = []\n",
    "    genres = []\n",
    "    actors = []\n",
    "\n",
    "    # First lets get the soup object for the page\n",
    "    soup = get_soup_object(movies_page_url, headers)\n",
    "    if debug: pprint(soup)\n",
    "    # Second get the titles\n",
    "    titles = get_movie_titles(soup)\n",
    "    if debug: pprint(titles)\n",
    "    \n",
    "    # Third get the user ratings\n",
    "    user_ratings = get_user_ratings(soup)\n",
    "    if debug: pprint(user_ratings)\n",
    "    # Fourth get the details URL\n",
    "    details_urls = get_movies_details_url(soup)\n",
    "    if debug: pprint(details_urls)\n",
    "    # fifth get the genres\n",
    "    genres = get_movies_genere(details_urls, debug=debug)\n",
    "    if debug: pprint(genres)\n",
    "    # sixth get the casts\n",
    "    actors = get_movies_cast(details_urls, debug=debug)\n",
    "    if debug: pprint(actors)\n",
    "    \n",
    "    # Create a DataFrame from the lists\n",
    "    df = pd.DataFrame({\n",
    "        'Title': titles,\n",
    "        'User Rating %': user_ratings,\n",
    "        'Genres': genres,\n",
    "        'Cast': actors\n",
    "    })\n",
    "    \n",
    "    return df"
   ]
  },
  {
   "cell_type": "code",
   "execution_count": 35,
   "metadata": {
    "execution": {
     "iopub.execute_input": "2024-09-13T16:17:53.586315Z",
     "iopub.status.busy": "2024-09-13T16:17:53.585097Z",
     "iopub.status.idle": "2024-09-13T16:18:07.491772Z",
     "shell.execute_reply": "2024-09-13T16:18:07.490717Z",
     "shell.execute_reply.started": "2024-09-13T16:17:53.586253Z"
    },
    "trusted": true
   },
   "outputs": [
    {
     "name": "stdout",
     "output_type": "stream",
     "text": [
      "                              Title User Rating %  \\\n",
      "0             Mufasa: The Lion King            75   \n",
      "1                           Moana 2            72   \n",
      "2              Sonic the Hedgehog 3            78   \n",
      "3                            Amaran            76   \n",
      "4  Captain America: Brave New World            62   \n",
      "\n",
      "                                      Genres  \\\n",
      "0             [Adventure, Family, Animation]   \n",
      "1     [Animation, Adventure, Family, Comedy]   \n",
      "2  [Action, Science Fiction, Comedy, Family]   \n",
      "3            [Action, Drama, Adventure, War]   \n",
      "4        [Action, Thriller, Science Fiction]   \n",
      "\n",
      "                                                Cast  \n",
      "0  [Aaron Pierre, as Mufasa (voice), Kelvin Harri...  \n",
      "1  [Auliʻi Cravalho, as Moana (voice), Dwayne Joh...  \n",
      "2  [Jim Carrey, as Ivo Robotnik / Gerald Robotnik...  \n",
      "3  [Sivakarthikeyan, as Major Mukund Varadarajan,...  \n",
      "4  [Anthony Mackie, as Sam Wilson / Captain Ameri...  \n"
     ]
    }
   ],
   "source": [
    "df = create_movies_dataframe(URL)\n",
    "pprint(df.head(5))"
   ]
  },
  {
   "cell_type": "markdown",
   "metadata": {},
   "source": [
    "#### 6. Combining the dataframes"
   ]
  },
  {
   "cell_type": "code",
   "execution_count": 36,
   "metadata": {
    "execution": {
     "iopub.execute_input": "2024-09-13T16:18:07.493375Z",
     "iopub.status.busy": "2024-09-13T16:18:07.493008Z",
     "iopub.status.idle": "2024-09-13T16:18:07.501915Z",
     "shell.execute_reply": "2024-09-13T16:18:07.500345Z",
     "shell.execute_reply.started": "2024-09-13T16:18:07.493337Z"
    },
    "trusted": true
   },
   "outputs": [],
   "source": [
    "def create_movies_dataframes_all_pages(movies_page_base_url, page_start=1, page_count=5, debug=False):\n",
    "    \"\"\"\n",
    "    Create a list of dataframes for no of pages of movies data represented by page_count, starting from page_start\n",
    "    Args:\n",
    "        movies_page_base_url (str): The base URL for the movies page.\n",
    "        page_start (int, optional): The starting page number. Defaults to 1.\n",
    "        page_count (int, optional): The number of pages to fetch. Defaults to 5.\n",
    "        debug (bool, optional): If True, print debug messages. Defaults to True.\n",
    "        Returns: List of DataFrames for each page.\n",
    "    \"\"\"\n",
    "    df_list = []\n",
    "    for i in range(page_start, page_count+1, 1):\n",
    "        movies_page_url = f\"{movies_page_base_url}?page={i}\"\n",
    "        if debug: print(f'Generating dataframe for {movies_page_url}')\n",
    "        df_movie = create_movies_dataframe(movies_page_url, headers=None, debug=False)\n",
    "        df_list.append(df_movie)\n",
    "    return df_list"
   ]
  },
  {
   "cell_type": "code",
   "execution_count": 37,
   "metadata": {
    "execution": {
     "iopub.execute_input": "2024-09-13T16:18:07.504070Z",
     "iopub.status.busy": "2024-09-13T16:18:07.503594Z",
     "iopub.status.idle": "2024-09-13T16:19:17.772716Z",
     "shell.execute_reply": "2024-09-13T16:19:17.771612Z",
     "shell.execute_reply.started": "2024-09-13T16:18:07.504017Z"
    },
    "trusted": true
   },
   "outputs": [
    {
     "name": "stdout",
     "output_type": "stream",
     "text": [
      "Scraping and creating data frames for base URL: https://www.themoviedb.org/movie for 5 pages\n",
      "Generating dataframe for https://www.themoviedb.org/movie?page=1\n",
      "Generating dataframe for https://www.themoviedb.org/movie?page=2\n",
      "Generating dataframe for https://www.themoviedb.org/movie?page=3\n",
      "Generating dataframe for https://www.themoviedb.org/movie?page=4\n",
      "Generating dataframe for https://www.themoviedb.org/movie?page=5\n",
      "5 Data Frames acquired\n",
      "Writing Data Frame to file DataFrame_1.csv\n",
      "Writing Data Frame to file DataFrame_2.csv\n",
      "Writing Data Frame to file DataFrame_3.csv\n",
      "Writing Data Frame to file DataFrame_4.csv\n",
      "Writing Data Frame to file DataFrame_5.csv\n",
      "Execution Completed...\n"
     ]
    }
   ],
   "source": [
    "page_count = 5\n",
    "print(f\"Scraping and creating data frames for base URL: {URL} for {page_count} pages\")\n",
    "df_list = create_movies_dataframes_all_pages(URL, 1, page_count=page_count, debug=True)\n",
    "print(f\"{len(df_list)} Data Frames acquired\")\n",
    "\n",
    "index = 1\n",
    "for df in df_list:\n",
    "    print(f\"Writing Data Frame to file DataFrame_{index}.csv\")    \n",
    "    df.to_csv(f'DataFrame_{index}.csv', index=False)    \n",
    "    index += 1\n",
    "    \n",
    "print(\"Execution Completed...\")"
   ]
  },
  {
   "cell_type": "markdown",
   "metadata": {},
   "source": [
    "##### Combine the data obtained from dataframes"
   ]
  },
  {
   "cell_type": "code",
   "execution_count": 38,
   "metadata": {
    "execution": {
     "iopub.execute_input": "2024-09-13T16:19:17.779121Z",
     "iopub.status.busy": "2024-09-13T16:19:17.778708Z",
     "iopub.status.idle": "2024-09-13T16:19:17.785998Z",
     "shell.execute_reply": "2024-09-13T16:19:17.784320Z",
     "shell.execute_reply.started": "2024-09-13T16:19:17.779075Z"
    },
    "trusted": true
   },
   "outputs": [],
   "source": [
    "def combine_all_dataframes(df_list):\n",
    "    \"\"\"\n",
    "    This function combines all dataframes in a list into one dataframe.\n",
    "    Args:\n",
    "        df_list (List of DataFrame): List of DataFrames to combine\n",
    "        Retuns: A combined dataset using concat method\n",
    "    \"\"\"\n",
    "    # Concatenate all data frames in the list into a single data frame\n",
    "    combined_df = pd.concat(df_list, ignore_index=True)\n",
    "    combined_df.reset_index()\n",
    "    return combined_df"
   ]
  },
  {
   "cell_type": "code",
   "execution_count": 39,
   "metadata": {
    "execution": {
     "iopub.execute_input": "2024-09-13T16:19:17.788377Z",
     "iopub.status.busy": "2024-09-13T16:19:17.787870Z",
     "iopub.status.idle": "2024-09-13T16:19:17.811064Z",
     "shell.execute_reply": "2024-09-13T16:19:17.809600Z",
     "shell.execute_reply.started": "2024-09-13T16:19:17.788321Z"
    },
    "trusted": true
   },
   "outputs": [
    {
     "name": "stdout",
     "output_type": "stream",
     "text": [
      "                               Title User Rating %  \\\n",
      "0              Mufasa: The Lion King            75   \n",
      "1                            Moana 2            72   \n",
      "2               Sonic the Hedgehog 3            78   \n",
      "3                             Amaran            76   \n",
      "4   Captain America: Brave New World            62   \n",
      "..                               ...           ...   \n",
      "95      Sexy Oral: Uwakina Kuchibiru            60   \n",
      "96                 Honeymoon Crasher            52   \n",
      "97                           Titanic            79   \n",
      "98                365 Days: This Day            59   \n",
      "99                   The Dark Knight            85   \n",
      "\n",
      "                                       Genres  \\\n",
      "0              [Adventure, Family, Animation]   \n",
      "1      [Animation, Adventure, Family, Comedy]   \n",
      "2   [Action, Science Fiction, Comedy, Family]   \n",
      "3             [Action, Drama, Adventure, War]   \n",
      "4         [Action, Thriller, Science Fiction]   \n",
      "..                                        ...   \n",
      "95                           [Romance, Drama]   \n",
      "96                                   [Comedy]   \n",
      "97                           [Drama, Romance]   \n",
      "98                           [Romance, Drama]   \n",
      "99           [Drama, Action, Crime, Thriller]   \n",
      "\n",
      "                                                 Cast  \n",
      "0   [Aaron Pierre, as Mufasa (voice), Kelvin Harri...  \n",
      "1   [Auliʻi Cravalho, as Moana (voice), Dwayne Joh...  \n",
      "2   [Jim Carrey, as Ivo Robotnik / Gerald Robotnik...  \n",
      "3   [Sivakarthikeyan, as Major Mukund Varadarajan,...  \n",
      "4   [Anthony Mackie, as Sam Wilson / Captain Ameri...  \n",
      "..                                                ...  \n",
      "95  [Seiko Mihara, as Natsumi, Chiaki Kitahara, as...  \n",
      "96  [Michèle Laroque, as Lily, Julien Frison, as L...  \n",
      "97  [Leonardo DiCaprio, as Jack Dawson, Kate Winsl...  \n",
      "98  [Anna-Maria Sieklucka, as Laura Torricelli, Mi...  \n",
      "99  [Christian Bale, as Bruce Wayne, Heath Ledger,...  \n",
      "\n",
      "[100 rows x 4 columns]\n"
     ]
    }
   ],
   "source": [
    "combined_df = combine_all_dataframes(df_list)\n",
    "pprint(combined_df)"
   ]
  },
  {
   "cell_type": "code",
   "execution_count": 40,
   "metadata": {
    "execution": {
     "iopub.execute_input": "2024-09-13T16:19:17.813447Z",
     "iopub.status.busy": "2024-09-13T16:19:17.812945Z",
     "iopub.status.idle": "2024-09-13T16:19:17.837970Z",
     "shell.execute_reply": "2024-09-13T16:19:17.836772Z",
     "shell.execute_reply.started": "2024-09-13T16:19:17.813391Z"
    },
    "trusted": true
   },
   "outputs": [
    {
     "name": "stdout",
     "output_type": "stream",
     "text": [
      "<class 'pandas.core.frame.DataFrame'>\n",
      "RangeIndex: 100 entries, 0 to 99\n",
      "Data columns (total 4 columns):\n",
      " #   Column         Non-Null Count  Dtype \n",
      "---  ------         --------------  ----- \n",
      " 0   Title          100 non-null    object\n",
      " 1   User Rating %  100 non-null    object\n",
      " 2   Genres         100 non-null    object\n",
      " 3   Cast           100 non-null    object\n",
      "dtypes: object(4)\n",
      "memory usage: 3.3+ KB\n"
     ]
    }
   ],
   "source": [
    "combined_df.info()"
   ]
  },
  {
   "cell_type": "code",
   "execution_count": 41,
   "metadata": {
    "execution": {
     "iopub.execute_input": "2024-09-13T16:19:17.839781Z",
     "iopub.status.busy": "2024-09-13T16:19:17.839415Z",
     "iopub.status.idle": "2024-09-13T16:19:17.871463Z",
     "shell.execute_reply": "2024-09-13T16:19:17.870090Z",
     "shell.execute_reply.started": "2024-09-13T16:19:17.839733Z"
    },
    "trusted": true
   },
   "outputs": [
    {
     "data": {
      "application/vnd.microsoft.datawrangler.viewer.v0+json": {
       "columns": [
        {
         "name": "index",
         "rawType": "object",
         "type": "string"
        },
        {
         "name": "Title",
         "rawType": "object",
         "type": "unknown"
        },
        {
         "name": "User Rating %",
         "rawType": "object",
         "type": "unknown"
        },
        {
         "name": "Genres",
         "rawType": "object",
         "type": "unknown"
        },
        {
         "name": "Cast",
         "rawType": "object",
         "type": "unknown"
        }
       ],
       "conversionMethod": "pd.DataFrame",
       "ref": "3582677f-6c48-4831-9e7a-b8297151a36e",
       "rows": [
        [
         "count",
         "100",
         "100",
         "100",
         "100"
        ],
        [
         "unique",
         "100",
         "35",
         "71",
         "99"
        ],
        [
         "top",
         "Mufasa: The Lion King",
         "71",
         "['Romance', 'Drama']",
         "[]"
        ],
        [
         "freq",
         "1",
         "11",
         "6",
         "2"
        ]
       ],
       "shape": {
        "columns": 4,
        "rows": 4
       }
      },
      "text/html": [
       "<div>\n",
       "<style scoped>\n",
       "    .dataframe tbody tr th:only-of-type {\n",
       "        vertical-align: middle;\n",
       "    }\n",
       "\n",
       "    .dataframe tbody tr th {\n",
       "        vertical-align: top;\n",
       "    }\n",
       "\n",
       "    .dataframe thead th {\n",
       "        text-align: right;\n",
       "    }\n",
       "</style>\n",
       "<table border=\"1\" class=\"dataframe\">\n",
       "  <thead>\n",
       "    <tr style=\"text-align: right;\">\n",
       "      <th></th>\n",
       "      <th>Title</th>\n",
       "      <th>User Rating %</th>\n",
       "      <th>Genres</th>\n",
       "      <th>Cast</th>\n",
       "    </tr>\n",
       "  </thead>\n",
       "  <tbody>\n",
       "    <tr>\n",
       "      <th>count</th>\n",
       "      <td>100</td>\n",
       "      <td>100</td>\n",
       "      <td>100</td>\n",
       "      <td>100</td>\n",
       "    </tr>\n",
       "    <tr>\n",
       "      <th>unique</th>\n",
       "      <td>100</td>\n",
       "      <td>35</td>\n",
       "      <td>71</td>\n",
       "      <td>99</td>\n",
       "    </tr>\n",
       "    <tr>\n",
       "      <th>top</th>\n",
       "      <td>Mufasa: The Lion King</td>\n",
       "      <td>71</td>\n",
       "      <td>[Romance, Drama]</td>\n",
       "      <td>[]</td>\n",
       "    </tr>\n",
       "    <tr>\n",
       "      <th>freq</th>\n",
       "      <td>1</td>\n",
       "      <td>11</td>\n",
       "      <td>6</td>\n",
       "      <td>2</td>\n",
       "    </tr>\n",
       "  </tbody>\n",
       "</table>\n",
       "</div>"
      ],
      "text/plain": [
       "                        Title User Rating %            Genres Cast\n",
       "count                     100           100               100  100\n",
       "unique                    100            35                71   99\n",
       "top     Mufasa: The Lion King            71  [Romance, Drama]   []\n",
       "freq                        1            11                 6    2"
      ]
     },
     "execution_count": 41,
     "metadata": {},
     "output_type": "execute_result"
    }
   ],
   "source": [
    "combined_df.describe()"
   ]
  },
  {
   "cell_type": "code",
   "execution_count": 42,
   "metadata": {
    "execution": {
     "iopub.execute_input": "2024-09-13T16:19:17.874748Z",
     "iopub.status.busy": "2024-09-13T16:19:17.874034Z",
     "iopub.status.idle": "2024-09-13T16:19:17.887386Z",
     "shell.execute_reply": "2024-09-13T16:19:17.885682Z",
     "shell.execute_reply.started": "2024-09-13T16:19:17.874701Z"
    },
    "trusted": true
   },
   "outputs": [
    {
     "name": "stdout",
     "output_type": "stream",
     "text": [
      "Execution Completed, Collect the data from Output Folder\n"
     ]
    }
   ],
   "source": [
    "combined_df.to_csv('TMDB_DataFrme_Combined.csv', index=False)\n",
    "print(\"Execution Completed, Collect the data from Output Folder\")"
   ]
  }
 ],
 "metadata": {
  "kaggle": {
   "accelerator": "none",
   "dataSources": [],
   "dockerImageVersionId": 30761,
   "isGpuEnabled": false,
   "isInternetEnabled": true,
   "language": "python",
   "sourceType": "notebook"
  },
  "kernelspec": {
   "display_name": "Python 3",
   "language": "python",
   "name": "python3"
  },
  "language_info": {
   "codemirror_mode": {
    "name": "ipython",
    "version": 3
   },
   "file_extension": ".py",
   "mimetype": "text/x-python",
   "name": "python",
   "nbconvert_exporter": "python",
   "pygments_lexer": "ipython3",
   "version": "3.13.0"
  }
 },
 "nbformat": 4,
 "nbformat_minor": 4
}
