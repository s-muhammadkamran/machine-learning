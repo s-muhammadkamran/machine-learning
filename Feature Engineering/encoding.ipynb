{
 "cells": [
  {
   "cell_type": "markdown",
   "metadata": {},
   "source": [
    "# Feature Engineering"
   ]
  },
  {
   "cell_type": "markdown",
   "metadata": {},
   "source": [
    "## Encoding Categorical Data Techniques\n",
    "\n",
    "Encoding categorical data into numerical format is essential for feeding it into machine learning models since most models can only work with numerical inputs. Here are the key encoding techniques:  \n",
    "  \n",
    "### 1. Label Encoding:  \n",
    "    Used for: Target (output) variable or non-ordinal categorical data.  \n",
    "    How it works: Assigns each category a unique integer value.  \n",
    "    Example: Color as Target Variable: ['Red', 'Green', 'Blue']\n",
    "    Label Encoding: [0, 1, 2]\n",
    "  \n",
    "### 2. Ordinal Encoding:  \n",
    "    Used for: Ordered categorical data (e.g., education levels, customer satisfaction ratings).  \n",
    "    How it works: Assigns increasing integer values based on order.  \n",
    "    Example: Student Grades: ['A+', 'A', 'B+', 'B-', 'C']\n",
    "    Ordinal Encoding: [4, 3, 2, 1, 0]\n",
    "      \n",
    "### 3. One Hot Encoding:\n",
    "    Used for: Nominal categorical data (categories without order).\n",
    "    How it works: Creates separate binary columns for each category.\n",
    "    It increases feature space / dimensions\n",
    "    Example: Colors: ['Red', 'Green', 'Blue']  \n",
    "  \n",
    "| # | Red | Green | Blue |\n",
    "|---|-----|-------|------|\n",
    "| 0 |  1  |   0   |  0   |\n",
    "| 1 |  0  |   1   |  0   |\n",
    "| 2 |  0  |   0   |  1   |\n",
    "\n",
    "### 4. Frequency Encoding:  \n",
    "    Used for: High-Cardinality categorical data.  \n",
    "    How it works: Replaces categories with their occurence frequencies.  \n",
    "    Example: City ['NY', 'LA', 'NY', 'SF', 'SF', 'SF']\n",
    "    Frequency Encoding:  \n",
    "    NY -> 2/6 = 0.33  \n",
    "    LA -> 1/6 = 0.17  \n",
    "    SF -> 3/6 = 0.5  "
   ]
  },
  {
   "cell_type": "code",
   "execution_count": 46,
   "metadata": {},
   "outputs": [],
   "source": [
    "import numpy as np\n",
    "import pandas as pd"
   ]
  },
  {
   "cell_type": "code",
   "execution_count": 47,
   "metadata": {},
   "outputs": [
    {
     "data": {
      "text/html": [
       "<div>\n",
       "<style scoped>\n",
       "    .dataframe tbody tr th:only-of-type {\n",
       "        vertical-align: middle;\n",
       "    }\n",
       "\n",
       "    .dataframe tbody tr th {\n",
       "        vertical-align: top;\n",
       "    }\n",
       "\n",
       "    .dataframe thead th {\n",
       "        text-align: right;\n",
       "    }\n",
       "</style>\n",
       "<table border=\"1\" class=\"dataframe\">\n",
       "  <thead>\n",
       "    <tr style=\"text-align: right;\">\n",
       "      <th></th>\n",
       "      <th>age</th>\n",
       "      <th>gender</th>\n",
       "      <th>review</th>\n",
       "      <th>education</th>\n",
       "      <th>purchased</th>\n",
       "    </tr>\n",
       "  </thead>\n",
       "  <tbody>\n",
       "    <tr>\n",
       "      <th>0</th>\n",
       "      <td>30</td>\n",
       "      <td>Female</td>\n",
       "      <td>Average</td>\n",
       "      <td>School</td>\n",
       "      <td>No</td>\n",
       "    </tr>\n",
       "    <tr>\n",
       "      <th>1</th>\n",
       "      <td>68</td>\n",
       "      <td>Female</td>\n",
       "      <td>Poor</td>\n",
       "      <td>UG</td>\n",
       "      <td>No</td>\n",
       "    </tr>\n",
       "    <tr>\n",
       "      <th>2</th>\n",
       "      <td>70</td>\n",
       "      <td>Female</td>\n",
       "      <td>Good</td>\n",
       "      <td>PG</td>\n",
       "      <td>No</td>\n",
       "    </tr>\n",
       "    <tr>\n",
       "      <th>3</th>\n",
       "      <td>72</td>\n",
       "      <td>Female</td>\n",
       "      <td>Good</td>\n",
       "      <td>PG</td>\n",
       "      <td>No</td>\n",
       "    </tr>\n",
       "    <tr>\n",
       "      <th>4</th>\n",
       "      <td>16</td>\n",
       "      <td>Female</td>\n",
       "      <td>Average</td>\n",
       "      <td>UG</td>\n",
       "      <td>No</td>\n",
       "    </tr>\n",
       "  </tbody>\n",
       "</table>\n",
       "</div>"
      ],
      "text/plain": [
       "   age  gender   review education purchased\n",
       "0   30  Female  Average    School        No\n",
       "1   68  Female     Poor        UG        No\n",
       "2   70  Female     Good        PG        No\n",
       "3   72  Female     Good        PG        No\n",
       "4   16  Female  Average        UG        No"
      ]
     },
     "execution_count": 47,
     "metadata": {},
     "output_type": "execute_result"
    }
   ],
   "source": [
    "df = pd.read_csv('./data/customer.csv')\n",
    "df.head()"
   ]
  },
  {
   "cell_type": "code",
   "execution_count": 48,
   "metadata": {},
   "outputs": [
    {
     "name": "stdout",
     "output_type": "stream",
     "text": [
      "<class 'pandas.core.frame.DataFrame'>\n",
      "RangeIndex: 50 entries, 0 to 49\n",
      "Data columns (total 3 columns):\n",
      " #   Column     Non-Null Count  Dtype \n",
      "---  ------     --------------  ----- \n",
      " 0   review     50 non-null     object\n",
      " 1   education  50 non-null     object\n",
      " 2   purchased  50 non-null     object\n",
      "dtypes: object(3)\n",
      "memory usage: 1.3+ KB\n"
     ]
    },
    {
     "data": {
      "text/plain": [
       "(    review education purchased\n",
       " 0  Average    School        No\n",
       " 1     Poor        UG        No\n",
       " 2     Good        PG        No\n",
       " 3     Good        PG        No\n",
       " 4  Average        UG        No,\n",
       " None)"
      ]
     },
     "execution_count": 48,
     "metadata": {},
     "output_type": "execute_result"
    }
   ],
   "source": [
    "df = df.loc[:, ['review', 'education', 'purchased']]\n",
    "df.head(), df.info()"
   ]
  },
  {
   "cell_type": "code",
   "execution_count": 49,
   "metadata": {},
   "outputs": [
    {
     "data": {
      "text/plain": [
       "((40, 2), (10, 2))"
      ]
     },
     "execution_count": 49,
     "metadata": {},
     "output_type": "execute_result"
    }
   ],
   "source": [
    "from sklearn.model_selection import train_test_split\n",
    "\n",
    "X_train, X_test, y_train, y_test = train_test_split(df.drop('purchased', axis=1), df['purchased'], random_state=10, test_size=0.2)\n",
    "\n",
    "X_train.shape, X_test.shape"
   ]
  },
  {
   "cell_type": "markdown",
   "metadata": {},
   "source": [
    "## Ordinal Encoding"
   ]
  },
  {
   "cell_type": "code",
   "execution_count": 50,
   "metadata": {},
   "outputs": [],
   "source": [
    "# Import Ordinal and Label Encoder\n",
    "from sklearn.preprocessing import OrdinalEncoder\n",
    "\n",
    "# We pass the order for each column to the Encoder Object as Categories\n",
    "ordencoder = OrdinalEncoder(categories=[['Poor', 'Average', 'Good'], # Review Column Ordered Categories ASC order.\n",
    "                                      ['School', 'UG', 'PG'] # Education Column Ordered Categories ASC order.\n",
    "])\n",
    "\n",
    "ordencoder = ordencoder.fit(X_train)"
   ]
  },
  {
   "cell_type": "code",
   "execution_count": 51,
   "metadata": {},
   "outputs": [
    {
     "data": {
      "text/plain": [
       "[array(['Poor', 'Average', 'Good'], dtype=object),\n",
       " array(['School', 'UG', 'PG'], dtype=object)]"
      ]
     },
     "execution_count": 51,
     "metadata": {},
     "output_type": "execute_result"
    }
   ],
   "source": [
    "if type(X_train) == 'object':    \n",
    "    X_train = ordencoder.transform(X_train)\n",
    "if type(X_test) == 'object':\n",
    "    X_test = ordencoder.transform(X_test)\n",
    "\n",
    "ordencoder.categories_"
   ]
  },
  {
   "cell_type": "markdown",
   "metadata": {},
   "source": [
    "## Label Encoding"
   ]
  },
  {
   "cell_type": "code",
   "execution_count": 53,
   "metadata": {},
   "outputs": [
    {
     "data": {
      "text/plain": [
       "array(['No', 'Yes'], dtype=object)"
      ]
     },
     "execution_count": 53,
     "metadata": {},
     "output_type": "execute_result"
    }
   ],
   "source": [
    "from sklearn.preprocessing import LabelEncoder\n",
    "\n",
    "lblencoder = LabelEncoder()\n",
    "\n",
    "lblencoder = lblencoder.fit(y_train)\n",
    "# Print the identified classes\n",
    "lblencoder.classes_"
   ]
  },
  {
   "cell_type": "code",
   "execution_count": 54,
   "metadata": {},
   "outputs": [
    {
     "data": {
      "text/plain": [
       "(array([0, 0, 0, 1, 1, 0, 1, 0, 0, 1, 0, 0, 0, 1, 0, 1, 0, 1, 1, 1, 1, 0,\n",
       "        1, 1, 1, 1, 0, 1, 1, 0, 0, 0, 0, 1, 0, 0, 0, 0, 1, 1]),\n",
       " array([1, 0, 0, 1, 1, 1, 0, 0, 1, 0]))"
      ]
     },
     "execution_count": 54,
     "metadata": {},
     "output_type": "execute_result"
    }
   ],
   "source": [
    "y_train = lblencoder.transform(y_train)\n",
    "y_test = lblencoder.transform(y_test)\n",
    "\n",
    "y_train, y_test"
   ]
  },
  {
   "cell_type": "markdown",
   "metadata": {},
   "source": [
    "## One Hot Encoding"
   ]
  }
 ],
 "metadata": {
  "kernelspec": {
   "display_name": "Python 3",
   "language": "python",
   "name": "python3"
  },
  "language_info": {
   "codemirror_mode": {
    "name": "ipython",
    "version": 3
   },
   "file_extension": ".py",
   "mimetype": "text/x-python",
   "name": "python",
   "nbconvert_exporter": "python",
   "pygments_lexer": "ipython3",
   "version": "3.13.0"
  }
 },
 "nbformat": 4,
 "nbformat_minor": 2
}
